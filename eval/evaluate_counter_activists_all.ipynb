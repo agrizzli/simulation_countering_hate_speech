{
 "cells": [
  {
   "cell_type": "code",
   "metadata": {
    "cell_id": "00000-1efb2f8e-3898-4aea-bedc-aef185a2eed2",
    "deepnote_to_be_reexecuted": false,
    "source_hash": "f25bd425",
    "execution_start": 1636144383752,
    "execution_millis": 1,
    "deepnote_cell_type": "code"
   },
   "source": "import numpy as np\nimport pandas as pd\n",
   "execution_count": 1,
   "outputs": []
  },
  {
   "cell_type": "code",
   "metadata": {
    "collapsed": false,
    "pycharm": {
     "name": "#%%\n"
    },
    "cell_id": "00001-3811e05d-0cb8-4396-8de2-3826690ae805",
    "deepnote_to_be_reexecuted": false,
    "source_hash": "63b4dcf4",
    "execution_start": 1636144383753,
    "execution_millis": 16,
    "deepnote_cell_type": "code"
   },
   "source": "def eval_one(f_name):\n    df_raw = pd.read_csv(f_name, skiprows=6)\n    df = df_raw[[\n        '[run number]',\n        '[step]',\n        'swap-to-hate',                             # Society becomes hateful when > 30% hateful nodes\n        # 'p_defer_hateful_post',                     # Deferring probability for hateful posts\n        'hate_score_dist_alpha',                    # Alpha-parameter of the Gamma distribution\n\n        'max-out-degree false',                     # Max degree of normals\n        'max-out-degree true',                      # Max degree of haters\n        'connection-density false',                 # Connection density of normals\n        'connection-density true',                  # Connection density of haters\n        'reciprocal-connections-percents false',    # Reciprocity of normals\n        'reciprocal-connections-percents true',     # Reciprocity of haters\n        'mean-follower-followee false',             # Follower/Followee of normals\n        'mean-follower-followee true',              # Follower/Followee of haters\n        'mean-following true false',                # Mean followers of normals\n        'mean-following true true',                 # Mean followers of haters\n        'mean-following false false',               # Mean followees of normals\n        'mean-following false true',                # Mean followees of haters\n        # 'mean-follow-prob true false',            # Mean following probabilities of hater to normal\n        'mean-follow-prob true true',               # Mean following probabilities of hater to hater\n        'mean-follow-prob false false',             # Mean following probabilities of normal to normal\n        # 'mean-follow-prob false true',            # Mean following probabilities of normal to hater\n        'connections-percents true false',          # Fraction of edges from haters to normals\n        'connections-percents false true',          # Fraction of edges from normals to haters\n        'percents-persons-with-degree false true 0',# Fraction of normals with out-degree 0\n        'percents-persons-with-degree false true 1',# Fraction of normals with out-degree 0\n        'percents-persons-with-degree true true 0', # Fraction of haters with out-degree 0\n        'percents-persons-with-degree true true 1', # Fraction of haters with out-degree 0\n        'percents-hateful-persons',                 # % of hateful users\n        'percents-hateful-posts',                   # % of hateful posts\n        'stddev-hate-score-dist',                   # StdDev of hate score distribution\n        'mean-hate-score',                          # Mean of hate score distribution\n        'reposts-by-haters',                        # Reposts by haters\n        'reposts-by-normals',                       # Reposts by normals\n        'mean-path-length false',                   # Mean post path length of normal posts\n        'mean-path-length true',                    # Mean post path length of hateful posts\n\n        'percents-activist-persons',\n        'mean-path-length-activist',\n        'percents-activist-posts',\n    ]]\n\n    df_swap = df.copy()\n    df = df[df['swap-to-hate'] != True]\n\n    df['percents-hateful-persons'] /= 100\n    df['percents-activist-persons'] /= 100\n    # df['percents-hateful-posts'] /= 100\n    # df['percents-activist-posts'] /= 100\n\n    # Compute ratio of connection densities\n    df['density'] = df['connection-density true'] / df['connection-density false']\n\n    # Compute ratio of NH / HN edges\n    df['connections'] = df['connections-percents false true'] / df['connections-percents true false']\n\n    # Compute ratio of max out-degrees\n    df['ratio-max-out-degrees'] = df[df['max-out-degree true'] > 0]['max-out-degree false'] / df[df['max-out-degree true'] > 0]['max-out-degree true']\n\n    df_all = df.groupby(['hate_score_dist_alpha']).mean()\n\n    df_plot = df_all[[\n        'percents-hateful-persons',\n        'percents-hateful-posts',\n        'mean-hate-score',\n        'stddev-hate-score-dist',\n\n        'density',\n        'ratio-max-out-degrees',\n        'reciprocal-connections-percents false',\n        'reciprocal-connections-percents true',\n\n        'mean-following true false',\n        'mean-following true true',\n        'mean-following false false',\n        'mean-following false true',\n        'mean-follower-followee false',\n        'mean-follower-followee true',\n\n        'mean-path-length false',\n        'mean-path-length true',\n        'reposts-by-normals',\n        'reposts-by-haters',\n\n        'percents-activist-persons',\n        'mean-path-length-activist',\n        'percents-activist-posts',\n    ]]\n    df_plot.columns = [\n        'Fraction of hateful persons',\n        'Fraction of hateful posts',\n        'Mean of hate score distribution',\n        'StdDev of hate score distribution',\n\n        'Ratio network density H - N',\n        'Ratio max. followers of N - H',\n        'Reciprocity of normals',\n        'Reciprocity of haters',\n\n        'Mean followers of normals',\n        'Mean followers of haters',\n        'Mean followees of normals',\n        'Mean followees of hater',\n        'Mean follower-followee of normals',\n        'Mean follower-followee of haters',\n\n        'Mean path len normals',\n        'Mean path len haters',\n        'Reposts of normals',\n        'Reposts of haters',\n\n        'Fraction of activists',\n        'Mean path len activists',\n        'Fraction of activists posts',\n    ]\n    df_plot['Swap to hate'] = df_swap['swap-to-hate'].mean()\n\n\n    return df_plot",
   "execution_count": 2,
   "outputs": []
  },
  {
   "cell_type": "code",
   "metadata": {
    "collapsed": false,
    "pycharm": {
     "name": "#%%\n"
    },
    "cell_id": "00002-368360c7-8f8e-43a2-983e-98d1c17f0b0b",
    "deepnote_to_be_reexecuted": false,
    "source_hash": "bb1790d2",
    "execution_start": 1636144383776,
    "execution_millis": 3,
    "deepnote_cell_type": "code"
   },
   "source": "f_name_prefix = 'evaluation_csv/network_growth validate_counter_activists_'\nf_name_suffix = '-table.csv'\n\nn_sizes = [\n    # '0_1000',\n    # '500_1500',\n    '500_2000',\n    # '1000_2000',\n    '1000_2500',\n    # '2000_3000',\n    '2000_3500',\n    # '5000_6000',\n    '5000_6500',\n    # '10000_11000',\n]\n\nsetups = [\n    '1',\n    '1-pref',\n    '2',\n    '2-pref',\n    '3',\n    '4',\n    '4-pref',\n    '4-pref-center',\n]",
   "execution_count": 3,
   "outputs": []
  },
  {
   "cell_type": "code",
   "metadata": {
    "collapsed": false,
    "pycharm": {
     "name": "#%%\n"
    },
    "cell_id": "00003-34856375-a726-4d61-9ccc-7111b01d4fd2",
    "deepnote_to_be_reexecuted": false,
    "source_hash": "b03cf596",
    "execution_start": 1636144383827,
    "execution_millis": 507542,
    "deepnote_cell_type": "code"
   },
   "source": "# get_col = 'Fraction of hateful persons'\n# get_col = 'Fraction of hateful posts'\n# get_col = 'Mean of hate score distribution'\n# get_col = 'StdDev of hate score distribution'\n\n# get_col = 'Ratio network density H - N'\n# get_col = 'Ratio max. followers of N - H'\n# get_col = 'Reciprocity of normals'\n# get_col = 'Reciprocity of haters'\n\n# get_col = 'Mean followers of normals'\n# get_col = 'Mean followers of haters'\n# get_col = 'Mean followees of normals'\n# get_col = 'Mean followees of hater'\n# get_col = 'Mean follower-followee of normals'\n# get_col = 'Mean follower-followee of haters'\n\n# get_col = 'Mean path len normals'\n# get_col = 'Mean path len haters'\n# get_col = 'Swap to hate'\n\nget_col = 'Fraction of activists'\n# get_col = 'Mean path len activists'\n# get_col = 'Fraction of activists posts'",
   "execution_count": 4,
   "outputs": []
  },
  {
   "cell_type": "code",
   "metadata": {
    "collapsed": false,
    "pycharm": {
     "name": "#%%\n"
    },
    "cell_id": "00004-ebd5e1db-1e8b-482f-898e-5603a6fb8234",
    "deepnote_to_be_reexecuted": false,
    "source_hash": "cd9b3415",
    "execution_start": 1636144383828,
    "execution_millis": 994,
    "deepnote_cell_type": "code"
   },
   "source": "df_collect = pd.DataFrame(columns=['setups', *list(n_sizes)])\ndf_collect['setups'] = ['setup ' + str(s) for s in setups ]\n\nfor s in n_sizes:\n    df_new = pd.DataFrame()\n    for g in setups:\n        f_name = f_name_prefix + s + '-' + str(g) + f_name_suffix\n        df = eval_one(f_name)\n        df_new = df_new.append(df)\n\n    df_collect.loc[:, s] = list(df_new[get_col])\n\n\n# df_collect = df_collect.sort_values('setups', ascending=False)\ndf_collect.to_csv('summary_counter_activists_' + get_col + '.csv', index=False)\nprint(get_col)\ndf_collect",
   "execution_count": 5,
   "outputs": [
    {
     "name": "stderr",
     "text": "/shared-libs/python3.7/py-core/lib/python3.7/site-packages/ipykernel_launcher.py:119: SettingWithCopyWarning: \nA value is trying to be set on a copy of a slice from a DataFrame.\nTry using .loc[row_indexer,col_indexer] = value instead\n\nSee the caveats in the documentation: https://pandas.pydata.org/pandas-docs/stable/user_guide/indexing.html#returning-a-view-versus-a-copy\n/shared-libs/python3.7/py-core/lib/python3.7/site-packages/ipykernel_launcher.py:119: SettingWithCopyWarning: \nA value is trying to be set on a copy of a slice from a DataFrame.\nTry using .loc[row_indexer,col_indexer] = value instead\n\nSee the caveats in the documentation: https://pandas.pydata.org/pandas-docs/stable/user_guide/indexing.html#returning-a-view-versus-a-copy\n/shared-libs/python3.7/py-core/lib/python3.7/site-packages/ipykernel_launcher.py:119: SettingWithCopyWarning: \nA value is trying to be set on a copy of a slice from a DataFrame.\nTry using .loc[row_indexer,col_indexer] = value instead\n\nSee the caveats in the documentation: https://pandas.pydata.org/pandas-docs/stable/user_guide/indexing.html#returning-a-view-versus-a-copy\n/shared-libs/python3.7/py-core/lib/python3.7/site-packages/ipykernel_launcher.py:119: SettingWithCopyWarning: \nA value is trying to be set on a copy of a slice from a DataFrame.\nTry using .loc[row_indexer,col_indexer] = value instead\n\nSee the caveats in the documentation: https://pandas.pydata.org/pandas-docs/stable/user_guide/indexing.html#returning-a-view-versus-a-copy\n/shared-libs/python3.7/py-core/lib/python3.7/site-packages/ipykernel_launcher.py:119: SettingWithCopyWarning: \nA value is trying to be set on a copy of a slice from a DataFrame.\nTry using .loc[row_indexer,col_indexer] = value instead\n\nSee the caveats in the documentation: https://pandas.pydata.org/pandas-docs/stable/user_guide/indexing.html#returning-a-view-versus-a-copy\n/shared-libs/python3.7/py-core/lib/python3.7/site-packages/ipykernel_launcher.py:119: SettingWithCopyWarning: \nA value is trying to be set on a copy of a slice from a DataFrame.\nTry using .loc[row_indexer,col_indexer] = value instead\n\nSee the caveats in the documentation: https://pandas.pydata.org/pandas-docs/stable/user_guide/indexing.html#returning-a-view-versus-a-copy\n/shared-libs/python3.7/py-core/lib/python3.7/site-packages/ipykernel_launcher.py:119: SettingWithCopyWarning: \nA value is trying to be set on a copy of a slice from a DataFrame.\nTry using .loc[row_indexer,col_indexer] = value instead\n\nSee the caveats in the documentation: https://pandas.pydata.org/pandas-docs/stable/user_guide/indexing.html#returning-a-view-versus-a-copy\n/shared-libs/python3.7/py-core/lib/python3.7/site-packages/ipykernel_launcher.py:119: SettingWithCopyWarning: \nA value is trying to be set on a copy of a slice from a DataFrame.\nTry using .loc[row_indexer,col_indexer] = value instead\n\nSee the caveats in the documentation: https://pandas.pydata.org/pandas-docs/stable/user_guide/indexing.html#returning-a-view-versus-a-copy\n/shared-libs/python3.7/py-core/lib/python3.7/site-packages/ipykernel_launcher.py:119: SettingWithCopyWarning: \nA value is trying to be set on a copy of a slice from a DataFrame.\nTry using .loc[row_indexer,col_indexer] = value instead\n\nSee the caveats in the documentation: https://pandas.pydata.org/pandas-docs/stable/user_guide/indexing.html#returning-a-view-versus-a-copy\n/shared-libs/python3.7/py-core/lib/python3.7/site-packages/ipykernel_launcher.py:119: SettingWithCopyWarning: \nA value is trying to be set on a copy of a slice from a DataFrame.\nTry using .loc[row_indexer,col_indexer] = value instead\n\nSee the caveats in the documentation: https://pandas.pydata.org/pandas-docs/stable/user_guide/indexing.html#returning-a-view-versus-a-copy\n/shared-libs/python3.7/py-core/lib/python3.7/site-packages/ipykernel_launcher.py:119: SettingWithCopyWarning: \nA value is trying to be set on a copy of a slice from a DataFrame.\nTry using .loc[row_indexer,col_indexer] = value instead\n\nSee the caveats in the documentation: https://pandas.pydata.org/pandas-docs/stable/user_guide/indexing.html#returning-a-view-versus-a-copy\n/shared-libs/python3.7/py-core/lib/python3.7/site-packages/ipykernel_launcher.py:119: SettingWithCopyWarning: \nA value is trying to be set on a copy of a slice from a DataFrame.\nTry using .loc[row_indexer,col_indexer] = value instead\n\nSee the caveats in the documentation: https://pandas.pydata.org/pandas-docs/stable/user_guide/indexing.html#returning-a-view-versus-a-copy\n/shared-libs/python3.7/py-core/lib/python3.7/site-packages/ipykernel_launcher.py:119: SettingWithCopyWarning: \nA value is trying to be set on a copy of a slice from a DataFrame.\nTry using .loc[row_indexer,col_indexer] = value instead\n\nSee the caveats in the documentation: https://pandas.pydata.org/pandas-docs/stable/user_guide/indexing.html#returning-a-view-versus-a-copy\n/shared-libs/python3.7/py-core/lib/python3.7/site-packages/ipykernel_launcher.py:119: SettingWithCopyWarning: \nA value is trying to be set on a copy of a slice from a DataFrame.\nTry using .loc[row_indexer,col_indexer] = value instead\n\nSee the caveats in the documentation: https://pandas.pydata.org/pandas-docs/stable/user_guide/indexing.html#returning-a-view-versus-a-copy\n/shared-libs/python3.7/py-core/lib/python3.7/site-packages/ipykernel_launcher.py:119: SettingWithCopyWarning: \nA value is trying to be set on a copy of a slice from a DataFrame.\nTry using .loc[row_indexer,col_indexer] = value instead\n\nSee the caveats in the documentation: https://pandas.pydata.org/pandas-docs/stable/user_guide/indexing.html#returning-a-view-versus-a-copy\n/shared-libs/python3.7/py-core/lib/python3.7/site-packages/ipykernel_launcher.py:119: SettingWithCopyWarning: \nA value is trying to be set on a copy of a slice from a DataFrame.\nTry using .loc[row_indexer,col_indexer] = value instead\n\nSee the caveats in the documentation: https://pandas.pydata.org/pandas-docs/stable/user_guide/indexing.html#returning-a-view-versus-a-copy\n/shared-libs/python3.7/py-core/lib/python3.7/site-packages/ipykernel_launcher.py:119: SettingWithCopyWarning: \nA value is trying to be set on a copy of a slice from a DataFrame.\nTry using .loc[row_indexer,col_indexer] = value instead\n\nSee the caveats in the documentation: https://pandas.pydata.org/pandas-docs/stable/user_guide/indexing.html#returning-a-view-versus-a-copy\n/shared-libs/python3.7/py-core/lib/python3.7/site-packages/ipykernel_launcher.py:119: SettingWithCopyWarning: \nA value is trying to be set on a copy of a slice from a DataFrame.\nTry using .loc[row_indexer,col_indexer] = value instead\n\nSee the caveats in the documentation: https://pandas.pydata.org/pandas-docs/stable/user_guide/indexing.html#returning-a-view-versus-a-copy\n/shared-libs/python3.7/py-core/lib/python3.7/site-packages/ipykernel_launcher.py:119: SettingWithCopyWarning: \nA value is trying to be set on a copy of a slice from a DataFrame.\nTry using .loc[row_indexer,col_indexer] = value instead\n\nSee the caveats in the documentation: https://pandas.pydata.org/pandas-docs/stable/user_guide/indexing.html#returning-a-view-versus-a-copy\n/shared-libs/python3.7/py-core/lib/python3.7/site-packages/ipykernel_launcher.py:119: SettingWithCopyWarning: \nA value is trying to be set on a copy of a slice from a DataFrame.\nTry using .loc[row_indexer,col_indexer] = value instead\n\nSee the caveats in the documentation: https://pandas.pydata.org/pandas-docs/stable/user_guide/indexing.html#returning-a-view-versus-a-copy\n/shared-libs/python3.7/py-core/lib/python3.7/site-packages/ipykernel_launcher.py:119: SettingWithCopyWarning: \nA value is trying to be set on a copy of a slice from a DataFrame.\nTry using .loc[row_indexer,col_indexer] = value instead\n\nSee the caveats in the documentation: https://pandas.pydata.org/pandas-docs/stable/user_guide/indexing.html#returning-a-view-versus-a-copy\n/shared-libs/python3.7/py-core/lib/python3.7/site-packages/ipykernel_launcher.py:119: SettingWithCopyWarning: \nA value is trying to be set on a copy of a slice from a DataFrame.\nTry using .loc[row_indexer,col_indexer] = value instead\n\nSee the caveats in the documentation: https://pandas.pydata.org/pandas-docs/stable/user_guide/indexing.html#returning-a-view-versus-a-copy\n/shared-libs/python3.7/py-core/lib/python3.7/site-packages/ipykernel_launcher.py:119: SettingWithCopyWarning: \nA value is trying to be set on a copy of a slice from a DataFrame.\nTry using .loc[row_indexer,col_indexer] = value instead\n\nSee the caveats in the documentation: https://pandas.pydata.org/pandas-docs/stable/user_guide/indexing.html#returning-a-view-versus-a-copy\n/shared-libs/python3.7/py-core/lib/python3.7/site-packages/ipykernel_launcher.py:119: SettingWithCopyWarning: \nA value is trying to be set on a copy of a slice from a DataFrame.\nTry using .loc[row_indexer,col_indexer] = value instead\n\nSee the caveats in the documentation: https://pandas.pydata.org/pandas-docs/stable/user_guide/indexing.html#returning-a-view-versus-a-copy\n/shared-libs/python3.7/py-core/lib/python3.7/site-packages/ipykernel_launcher.py:119: SettingWithCopyWarning: \nA value is trying to be set on a copy of a slice from a DataFrame.\nTry using .loc[row_indexer,col_indexer] = value instead\n\nSee the caveats in the documentation: https://pandas.pydata.org/pandas-docs/stable/user_guide/indexing.html#returning-a-view-versus-a-copy\n/shared-libs/python3.7/py-core/lib/python3.7/site-packages/ipykernel_launcher.py:119: SettingWithCopyWarning: \nA value is trying to be set on a copy of a slice from a DataFrame.\nTry using .loc[row_indexer,col_indexer] = value instead\n\nSee the caveats in the documentation: https://pandas.pydata.org/pandas-docs/stable/user_guide/indexing.html#returning-a-view-versus-a-copy\n/shared-libs/python3.7/py-core/lib/python3.7/site-packages/ipykernel_launcher.py:119: SettingWithCopyWarning: \nA value is trying to be set on a copy of a slice from a DataFrame.\nTry using .loc[row_indexer,col_indexer] = value instead\n\nSee the caveats in the documentation: https://pandas.pydata.org/pandas-docs/stable/user_guide/indexing.html#returning-a-view-versus-a-copy\n/shared-libs/python3.7/py-core/lib/python3.7/site-packages/ipykernel_launcher.py:119: SettingWithCopyWarning: \nA value is trying to be set on a copy of a slice from a DataFrame.\nTry using .loc[row_indexer,col_indexer] = value instead\n\nSee the caveats in the documentation: https://pandas.pydata.org/pandas-docs/stable/user_guide/indexing.html#returning-a-view-versus-a-copy\n/shared-libs/python3.7/py-core/lib/python3.7/site-packages/ipykernel_launcher.py:119: SettingWithCopyWarning: \nA value is trying to be set on a copy of a slice from a DataFrame.\nTry using .loc[row_indexer,col_indexer] = value instead\n\nSee the caveats in the documentation: https://pandas.pydata.org/pandas-docs/stable/user_guide/indexing.html#returning-a-view-versus-a-copy\n/shared-libs/python3.7/py-core/lib/python3.7/site-packages/ipykernel_launcher.py:119: SettingWithCopyWarning: \nA value is trying to be set on a copy of a slice from a DataFrame.\nTry using .loc[row_indexer,col_indexer] = value instead\n\nSee the caveats in the documentation: https://pandas.pydata.org/pandas-docs/stable/user_guide/indexing.html#returning-a-view-versus-a-copy\n/shared-libs/python3.7/py-core/lib/python3.7/site-packages/ipykernel_launcher.py:119: SettingWithCopyWarning: \nA value is trying to be set on a copy of a slice from a DataFrame.\nTry using .loc[row_indexer,col_indexer] = value instead\n\nSee the caveats in the documentation: https://pandas.pydata.org/pandas-docs/stable/user_guide/indexing.html#returning-a-view-versus-a-copy\nFraction of activists\n/shared-libs/python3.7/py-core/lib/python3.7/site-packages/ipykernel_launcher.py:119: SettingWithCopyWarning: \nA value is trying to be set on a copy of a slice from a DataFrame.\nTry using .loc[row_indexer,col_indexer] = value instead\n\nSee the caveats in the documentation: https://pandas.pydata.org/pandas-docs/stable/user_guide/indexing.html#returning-a-view-versus-a-copy\n",
     "output_type": "stream"
    },
    {
     "output_type": "execute_result",
     "execution_count": 5,
     "data": {
      "application/vnd.deepnote.dataframe.v2+json": {
       "row_count": 8,
       "column_count": 5,
       "columns": [
        {
         "name": "setups",
         "dtype": "object",
         "stats": {
          "unique_count": 8,
          "nan_count": 0,
          "categories": [
           {
            "name": "setup 1",
            "count": 1
           },
           {
            "name": "setup 1-pref",
            "count": 1
           },
           {
            "name": "6 others",
            "count": 6
           }
          ]
         }
        },
        {
         "name": "500_2000",
         "dtype": "float64",
         "stats": {
          "unique_count": 8,
          "nan_count": 0,
          "min": "0.0010679012345679018",
          "max": "0.01888586956521739",
          "histogram": [
           {
            "bin_start": 0.0010679012345679018,
            "bin_end": 0.00284969806763285,
            "count": 3
           },
           {
            "bin_start": 0.00284969806763285,
            "bin_end": 0.004631494900697799,
            "count": 0
           },
           {
            "bin_start": 0.004631494900697799,
            "bin_end": 0.006413291733762747,
            "count": 0
           },
           {
            "bin_start": 0.006413291733762747,
            "bin_end": 0.008195088566827696,
            "count": 3
           },
           {
            "bin_start": 0.008195088566827696,
            "bin_end": 0.009976885399892645,
            "count": 0
           },
           {
            "bin_start": 0.009976885399892645,
            "bin_end": 0.011758682232957592,
            "count": 0
           },
           {
            "bin_start": 0.011758682232957592,
            "bin_end": 0.013540479066022541,
            "count": 1
           },
           {
            "bin_start": 0.013540479066022541,
            "bin_end": 0.01532227589908749,
            "count": 0
           },
           {
            "bin_start": 0.01532227589908749,
            "bin_end": 0.01710407273215244,
            "count": 0
           },
           {
            "bin_start": 0.01710407273215244,
            "bin_end": 0.01888586956521739,
            "count": 1
           }
          ]
         }
        },
        {
         "name": "1000_2500",
         "dtype": "float64",
         "stats": {
          "unique_count": 8,
          "nan_count": 0,
          "min": "0.0013363636363636368",
          "max": "0.013709523809523809",
          "histogram": [
           {
            "bin_start": 0.0013363636363636368,
            "bin_end": 0.002573679653679654,
            "count": 3
           },
           {
            "bin_start": 0.002573679653679654,
            "bin_end": 0.003810995670995671,
            "count": 0
           },
           {
            "bin_start": 0.003810995670995671,
            "bin_end": 0.005048311688311689,
            "count": 0
           },
           {
            "bin_start": 0.005048311688311689,
            "bin_end": 0.006285627705627706,
            "count": 0
           },
           {
            "bin_start": 0.006285627705627706,
            "bin_end": 0.007522943722943723,
            "count": 3
           },
           {
            "bin_start": 0.007522943722943723,
            "bin_end": 0.00876025974025974,
            "count": 0
           },
           {
            "bin_start": 0.00876025974025974,
            "bin_end": 0.009997575757575757,
            "count": 0
           },
           {
            "bin_start": 0.009997575757575757,
            "bin_end": 0.011234891774891774,
            "count": 1
           },
           {
            "bin_start": 0.011234891774891774,
            "bin_end": 0.012472207792207791,
            "count": 0
           },
           {
            "bin_start": 0.012472207792207791,
            "bin_end": 0.013709523809523809,
            "count": 1
           }
          ]
         }
        },
        {
         "name": "2000_3500",
         "dtype": "float64",
         "stats": {
          "unique_count": 8,
          "nan_count": 0,
          "min": "0.0011619047619047618",
          "max": "0.00669172932330827",
          "histogram": [
           {
            "bin_start": 0.0011619047619047618,
            "bin_end": 0.0017148872180451128,
            "count": 3
           },
           {
            "bin_start": 0.0017148872180451128,
            "bin_end": 0.0022678696741854636,
            "count": 0
           },
           {
            "bin_start": 0.0022678696741854636,
            "bin_end": 0.002820852130325815,
            "count": 0
           },
           {
            "bin_start": 0.002820852130325815,
            "bin_end": 0.0033738345864661656,
            "count": 0
           },
           {
            "bin_start": 0.0033738345864661656,
            "bin_end": 0.003926817042606516,
            "count": 0
           },
           {
            "bin_start": 0.003926817042606516,
            "bin_end": 0.004479799498746867,
            "count": 1
           },
           {
            "bin_start": 0.004479799498746867,
            "bin_end": 0.005032781954887218,
            "count": 2
           },
           {
            "bin_start": 0.005032781954887218,
            "bin_end": 0.005585764411027569,
            "count": 1
           },
           {
            "bin_start": 0.005585764411027569,
            "bin_end": 0.0061387468671679195,
            "count": 0
           },
           {
            "bin_start": 0.0061387468671679195,
            "bin_end": 0.00669172932330827,
            "count": 1
           }
          ]
         }
        },
        {
         "name": "5000_6500",
         "dtype": "float64",
         "stats": {
          "unique_count": 8,
          "nan_count": 0,
          "min": "0.000640642939150401",
          "max": "0.0026385669125395155",
          "histogram": [
           {
            "bin_start": 0.000640642939150401,
            "bin_end": 0.0008404353364893124,
            "count": 3
           },
           {
            "bin_start": 0.0008404353364893124,
            "bin_end": 0.0010402277338282238,
            "count": 0
           },
           {
            "bin_start": 0.0010402277338282238,
            "bin_end": 0.0012400201311671354,
            "count": 0
           },
           {
            "bin_start": 0.0012400201311671354,
            "bin_end": 0.0014398125285060468,
            "count": 0
           },
           {
            "bin_start": 0.0014398125285060468,
            "bin_end": 0.0016396049258449582,
            "count": 0
           },
           {
            "bin_start": 0.0016396049258449582,
            "bin_end": 0.0018393973231838699,
            "count": 0
           },
           {
            "bin_start": 0.0018393973231838699,
            "bin_end": 0.0020391897205227815,
            "count": 0
           },
           {
            "bin_start": 0.0020391897205227815,
            "bin_end": 0.0022389821178616927,
            "count": 0
           },
           {
            "bin_start": 0.0022389821178616927,
            "bin_end": 0.002438774515200604,
            "count": 1
           },
           {
            "bin_start": 0.002438774515200604,
            "bin_end": 0.0026385669125395155,
            "count": 4
           }
          ]
         }
        },
        {
         "name": "_deepnote_index_column",
         "dtype": "int64"
        }
       ],
       "rows_top": [
        {
         "setups": "setup 1",
         "500_2000": 0.0018132530120481937,
         "1000_2500": 0.0013363636363636368,
         "2000_3500": 0.0012330827067669188,
         "5000_6500": 0.0007141216991963248,
         "_deepnote_index_column": 0
        },
        {
         "setups": "setup 1-pref",
         "500_2000": 0.0016494252873563227,
         "1000_2500": 0.0013512195121951215,
         "2000_3500": 0.0011619047619047618,
         "5000_6500": 0.000640642939150401,
         "_deepnote_index_column": 1
        },
        {
         "setups": "setup 2",
         "500_2000": 0.012989247311827951,
         "1000_2500": 0.01030232558139535,
         "2000_3500": 0.005461966604823747,
         "5000_6500": 0.002599739243807041,
         "_deepnote_index_column": 2
        },
        {
         "setups": "setup 2-pref",
         "500_2000": 0.01888586956521739,
         "1000_2500": 0.013709523809523809,
         "2000_3500": 0.00669172932330827,
         "5000_6500": 0.0026385669125395155,
         "_deepnote_index_column": 3
        },
        {
         "setups": "setup 3",
         "500_2000": 0.0010679012345679018,
         "1000_2500": 0.0014430379746835443,
         "2000_3500": 0.00149367088607595,
         "5000_6500": 0.0007344913151364756,
         "_deepnote_index_column": 4
        },
        {
         "setups": "setup 4",
         "500_2000": 0.008128865979381436,
         "1000_2500": 0.006560869565217392,
         "2000_3500": 0.004426807760141093,
         "5000_6500": 0.002361638361638361,
         "_deepnote_index_column": 5
        },
        {
         "setups": "setup 4-pref",
         "500_2000": 0.007937499999999998,
         "1000_2500": 0.0063356321839080475,
         "2000_3500": 0.004548172757475082,
         "5000_6500": 0.0025780219780219774,
         "_deepnote_index_column": 6
        },
        {
         "setups": "setup 4-pref-center",
         "500_2000": 0.008128865979381438,
         "1000_2500": 0.006425263157894739,
         "2000_3500": 0.0047142857142857125,
         "5000_6500": 0.002550724637681158,
         "_deepnote_index_column": 7
        }
       ],
       "rows_bottom": null
      },
      "text/plain": "                setups  500_2000  1000_2500  2000_3500  5000_6500\n0              setup 1  0.001813   0.001336   0.001233   0.000714\n1         setup 1-pref  0.001649   0.001351   0.001162   0.000641\n2              setup 2  0.012989   0.010302   0.005462   0.002600\n3         setup 2-pref  0.018886   0.013710   0.006692   0.002639\n4              setup 3  0.001068   0.001443   0.001494   0.000734\n5              setup 4  0.008129   0.006561   0.004427   0.002362\n6         setup 4-pref  0.007937   0.006336   0.004548   0.002578\n7  setup 4-pref-center  0.008129   0.006425   0.004714   0.002551",
      "text/html": "<div>\n<style scoped>\n    .dataframe tbody tr th:only-of-type {\n        vertical-align: middle;\n    }\n\n    .dataframe tbody tr th {\n        vertical-align: top;\n    }\n\n    .dataframe thead th {\n        text-align: right;\n    }\n</style>\n<table border=\"1\" class=\"dataframe\">\n  <thead>\n    <tr style=\"text-align: right;\">\n      <th></th>\n      <th>setups</th>\n      <th>500_2000</th>\n      <th>1000_2500</th>\n      <th>2000_3500</th>\n      <th>5000_6500</th>\n    </tr>\n  </thead>\n  <tbody>\n    <tr>\n      <th>0</th>\n      <td>setup 1</td>\n      <td>0.001813</td>\n      <td>0.001336</td>\n      <td>0.001233</td>\n      <td>0.000714</td>\n    </tr>\n    <tr>\n      <th>1</th>\n      <td>setup 1-pref</td>\n      <td>0.001649</td>\n      <td>0.001351</td>\n      <td>0.001162</td>\n      <td>0.000641</td>\n    </tr>\n    <tr>\n      <th>2</th>\n      <td>setup 2</td>\n      <td>0.012989</td>\n      <td>0.010302</td>\n      <td>0.005462</td>\n      <td>0.002600</td>\n    </tr>\n    <tr>\n      <th>3</th>\n      <td>setup 2-pref</td>\n      <td>0.018886</td>\n      <td>0.013710</td>\n      <td>0.006692</td>\n      <td>0.002639</td>\n    </tr>\n    <tr>\n      <th>4</th>\n      <td>setup 3</td>\n      <td>0.001068</td>\n      <td>0.001443</td>\n      <td>0.001494</td>\n      <td>0.000734</td>\n    </tr>\n    <tr>\n      <th>5</th>\n      <td>setup 4</td>\n      <td>0.008129</td>\n      <td>0.006561</td>\n      <td>0.004427</td>\n      <td>0.002362</td>\n    </tr>\n    <tr>\n      <th>6</th>\n      <td>setup 4-pref</td>\n      <td>0.007937</td>\n      <td>0.006336</td>\n      <td>0.004548</td>\n      <td>0.002578</td>\n    </tr>\n    <tr>\n      <th>7</th>\n      <td>setup 4-pref-center</td>\n      <td>0.008129</td>\n      <td>0.006425</td>\n      <td>0.004714</td>\n      <td>0.002551</td>\n    </tr>\n  </tbody>\n</table>\n</div>"
     },
     "metadata": {}
    }
   ]
  },
  {
   "cell_type": "code",
   "metadata": {
    "collapsed": false,
    "pycharm": {
     "name": "#%%"
    },
    "cell_id": "00005-3e599d6b-d60a-43c4-ad3d-dea2aaddebcb",
    "deepnote_to_be_reexecuted": false,
    "source_hash": "b623e53d",
    "execution_start": 1636144384826,
    "execution_millis": 507610,
    "deepnote_cell_type": "code"
   },
   "source": "",
   "execution_count": 5,
   "outputs": []
  },
  {
   "cell_type": "markdown",
   "source": "<a style='text-decoration:none;line-height:16px;display:flex;color:#5B5B62;padding:10px;justify-content:end;' href='https://deepnote.com?utm_source=created-in-deepnote-cell&projectId=76a22323-d43c-4823-9752-036f6744cf38' target=\"_blank\">\n<img alt='Created in deepnote.com' style='display:inline;max-height:16px;margin:0px;margin-right:7.5px;' src='data:image/svg+xml;base64,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' > </img>\nCreated in <span style='font-weight:600;margin-left:4px;'>Deepnote</span></a>",
   "metadata": {
    "tags": [],
    "created_in_deepnote_cell": true,
    "deepnote_cell_type": "markdown"
   }
  }
 ],
 "nbformat": 4,
 "nbformat_minor": 2,
 "metadata": {
  "kernelspec": {
   "name": "pycharm-19907461",
   "language": "python",
   "display_name": "PyCharm (thesis)"
  },
  "language_info": {
   "codemirror_mode": {
    "name": "ipython",
    "version": 3
   },
   "file_extension": ".py",
   "mimetype": "text/x-python",
   "name": "python",
   "nbconvert_exporter": "python",
   "pygments_lexer": "ipython3",
   "version": "3.8.3"
  },
  "deepnote_notebook_id": "1b399690-54b4-4aee-b858-a8b00d0d4747",
  "deepnote": {},
  "deepnote_execution_queue": []
 }
}