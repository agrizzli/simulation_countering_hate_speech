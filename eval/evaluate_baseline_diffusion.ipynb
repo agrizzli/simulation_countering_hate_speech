{
 "cells": [
  {
   "cell_type": "code",
   "metadata": {
    "cell_id": "00000-fac06cfe-9809-4ad1-ac41-c2e13d12e9a7",
    "deepnote_to_be_reexecuted": false,
    "source_hash": "b7dcc9c8",
    "execution_start": 1636144334538,
    "execution_millis": 44,
    "deepnote_cell_type": "code"
   },
   "source": "import numpy as np\nimport pandas as pd",
   "execution_count": 1,
   "outputs": []
  },
  {
   "cell_type": "code",
   "metadata": {
    "cell_id": "00001-5a86a380-ddeb-4f4b-9ea2-e0218d63a9ac",
    "deepnote_to_be_reexecuted": false,
    "source_hash": "53c0fed9",
    "execution_start": 1636144334583,
    "execution_millis": 43,
    "deepnote_cell_type": "code"
   },
   "source": "f_name = 'evaluation_csv/network_growth validate_baseline_diffusion_0_1000-table.csv'\n# f_name = 'evaluation_csv/network_growth validate_baseline_diffusion_500_1500-table.csv'\n# f_name = 'evaluation_csv/network_growth validate_baseline_diffusion_1000_2000-table.csv'\n# f_name = 'evaluation_csv/network_growth validate_baseline_diffusion_2000_3000-table.csv'\n# f_name = 'evaluation_csv/network_growth validate_baseline_diffusion_5000_6000-table.csv'\n# f_name = 'evaluation_csv/network_growth validate_baseline_diffusion_10000_11000-table.csv'\n\n\ndf_raw = pd.read_csv(f_name, skiprows=6)\ndf = df_raw[[\n    '[run number]',\n    '[step]',\n    'swap-to-hate',                             # Society becomes hateful when > 30% hateful nodes\n    'max-out-degree false',                     # Max degree of normals\n    'max-out-degree true',                      # Max degree of haters\n    'connection-density false',                 # Connection density of normals\n    'connection-density true',                  # Connection density of haters\n    'reciprocal-connections-percents false',    # Reciprocity of normals\n    'reciprocal-connections-percents true',     # Reciprocity of haters\n    'mean-follower-followee false',             # Follower/Followee of normals\n    'mean-follower-followee true',              # Follower/Followee of haters\n    'mean-following true false',                # Mean followers of normals\n    'mean-following true true',                 # Mean followers of haters\n    'mean-following false false',               # Mean followees of normals\n    'mean-following false true',                # Mean followees of haters\n    # 'mean-follow-prob true false',            # Mean following probabilities of hater to normal\n    'mean-follow-prob true true',               # Mean following probabilities of hater to hater\n    'mean-follow-prob false false',             # Mean following probabilities of normal to normal\n    # 'mean-follow-prob false true',            # Mean following probabilities of normal to hater\n    'connections-percents true false',          # Fraction of edges from haters to normals\n    'connections-percents false true',          # Fraction of edges from normals to haters\n    'percents-persons-with-degree false true 0',# Fraction of normals with out-degree 0\n    'percents-persons-with-degree false true 1',# Fraction of normals with out-degree 0\n    'percents-persons-with-degree true true 0', # Fraction of haters with out-degree 0\n    'percents-persons-with-degree true true 1', # Fraction of haters with out-degree 0\n    'percents-hateful-persons',                 # % of hateful users\n    'percents-hateful-posts',                   # % of hateful posts\n    'stddev-hate-score-dist',                   # StdDev of hate score distribution\n]]",
   "execution_count": 2,
   "outputs": []
  },
  {
   "cell_type": "code",
   "metadata": {
    "cell_id": "00002-d0b0f989-9726-43fd-a7f2-2553668d1a6e",
    "deepnote_to_be_reexecuted": false,
    "source_hash": "786d0f53",
    "execution_start": 1636144334626,
    "execution_millis": 9,
    "deepnote_cell_type": "code"
   },
   "source": "df.dtypes\ndf.info()",
   "execution_count": 3,
   "outputs": [
    {
     "name": "stdout",
     "text": "<class 'pandas.core.frame.DataFrame'>\nRangeIndex: 100 entries, 0 to 99\nData columns (total 26 columns):\n #   Column                                     Non-Null Count  Dtype  \n---  ------                                     --------------  -----  \n 0   [run number]                               100 non-null    int64  \n 1   [step]                                     100 non-null    int64  \n 2   swap-to-hate                               100 non-null    bool   \n 3   max-out-degree false                       100 non-null    int64  \n 4   max-out-degree true                        100 non-null    int64  \n 5   connection-density false                   100 non-null    float64\n 6   connection-density true                    100 non-null    float64\n 7   reciprocal-connections-percents false      100 non-null    float64\n 8   reciprocal-connections-percents true       100 non-null    float64\n 9   mean-follower-followee false               100 non-null    float64\n 10  mean-follower-followee true                100 non-null    float64\n 11  mean-following true false                  100 non-null    float64\n 12  mean-following true true                   100 non-null    float64\n 13  mean-following false false                 100 non-null    float64\n 14  mean-following false true                  100 non-null    float64\n 15  mean-follow-prob true true                 100 non-null    float64\n 16  mean-follow-prob false false               100 non-null    float64\n 17  connections-percents true false            100 non-null    float64\n 18  connections-percents false true            100 non-null    float64\n 19  percents-persons-with-degree false true 0  100 non-null    float64\n 20  percents-persons-with-degree false true 1  100 non-null    float64\n 21  percents-persons-with-degree true true 0   100 non-null    float64\n 22  percents-persons-with-degree true true 1   100 non-null    float64\n 23  percents-hateful-persons                   100 non-null    float64\n 24  percents-hateful-posts                     100 non-null    float64\n 25  stddev-hate-score-dist                     100 non-null    float64\ndtypes: bool(1), float64(21), int64(4)\nmemory usage: 19.8 KB\n",
     "output_type": "stream"
    }
   ]
  },
  {
   "cell_type": "code",
   "metadata": {
    "pycharm": {
     "name": "#%%\n"
    },
    "cell_id": "00003-96399d5a-f491-4a05-b379-62ed8bb5cecb",
    "deepnote_to_be_reexecuted": false,
    "source_hash": "44413458",
    "execution_start": 1636144334639,
    "execution_millis": 38,
    "deepnote_cell_type": "code"
   },
   "source": "pd.options.display.max_rows = 100\ndf = df[df['swap-to-hate'] != True]\ndf.head(3)\nlen(df)",
   "execution_count": 4,
   "outputs": [
    {
     "output_type": "execute_result",
     "execution_count": 4,
     "data": {
      "text/plain": "99"
     },
     "metadata": {}
    }
   ]
  },
  {
   "cell_type": "code",
   "metadata": {
    "collapsed": false,
    "pycharm": {
     "name": "#%%\n"
    },
    "cell_id": "00004-fe5e7188-4df0-429b-aed6-e391e17289a2",
    "deepnote_to_be_reexecuted": false,
    "source_hash": "7c1c424a",
    "execution_start": 1636144334689,
    "execution_millis": 991282,
    "deepnote_cell_type": "code"
   },
   "source": "# Compute ratio of connection densities\ndf['density'] = df['connection-density true'] / df['connection-density false']\n\n# Compute ratio of NH / HN edges\ndf['connections'] = df['connections-percents false true'] / df['connections-percents true false']\n\n# Compute ratio of max out-degrees\ndf['ratio-max-out-degrees'] = df['max-out-degree false'] / df['max-out-degree true']",
   "execution_count": 5,
   "outputs": []
  },
  {
   "cell_type": "code",
   "metadata": {
    "collapsed": false,
    "pycharm": {
     "name": "#%%\n"
    },
    "cell_id": "00005-5c41bac7-fd66-4315-9b86-e1e847890425",
    "deepnote_to_be_reexecuted": false,
    "source_hash": "57200fc1",
    "execution_start": 1636144334735,
    "execution_millis": 2,
    "deepnote_cell_type": "code"
   },
   "source": "# Aggregate statistics\nprint(\"Fraction of hateful users\", df['percents-hateful-persons'].mean() / 100)\nprint(\"Ratio density\", df['density'].mean())\nprint(\"Ratio max. out-degree\", df['ratio-max-out-degrees'].mean())\nprint(\"Reciprocity of normals\", df['reciprocal-connections-percents false'].mean())\nprint(\"Reciprocity of haters\", df['reciprocal-connections-percents true'].mean())\nprint(\"--------------------------\")\n\nprint(\"Mean followers of normals\", df['mean-following true false'].mean())\nprint(\"Mean followers of haters\", df['mean-following true true'].mean())\nprint(\"Mean followees of normals\", df['mean-following false false'].mean())\nprint(\"Mean followees of haters\", df['mean-following false true'].mean())\nprint(\"Mean follower/followee of normals\", df['mean-follower-followee false'].mean())\nprint(\"Mean follower/followee of haters\", df['mean-follower-followee true'].mean())\nprint(\"--------------------------\")\n\nprint(\"Fraction of hateful posts\", df['percents-hateful-posts'].mean())\nprint(\"StdDev Hate Score\", df[\"stddev-hate-score-dist\"].mean())",
   "execution_count": 6,
   "outputs": [
    {
     "name": "stdout",
     "text": "Fraction of hateful users 0.019626262626262627\nRatio density 76.05363627964856\nRatio max. out-degree 6.886295110454068\nReciprocity of normals 0.8890423463293565\nReciprocity of haters 0.751962917871915\n--------------------------\nMean followers of normals 1.7822525656930774\nMean followers of haters 2.640258502320634\nMean followees of normals 1.7888416715775015\nMean followees of haters 2.4345267602461553\nMean follower/followee of normals 0.8846668480400101\nMean follower/followee of haters 0.8109300366003797\n--------------------------\nFraction of hateful posts 0.08930984956049402\nStdDev Hate Score 0.07929636922704214\n",
     "output_type": "stream"
    }
   ]
  },
  {
   "cell_type": "markdown",
   "source": "<a style='text-decoration:none;line-height:16px;display:flex;color:#5B5B62;padding:10px;justify-content:end;' href='https://deepnote.com?utm_source=created-in-deepnote-cell&projectId=76a22323-d43c-4823-9752-036f6744cf38' target=\"_blank\">\n<img alt='Created in deepnote.com' style='display:inline;max-height:16px;margin:0px;margin-right:7.5px;' src='data:image/svg+xml;base64,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' > </img>\nCreated in <span style='font-weight:600;margin-left:4px;'>Deepnote</span></a>",
   "metadata": {
    "tags": [],
    "created_in_deepnote_cell": true,
    "deepnote_cell_type": "markdown"
   }
  }
 ],
 "nbformat": 4,
 "nbformat_minor": 2,
 "metadata": {
  "kernelspec": {
   "name": "pycharm-19907461",
   "language": "python",
   "display_name": "PyCharm (thesis)"
  },
  "language_info": {
   "codemirror_mode": {
    "name": "ipython",
    "version": 3
   },
   "file_extension": ".py",
   "mimetype": "text/x-python",
   "name": "python",
   "nbconvert_exporter": "python",
   "pygments_lexer": "ipython3",
   "version": "3.8.3"
  },
  "deepnote_notebook_id": "7873f46f-6db7-4085-a658-7fe7aace9f9d",
  "deepnote": {},
  "deepnote_execution_queue": []
 }
}