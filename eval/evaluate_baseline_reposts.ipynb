{
 "cells": [
  {
   "cell_type": "code",
   "metadata": {
    "cell_id": "00000-9090127d-b768-48e3-a3a9-b56a1ce31795",
    "deepnote_to_be_reexecuted": false,
    "source_hash": "b7dcc9c8",
    "execution_start": 1636144365904,
    "execution_millis": 42,
    "deepnote_cell_type": "code"
   },
   "source": "import numpy as np\nimport pandas as pd",
   "execution_count": 1,
   "outputs": []
  },
  {
   "cell_type": "code",
   "metadata": {
    "cell_id": "00001-e6010ba2-7740-46eb-ab72-554d5b1ad4f5",
    "deepnote_to_be_reexecuted": false,
    "source_hash": "24d015f0",
    "execution_start": 1636144365947,
    "execution_millis": 0,
    "deepnote_cell_type": "code"
   },
   "source": "# f_name = 'evaluation_csv/network_growth validate_baseline_reposts_0_1000-table.csv'\n# f_name = 'evaluation_csv/network_growth validate_baseline_reposts_0_1000_2-table.csv'\n# f_name = 'evaluation_csv/network_growth validate_baseline_reposts_0_1000_3-table.csv'\n# f_name = 'evaluation_csv/network_growth validate_baseline_reposts_500_1500-table.csv'\n# f_name = 'evaluation_csv/network_growth validate_baseline_reposts_500_1500_3-table.csv'\n# f_name = 'evaluation_csv/network_growth validate_baseline_reposts_1000_2000-table.csv'\n# f_name = 'evaluation_csv/network_growth validate_baseline_reposts_1000_2000_3-table.csv'\n# f_name = 'evaluation_csv/network_growth validate_baseline_reposts_2000_3000-table.csv'\n# f_name = 'evaluation_csv/network_growth validate_baseline_reposts_2000_3000_3-table.csv'\n# f_name = 'evaluation_csv/network_growth validate_baseline_reposts_5000_6000-table.csv'\n# f_name = 'evaluation_csv/network_growth validate_baseline_reposts_5000_6000_2-table.csv'\nf_name = 'evaluation_csv/network_growth validate_baseline_reposts_5000_6000_3-table.csv'\n# f_name = 'evaluation_csv/network_growth validate_baseline_reposts_10000_11000-table.csv'\n\n\ndf_raw = pd.read_csv(f_name, skiprows=6)\ndf = df_raw[[\n    '[run number]',\n    '[step]',\n    'swap-to-hate',                             # Society becomes hateful when > 30% hateful nodes\n    'max-out-degree false',                     # Max degree of normals\n    'max-out-degree true',                      # Max degree of haters\n    'connection-density false',                 # Connection density of normals\n    'connection-density true',                  # Connection density of haters\n    'reciprocal-connections-percents false',    # Reciprocity of normals\n    'reciprocal-connections-percents true',     # Reciprocity of haters\n    'mean-follower-followee false',             # Follower/Followee of normals\n    'mean-follower-followee true',              # Follower/Followee of haters\n    'mean-following true false',                # Mean followers of normals\n    'mean-following true true',                 # Mean followers of haters\n    'mean-following false false',               # Mean followees of normals\n    'mean-following false true',                # Mean followees of haters\n    # 'mean-follow-prob true false',            # Mean following probabilities of hater to normal\n    'mean-follow-prob true true',               # Mean following probabilities of hater to hater\n    'mean-follow-prob false false',             # Mean following probabilities of normal to normal\n    # 'mean-follow-prob false true',            # Mean following probabilities of normal to hater\n    'connections-percents true false',          # Fraction of edges from haters to normals\n    'connections-percents false true',          # Fraction of edges from normals to haters\n    'percents-persons-with-degree false true 0',# Fraction of normals with out-degree 0\n    'percents-persons-with-degree false true 1',# Fraction of normals with out-degree 0\n    'percents-persons-with-degree true true 0', # Fraction of haters with out-degree 0\n    'percents-persons-with-degree true true 1', # Fraction of haters with out-degree 0\n    'percents-hateful-persons',                 # % of hateful users\n    'percents-hateful-posts',                   # % of hateful posts\n    'mean-hate-score',                          # Mean of hate score distribution\n    'stddev-hate-score-dist',                   # StdDev of hate score distribution\n    'reposts-by-haters',                        # Reposts by haters\n    'reposts-by-normals',                       # Reposts by normals\n    'mean-path-length false',                   # Mean post path length of normal posts\n    'mean-path-length true',                    # Mean post path length of hateful posts\n]]",
   "execution_count": 2,
   "outputs": []
  },
  {
   "cell_type": "code",
   "metadata": {
    "cell_id": "00002-5b57d078-5886-49c4-a142-fe9cb8ba1467",
    "deepnote_to_be_reexecuted": false,
    "source_hash": "786d0f53",
    "execution_start": 1636144365983,
    "execution_millis": 147,
    "deepnote_cell_type": "code"
   },
   "source": "df.dtypes\ndf.info()",
   "execution_count": 3,
   "outputs": [
    {
     "name": "stdout",
     "text": "<class 'pandas.core.frame.DataFrame'>\nRangeIndex: 100 entries, 0 to 99\nData columns (total 31 columns):\n #   Column                                     Non-Null Count  Dtype  \n---  ------                                     --------------  -----  \n 0   [run number]                               100 non-null    int64  \n 1   [step]                                     100 non-null    int64  \n 2   swap-to-hate                               100 non-null    bool   \n 3   max-out-degree false                       100 non-null    int64  \n 4   max-out-degree true                        100 non-null    int64  \n 5   connection-density false                   100 non-null    float64\n 6   connection-density true                    100 non-null    float64\n 7   reciprocal-connections-percents false      100 non-null    float64\n 8   reciprocal-connections-percents true       100 non-null    float64\n 9   mean-follower-followee false               100 non-null    float64\n 10  mean-follower-followee true                100 non-null    float64\n 11  mean-following true false                  100 non-null    float64\n 12  mean-following true true                   100 non-null    float64\n 13  mean-following false false                 100 non-null    float64\n 14  mean-following false true                  100 non-null    float64\n 15  mean-follow-prob true true                 100 non-null    float64\n 16  mean-follow-prob false false               100 non-null    float64\n 17  connections-percents true false            100 non-null    float64\n 18  connections-percents false true            100 non-null    float64\n 19  percents-persons-with-degree false true 0  100 non-null    float64\n 20  percents-persons-with-degree false true 1  100 non-null    float64\n 21  percents-persons-with-degree true true 0   100 non-null    float64\n 22  percents-persons-with-degree true true 1   100 non-null    float64\n 23  percents-hateful-persons                   100 non-null    float64\n 24  percents-hateful-posts                     100 non-null    float64\n 25  mean-hate-score                            100 non-null    float64\n 26  stddev-hate-score-dist                     100 non-null    float64\n 27  reposts-by-haters                          100 non-null    float64\n 28  reposts-by-normals                         100 non-null    float64\n 29  mean-path-length false                     100 non-null    float64\n 30  mean-path-length true                      100 non-null    float64\ndtypes: bool(1), float64(26), int64(4)\nmemory usage: 23.7 KB\n",
     "output_type": "stream"
    }
   ]
  },
  {
   "cell_type": "code",
   "metadata": {
    "pycharm": {
     "name": "#%%\n"
    },
    "cell_id": "00003-ec732830-cdf1-41d4-ac60-9dee374b35dd",
    "deepnote_to_be_reexecuted": false,
    "source_hash": "44413458",
    "execution_start": 1636144365984,
    "execution_millis": 146,
    "deepnote_cell_type": "code"
   },
   "source": "pd.options.display.max_rows = 100\ndf = df[df['swap-to-hate'] != True]\ndf.head(3)\nlen(df)",
   "execution_count": 4,
   "outputs": [
    {
     "output_type": "execute_result",
     "execution_count": 4,
     "data": {
      "text/plain": "85"
     },
     "metadata": {}
    }
   ]
  },
  {
   "cell_type": "code",
   "metadata": {
    "collapsed": false,
    "pycharm": {
     "name": "#%%\n"
    },
    "cell_id": "00004-6279a0b8-cf73-45e7-a720-d58ea69de657",
    "deepnote_to_be_reexecuted": false,
    "source_hash": "7bdb071b",
    "execution_start": 1636144365993,
    "execution_millis": 8,
    "deepnote_cell_type": "code"
   },
   "source": "# Compute ratio of connection densities\ndf['density'] = df['connection-density true'] / df['connection-density false']\n\n# Compute ratio of NH / HN edges\ndf['connections'] = df['connections-percents false true'] / df['connections-percents true false']\n\n# Compute ratio of max out-degrees\n# df = df[df['max-out-degree true'] > 0]\ndf['ratio-max-out-degrees'] = df['max-out-degree false'] / df['max-out-degree true']",
   "execution_count": 5,
   "outputs": []
  },
  {
   "cell_type": "code",
   "metadata": {
    "collapsed": false,
    "pycharm": {
     "name": "#%%\n"
    },
    "cell_id": "00005-292ecf74-9fe5-4831-a3e1-2226405cbcbd",
    "deepnote_to_be_reexecuted": false,
    "source_hash": "70af5c32",
    "execution_start": 1636144366070,
    "execution_millis": 61,
    "deepnote_cell_type": "code"
   },
   "source": "# Aggregate statistics\nprint(\"Fraction of hateful users\", df['percents-hateful-persons'].mean() / 100)\nprint(\"Ratio density\", df['density'].mean())\nprint(\"Ratio max. out-degree\", df['ratio-max-out-degrees'].mean())\nprint(\"Reciprocity of normals\", df['reciprocal-connections-percents false'].mean())\nprint(\"Reciprocity of haters\", df['reciprocal-connections-percents true'].mean())\nprint(\"--------------------------\")\n\nprint(\"Mean followers of normals\", df['mean-following true false'].mean())\nprint(\"Mean followers of haters\", df['mean-following true true'].mean())\nprint(\"Mean followees of normals\", df['mean-following false false'].mean())\nprint(\"Mean followees of haters\", df['mean-following false true'].mean())\nprint(\"Mean follower/followee of normals\", df['mean-follower-followee false'].mean())\nprint(\"Mean follower/followee of haters\", df['mean-follower-followee true'].mean())\nprint(\"--------------------------\")\n\nprint(\"Fraction of hateful posts\", df['percents-hateful-posts'].mean())\nprint(\"Mean Hate Score\", df[\"mean-hate-score\"].mean())\nprint(\"StdDev Hate Score\", df[\"stddev-hate-score-dist\"].mean())\nprint(\"Mean path len normals\", df['mean-path-length false'].mean())\nprint(\"Mean path len haters\", df['mean-path-length true'].mean())\nprint(\"Reposts of haters\", df['reposts-by-haters'].mean())\nprint(\"Reposts of normals\", df['reposts-by-normals'].mean())",
   "execution_count": 6,
   "outputs": [
    {
     "name": "stdout",
     "text": "Fraction of hateful users 0.06571764705882353\nRatio density 54.231835475842395\nRatio max. out-degree 3.98324164271295\nReciprocity of normals 0.8884807131762744\nReciprocity of haters 0.7592168165252624\n--------------------------\nMean followers of normals 1.766100902889325\nMean followers of haters 2.320579464674487\nMean followees of normals 1.7815793200127767\nMean followees of haters 2.034993351915658\nMean follower/followee of normals 0.8789860476656968\nMean follower/followee of haters 0.7809421174515119\n--------------------------\nFraction of hateful posts 0.4151111951362031\nMean Hate Score 0.4182750081086317\nStdDev Hate Score 0.11576557765217742\nMean path len normals 0.7069950726829691\nMean path len haters 2.4058562363930687\nReposts of haters 276.6713922186062\nReposts of normals 13.985333230381023\n",
     "output_type": "stream"
    }
   ]
  },
  {
   "cell_type": "code",
   "metadata": {
    "collapsed": false,
    "pycharm": {
     "name": "#%%"
    },
    "cell_id": "00006-fd0407a5-747d-45d0-a9be-06f303df047b",
    "deepnote_to_be_reexecuted": false,
    "source_hash": "b623e53d",
    "execution_start": 1636144366071,
    "execution_millis": 0,
    "deepnote_cell_type": "code"
   },
   "source": "",
   "execution_count": 6,
   "outputs": []
  },
  {
   "cell_type": "markdown",
   "source": "<a style='text-decoration:none;line-height:16px;display:flex;color:#5B5B62;padding:10px;justify-content:end;' href='https://deepnote.com?utm_source=created-in-deepnote-cell&projectId=76a22323-d43c-4823-9752-036f6744cf38' target=\"_blank\">\n<img alt='Created in deepnote.com' style='display:inline;max-height:16px;margin:0px;margin-right:7.5px;' src='data:image/svg+xml;base64,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' > </img>\nCreated in <span style='font-weight:600;margin-left:4px;'>Deepnote</span></a>",
   "metadata": {
    "tags": [],
    "created_in_deepnote_cell": true,
    "deepnote_cell_type": "markdown"
   }
  }
 ],
 "nbformat": 4,
 "nbformat_minor": 2,
 "metadata": {
  "kernelspec": {
   "name": "pycharm-19907461",
   "language": "python",
   "display_name": "PyCharm (thesis)"
  },
  "language_info": {
   "codemirror_mode": {
    "name": "ipython",
    "version": 3
   },
   "file_extension": ".py",
   "mimetype": "text/x-python",
   "name": "python",
   "nbconvert_exporter": "python",
   "pygments_lexer": "ipython3",
   "version": "3.8.3"
  },
  "deepnote_notebook_id": "042cf027-9ff6-4b51-ba82-acba9a97ba21",
  "deepnote": {},
  "deepnote_execution_queue": []
 }
}