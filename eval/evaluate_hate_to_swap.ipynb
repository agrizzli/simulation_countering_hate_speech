{
 "cells": [
  {
   "cell_type": "code",
   "metadata": {
    "cell_id": "00000-a4c6032a-7ca3-4931-b4a7-1ee05d9252d3",
    "deepnote_to_be_reexecuted": false,
    "source_hash": "b7dcc9c8",
    "execution_start": 1636144425043,
    "execution_millis": 43,
    "deepnote_cell_type": "code"
   },
   "source": "import numpy as np\nimport pandas as pd",
   "execution_count": 1,
   "outputs": []
  },
  {
   "cell_type": "code",
   "metadata": {
    "cell_id": "00001-bcbc6265-7be0-4ba7-8d66-850c7a728195",
    "deepnote_to_be_reexecuted": false,
    "source_hash": "dba1b9da",
    "execution_start": 1636144425087,
    "execution_millis": 0,
    "deepnote_cell_type": "code"
   },
   "source": "f_name = 'evaluation_csv/network_growth high_hater_follow_probs_and_diff_acceptance-->swap_to_hate-table_rectangle.csv'\n# f_name = 'evaluation_csv/network_growth high_hater_follow_probs_and_diff_acceptance-->swap_to_hate-table_triangle.csv'\n\ndf_raw = pd.read_csv(f_name, skiprows=6)\ndf = df_raw[[\n    '[run number]',\n    '[step]',\n    'op_extreme',\n    'op_high',\n    'swap-to-hate',\n]]\ndf = df.sort_values(by=[\n    '[run number]',\n    '[step]',\n    'op_high',\n])",
   "execution_count": 2,
   "outputs": []
  },
  {
   "cell_type": "code",
   "metadata": {
    "cell_id": "00002-ac542525-6eab-4482-998e-5ba4ee22d820",
    "deepnote_to_be_reexecuted": false,
    "source_hash": "786d0f53",
    "execution_start": 1636144425130,
    "execution_millis": 0,
    "deepnote_cell_type": "code"
   },
   "source": "df.dtypes\ndf.info()",
   "execution_count": 3,
   "outputs": [
    {
     "name": "stdout",
     "text": "<class 'pandas.core.frame.DataFrame'>\nInt64Index: 500 entries, 11 to 496\nData columns (total 5 columns):\n #   Column        Non-Null Count  Dtype  \n---  ------        --------------  -----  \n 0   [run number]  500 non-null    int64  \n 1   [step]        500 non-null    int64  \n 2   op_extreme    500 non-null    float64\n 3   op_high       500 non-null    float64\n 4   swap-to-hate  500 non-null    bool   \ndtypes: bool(1), float64(2), int64(2)\nmemory usage: 20.0 KB\n",
     "output_type": "stream"
    }
   ]
  },
  {
   "cell_type": "code",
   "metadata": {
    "cell_id": "00003-0b69a669-1fc6-446a-a004-3f246c517d48",
    "deepnote_to_be_reexecuted": false,
    "source_hash": "f248ea02",
    "execution_start": 1636144425131,
    "execution_millis": 14,
    "deepnote_cell_type": "code"
   },
   "source": "df[df['swap-to-hate'] == True]",
   "execution_count": 4,
   "outputs": [
    {
     "output_type": "execute_result",
     "execution_count": 4,
     "data": {
      "application/vnd.deepnote.dataframe.v2+json": {
       "row_count": 16,
       "column_count": 5,
       "columns": [
        {
         "name": "[run number]",
         "dtype": "int64",
         "stats": {
          "unique_count": 16,
          "nan_count": 0,
          "min": "326",
          "max": "493",
          "histogram": [
           {
            "bin_start": 326,
            "bin_end": 342.7,
            "count": 1
           },
           {
            "bin_start": 342.7,
            "bin_end": 359.4,
            "count": 2
           },
           {
            "bin_start": 359.4,
            "bin_end": 376.1,
            "count": 0
           },
           {
            "bin_start": 376.1,
            "bin_end": 392.8,
            "count": 1
           },
           {
            "bin_start": 392.8,
            "bin_end": 409.5,
            "count": 4
           },
           {
            "bin_start": 409.5,
            "bin_end": 426.2,
            "count": 1
           },
           {
            "bin_start": 426.2,
            "bin_end": 442.9,
            "count": 2
           },
           {
            "bin_start": 442.9,
            "bin_end": 459.6,
            "count": 2
           },
           {
            "bin_start": 459.6,
            "bin_end": 476.29999999999995,
            "count": 1
           },
           {
            "bin_start": 476.29999999999995,
            "bin_end": 493,
            "count": 2
           }
          ]
         }
        },
        {
         "name": "[step]",
         "dtype": "int64",
         "stats": {
          "unique_count": 16,
          "nan_count": 0,
          "min": "1",
          "max": "893",
          "histogram": [
           {
            "bin_start": 1,
            "bin_end": 90.2,
            "count": 4
           },
           {
            "bin_start": 90.2,
            "bin_end": 179.4,
            "count": 0
           },
           {
            "bin_start": 179.4,
            "bin_end": 268.6,
            "count": 0
           },
           {
            "bin_start": 268.6,
            "bin_end": 357.8,
            "count": 1
           },
           {
            "bin_start": 357.8,
            "bin_end": 447,
            "count": 3
           },
           {
            "bin_start": 447,
            "bin_end": 536.2,
            "count": 4
           },
           {
            "bin_start": 536.2,
            "bin_end": 625.4,
            "count": 0
           },
           {
            "bin_start": 625.4,
            "bin_end": 714.6,
            "count": 0
           },
           {
            "bin_start": 714.6,
            "bin_end": 803.8000000000001,
            "count": 1
           },
           {
            "bin_start": 803.8000000000001,
            "bin_end": 893,
            "count": 3
           }
          ]
         }
        },
        {
         "name": "op_extreme",
         "dtype": "float64",
         "stats": {
          "unique_count": 1,
          "nan_count": 0,
          "min": "0.01",
          "max": "0.01",
          "histogram": [
           {
            "bin_start": -0.49,
            "bin_end": -0.39,
            "count": 0
           },
           {
            "bin_start": -0.39,
            "bin_end": -0.29,
            "count": 0
           },
           {
            "bin_start": -0.29,
            "bin_end": -0.18999999999999995,
            "count": 0
           },
           {
            "bin_start": -0.18999999999999995,
            "bin_end": -0.08999999999999997,
            "count": 0
           },
           {
            "bin_start": -0.08999999999999997,
            "bin_end": 0.010000000000000009,
            "count": 16
           },
           {
            "bin_start": 0.010000000000000009,
            "bin_end": 0.1100000000000001,
            "count": 0
           },
           {
            "bin_start": 0.1100000000000001,
            "bin_end": 0.21000000000000008,
            "count": 0
           },
           {
            "bin_start": 0.21000000000000008,
            "bin_end": 0.31000000000000005,
            "count": 0
           },
           {
            "bin_start": 0.31000000000000005,
            "bin_end": 0.41000000000000003,
            "count": 0
           },
           {
            "bin_start": 0.41000000000000003,
            "bin_end": 0.51,
            "count": 0
           }
          ]
         }
        },
        {
         "name": "op_high",
         "dtype": "float64",
         "stats": {
          "unique_count": 2,
          "nan_count": 0,
          "min": "0.4",
          "max": "0.5",
          "histogram": [
           {
            "bin_start": 0.4,
            "bin_end": 0.41000000000000003,
            "count": 4
           },
           {
            "bin_start": 0.41000000000000003,
            "bin_end": 0.42000000000000004,
            "count": 0
           },
           {
            "bin_start": 0.42000000000000004,
            "bin_end": 0.43,
            "count": 0
           },
           {
            "bin_start": 0.43,
            "bin_end": 0.44,
            "count": 0
           },
           {
            "bin_start": 0.44,
            "bin_end": 0.45,
            "count": 0
           },
           {
            "bin_start": 0.45,
            "bin_end": 0.46,
            "count": 0
           },
           {
            "bin_start": 0.46,
            "bin_end": 0.47000000000000003,
            "count": 0
           },
           {
            "bin_start": 0.47000000000000003,
            "bin_end": 0.48,
            "count": 0
           },
           {
            "bin_start": 0.48,
            "bin_end": 0.49,
            "count": 0
           },
           {
            "bin_start": 0.49,
            "bin_end": 0.5,
            "count": 12
           }
          ]
         }
        },
        {
         "name": "swap-to-hate",
         "dtype": "bool",
         "stats": {
          "unique_count": 1,
          "nan_count": 0,
          "categories": [
           {
            "name": "True",
            "count": 16
           }
          ]
         }
        },
        {
         "name": "_deepnote_index_column",
         "dtype": "int64"
        }
       ],
       "rows_top": [
        {
         "[run number]": 326,
         "[step]": 384,
         "op_extreme": 0.01,
         "op_high": 0.4,
         "swap-to-hate": "True",
         "_deepnote_index_column": 315
        },
        {
         "[run number]": 343,
         "[step]": 715,
         "op_extreme": 0.01,
         "op_high": 0.4,
         "swap-to-hate": "True",
         "_deepnote_index_column": 337
        },
        {
         "[run number]": 359,
         "[step]": 478,
         "op_extreme": 0.01,
         "op_high": 0.4,
         "swap-to-hate": "True",
         "_deepnote_index_column": 351
        },
        {
         "[run number]": 386,
         "[step]": 338,
         "op_extreme": 0.01,
         "op_high": 0.4,
         "swap-to-hate": "True",
         "_deepnote_index_column": 376
        },
        {
         "[run number]": 403,
         "[step]": 429,
         "op_extreme": 0.01,
         "op_high": 0.5,
         "swap-to-hate": "True",
         "_deepnote_index_column": 393
        },
        {
         "[run number]": 404,
         "[step]": 474,
         "op_extreme": 0.01,
         "op_high": 0.5,
         "swap-to-hate": "True",
         "_deepnote_index_column": 395
        },
        {
         "[run number]": 405,
         "[step]": 361,
         "op_extreme": 0.01,
         "op_high": 0.5,
         "swap-to-hate": "True",
         "_deepnote_index_column": 396
        },
        {
         "[run number]": 406,
         "[step]": 1,
         "op_extreme": 0.01,
         "op_high": 0.5,
         "swap-to-hate": "True",
         "_deepnote_index_column": 394
        },
        {
         "[run number]": 420,
         "[step]": 821,
         "op_extreme": 0.01,
         "op_high": 0.5,
         "swap-to-hate": "True",
         "_deepnote_index_column": 420
        },
        {
         "[run number]": 430,
         "[step]": 45,
         "op_extreme": 0.01,
         "op_high": 0.5,
         "swap-to-hate": "True",
         "_deepnote_index_column": 418
        },
        {
         "[run number]": 437,
         "[step]": 827,
         "op_extreme": 0.01,
         "op_high": 0.5,
         "swap-to-hate": "True",
         "_deepnote_index_column": 433
        },
        {
         "[run number]": 451,
         "[step]": 88,
         "op_extreme": 0.01,
         "op_high": 0.5,
         "swap-to-hate": "True",
         "_deepnote_index_column": 439
        },
        {
         "[run number]": 455,
         "[step]": 893,
         "op_extreme": 0.01,
         "op_high": 0.5,
         "swap-to-hate": "True",
         "_deepnote_index_column": 452
        },
        {
         "[run number]": 470,
         "[step]": 459,
         "op_extreme": 0.01,
         "op_high": 0.5,
         "swap-to-hate": "True",
         "_deepnote_index_column": 460
        },
        {
         "[run number]": 492,
         "[step]": 3,
         "op_extreme": 0.01,
         "op_high": 0.5,
         "swap-to-hate": "True",
         "_deepnote_index_column": 480
        },
        {
         "[run number]": 493,
         "[step]": 524,
         "op_extreme": 0.01,
         "op_high": 0.5,
         "swap-to-hate": "True",
         "_deepnote_index_column": 483
        }
       ],
       "rows_bottom": null
      },
      "text/plain": "     [run number]  [step]  op_extreme  op_high  swap-to-hate\n315           326     384        0.01      0.4          True\n337           343     715        0.01      0.4          True\n351           359     478        0.01      0.4          True\n376           386     338        0.01      0.4          True\n393           403     429        0.01      0.5          True\n395           404     474        0.01      0.5          True\n396           405     361        0.01      0.5          True\n394           406       1        0.01      0.5          True\n420           420     821        0.01      0.5          True\n418           430      45        0.01      0.5          True\n433           437     827        0.01      0.5          True\n439           451      88        0.01      0.5          True\n452           455     893        0.01      0.5          True\n460           470     459        0.01      0.5          True\n480           492       3        0.01      0.5          True\n483           493     524        0.01      0.5          True",
      "text/html": "<div>\n<style scoped>\n    .dataframe tbody tr th:only-of-type {\n        vertical-align: middle;\n    }\n\n    .dataframe tbody tr th {\n        vertical-align: top;\n    }\n\n    .dataframe thead th {\n        text-align: right;\n    }\n</style>\n<table border=\"1\" class=\"dataframe\">\n  <thead>\n    <tr style=\"text-align: right;\">\n      <th></th>\n      <th>[run number]</th>\n      <th>[step]</th>\n      <th>op_extreme</th>\n      <th>op_high</th>\n      <th>swap-to-hate</th>\n    </tr>\n  </thead>\n  <tbody>\n    <tr>\n      <th>315</th>\n      <td>326</td>\n      <td>384</td>\n      <td>0.01</td>\n      <td>0.4</td>\n      <td>True</td>\n    </tr>\n    <tr>\n      <th>337</th>\n      <td>343</td>\n      <td>715</td>\n      <td>0.01</td>\n      <td>0.4</td>\n      <td>True</td>\n    </tr>\n    <tr>\n      <th>351</th>\n      <td>359</td>\n      <td>478</td>\n      <td>0.01</td>\n      <td>0.4</td>\n      <td>True</td>\n    </tr>\n    <tr>\n      <th>376</th>\n      <td>386</td>\n      <td>338</td>\n      <td>0.01</td>\n      <td>0.4</td>\n      <td>True</td>\n    </tr>\n    <tr>\n      <th>393</th>\n      <td>403</td>\n      <td>429</td>\n      <td>0.01</td>\n      <td>0.5</td>\n      <td>True</td>\n    </tr>\n    <tr>\n      <th>395</th>\n      <td>404</td>\n      <td>474</td>\n      <td>0.01</td>\n      <td>0.5</td>\n      <td>True</td>\n    </tr>\n    <tr>\n      <th>396</th>\n      <td>405</td>\n      <td>361</td>\n      <td>0.01</td>\n      <td>0.5</td>\n      <td>True</td>\n    </tr>\n    <tr>\n      <th>394</th>\n      <td>406</td>\n      <td>1</td>\n      <td>0.01</td>\n      <td>0.5</td>\n      <td>True</td>\n    </tr>\n    <tr>\n      <th>420</th>\n      <td>420</td>\n      <td>821</td>\n      <td>0.01</td>\n      <td>0.5</td>\n      <td>True</td>\n    </tr>\n    <tr>\n      <th>418</th>\n      <td>430</td>\n      <td>45</td>\n      <td>0.01</td>\n      <td>0.5</td>\n      <td>True</td>\n    </tr>\n    <tr>\n      <th>433</th>\n      <td>437</td>\n      <td>827</td>\n      <td>0.01</td>\n      <td>0.5</td>\n      <td>True</td>\n    </tr>\n    <tr>\n      <th>439</th>\n      <td>451</td>\n      <td>88</td>\n      <td>0.01</td>\n      <td>0.5</td>\n      <td>True</td>\n    </tr>\n    <tr>\n      <th>452</th>\n      <td>455</td>\n      <td>893</td>\n      <td>0.01</td>\n      <td>0.5</td>\n      <td>True</td>\n    </tr>\n    <tr>\n      <th>460</th>\n      <td>470</td>\n      <td>459</td>\n      <td>0.01</td>\n      <td>0.5</td>\n      <td>True</td>\n    </tr>\n    <tr>\n      <th>480</th>\n      <td>492</td>\n      <td>3</td>\n      <td>0.01</td>\n      <td>0.5</td>\n      <td>True</td>\n    </tr>\n    <tr>\n      <th>483</th>\n      <td>493</td>\n      <td>524</td>\n      <td>0.01</td>\n      <td>0.5</td>\n      <td>True</td>\n    </tr>\n  </tbody>\n</table>\n</div>"
     },
     "metadata": {}
    }
   ]
  },
  {
   "cell_type": "code",
   "metadata": {
    "cell_id": "00004-126e6d10-a551-43c6-a5ce-84930c872169",
    "deepnote_to_be_reexecuted": false,
    "source_hash": "83c45f01",
    "execution_start": 1636144425148,
    "execution_millis": 13,
    "deepnote_cell_type": "code"
   },
   "source": "df.groupby(['op_high', 'swap-to-hate'])['swap-to-hate'].count()",
   "execution_count": 5,
   "outputs": [
    {
     "output_type": "execute_result",
     "execution_count": 5,
     "data": {
      "text/plain": "op_high  swap-to-hate\n0.1      False           100\n0.2      False           100\n0.3      False           100\n0.4      False            96\n         True              4\n0.5      False            88\n         True             12\nName: swap-to-hate, dtype: int64"
     },
     "metadata": {}
    }
   ]
  },
  {
   "cell_type": "code",
   "metadata": {
    "cell_id": "00005-2b1eda0b-bef5-4161-b5ef-4b2174f04656",
    "deepnote_to_be_reexecuted": false,
    "source_hash": "b623e53d",
    "execution_start": 1636144425164,
    "execution_millis": 1,
    "deepnote_cell_type": "code"
   },
   "source": "",
   "execution_count": 5,
   "outputs": []
  },
  {
   "cell_type": "markdown",
   "source": "<a style='text-decoration:none;line-height:16px;display:flex;color:#5B5B62;padding:10px;justify-content:end;' href='https://deepnote.com?utm_source=created-in-deepnote-cell&projectId=76a22323-d43c-4823-9752-036f6744cf38' target=\"_blank\">\n<img alt='Created in deepnote.com' style='display:inline;max-height:16px;margin:0px;margin-right:7.5px;' src='data:image/svg+xml;base64,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' > </img>\nCreated in <span style='font-weight:600;margin-left:4px;'>Deepnote</span></a>",
   "metadata": {
    "tags": [],
    "created_in_deepnote_cell": true,
    "deepnote_cell_type": "markdown"
   }
  }
 ],
 "nbformat": 4,
 "nbformat_minor": 2,
 "metadata": {
  "kernelspec": {
   "name": "pycharm-19907461",
   "language": "python",
   "display_name": "PyCharm (thesis)"
  },
  "language_info": {
   "codemirror_mode": {
    "name": "ipython",
    "version": 3
   },
   "file_extension": ".py",
   "mimetype": "text/x-python",
   "name": "python",
   "nbconvert_exporter": "python",
   "pygments_lexer": "ipython3",
   "version": "3.7.3"
  },
  "deepnote_notebook_id": "b543ab07-7310-40de-89ce-2db99e29f086",
  "deepnote": {},
  "deepnote_execution_queue": []
 }
}