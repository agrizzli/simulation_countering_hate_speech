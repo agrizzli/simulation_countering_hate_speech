{
 "cells": [
  {
   "cell_type": "code",
   "metadata": {
    "cell_id": "00000-303bdd09-9994-4d0b-a468-2ae322031b89",
    "deepnote_to_be_reexecuted": false,
    "source_hash": "f25bd425",
    "execution_start": 1636144417325,
    "execution_millis": 23,
    "deepnote_cell_type": "code"
   },
   "source": "import numpy as np\nimport pandas as pd\n",
   "execution_count": 1,
   "outputs": []
  },
  {
   "cell_type": "code",
   "metadata": {
    "collapsed": false,
    "pycharm": {
     "name": "#%%\n"
    },
    "cell_id": "00001-6faf4375-3cba-4060-ba73-071882ad30b1",
    "deepnote_to_be_reexecuted": false,
    "source_hash": "3d936d66",
    "execution_start": 1636144417349,
    "execution_millis": 0,
    "deepnote_cell_type": "code"
   },
   "source": "def eval_one(f_name):\n    df_raw = pd.read_csv(f_name, skiprows=6)\n    df = df_raw[[\n        '[run number]',\n        '[step]',\n        'swap-to-hate',                             # Society becomes hateful when > 30% hateful nodes\n        # 'p_defer_hateful_post',                     # Deferring probability for hateful posts\n        'hate_score_dist_alpha',                    # Alpha-parameter of the Gamma distribution\n\n        'max-out-degree false',                     # Max degree of normals\n        'max-out-degree true',                      # Max degree of haters\n        'connection-density false',                 # Connection density of normals\n        'connection-density true',                  # Connection density of haters\n        'reciprocal-connections-percents false',    # Reciprocity of normals\n        'reciprocal-connections-percents true',     # Reciprocity of haters\n        'mean-follower-followee false',             # Follower/Followee of normals\n        'mean-follower-followee true',              # Follower/Followee of haters\n        'mean-following true false',                # Mean followers of normals\n        'mean-following true true',                 # Mean followers of haters\n        'mean-following false false',               # Mean followees of normals\n        'mean-following false true',                # Mean followees of haters\n        # 'mean-follow-prob true false',            # Mean following probabilities of hater to normal\n        'mean-follow-prob true true',               # Mean following probabilities of hater to hater\n        'mean-follow-prob false false',             # Mean following probabilities of normal to normal\n        # 'mean-follow-prob false true',            # Mean following probabilities of normal to hater\n        'connections-percents true false',          # Fraction of edges from haters to normals\n        'connections-percents false true',          # Fraction of edges from normals to haters\n        'percents-persons-with-degree false true 0',# Fraction of normals with out-degree 0\n        'percents-persons-with-degree false true 1',# Fraction of normals with out-degree 0\n        'percents-persons-with-degree true true 0', # Fraction of haters with out-degree 0\n        'percents-persons-with-degree true true 1', # Fraction of haters with out-degree 0\n        'percents-hateful-persons',                 # % of hateful users\n        'percents-hateful-posts',                   # % of hateful posts\n        'stddev-hate-score-dist',                   # StdDev of hate score distribution\n        'mean-hate-score',                          # Mean of hate score distribution\n        'reposts-by-haters',                        # Reposts by haters\n        'reposts-by-normals',                       # Reposts by normals\n        'mean-path-length false',                   # Mean post path length of normal posts\n        'mean-path-length true',                    # Mean post path length of hateful posts\n    ]]\n\n    df_swap = df.copy()\n    df = df[df['swap-to-hate'] != True]\n\n    df['percents-hateful-persons'] /= 100\n\n    # Compute ratio of connection densities\n    df['density'] = df['connection-density true'] / df['connection-density false']\n\n    # Compute ratio of NH / HN edges\n    df['connections'] = df['connections-percents false true'] / df['connections-percents true false']\n\n    # Compute ratio of max out-degrees\n    df['ratio-max-out-degrees'] = df[df['max-out-degree true'] > 0]['max-out-degree false'] / df[df['max-out-degree true'] > 0]['max-out-degree true']\n\n    df_all = df.groupby(['hate_score_dist_alpha']).mean()\n\n    df_plot = df_all[[\n        'percents-hateful-persons',\n        'percents-hateful-posts',\n        'mean-hate-score',\n        'stddev-hate-score-dist',\n\n        'density',\n        'ratio-max-out-degrees',\n        'reciprocal-connections-percents false',\n        'reciprocal-connections-percents true',\n\n        'mean-following true false',\n        'mean-following true true',\n        'mean-following false false',\n        'mean-following false true',\n        'mean-follower-followee false',\n        'mean-follower-followee true',\n\n        'mean-path-length false',\n        'mean-path-length true',\n        'reposts-by-normals',\n        'reposts-by-haters',\n    ]]\n    df_plot.columns = [\n        'Fraction of hateful persons',\n        'Fraction of hateful posts',\n        'Mean of hate score distribution',\n        'StdDev of hate score distribution',\n\n        'Ratio network density H - N',\n        'Ratio max. followers of N - H',\n        'Reciprocity of normals',\n        'Reciprocity of haters',\n\n        'Mean followers of normals',\n        'Mean followers of haters',\n        'Mean followees of normals',\n        'Mean followees of hater',\n        'Mean follower-followee of normals',\n        'Mean follower-followee of haters',\n\n        'Mean path len normals',\n        'Mean path len haters',\n        'Reposts of normals',\n        'Reposts of haters',\n    ]\n    df_plot['Swap to hate'] = df_swap.groupby(['hate_score_dist_alpha'])['swap-to-hate'].mean()\n\n\n    return df_plot",
   "execution_count": 2,
   "outputs": []
  },
  {
   "cell_type": "code",
   "metadata": {
    "collapsed": false,
    "pycharm": {
     "name": "#%%\n"
    },
    "cell_id": "00002-5b50d1de-4b19-49db-b065-02ba2f036ce6",
    "deepnote_to_be_reexecuted": false,
    "source_hash": "97c33700",
    "execution_start": 1636144417351,
    "execution_millis": 625,
    "deepnote_cell_type": "code"
   },
   "source": "\nf_name_prefix = 'evaluation_csv/network_growth validate_counter_education_'\nf_name_suffix = '-table.csv'\n\nn_sizes = [\n    '0_1000',\n    '500_1500',\n    '1000_2000',\n    '2000_3000',\n    '5000_6000',\n    # '10000_11000',\n]\n\ngammas = [\n    '2',\n    '4',\n    '6',\n    '8',\n    # '8_a',\n]\n\n\nget_col = 'Fraction of hateful persons'\n# get_col = 'Fraction of hateful posts'\n# get_col = 'Mean of hate score distribution'\n# get_col = 'StdDev of hate score distribution'\n\n# get_col = 'Ratio network density H - N'\n# get_col = 'Ratio max. followers of N - H'\n# get_col = 'Reciprocity of normals'\n# get_col = 'Reciprocity of haters'\n\n# get_col = 'Mean followers of normals'\n# get_col = 'Mean followers of haters'\n# get_col = 'Mean followees of normals'\n# get_col = 'Mean followees of hater'\n# get_col = 'Mean follower-followee of normals'\n# get_col = 'Mean follower-followee of haters'\n\n# get_col = 'Mean path len normals'\n# get_col = 'Mean path len haters'\n# get_col = 'Swap to hate'\n\ndf_collect = pd.DataFrame(columns=['hate_score_dist_alpha', *list(n_sizes)])\ndf_collect.hate_score_dist_alpha = gammas\n\nfor s in n_sizes:\n    df_new = pd.DataFrame()\n    for g in gammas:\n        f_name = f_name_prefix + s + '-' + str(g) + f_name_suffix\n        df = eval_one(f_name)\n        df_new = df_new.append(df)\n\n    df_collect.loc[:, s] = list(df_new[get_col])\n\n\ndf_collect = df_collect.sort_values('hate_score_dist_alpha', ascending=False)\ndf_collect.to_csv('summary_counter_education_' + get_col + '.csv', index=False)\ndf_collect",
   "execution_count": 3,
   "outputs": [
    {
     "name": "stderr",
     "text": "/shared-libs/python3.7/py-core/lib/python3.7/site-packages/ipykernel_launcher.py:104: SettingWithCopyWarning: \nA value is trying to be set on a copy of a slice from a DataFrame.\nTry using .loc[row_indexer,col_indexer] = value instead\n\nSee the caveats in the documentation: https://pandas.pydata.org/pandas-docs/stable/user_guide/indexing.html#returning-a-view-versus-a-copy\n/shared-libs/python3.7/py-core/lib/python3.7/site-packages/ipykernel_launcher.py:104: SettingWithCopyWarning: \nA value is trying to be set on a copy of a slice from a DataFrame.\nTry using .loc[row_indexer,col_indexer] = value instead\n\nSee the caveats in the documentation: https://pandas.pydata.org/pandas-docs/stable/user_guide/indexing.html#returning-a-view-versus-a-copy\n/shared-libs/python3.7/py-core/lib/python3.7/site-packages/ipykernel_launcher.py:104: SettingWithCopyWarning: \nA value is trying to be set on a copy of a slice from a DataFrame.\nTry using .loc[row_indexer,col_indexer] = value instead\n\nSee the caveats in the documentation: https://pandas.pydata.org/pandas-docs/stable/user_guide/indexing.html#returning-a-view-versus-a-copy\n/shared-libs/python3.7/py-core/lib/python3.7/site-packages/ipykernel_launcher.py:104: SettingWithCopyWarning: \nA value is trying to be set on a copy of a slice from a DataFrame.\nTry using .loc[row_indexer,col_indexer] = value instead\n\nSee the caveats in the documentation: https://pandas.pydata.org/pandas-docs/stable/user_guide/indexing.html#returning-a-view-versus-a-copy\n/shared-libs/python3.7/py-core/lib/python3.7/site-packages/ipykernel_launcher.py:104: SettingWithCopyWarning: \nA value is trying to be set on a copy of a slice from a DataFrame.\nTry using .loc[row_indexer,col_indexer] = value instead\n\nSee the caveats in the documentation: https://pandas.pydata.org/pandas-docs/stable/user_guide/indexing.html#returning-a-view-versus-a-copy\n/shared-libs/python3.7/py-core/lib/python3.7/site-packages/ipykernel_launcher.py:104: SettingWithCopyWarning: \nA value is trying to be set on a copy of a slice from a DataFrame.\nTry using .loc[row_indexer,col_indexer] = value instead\n\nSee the caveats in the documentation: https://pandas.pydata.org/pandas-docs/stable/user_guide/indexing.html#returning-a-view-versus-a-copy\n/shared-libs/python3.7/py-core/lib/python3.7/site-packages/ipykernel_launcher.py:104: SettingWithCopyWarning: \nA value is trying to be set on a copy of a slice from a DataFrame.\nTry using .loc[row_indexer,col_indexer] = value instead\n\nSee the caveats in the documentation: https://pandas.pydata.org/pandas-docs/stable/user_guide/indexing.html#returning-a-view-versus-a-copy\n/shared-libs/python3.7/py-core/lib/python3.7/site-packages/ipykernel_launcher.py:104: SettingWithCopyWarning: \nA value is trying to be set on a copy of a slice from a DataFrame.\nTry using .loc[row_indexer,col_indexer] = value instead\n\nSee the caveats in the documentation: https://pandas.pydata.org/pandas-docs/stable/user_guide/indexing.html#returning-a-view-versus-a-copy\n/shared-libs/python3.7/py-core/lib/python3.7/site-packages/ipykernel_launcher.py:104: SettingWithCopyWarning: \nA value is trying to be set on a copy of a slice from a DataFrame.\nTry using .loc[row_indexer,col_indexer] = value instead\n\nSee the caveats in the documentation: https://pandas.pydata.org/pandas-docs/stable/user_guide/indexing.html#returning-a-view-versus-a-copy\n/shared-libs/python3.7/py-core/lib/python3.7/site-packages/ipykernel_launcher.py:104: SettingWithCopyWarning: \nA value is trying to be set on a copy of a slice from a DataFrame.\nTry using .loc[row_indexer,col_indexer] = value instead\n\nSee the caveats in the documentation: https://pandas.pydata.org/pandas-docs/stable/user_guide/indexing.html#returning-a-view-versus-a-copy\n/shared-libs/python3.7/py-core/lib/python3.7/site-packages/ipykernel_launcher.py:104: SettingWithCopyWarning: \nA value is trying to be set on a copy of a slice from a DataFrame.\nTry using .loc[row_indexer,col_indexer] = value instead\n\nSee the caveats in the documentation: https://pandas.pydata.org/pandas-docs/stable/user_guide/indexing.html#returning-a-view-versus-a-copy\n/shared-libs/python3.7/py-core/lib/python3.7/site-packages/ipykernel_launcher.py:104: SettingWithCopyWarning: \nA value is trying to be set on a copy of a slice from a DataFrame.\nTry using .loc[row_indexer,col_indexer] = value instead\n\nSee the caveats in the documentation: https://pandas.pydata.org/pandas-docs/stable/user_guide/indexing.html#returning-a-view-versus-a-copy\n/shared-libs/python3.7/py-core/lib/python3.7/site-packages/ipykernel_launcher.py:104: SettingWithCopyWarning: \nA value is trying to be set on a copy of a slice from a DataFrame.\nTry using .loc[row_indexer,col_indexer] = value instead\n\nSee the caveats in the documentation: https://pandas.pydata.org/pandas-docs/stable/user_guide/indexing.html#returning-a-view-versus-a-copy\n/shared-libs/python3.7/py-core/lib/python3.7/site-packages/ipykernel_launcher.py:104: SettingWithCopyWarning: \nA value is trying to be set on a copy of a slice from a DataFrame.\nTry using .loc[row_indexer,col_indexer] = value instead\n\nSee the caveats in the documentation: https://pandas.pydata.org/pandas-docs/stable/user_guide/indexing.html#returning-a-view-versus-a-copy\n/shared-libs/python3.7/py-core/lib/python3.7/site-packages/ipykernel_launcher.py:104: SettingWithCopyWarning: \nA value is trying to be set on a copy of a slice from a DataFrame.\nTry using .loc[row_indexer,col_indexer] = value instead\n\nSee the caveats in the documentation: https://pandas.pydata.org/pandas-docs/stable/user_guide/indexing.html#returning-a-view-versus-a-copy\n/shared-libs/python3.7/py-core/lib/python3.7/site-packages/ipykernel_launcher.py:104: SettingWithCopyWarning: \nA value is trying to be set on a copy of a slice from a DataFrame.\nTry using .loc[row_indexer,col_indexer] = value instead\n\nSee the caveats in the documentation: https://pandas.pydata.org/pandas-docs/stable/user_guide/indexing.html#returning-a-view-versus-a-copy\n/shared-libs/python3.7/py-core/lib/python3.7/site-packages/ipykernel_launcher.py:104: SettingWithCopyWarning: \nA value is trying to be set on a copy of a slice from a DataFrame.\nTry using .loc[row_indexer,col_indexer] = value instead\n\nSee the caveats in the documentation: https://pandas.pydata.org/pandas-docs/stable/user_guide/indexing.html#returning-a-view-versus-a-copy\n/shared-libs/python3.7/py-core/lib/python3.7/site-packages/ipykernel_launcher.py:104: SettingWithCopyWarning: \nA value is trying to be set on a copy of a slice from a DataFrame.\nTry using .loc[row_indexer,col_indexer] = value instead\n\nSee the caveats in the documentation: https://pandas.pydata.org/pandas-docs/stable/user_guide/indexing.html#returning-a-view-versus-a-copy\n/shared-libs/python3.7/py-core/lib/python3.7/site-packages/ipykernel_launcher.py:104: SettingWithCopyWarning: \nA value is trying to be set on a copy of a slice from a DataFrame.\nTry using .loc[row_indexer,col_indexer] = value instead\n\nSee the caveats in the documentation: https://pandas.pydata.org/pandas-docs/stable/user_guide/indexing.html#returning-a-view-versus-a-copy\n/shared-libs/python3.7/py-core/lib/python3.7/site-packages/ipykernel_launcher.py:104: SettingWithCopyWarning: \nA value is trying to be set on a copy of a slice from a DataFrame.\nTry using .loc[row_indexer,col_indexer] = value instead\n\nSee the caveats in the documentation: https://pandas.pydata.org/pandas-docs/stable/user_guide/indexing.html#returning-a-view-versus-a-copy\n",
     "output_type": "stream"
    },
    {
     "output_type": "execute_result",
     "execution_count": 3,
     "data": {
      "application/vnd.deepnote.dataframe.v2+json": {
       "row_count": 4,
       "column_count": 6,
       "columns": [
        {
         "name": "hate_score_dist_alpha",
         "dtype": "object",
         "stats": {
          "unique_count": 4,
          "nan_count": 0,
          "categories": [
           {
            "name": "8",
            "count": 1
           },
           {
            "name": "6",
            "count": 1
           },
           {
            "name": "2 others",
            "count": 2
           }
          ]
         }
        },
        {
         "name": "0_1000",
         "dtype": "float64",
         "stats": {
          "unique_count": 4,
          "nan_count": 0,
          "min": "0.014269999999999994",
          "max": "0.028032608695652165",
          "histogram": [
           {
            "bin_start": 0.014269999999999994,
            "bin_end": 0.01564626086956521,
            "count": 1
           },
           {
            "bin_start": 0.01564626086956521,
            "bin_end": 0.01702252173913043,
            "count": 0
           },
           {
            "bin_start": 0.01702252173913043,
            "bin_end": 0.018398782608695645,
            "count": 1
           },
           {
            "bin_start": 0.018398782608695645,
            "bin_end": 0.01977504347826086,
            "count": 0
           },
           {
            "bin_start": 0.01977504347826086,
            "bin_end": 0.02115130434782608,
            "count": 0
           },
           {
            "bin_start": 0.02115130434782608,
            "bin_end": 0.022527565217391295,
            "count": 0
           },
           {
            "bin_start": 0.022527565217391295,
            "bin_end": 0.023903826086956514,
            "count": 1
           },
           {
            "bin_start": 0.023903826086956514,
            "bin_end": 0.02528008695652173,
            "count": 0
           },
           {
            "bin_start": 0.02528008695652173,
            "bin_end": 0.026656347826086946,
            "count": 0
           },
           {
            "bin_start": 0.026656347826086946,
            "bin_end": 0.028032608695652165,
            "count": 1
           }
          ]
         }
        },
        {
         "name": "500_1500",
         "dtype": "float64",
         "stats": {
          "unique_count": 4,
          "nan_count": 0,
          "min": "0.01472053872053873",
          "max": "0.0388581560283688",
          "histogram": [
           {
            "bin_start": 0.01472053872053873,
            "bin_end": 0.017134300451321735,
            "count": 1
           },
           {
            "bin_start": 0.017134300451321735,
            "bin_end": 0.019548062182104742,
            "count": 1
           },
           {
            "bin_start": 0.019548062182104742,
            "bin_end": 0.02196182391288775,
            "count": 1
           },
           {
            "bin_start": 0.02196182391288775,
            "bin_end": 0.024375585643670754,
            "count": 0
           },
           {
            "bin_start": 0.024375585643670754,
            "bin_end": 0.026789347374453765,
            "count": 0
           },
           {
            "bin_start": 0.026789347374453765,
            "bin_end": 0.02920310910523677,
            "count": 0
           },
           {
            "bin_start": 0.02920310910523677,
            "bin_end": 0.03161687083601977,
            "count": 0
           },
           {
            "bin_start": 0.03161687083601977,
            "bin_end": 0.03403063256680278,
            "count": 0
           },
           {
            "bin_start": 0.03403063256680278,
            "bin_end": 0.03644439429758579,
            "count": 0
           },
           {
            "bin_start": 0.03644439429758579,
            "bin_end": 0.0388581560283688,
            "count": 1
           }
          ]
         }
        },
        {
         "name": "1000_2000",
         "dtype": "float64",
         "stats": {
          "unique_count": 4,
          "nan_count": 0,
          "min": "0.01511224489795918",
          "max": "0.04285119047619047",
          "histogram": [
           {
            "bin_start": 0.01511224489795918,
            "bin_end": 0.01788613945578231,
            "count": 1
           },
           {
            "bin_start": 0.01788613945578231,
            "bin_end": 0.020660034013605437,
            "count": 1
           },
           {
            "bin_start": 0.020660034013605437,
            "bin_end": 0.023433928571428567,
            "count": 0
           },
           {
            "bin_start": 0.023433928571428567,
            "bin_end": 0.026207823129251698,
            "count": 0
           },
           {
            "bin_start": 0.026207823129251698,
            "bin_end": 0.028981717687074828,
            "count": 1
           },
           {
            "bin_start": 0.028981717687074828,
            "bin_end": 0.03175561224489795,
            "count": 0
           },
           {
            "bin_start": 0.03175561224489795,
            "bin_end": 0.034529506802721086,
            "count": 0
           },
           {
            "bin_start": 0.034529506802721086,
            "bin_end": 0.03730340136054422,
            "count": 0
           },
           {
            "bin_start": 0.03730340136054422,
            "bin_end": 0.040077295918367346,
            "count": 0
           },
           {
            "bin_start": 0.040077295918367346,
            "bin_end": 0.04285119047619047,
            "count": 1
           }
          ]
         }
        },
        {
         "name": "2000_3000",
         "dtype": "float64",
         "stats": {
          "unique_count": 4,
          "nan_count": 0,
          "min": "0.01617666666666667",
          "max": "0.04383520599250937",
          "histogram": [
           {
            "bin_start": 0.01617666666666667,
            "bin_end": 0.018942520599250938,
            "count": 1
           },
           {
            "bin_start": 0.018942520599250938,
            "bin_end": 0.02170837453183521,
            "count": 1
           },
           {
            "bin_start": 0.02170837453183521,
            "bin_end": 0.02447422846441948,
            "count": 0
           },
           {
            "bin_start": 0.02447422846441948,
            "bin_end": 0.027240082397003748,
            "count": 0
           },
           {
            "bin_start": 0.027240082397003748,
            "bin_end": 0.030005936329588017,
            "count": 0
           },
           {
            "bin_start": 0.030005936329588017,
            "bin_end": 0.03277179026217229,
            "count": 1
           },
           {
            "bin_start": 0.03277179026217229,
            "bin_end": 0.03553764419475656,
            "count": 0
           },
           {
            "bin_start": 0.03553764419475656,
            "bin_end": 0.038303498127340824,
            "count": 0
           },
           {
            "bin_start": 0.038303498127340824,
            "bin_end": 0.041069352059925096,
            "count": 0
           },
           {
            "bin_start": 0.041069352059925096,
            "bin_end": 0.04383520599250937,
            "count": 1
           }
          ]
         }
        },
        {
         "name": "5000_6000",
         "dtype": "float64",
         "stats": {
          "unique_count": 4,
          "nan_count": 0,
          "min": "0.01694107744107744",
          "max": "0.05690398550724638",
          "histogram": [
           {
            "bin_start": 0.01694107744107744,
            "bin_end": 0.020937368247694335,
            "count": 1
           },
           {
            "bin_start": 0.020937368247694335,
            "bin_end": 0.024933659054311226,
            "count": 1
           },
           {
            "bin_start": 0.024933659054311226,
            "bin_end": 0.02892994986092812,
            "count": 0
           },
           {
            "bin_start": 0.02892994986092812,
            "bin_end": 0.032926240667545015,
            "count": 1
           },
           {
            "bin_start": 0.032926240667545015,
            "bin_end": 0.03692253147416191,
            "count": 0
           },
           {
            "bin_start": 0.03692253147416191,
            "bin_end": 0.0409188222807788,
            "count": 0
           },
           {
            "bin_start": 0.0409188222807788,
            "bin_end": 0.044915113087395694,
            "count": 0
           },
           {
            "bin_start": 0.044915113087395694,
            "bin_end": 0.04891140389401259,
            "count": 0
           },
           {
            "bin_start": 0.04891140389401259,
            "bin_end": 0.052907694700629476,
            "count": 0
           },
           {
            "bin_start": 0.052907694700629476,
            "bin_end": 0.05690398550724638,
            "count": 1
           }
          ]
         }
        },
        {
         "name": "_deepnote_index_column",
         "dtype": "int64"
        }
       ],
       "rows_top": [
        {
         "hate_score_dist_alpha": "8",
         "0_1000": 0.028032608695652165,
         "500_1500": 0.0388581560283688,
         "1000_2000": 0.04285119047619047,
         "2000_3000": 0.04383520599250937,
         "5000_6000": 0.05690398550724638,
         "_deepnote_index_column": 3
        },
        {
         "hate_score_dist_alpha": "6",
         "0_1000": 0.02316161616161615,
         "500_1500": 0.02037800687285225,
         "1000_2000": 0.02665816326530612,
         "2000_3000": 0.0310618556701031,
         "5000_6000": 0.032097643097643104,
         "_deepnote_index_column": 2
        },
        {
         "hate_score_dist_alpha": "4",
         "0_1000": 0.017343434343434327,
         "500_1500": 0.01788000000000001,
         "1000_2000": 0.01925510204081633,
         "2000_3000": 0.020184027777777773,
         "5000_6000": 0.022596938775510195,
         "_deepnote_index_column": 1
        },
        {
         "hate_score_dist_alpha": "2",
         "0_1000": 0.014269999999999994,
         "500_1500": 0.01472053872053873,
         "1000_2000": 0.01511224489795918,
         "2000_3000": 0.01617666666666667,
         "5000_6000": 0.01694107744107744,
         "_deepnote_index_column": 0
        }
       ],
       "rows_bottom": null
      },
      "text/plain": "  hate_score_dist_alpha    0_1000  500_1500  1000_2000  2000_3000  5000_6000\n3                     8  0.028033  0.038858   0.042851   0.043835   0.056904\n2                     6  0.023162  0.020378   0.026658   0.031062   0.032098\n1                     4  0.017343  0.017880   0.019255   0.020184   0.022597\n0                     2  0.014270  0.014721   0.015112   0.016177   0.016941",
      "text/html": "<div>\n<style scoped>\n    .dataframe tbody tr th:only-of-type {\n        vertical-align: middle;\n    }\n\n    .dataframe tbody tr th {\n        vertical-align: top;\n    }\n\n    .dataframe thead th {\n        text-align: right;\n    }\n</style>\n<table border=\"1\" class=\"dataframe\">\n  <thead>\n    <tr style=\"text-align: right;\">\n      <th></th>\n      <th>hate_score_dist_alpha</th>\n      <th>0_1000</th>\n      <th>500_1500</th>\n      <th>1000_2000</th>\n      <th>2000_3000</th>\n      <th>5000_6000</th>\n    </tr>\n  </thead>\n  <tbody>\n    <tr>\n      <th>3</th>\n      <td>8</td>\n      <td>0.028033</td>\n      <td>0.038858</td>\n      <td>0.042851</td>\n      <td>0.043835</td>\n      <td>0.056904</td>\n    </tr>\n    <tr>\n      <th>2</th>\n      <td>6</td>\n      <td>0.023162</td>\n      <td>0.020378</td>\n      <td>0.026658</td>\n      <td>0.031062</td>\n      <td>0.032098</td>\n    </tr>\n    <tr>\n      <th>1</th>\n      <td>4</td>\n      <td>0.017343</td>\n      <td>0.017880</td>\n      <td>0.019255</td>\n      <td>0.020184</td>\n      <td>0.022597</td>\n    </tr>\n    <tr>\n      <th>0</th>\n      <td>2</td>\n      <td>0.014270</td>\n      <td>0.014721</td>\n      <td>0.015112</td>\n      <td>0.016177</td>\n      <td>0.016941</td>\n    </tr>\n  </tbody>\n</table>\n</div>"
     },
     "metadata": {}
    }
   ]
  },
  {
   "cell_type": "code",
   "metadata": {
    "collapsed": false,
    "pycharm": {
     "name": "#%%"
    },
    "cell_id": "00003-a2c17d05-0034-40b4-9c7a-dce91161f6a9",
    "deepnote_to_be_reexecuted": false,
    "source_hash": "b623e53d",
    "execution_start": 1636144417967,
    "execution_millis": 5,
    "deepnote_cell_type": "code"
   },
   "source": "",
   "execution_count": 3,
   "outputs": []
  },
  {
   "cell_type": "markdown",
   "source": "<a style='text-decoration:none;line-height:16px;display:flex;color:#5B5B62;padding:10px;justify-content:end;' href='https://deepnote.com?utm_source=created-in-deepnote-cell&projectId=76a22323-d43c-4823-9752-036f6744cf38' target=\"_blank\">\n<img alt='Created in deepnote.com' style='display:inline;max-height:16px;margin:0px;margin-right:7.5px;' src='data:image/svg+xml;base64,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' > </img>\nCreated in <span style='font-weight:600;margin-left:4px;'>Deepnote</span></a>",
   "metadata": {
    "tags": [],
    "created_in_deepnote_cell": true,
    "deepnote_cell_type": "markdown"
   }
  }
 ],
 "nbformat": 4,
 "nbformat_minor": 2,
 "metadata": {
  "kernelspec": {
   "name": "pycharm-19907461",
   "language": "python",
   "display_name": "PyCharm (thesis)"
  },
  "language_info": {
   "codemirror_mode": {
    "name": "ipython",
    "version": 3
   },
   "file_extension": ".py",
   "mimetype": "text/x-python",
   "name": "python",
   "nbconvert_exporter": "python",
   "pygments_lexer": "ipython3",
   "version": "3.8.3"
  },
  "deepnote_notebook_id": "b71f9cd1-63be-4562-a83e-d0207473afff",
  "deepnote": {},
  "deepnote_execution_queue": []
 }
}