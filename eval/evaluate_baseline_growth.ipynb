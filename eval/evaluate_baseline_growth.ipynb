{
 "cells": [
  {
   "cell_type": "code",
   "metadata": {
    "cell_id": "00000-8431963a-fe4e-4ca5-bbc0-2d2501098796",
    "deepnote_to_be_reexecuted": false,
    "source_hash": "b7dcc9c8",
    "execution_start": 1636144339985,
    "execution_millis": 41,
    "deepnote_cell_type": "code"
   },
   "source": "import numpy as np\nimport pandas as pd",
   "execution_count": 1,
   "outputs": []
  },
  {
   "cell_type": "code",
   "metadata": {
    "cell_id": "00001-7a10459d-2bb6-4459-a6ea-e592eb48bc2b",
    "deepnote_to_be_reexecuted": false,
    "source_hash": "4555f47d",
    "execution_start": 1636144340027,
    "execution_millis": 0,
    "deepnote_cell_type": "code"
   },
   "source": "f_name = 'evaluation_csv/network_growth validate_baseline_network_growth_500-table.csv'\n# f_name = 'evaluation_csv/network_growth validate_baseline_network_growth_1000-table.csv'\n# f_name = 'evaluation_csv/network_growth validate_baseline_network_growth_2000-table.csv'\n# f_name = 'evaluation_csv/network_growth validate_baseline_network_growth_5000-table.csv'\n# f_name = 'evaluation_csv/network_growth validate_baseline_network_growth_20000-table.csv'\n\n\ndf_raw = pd.read_csv(f_name, skiprows=6)\ndf = df_raw[[\n    '[run number]',\n    '[step]',\n    'swap-to-hate',                             # Society becomes hateful when > 30% hateful nodes\n    'max-out-degree false',                     # Max degree of normals\n    'max-out-degree true',                      # Max degree of haters\n    'connection-density false',                 # Connection density of normals\n    'connection-density true',                  # Connection density of haters\n    'reciprocal-connections-percents false',    # Reciprocity of normals\n    'reciprocal-connections-percents true',     # Reciprocity of haters\n    'mean-follower-followee false',             # Follower/Followee of normals\n    'mean-follower-followee true',              # Follower/Followee of haters\n    'mean-following true false',                # Mean followers of normals\n    'mean-following true true',                 # Mean followers of haters\n    'mean-following false false',               # Mean followees of normals\n    'mean-following false true',                # Mean followees of haters\n    # 'mean-follow-prob true false',            # Mean following probabilities of hater to normal\n    'mean-follow-prob true true',               # Mean following probabilities of hater to hater\n    'mean-follow-prob false false',             # Mean following probabilities of normal to normal\n    # 'mean-follow-prob false true',            # Mean following probabilities of normal to hater\n    'connections-percents true false',          # Ratio of edges from haters to normals\n    'connections-percents false true',          # Ratio of edges from normals to haters\n    'percents-persons-with-degree false true 0',# Ratio of normals with out-degree 0\n    'percents-persons-with-degree false true 1',# Ratio of normals with out-degree 0\n    'percents-persons-with-degree true true 0', # Ratio of haters with out-degree 0\n    'percents-persons-with-degree true true 1', # Ratio of haters with out-degree 0\n    'percents-hateful-persons',                 # % of hateful users\n]]",
   "execution_count": 2,
   "outputs": []
  },
  {
   "cell_type": "code",
   "metadata": {
    "cell_id": "00002-22934e29-9933-4be7-8138-ec80a4db9f71",
    "deepnote_to_be_reexecuted": false,
    "source_hash": "786d0f53",
    "execution_start": 1636144340027,
    "execution_millis": 44,
    "deepnote_cell_type": "code"
   },
   "source": "df.dtypes\ndf.info()",
   "execution_count": 3,
   "outputs": [
    {
     "name": "stdout",
     "text": "<class 'pandas.core.frame.DataFrame'>\nRangeIndex: 100 entries, 0 to 99\nData columns (total 24 columns):\n #   Column                                     Non-Null Count  Dtype  \n---  ------                                     --------------  -----  \n 0   [run number]                               100 non-null    int64  \n 1   [step]                                     100 non-null    int64  \n 2   swap-to-hate                               100 non-null    bool   \n 3   max-out-degree false                       100 non-null    int64  \n 4   max-out-degree true                        100 non-null    int64  \n 5   connection-density false                   100 non-null    float64\n 6   connection-density true                    100 non-null    float64\n 7   reciprocal-connections-percents false      100 non-null    float64\n 8   reciprocal-connections-percents true       100 non-null    float64\n 9   mean-follower-followee false               100 non-null    float64\n 10  mean-follower-followee true                100 non-null    float64\n 11  mean-following true false                  100 non-null    float64\n 12  mean-following true true                   100 non-null    float64\n 13  mean-following false false                 100 non-null    float64\n 14  mean-following false true                  100 non-null    float64\n 15  mean-follow-prob true true                 100 non-null    float64\n 16  mean-follow-prob false false               100 non-null    float64\n 17  connections-percents true false            100 non-null    float64\n 18  connections-percents false true            100 non-null    float64\n 19  percents-persons-with-degree false true 0  100 non-null    float64\n 20  percents-persons-with-degree false true 1  100 non-null    float64\n 21  percents-persons-with-degree true true 0   100 non-null    float64\n 22  percents-persons-with-degree true true 1   100 non-null    float64\n 23  percents-hateful-persons                   100 non-null    float64\ndtypes: bool(1), float64(19), int64(4)\nmemory usage: 18.2 KB\n",
     "output_type": "stream"
    }
   ]
  },
  {
   "cell_type": "code",
   "metadata": {
    "pycharm": {
     "name": "#%%\n"
    },
    "cell_id": "00003-c1daf078-d4ea-40c7-b43e-61fbc39cd256",
    "deepnote_to_be_reexecuted": false,
    "source_hash": "237d82ad",
    "execution_start": 1636144340071,
    "execution_millis": 108,
    "deepnote_cell_type": "code"
   },
   "source": "pd.options.display.max_rows = 100\ndf = df[df['swap-to-hate'] != True]\ndf.head(3)",
   "execution_count": 4,
   "outputs": [
    {
     "output_type": "execute_result",
     "execution_count": 4,
     "data": {
      "application/vnd.deepnote.dataframe.v2+json": {
       "row_count": 3,
       "column_count": 24,
       "columns": [
        {
         "name": "[run number]",
         "dtype": "int64",
         "stats": {
          "unique_count": 3,
          "nan_count": 0,
          "min": "1",
          "max": "7",
          "histogram": [
           {
            "bin_start": 1,
            "bin_end": 1.6,
            "count": 1
           },
           {
            "bin_start": 1.6,
            "bin_end": 2.2,
            "count": 1
           },
           {
            "bin_start": 2.2,
            "bin_end": 2.8,
            "count": 0
           },
           {
            "bin_start": 2.8,
            "bin_end": 3.4,
            "count": 0
           },
           {
            "bin_start": 3.4,
            "bin_end": 4,
            "count": 0
           },
           {
            "bin_start": 4,
            "bin_end": 4.6,
            "count": 0
           },
           {
            "bin_start": 4.6,
            "bin_end": 5.2,
            "count": 0
           },
           {
            "bin_start": 5.2,
            "bin_end": 5.8,
            "count": 0
           },
           {
            "bin_start": 5.8,
            "bin_end": 6.3999999999999995,
            "count": 0
           },
           {
            "bin_start": 6.3999999999999995,
            "bin_end": 7,
            "count": 1
           }
          ]
         }
        },
        {
         "name": "[step]",
         "dtype": "int64",
         "stats": {
          "unique_count": 1,
          "nan_count": 0,
          "min": "501",
          "max": "501",
          "histogram": [
           {
            "bin_start": 500.5,
            "bin_end": 500.6,
            "count": 0
           },
           {
            "bin_start": 500.6,
            "bin_end": 500.7,
            "count": 0
           },
           {
            "bin_start": 500.7,
            "bin_end": 500.8,
            "count": 0
           },
           {
            "bin_start": 500.8,
            "bin_end": 500.9,
            "count": 0
           },
           {
            "bin_start": 500.9,
            "bin_end": 501,
            "count": 0
           },
           {
            "bin_start": 501,
            "bin_end": 501.1,
            "count": 3
           },
           {
            "bin_start": 501.1,
            "bin_end": 501.2,
            "count": 0
           },
           {
            "bin_start": 501.2,
            "bin_end": 501.3,
            "count": 0
           },
           {
            "bin_start": 501.3,
            "bin_end": 501.4,
            "count": 0
           },
           {
            "bin_start": 501.4,
            "bin_end": 501.5,
            "count": 0
           }
          ]
         }
        },
        {
         "name": "swap-to-hate",
         "dtype": "bool",
         "stats": {
          "unique_count": 1,
          "nan_count": 0,
          "categories": [
           {
            "name": "False",
            "count": 3
           }
          ]
         }
        },
        {
         "name": "max-out-degree false",
         "dtype": "int64",
         "stats": {
          "unique_count": 3,
          "nan_count": 0,
          "min": "51",
          "max": "64",
          "histogram": [
           {
            "bin_start": 51,
            "bin_end": 52.3,
            "count": 1
           },
           {
            "bin_start": 52.3,
            "bin_end": 53.6,
            "count": 0
           },
           {
            "bin_start": 53.6,
            "bin_end": 54.9,
            "count": 0
           },
           {
            "bin_start": 54.9,
            "bin_end": 56.2,
            "count": 1
           },
           {
            "bin_start": 56.2,
            "bin_end": 57.5,
            "count": 0
           },
           {
            "bin_start": 57.5,
            "bin_end": 58.8,
            "count": 0
           },
           {
            "bin_start": 58.8,
            "bin_end": 60.1,
            "count": 0
           },
           {
            "bin_start": 60.1,
            "bin_end": 61.4,
            "count": 0
           },
           {
            "bin_start": 61.4,
            "bin_end": 62.7,
            "count": 0
           },
           {
            "bin_start": 62.7,
            "bin_end": 64,
            "count": 1
           }
          ]
         }
        },
        {
         "name": "max-out-degree true",
         "dtype": "int64",
         "stats": {
          "unique_count": 3,
          "nan_count": 0,
          "min": "7",
          "max": "12",
          "histogram": [
           {
            "bin_start": 7,
            "bin_end": 7.5,
            "count": 1
           },
           {
            "bin_start": 7.5,
            "bin_end": 8,
            "count": 0
           },
           {
            "bin_start": 8,
            "bin_end": 8.5,
            "count": 0
           },
           {
            "bin_start": 8.5,
            "bin_end": 9,
            "count": 0
           },
           {
            "bin_start": 9,
            "bin_end": 9.5,
            "count": 0
           },
           {
            "bin_start": 9.5,
            "bin_end": 10,
            "count": 0
           },
           {
            "bin_start": 10,
            "bin_end": 10.5,
            "count": 1
           },
           {
            "bin_start": 10.5,
            "bin_end": 11,
            "count": 0
           },
           {
            "bin_start": 11,
            "bin_end": 11.5,
            "count": 0
           },
           {
            "bin_start": 11.5,
            "bin_end": 12,
            "count": 1
           }
          ]
         }
        },
        {
         "name": "connection-density false",
         "dtype": "float64",
         "stats": {
          "unique_count": 3,
          "nan_count": 0,
          "min": "0.0070829755040281",
          "max": "0.0072710914816177",
          "histogram": [
           {
            "bin_start": 0.0070829755040281,
            "bin_end": 0.00710178710178706,
            "count": 1
           },
           {
            "bin_start": 0.00710178710178706,
            "bin_end": 0.00712059869954602,
            "count": 0
           },
           {
            "bin_start": 0.00712059869954602,
            "bin_end": 0.00713941029730498,
            "count": 0
           },
           {
            "bin_start": 0.00713941029730498,
            "bin_end": 0.00715822189506394,
            "count": 1
           },
           {
            "bin_start": 0.00715822189506394,
            "bin_end": 0.0071770334928229,
            "count": 0
           },
           {
            "bin_start": 0.0071770334928229,
            "bin_end": 0.00719584509058186,
            "count": 0
           },
           {
            "bin_start": 0.00719584509058186,
            "bin_end": 0.00721465668834082,
            "count": 0
           },
           {
            "bin_start": 0.00721465668834082,
            "bin_end": 0.00723346828609978,
            "count": 0
           },
           {
            "bin_start": 0.00723346828609978,
            "bin_end": 0.00725227988385874,
            "count": 0
           },
           {
            "bin_start": 0.00725227988385874,
            "bin_end": 0.0072710914816177,
            "count": 1
           }
          ]
         }
        },
        {
         "name": "connection-density true",
         "dtype": "float64",
         "stats": {
          "unique_count": 3,
          "nan_count": 0,
          "min": "0.7142857142857143",
          "max": "1.1",
          "histogram": [
           {
            "bin_start": 0.7142857142857143,
            "bin_end": 0.7528571428571429,
            "count": 1
           },
           {
            "bin_start": 0.7528571428571429,
            "bin_end": 0.7914285714285715,
            "count": 0
           },
           {
            "bin_start": 0.7914285714285715,
            "bin_end": 0.8300000000000001,
            "count": 0
           },
           {
            "bin_start": 0.8300000000000001,
            "bin_end": 0.8685714285714285,
            "count": 0
           },
           {
            "bin_start": 0.8685714285714285,
            "bin_end": 0.9071428571428573,
            "count": 0
           },
           {
            "bin_start": 0.9071428571428573,
            "bin_end": 0.9457142857142857,
            "count": 0
           },
           {
            "bin_start": 0.9457142857142857,
            "bin_end": 0.9842857142857143,
            "count": 0
           },
           {
            "bin_start": 0.9842857142857143,
            "bin_end": 1.022857142857143,
            "count": 1
           },
           {
            "bin_start": 1.022857142857143,
            "bin_end": 1.0614285714285714,
            "count": 0
           },
           {
            "bin_start": 1.0614285714285714,
            "bin_end": 1.1,
            "count": 1
           }
          ]
         }
        },
        {
         "name": "reciprocal-connections-percents false",
         "dtype": "float64",
         "stats": {
          "unique_count": 3,
          "nan_count": 0,
          "min": "0.8891454965357968",
          "max": "0.904386951631046",
          "histogram": [
           {
            "bin_start": 0.8891454965357968,
            "bin_end": 0.8906696420453217,
            "count": 2
           },
           {
            "bin_start": 0.8906696420453217,
            "bin_end": 0.8921937875548466,
            "count": 0
           },
           {
            "bin_start": 0.8921937875548466,
            "bin_end": 0.8937179330643715,
            "count": 0
           },
           {
            "bin_start": 0.8937179330643715,
            "bin_end": 0.8952420785738965,
            "count": 0
           },
           {
            "bin_start": 0.8952420785738965,
            "bin_end": 0.8967662240834213,
            "count": 0
           },
           {
            "bin_start": 0.8967662240834213,
            "bin_end": 0.8982903695929463,
            "count": 0
           },
           {
            "bin_start": 0.8982903695929463,
            "bin_end": 0.8998145151024712,
            "count": 0
           },
           {
            "bin_start": 0.8998145151024712,
            "bin_end": 0.9013386606119962,
            "count": 0
           },
           {
            "bin_start": 0.9013386606119962,
            "bin_end": 0.902862806121521,
            "count": 0
           },
           {
            "bin_start": 0.902862806121521,
            "bin_end": 0.904386951631046,
            "count": 1
           }
          ]
         }
        },
        {
         "name": "reciprocal-connections-percents true",
         "dtype": "float64",
         "stats": {
          "unique_count": 2,
          "nan_count": 0,
          "min": "0.9090909090909092",
          "max": "1.0",
          "histogram": [
           {
            "bin_start": 0.9090909090909092,
            "bin_end": 0.9181818181818182,
            "count": 1
           },
           {
            "bin_start": 0.9181818181818182,
            "bin_end": 0.9272727272727274,
            "count": 0
           },
           {
            "bin_start": 0.9272727272727274,
            "bin_end": 0.9363636363636364,
            "count": 0
           },
           {
            "bin_start": 0.9363636363636364,
            "bin_end": 0.9454545454545455,
            "count": 0
           },
           {
            "bin_start": 0.9454545454545455,
            "bin_end": 0.9545454545454546,
            "count": 0
           },
           {
            "bin_start": 0.9545454545454546,
            "bin_end": 0.9636363636363636,
            "count": 0
           },
           {
            "bin_start": 0.9636363636363636,
            "bin_end": 0.9727272727272728,
            "count": 0
           },
           {
            "bin_start": 0.9727272727272728,
            "bin_end": 0.9818181818181818,
            "count": 0
           },
           {
            "bin_start": 0.9818181818181818,
            "bin_end": 0.990909090909091,
            "count": 0
           },
           {
            "bin_start": 0.990909090909091,
            "bin_end": 1,
            "count": 2
           }
          ]
         }
        },
        {
         "name": "mean-follower-followee false",
         "dtype": "float64",
         "stats": {
          "unique_count": 3,
          "nan_count": 0,
          "min": "0.8725388913610994",
          "max": "0.9050433223163246",
          "histogram": [
           {
            "bin_start": 0.8725388913610994,
            "bin_end": 0.8757893344566219,
            "count": 1
           },
           {
            "bin_start": 0.8757893344566219,
            "bin_end": 0.8790397775521445,
            "count": 0
           },
           {
            "bin_start": 0.8790397775521445,
            "bin_end": 0.8822902206476669,
            "count": 1
           },
           {
            "bin_start": 0.8822902206476669,
            "bin_end": 0.8855406637431895,
            "count": 0
           },
           {
            "bin_start": 0.8855406637431895,
            "bin_end": 0.888791106838712,
            "count": 0
           },
           {
            "bin_start": 0.888791106838712,
            "bin_end": 0.8920415499342345,
            "count": 0
           },
           {
            "bin_start": 0.8920415499342345,
            "bin_end": 0.895291993029757,
            "count": 0
           },
           {
            "bin_start": 0.895291993029757,
            "bin_end": 0.8985424361252795,
            "count": 0
           },
           {
            "bin_start": 0.8985424361252795,
            "bin_end": 0.9017928792208021,
            "count": 0
           },
           {
            "bin_start": 0.9017928792208021,
            "bin_end": 0.9050433223163246,
            "count": 1
           }
          ]
         }
        },
        {
         "name": "mean-follower-followee true",
         "dtype": "float64",
         "stats": {
          "unique_count": 3,
          "nan_count": 0,
          "min": "1.0066666666666666",
          "max": "1.181547619047619",
          "histogram": [
           {
            "bin_start": 1.0066666666666666,
            "bin_end": 1.0241547619047617,
            "count": 1
           },
           {
            "bin_start": 1.0241547619047617,
            "bin_end": 1.041642857142857,
            "count": 0
           },
           {
            "bin_start": 1.041642857142857,
            "bin_end": 1.0591309523809525,
            "count": 0
           },
           {
            "bin_start": 1.0591309523809525,
            "bin_end": 1.0766190476190476,
            "count": 0
           },
           {
            "bin_start": 1.0766190476190476,
            "bin_end": 1.0941071428571427,
            "count": 0
           },
           {
            "bin_start": 1.0941071428571427,
            "bin_end": 1.111595238095238,
            "count": 0
           },
           {
            "bin_start": 1.111595238095238,
            "bin_end": 1.1290833333333334,
            "count": 0
           },
           {
            "bin_start": 1.1290833333333334,
            "bin_end": 1.1465714285714286,
            "count": 1
           },
           {
            "bin_start": 1.1465714285714286,
            "bin_end": 1.1640595238095237,
            "count": 0
           },
           {
            "bin_start": 1.1640595238095237,
            "bin_end": 1.181547619047619,
            "count": 1
           }
          ]
         }
        },
        {
         "name": "mean-following true false",
         "dtype": "float64",
         "stats": {
          "unique_count": 3,
          "nan_count": 0,
          "min": "1.7636363636363637",
          "max": "1.808080808080808",
          "histogram": [
           {
            "bin_start": 1.7636363636363637,
            "bin_end": 1.7680808080808081,
            "count": 2
           },
           {
            "bin_start": 1.7680808080808081,
            "bin_end": 1.7725252525252526,
            "count": 0
           },
           {
            "bin_start": 1.7725252525252526,
            "bin_end": 1.7769696969696969,
            "count": 0
           },
           {
            "bin_start": 1.7769696969696969,
            "bin_end": 1.7814141414141413,
            "count": 0
           },
           {
            "bin_start": 1.7814141414141413,
            "bin_end": 1.7858585858585858,
            "count": 0
           },
           {
            "bin_start": 1.7858585858585858,
            "bin_end": 1.7903030303030303,
            "count": 0
           },
           {
            "bin_start": 1.7903030303030303,
            "bin_end": 1.7947474747474748,
            "count": 0
           },
           {
            "bin_start": 1.7947474747474748,
            "bin_end": 1.799191919191919,
            "count": 0
           },
           {
            "bin_start": 1.799191919191919,
            "bin_end": 1.8036363636363635,
            "count": 0
           },
           {
            "bin_start": 1.8036363636363635,
            "bin_end": 1.808080808080808,
            "count": 1
           }
          ]
         }
        },
        {
         "name": "mean-following true true",
         "dtype": "float64",
         "stats": {
          "unique_count": 3,
          "nan_count": 0,
          "min": "3.4",
          "max": "4.8",
          "histogram": [
           {
            "bin_start": 3.4,
            "bin_end": 3.54,
            "count": 1
           },
           {
            "bin_start": 3.54,
            "bin_end": 3.6799999999999997,
            "count": 0
           },
           {
            "bin_start": 3.6799999999999997,
            "bin_end": 3.82,
            "count": 0
           },
           {
            "bin_start": 3.82,
            "bin_end": 3.96,
            "count": 0
           },
           {
            "bin_start": 3.96,
            "bin_end": 4.1,
            "count": 1
           },
           {
            "bin_start": 4.1,
            "bin_end": 4.24,
            "count": 0
           },
           {
            "bin_start": 4.24,
            "bin_end": 4.38,
            "count": 0
           },
           {
            "bin_start": 4.38,
            "bin_end": 4.52,
            "count": 0
           },
           {
            "bin_start": 4.52,
            "bin_end": 4.66,
            "count": 0
           },
           {
            "bin_start": 4.66,
            "bin_end": 4.8,
            "count": 1
           }
          ]
         }
        },
        {
         "name": "mean-following false false",
         "dtype": "float64",
         "stats": {
          "unique_count": 3,
          "nan_count": 0,
          "min": "1.775757575757576",
          "max": "1.8101010101010104",
          "histogram": [
           {
            "bin_start": 1.775757575757576,
            "bin_end": 1.7791919191919194,
            "count": 2
           },
           {
            "bin_start": 1.7791919191919194,
            "bin_end": 1.782626262626263,
            "count": 0
           },
           {
            "bin_start": 1.782626262626263,
            "bin_end": 1.7860606060606063,
            "count": 0
           },
           {
            "bin_start": 1.7860606060606063,
            "bin_end": 1.78949494949495,
            "count": 0
           },
           {
            "bin_start": 1.78949494949495,
            "bin_end": 1.7929292929292933,
            "count": 0
           },
           {
            "bin_start": 1.7929292929292933,
            "bin_end": 1.7963636363636366,
            "count": 0
           },
           {
            "bin_start": 1.7963636363636366,
            "bin_end": 1.7997979797979802,
            "count": 0
           },
           {
            "bin_start": 1.7997979797979802,
            "bin_end": 1.8032323232323235,
            "count": 0
           },
           {
            "bin_start": 1.8032323232323235,
            "bin_end": 1.806666666666667,
            "count": 0
           },
           {
            "bin_start": 1.806666666666667,
            "bin_end": 1.8101010101010104,
            "count": 1
           }
          ]
         }
        },
        {
         "name": "mean-following false true",
         "dtype": "float64",
         "stats": {
          "unique_count": 3,
          "nan_count": 0,
          "min": "3.2",
          "max": "3.6",
          "histogram": [
           {
            "bin_start": 3.2,
            "bin_end": 3.24,
            "count": 1
           },
           {
            "bin_start": 3.24,
            "bin_end": 3.2800000000000002,
            "count": 1
           },
           {
            "bin_start": 3.2800000000000002,
            "bin_end": 3.3200000000000003,
            "count": 0
           },
           {
            "bin_start": 3.3200000000000003,
            "bin_end": 3.3600000000000003,
            "count": 0
           },
           {
            "bin_start": 3.3600000000000003,
            "bin_end": 3.4000000000000004,
            "count": 0
           },
           {
            "bin_start": 3.4000000000000004,
            "bin_end": 3.44,
            "count": 0
           },
           {
            "bin_start": 3.44,
            "bin_end": 3.48,
            "count": 0
           },
           {
            "bin_start": 3.48,
            "bin_end": 3.52,
            "count": 0
           },
           {
            "bin_start": 3.52,
            "bin_end": 3.56,
            "count": 0
           },
           {
            "bin_start": 3.56,
            "bin_end": 3.6,
            "count": 1
           }
          ]
         }
        },
        {
         "name": "mean-follow-prob true true",
         "dtype": "float64",
         "stats": {
          "unique_count": 3,
          "nan_count": 0,
          "min": "0.6366666666666667",
          "max": "0.7976190476190477",
          "histogram": [
           {
            "bin_start": 0.6366666666666667,
            "bin_end": 0.6527619047619048,
            "count": 1
           },
           {
            "bin_start": 0.6527619047619048,
            "bin_end": 0.6688571428571429,
            "count": 0
           },
           {
            "bin_start": 0.6688571428571429,
            "bin_end": 0.684952380952381,
            "count": 0
           },
           {
            "bin_start": 0.684952380952381,
            "bin_end": 0.7010476190476191,
            "count": 0
           },
           {
            "bin_start": 0.7010476190476191,
            "bin_end": 0.7171428571428572,
            "count": 0
           },
           {
            "bin_start": 0.7171428571428572,
            "bin_end": 0.7332380952380952,
            "count": 0
           },
           {
            "bin_start": 0.7332380952380952,
            "bin_end": 0.7493333333333334,
            "count": 0
           },
           {
            "bin_start": 0.7493333333333334,
            "bin_end": 0.7654285714285715,
            "count": 0
           },
           {
            "bin_start": 0.7654285714285715,
            "bin_end": 0.7815238095238096,
            "count": 1
           },
           {
            "bin_start": 0.7815238095238096,
            "bin_end": 0.7976190476190477,
            "count": 1
           }
          ]
         }
        },
        {
         "name": "mean-follow-prob false false",
         "dtype": "float64",
         "stats": {
          "unique_count": 3,
          "nan_count": 0,
          "min": "0.9766260162601628",
          "max": "0.985858585858586",
          "histogram": [
           {
            "bin_start": 0.9766260162601628,
            "bin_end": 0.9775492732200051,
            "count": 1
           },
           {
            "bin_start": 0.9775492732200051,
            "bin_end": 0.9784725301798474,
            "count": 1
           },
           {
            "bin_start": 0.9784725301798474,
            "bin_end": 0.9793957871396898,
            "count": 0
           },
           {
            "bin_start": 0.9793957871396898,
            "bin_end": 0.9803190440995321,
            "count": 0
           },
           {
            "bin_start": 0.9803190440995321,
            "bin_end": 0.9812423010593744,
            "count": 0
           },
           {
            "bin_start": 0.9812423010593744,
            "bin_end": 0.9821655580192167,
            "count": 0
           },
           {
            "bin_start": 0.9821655580192167,
            "bin_end": 0.983088814979059,
            "count": 0
           },
           {
            "bin_start": 0.983088814979059,
            "bin_end": 0.9840120719389014,
            "count": 0
           },
           {
            "bin_start": 0.9840120719389014,
            "bin_end": 0.9849353288987437,
            "count": 0
           },
           {
            "bin_start": 0.9849353288987437,
            "bin_end": 0.985858585858586,
            "count": 1
           }
          ]
         }
        },
        {
         "name": "connections-percents true false",
         "dtype": "float64",
         "stats": {
          "unique_count": 3,
          "nan_count": 0,
          "min": "0.006578947368421",
          "max": "0.007803790412486",
          "histogram": [
           {
            "bin_start": 0.006578947368421,
            "bin_end": 0.0067014316728275,
            "count": 2
           },
           {
            "bin_start": 0.0067014316728275,
            "bin_end": 0.006823915977234,
            "count": 0
           },
           {
            "bin_start": 0.006823915977234,
            "bin_end": 0.0069464002816405,
            "count": 0
           },
           {
            "bin_start": 0.0069464002816405,
            "bin_end": 0.007068884586047,
            "count": 0
           },
           {
            "bin_start": 0.007068884586047,
            "bin_end": 0.0071913688904535,
            "count": 0
           },
           {
            "bin_start": 0.0071913688904535,
            "bin_end": 0.00731385319486,
            "count": 0
           },
           {
            "bin_start": 0.00731385319486,
            "bin_end": 0.0074363374992665,
            "count": 0
           },
           {
            "bin_start": 0.0074363374992665,
            "bin_end": 0.007558821803673,
            "count": 0
           },
           {
            "bin_start": 0.007558821803673,
            "bin_end": 0.0076813061080795,
            "count": 0
           },
           {
            "bin_start": 0.0076813061080795,
            "bin_end": 0.007803790412486,
            "count": 1
           }
          ]
         }
        },
        {
         "name": "connections-percents false true",
         "dtype": "float64",
         "stats": {
          "unique_count": 3,
          "nan_count": 0,
          "min": "0.0076754385964912",
          "max": "0.0144927536231884",
          "histogram": [
           {
            "bin_start": 0.0076754385964912,
            "bin_end": 0.00835717009916092,
            "count": 1
           },
           {
            "bin_start": 0.00835717009916092,
            "bin_end": 0.00903890160183064,
            "count": 0
           },
           {
            "bin_start": 0.00903890160183064,
            "bin_end": 0.009720633104500359,
            "count": 0
           },
           {
            "bin_start": 0.009720633104500359,
            "bin_end": 0.01040236460717008,
            "count": 0
           },
           {
            "bin_start": 0.01040236460717008,
            "bin_end": 0.0110840961098398,
            "count": 0
           },
           {
            "bin_start": 0.0110840961098398,
            "bin_end": 0.01176582761250952,
            "count": 0
           },
           {
            "bin_start": 0.01176582761250952,
            "bin_end": 0.012447559115179242,
            "count": 0
           },
           {
            "bin_start": 0.012447559115179242,
            "bin_end": 0.013129290617848961,
            "count": 0
           },
           {
            "bin_start": 0.013129290617848961,
            "bin_end": 0.013811022120518681,
            "count": 1
           },
           {
            "bin_start": 0.013811022120518681,
            "bin_end": 0.0144927536231884,
            "count": 1
           }
          ]
         }
        },
        {
         "name": "percents-persons-with-degree false true 0",
         "dtype": "float64",
         "stats": {
          "unique_count": 3,
          "nan_count": 0,
          "min": "0.1373737373737373",
          "max": "0.1838383838383838",
          "histogram": [
           {
            "bin_start": 0.1373737373737373,
            "bin_end": 0.14202020202020194,
            "count": 1
           },
           {
            "bin_start": 0.14202020202020194,
            "bin_end": 0.14666666666666658,
            "count": 0
           },
           {
            "bin_start": 0.14666666666666658,
            "bin_end": 0.15131313131313123,
            "count": 0
           },
           {
            "bin_start": 0.15131313131313123,
            "bin_end": 0.15595959595959588,
            "count": 0
           },
           {
            "bin_start": 0.15595959595959588,
            "bin_end": 0.16060606060606053,
            "count": 1
           },
           {
            "bin_start": 0.16060606060606053,
            "bin_end": 0.1652525252525252,
            "count": 0
           },
           {
            "bin_start": 0.1652525252525252,
            "bin_end": 0.16989898989898986,
            "count": 0
           },
           {
            "bin_start": 0.16989898989898986,
            "bin_end": 0.1745454545454545,
            "count": 0
           },
           {
            "bin_start": 0.1745454545454545,
            "bin_end": 0.17919191919191915,
            "count": 0
           },
           {
            "bin_start": 0.17919191919191915,
            "bin_end": 0.1838383838383838,
            "count": 1
           }
          ]
         }
        },
        {
         "name": "percents-persons-with-degree false true 1",
         "dtype": "float64",
         "stats": {
          "unique_count": 3,
          "nan_count": 0,
          "min": "0.5111111111111111",
          "max": "0.5711382113821138",
          "histogram": [
           {
            "bin_start": 0.5111111111111111,
            "bin_end": 0.5171138211382114,
            "count": 1
           },
           {
            "bin_start": 0.5171138211382114,
            "bin_end": 0.5231165311653116,
            "count": 0
           },
           {
            "bin_start": 0.5231165311653116,
            "bin_end": 0.5291192411924119,
            "count": 0
           },
           {
            "bin_start": 0.5291192411924119,
            "bin_end": 0.5351219512195122,
            "count": 0
           },
           {
            "bin_start": 0.5351219512195122,
            "bin_end": 0.5411246612466125,
            "count": 0
           },
           {
            "bin_start": 0.5411246612466125,
            "bin_end": 0.5471273712737127,
            "count": 0
           },
           {
            "bin_start": 0.5471273712737127,
            "bin_end": 0.553130081300813,
            "count": 0
           },
           {
            "bin_start": 0.553130081300813,
            "bin_end": 0.5591327913279133,
            "count": 1
           },
           {
            "bin_start": 0.5591327913279133,
            "bin_end": 0.5651355013550136,
            "count": 0
           },
           {
            "bin_start": 0.5651355013550136,
            "bin_end": 0.5711382113821138,
            "count": 1
           }
          ]
         }
        },
        {
         "name": "percents-persons-with-degree true true 0",
         "dtype": "float64",
         "stats": {
          "unique_count": 1,
          "nan_count": 0,
          "min": "0.0",
          "max": "0.0",
          "histogram": [
           {
            "bin_start": -0.5,
            "bin_end": -0.4,
            "count": 0
           },
           {
            "bin_start": -0.4,
            "bin_end": -0.3,
            "count": 0
           },
           {
            "bin_start": -0.3,
            "bin_end": -0.19999999999999996,
            "count": 0
           },
           {
            "bin_start": -0.19999999999999996,
            "bin_end": -0.09999999999999998,
            "count": 0
           },
           {
            "bin_start": -0.09999999999999998,
            "bin_end": 0,
            "count": 0
           },
           {
            "bin_start": 0,
            "bin_end": 0.10000000000000009,
            "count": 3
           },
           {
            "bin_start": 0.10000000000000009,
            "bin_end": 0.20000000000000007,
            "count": 0
           },
           {
            "bin_start": 0.20000000000000007,
            "bin_end": 0.30000000000000004,
            "count": 0
           },
           {
            "bin_start": 0.30000000000000004,
            "bin_end": 0.4,
            "count": 0
           },
           {
            "bin_start": 0.4,
            "bin_end": 0.5,
            "count": 0
           }
          ]
         }
        },
        {
         "name": "percents-persons-with-degree true true 1",
         "dtype": "float64",
         "stats": {
          "unique_count": 2,
          "nan_count": 0,
          "min": "0.125",
          "max": "0.2",
          "histogram": [
           {
            "bin_start": 0.125,
            "bin_end": 0.1325,
            "count": 1
           },
           {
            "bin_start": 0.1325,
            "bin_end": 0.14,
            "count": 0
           },
           {
            "bin_start": 0.14,
            "bin_end": 0.14750000000000002,
            "count": 0
           },
           {
            "bin_start": 0.14750000000000002,
            "bin_end": 0.155,
            "count": 0
           },
           {
            "bin_start": 0.155,
            "bin_end": 0.1625,
            "count": 0
           },
           {
            "bin_start": 0.1625,
            "bin_end": 0.17,
            "count": 0
           },
           {
            "bin_start": 0.17,
            "bin_end": 0.17750000000000002,
            "count": 0
           },
           {
            "bin_start": 0.17750000000000002,
            "bin_end": 0.185,
            "count": 0
           },
           {
            "bin_start": 0.185,
            "bin_end": 0.1925,
            "count": 0
           },
           {
            "bin_start": 0.1925,
            "bin_end": 0.2,
            "count": 2
           }
          ]
         }
        },
        {
         "name": "percents-hateful-persons",
         "dtype": "float64",
         "stats": {
          "unique_count": 2,
          "nan_count": 0,
          "min": "1.0",
          "max": "1.6",
          "histogram": [
           {
            "bin_start": 1,
            "bin_end": 1.06,
            "count": 2
           },
           {
            "bin_start": 1.06,
            "bin_end": 1.12,
            "count": 0
           },
           {
            "bin_start": 1.12,
            "bin_end": 1.1800000000000002,
            "count": 0
           },
           {
            "bin_start": 1.1800000000000002,
            "bin_end": 1.24,
            "count": 0
           },
           {
            "bin_start": 1.24,
            "bin_end": 1.3,
            "count": 0
           },
           {
            "bin_start": 1.3,
            "bin_end": 1.36,
            "count": 0
           },
           {
            "bin_start": 1.36,
            "bin_end": 1.4200000000000002,
            "count": 0
           },
           {
            "bin_start": 1.4200000000000002,
            "bin_end": 1.48,
            "count": 0
           },
           {
            "bin_start": 1.48,
            "bin_end": 1.54,
            "count": 0
           },
           {
            "bin_start": 1.54,
            "bin_end": 1.6,
            "count": 1
           }
          ]
         }
        },
        {
         "name": "_deepnote_index_column",
         "dtype": "int64"
        }
       ],
       "rows_top": [
        {
         "[run number]": 1,
         "[step]": 501,
         "swap-to-hate": "False",
         "max-out-degree false": 51,
         "max-out-degree true": 7,
         "connection-density false": 0.0072710914816177,
         "connection-density true": 1,
         "reciprocal-connections-percents false": 0.904386951631046,
         "reciprocal-connections-percents true": 1,
         "mean-follower-followee false": 0.9050433223163246,
         "mean-follower-followee true": 1.0066666666666666,
         "mean-following true false": 1.808080808080808,
         "mean-following true true": 3.4,
         "mean-following false false": 1.8101010101010104,
         "mean-following false true": 3.2,
         "mean-follow-prob true true": 0.6366666666666667,
         "mean-follow-prob false false": 0.985858585858586,
         "connections-percents true false": 0.006578947368421,
         "connections-percents false true": 0.0076754385964912,
         "percents-persons-with-degree false true 0": 0.1373737373737373,
         "percents-persons-with-degree false true 1": 0.5535353535353535,
         "percents-persons-with-degree true true 0": 0,
         "percents-persons-with-degree true true 1": 0.2,
         "percents-hateful-persons": 1,
         "_deepnote_index_column": 0
        },
        {
         "[run number]": 7,
         "[step]": 501,
         "swap-to-hate": "False",
         "max-out-degree false": 64,
         "max-out-degree true": 12,
         "connection-density false": 0.0070829755040281,
         "connection-density true": 1.1,
         "reciprocal-connections-percents false": 0.8891454965357968,
         "reciprocal-connections-percents true": 0.9090909090909092,
         "mean-follower-followee false": 0.8791326330861212,
         "mean-follower-followee true": 1.1333333333333333,
         "mean-following true false": 1.7636363636363637,
         "mean-following true true": 4.8,
         "mean-following false false": 1.775757575757576,
         "mean-following false true": 3.6,
         "mean-follow-prob true true": 0.7666666666666667,
         "mean-follow-prob false false": 0.9777104377104378,
         "connections-percents true false": 0.007803790412486,
         "connections-percents false true": 0.0144927536231884,
         "percents-persons-with-degree false true 0": 0.1838383838383838,
         "percents-persons-with-degree false true 1": 0.5111111111111111,
         "percents-persons-with-degree true true 0": 0,
         "percents-persons-with-degree true true 1": 0.2,
         "percents-hateful-persons": 1,
         "_deepnote_index_column": 1
        },
        {
         "[run number]": 2,
         "[step]": 501,
         "swap-to-hate": "False",
         "max-out-degree false": 55,
         "max-out-degree true": 10,
         "connection-density false": 0.00714486778269,
         "connection-density true": 0.7142857142857143,
         "reciprocal-connections-percents false": 0.8899188876013905,
         "reciprocal-connections-percents true": 1,
         "mean-follower-followee false": 0.8725388913610994,
         "mean-follower-followee true": 1.181547619047619,
         "mean-following true false": 1.766260162601626,
         "mean-following true true": 4,
         "mean-following false false": 1.7784552845528456,
         "mean-following false true": 3.25,
         "mean-follow-prob true true": 0.7976190476190477,
         "mean-follow-prob false false": 0.9766260162601628,
         "connections-percents true false": 0.0066592674805771,
         "connections-percents false true": 0.0133185349611542,
         "percents-persons-with-degree false true 0": 0.1605691056910569,
         "percents-persons-with-degree false true 1": 0.5711382113821138,
         "percents-persons-with-degree true true 0": 0,
         "percents-persons-with-degree true true 1": 0.125,
         "percents-hateful-persons": 1.6,
         "_deepnote_index_column": 2
        }
       ],
       "rows_bottom": null
      },
      "text/plain": "   [run number]  [step]  swap-to-hate  max-out-degree false  \\\n0             1     501         False                    51   \n1             7     501         False                    64   \n2             2     501         False                    55   \n\n   max-out-degree true  connection-density false  connection-density true  \\\n0                    7                  0.007271                 1.000000   \n1                   12                  0.007083                 1.100000   \n2                   10                  0.007145                 0.714286   \n\n   reciprocal-connections-percents false  \\\n0                               0.904387   \n1                               0.889145   \n2                               0.889919   \n\n   reciprocal-connections-percents true  mean-follower-followee false  ...  \\\n0                              1.000000                      0.905043  ...   \n1                              0.909091                      0.879133  ...   \n2                              1.000000                      0.872539  ...   \n\n   mean-following false true  mean-follow-prob true true  \\\n0                       3.20                    0.636667   \n1                       3.60                    0.766667   \n2                       3.25                    0.797619   \n\n   mean-follow-prob false false  connections-percents true false  \\\n0                      0.985859                         0.006579   \n1                      0.977710                         0.007804   \n2                      0.976626                         0.006659   \n\n   connections-percents false true  percents-persons-with-degree false true 0  \\\n0                         0.007675                                   0.137374   \n1                         0.014493                                   0.183838   \n2                         0.013319                                   0.160569   \n\n   percents-persons-with-degree false true 1  \\\n0                                   0.553535   \n1                                   0.511111   \n2                                   0.571138   \n\n   percents-persons-with-degree true true 0  \\\n0                                       0.0   \n1                                       0.0   \n2                                       0.0   \n\n   percents-persons-with-degree true true 1  percents-hateful-persons  \n0                                     0.200                       1.0  \n1                                     0.200                       1.0  \n2                                     0.125                       1.6  \n\n[3 rows x 24 columns]",
      "text/html": "<div>\n<style scoped>\n    .dataframe tbody tr th:only-of-type {\n        vertical-align: middle;\n    }\n\n    .dataframe tbody tr th {\n        vertical-align: top;\n    }\n\n    .dataframe thead th {\n        text-align: right;\n    }\n</style>\n<table border=\"1\" class=\"dataframe\">\n  <thead>\n    <tr style=\"text-align: right;\">\n      <th></th>\n      <th>[run number]</th>\n      <th>[step]</th>\n      <th>swap-to-hate</th>\n      <th>max-out-degree false</th>\n      <th>max-out-degree true</th>\n      <th>connection-density false</th>\n      <th>connection-density true</th>\n      <th>reciprocal-connections-percents false</th>\n      <th>reciprocal-connections-percents true</th>\n      <th>mean-follower-followee false</th>\n      <th>...</th>\n      <th>mean-following false true</th>\n      <th>mean-follow-prob true true</th>\n      <th>mean-follow-prob false false</th>\n      <th>connections-percents true false</th>\n      <th>connections-percents false true</th>\n      <th>percents-persons-with-degree false true 0</th>\n      <th>percents-persons-with-degree false true 1</th>\n      <th>percents-persons-with-degree true true 0</th>\n      <th>percents-persons-with-degree true true 1</th>\n      <th>percents-hateful-persons</th>\n    </tr>\n  </thead>\n  <tbody>\n    <tr>\n      <th>0</th>\n      <td>1</td>\n      <td>501</td>\n      <td>False</td>\n      <td>51</td>\n      <td>7</td>\n      <td>0.007271</td>\n      <td>1.000000</td>\n      <td>0.904387</td>\n      <td>1.000000</td>\n      <td>0.905043</td>\n      <td>...</td>\n      <td>3.20</td>\n      <td>0.636667</td>\n      <td>0.985859</td>\n      <td>0.006579</td>\n      <td>0.007675</td>\n      <td>0.137374</td>\n      <td>0.553535</td>\n      <td>0.0</td>\n      <td>0.200</td>\n      <td>1.0</td>\n    </tr>\n    <tr>\n      <th>1</th>\n      <td>7</td>\n      <td>501</td>\n      <td>False</td>\n      <td>64</td>\n      <td>12</td>\n      <td>0.007083</td>\n      <td>1.100000</td>\n      <td>0.889145</td>\n      <td>0.909091</td>\n      <td>0.879133</td>\n      <td>...</td>\n      <td>3.60</td>\n      <td>0.766667</td>\n      <td>0.977710</td>\n      <td>0.007804</td>\n      <td>0.014493</td>\n      <td>0.183838</td>\n      <td>0.511111</td>\n      <td>0.0</td>\n      <td>0.200</td>\n      <td>1.0</td>\n    </tr>\n    <tr>\n      <th>2</th>\n      <td>2</td>\n      <td>501</td>\n      <td>False</td>\n      <td>55</td>\n      <td>10</td>\n      <td>0.007145</td>\n      <td>0.714286</td>\n      <td>0.889919</td>\n      <td>1.000000</td>\n      <td>0.872539</td>\n      <td>...</td>\n      <td>3.25</td>\n      <td>0.797619</td>\n      <td>0.976626</td>\n      <td>0.006659</td>\n      <td>0.013319</td>\n      <td>0.160569</td>\n      <td>0.571138</td>\n      <td>0.0</td>\n      <td>0.125</td>\n      <td>1.6</td>\n    </tr>\n  </tbody>\n</table>\n<p>3 rows × 24 columns</p>\n</div>"
     },
     "metadata": {}
    }
   ]
  },
  {
   "cell_type": "code",
   "metadata": {
    "collapsed": false,
    "pycharm": {
     "name": "#%%\n"
    },
    "cell_id": "00004-8c5e1539-1b86-4dea-b4a7-7c14c36834a6",
    "deepnote_to_be_reexecuted": false,
    "source_hash": "7c1c424a",
    "execution_start": 1636144340185,
    "execution_millis": 5,
    "deepnote_cell_type": "code"
   },
   "source": "# Compute ratio of connection densities\ndf['density'] = df['connection-density true'] / df['connection-density false']\n\n# Compute ratio of NH / HN edges\ndf['connections'] = df['connections-percents false true'] / df['connections-percents true false']\n\n# Compute ratio of max out-degrees\ndf['ratio-max-out-degrees'] = df['max-out-degree false'] / df['max-out-degree true']",
   "execution_count": 5,
   "outputs": []
  },
  {
   "cell_type": "code",
   "metadata": {
    "collapsed": false,
    "pycharm": {
     "name": "#%%\n"
    },
    "cell_id": "00005-5d3e1205-3f48-4daf-89f9-541d18699f72",
    "deepnote_to_be_reexecuted": false,
    "source_hash": "1cf5714",
    "execution_start": 1636144340234,
    "execution_millis": 1,
    "deepnote_cell_type": "code"
   },
   "source": "# Aggregate statistics\nprint(\"Ratio density\", df['density'].mean())\nprint(\"Ratio edges NH/HN\", df[df['connections'] < 10000].connections.mean())\nprint(\"Reciprocity of normals\", df['reciprocal-connections-percents false'].mean())\nprint(\"Reciprocity of haters\", df['reciprocal-connections-percents true'].mean())\nprint(\"Mean follower/followee of normals\", df['mean-follower-followee false'].mean())\nprint(\"Mean follower/followee of haters\", df['mean-follower-followee true'].mean())\nprint(\"Mean followers of normals\", df['mean-following true false'].mean())\nprint(\"Mean followers of haters\", df['mean-following true true'].mean())\nprint(\"Mean followees of normals\", df['mean-following false false'].mean())\nprint(\"Mean followees of haters\", df['mean-following false true'].mean())\n# print(\"Mean following probabilities of hater to normal\", df['mean-follow-prob true false'].mean())\nprint(\"Mean following probabilities of hater to hater\", df['mean-follow-prob true true'].mean())\nprint(\"Mean following probabilities of normal to normal\", df['mean-follow-prob false false'].mean())\n# print(\"Mean following probabilities of normal to hater\", df['mean-follow-prob false true'].mean())\nprint(\"Ratio max. out-degree\", df['ratio-max-out-degrees'].mean())\n# print(\"Max out degree of normals\", df['max-out-degree false'].mean())\n# print(\"Max out degree of haters\", df['max-out-degree true'].mean())\nprint(\"Percents of normals with out-degree=0\", df['percents-persons-with-degree false true 0'].mean())\nprint(\"Percents of normals with out-degree=1\", df['percents-persons-with-degree false true 1'].mean())\nprint(\"Percents of haters with out-degree=0\", df['percents-persons-with-degree true true 0'].mean())\nprint(\"Percents of haters with out-degree=1\", df['percents-persons-with-degree true true 1'].mean())\nprint(\"Percents of haters\", df['percents-hateful-persons'].mean())",
   "execution_count": 6,
   "outputs": [
    {
     "name": "stdout",
     "text": "Ratio density 109.42243091883222\nRatio edges NH/HN 1.3013214285714332\nReciprocity of normals 0.8881194385605232\nReciprocity of haters 0.7775730883334926\nMean follower/followee of normals 0.88620137264982\nMean follower/followee of haters 0.988139411976912\nMean followers of normals 1.780536996551044\nMean followers of haters 3.0713971861471867\nMean followees of normals 1.7847808685480573\nMean followees of haters 2.85080772005772\nMean following probabilities of hater to hater 0.555696960248746\nMean following probabilities of normal to normal 0.9871262142031588\nRatio max. out-degree 11.86941673222108\nPercents of normals with out-degree=0 0.1674813819450061\nPercents of normals with out-degree=1 0.5399685572790663\nPercents of haters with out-degree=0 0.13016666666666665\nPercents of haters with out-degree=1 0.18953210678210677\nPercents of haters 0.968\n",
     "output_type": "stream"
    }
   ]
  },
  {
   "cell_type": "markdown",
   "source": "<a style='text-decoration:none;line-height:16px;display:flex;color:#5B5B62;padding:10px;justify-content:end;' href='https://deepnote.com?utm_source=created-in-deepnote-cell&projectId=76a22323-d43c-4823-9752-036f6744cf38' target=\"_blank\">\n<img alt='Created in deepnote.com' style='display:inline;max-height:16px;margin:0px;margin-right:7.5px;' src='data:image/svg+xml;base64,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' > </img>\nCreated in <span style='font-weight:600;margin-left:4px;'>Deepnote</span></a>",
   "metadata": {
    "tags": [],
    "created_in_deepnote_cell": true,
    "deepnote_cell_type": "markdown"
   }
  }
 ],
 "nbformat": 4,
 "nbformat_minor": 2,
 "metadata": {
  "kernelspec": {
   "name": "pycharm-19907461",
   "language": "python",
   "display_name": "PyCharm (thesis)"
  },
  "language_info": {
   "codemirror_mode": {
    "name": "ipython",
    "version": 3
   },
   "file_extension": ".py",
   "mimetype": "text/x-python",
   "name": "python",
   "nbconvert_exporter": "python",
   "pygments_lexer": "ipython3",
   "version": "3.8.3"
  },
  "deepnote_notebook_id": "b26f64a7-c9d1-42d3-bf27-d70fe70dc698",
  "deepnote": {},
  "deepnote_execution_queue": []
 }
}