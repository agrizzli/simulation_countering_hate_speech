{
 "cells": [
  {
   "cell_type": "code",
   "metadata": {
    "cell_id": "00000-5659e1c2-9b11-40a3-be25-9918e582199c",
    "deepnote_to_be_reexecuted": false,
    "source_hash": "456c4e13",
    "execution_start": 1636144451933,
    "execution_millis": 767,
    "deepnote_cell_type": "code"
   },
   "source": "import numpy as np\nimport pandas as pd\nimport seaborn as sns",
   "execution_count": 1,
   "outputs": []
  },
  {
   "cell_type": "code",
   "metadata": {
    "cell_id": "00001-d50d413e-73e9-42c1-8dac-9edbd1986215",
    "deepnote_to_be_reexecuted": false,
    "source_hash": "697204c5",
    "execution_start": 1636144452714,
    "execution_millis": 17,
    "deepnote_cell_type": "code"
   },
   "source": "f_name = 'evaluation_csv/network_growth high_hater_follow_probs_and_normal_reposts_hater-->num_haters-table_rectangle.csv'\n# f_name = 'evaluation_csv/network_growth high_hater_follow_probs_and_normal_reposts_hater-->num_haters-table_triangle.csv'\n# f_name = 'evaluation_csv/network_growth normal_reposts_hater_0_1000-table.csv'\n\ndf_raw = pd.read_csv(f_name, skiprows=6)\ndf = df_raw[[\n    '[run number]',\n    '[step]',\n    'p_normal_reposts_hater',\n    'hateful-node-percents',\n    'plot-smoothed-mean-path-length true',\n    'plot-smoothed-num-posts true',\n    # 'percents-hateful-persons',\n    # 'percents-hateful-posts',\n    # 'mean-path-length true',\n    'swap-to-hate',\n]]\ndf = df.sort_values(by=[\n    '[run number]',\n    '[step]',\n    'p_normal_reposts_hater',\n])",
   "execution_count": 2,
   "outputs": []
  },
  {
   "cell_type": "code",
   "metadata": {
    "cell_id": "00002-b8475103-3117-4b77-b217-6fc1b99f4ffb",
    "deepnote_to_be_reexecuted": false,
    "source_hash": "786d0f53",
    "execution_start": 1636144452764,
    "execution_millis": 29,
    "deepnote_cell_type": "code"
   },
   "source": "df.dtypes\ndf.info()",
   "execution_count": 3,
   "outputs": [
    {
     "name": "stdout",
     "text": "<class 'pandas.core.frame.DataFrame'>\nInt64Index: 1250 entries, 8 to 1247\nData columns (total 7 columns):\n #   Column                               Non-Null Count  Dtype  \n---  ------                               --------------  -----  \n 0   [run number]                         1250 non-null   int64  \n 1   [step]                               1250 non-null   int64  \n 2   p_normal_reposts_hater               1250 non-null   float64\n 3   hateful-node-percents                1250 non-null   float64\n 4   plot-smoothed-mean-path-length true  1250 non-null   float64\n 5   plot-smoothed-num-posts true         1250 non-null   float64\n 6   swap-to-hate                         1250 non-null   bool   \ndtypes: bool(1), float64(4), int64(2)\nmemory usage: 69.6 KB\n",
     "output_type": "stream"
    }
   ]
  },
  {
   "cell_type": "code",
   "metadata": {
    "cell_id": "00003-271dcdd2-4fe1-47c3-87b2-6fcc2e75bf9d",
    "deepnote_to_be_reexecuted": false,
    "source_hash": "68902f3e",
    "execution_start": 1636144452797,
    "execution_millis": 61,
    "deepnote_cell_type": "code"
   },
   "source": "# pd.options.display.max_rows = 100\ndf",
   "execution_count": 4,
   "outputs": [
    {
     "output_type": "execute_result",
     "execution_count": 4,
     "data": {
      "application/vnd.deepnote.dataframe.v2+json": {
       "row_count": 1250,
       "column_count": 7,
       "columns": [
        {
         "name": "[run number]",
         "dtype": "int64",
         "stats": {
          "unique_count": 1250,
          "nan_count": 0,
          "min": "1",
          "max": "1250",
          "histogram": [
           {
            "bin_start": 1,
            "bin_end": 125.9,
            "count": 125
           },
           {
            "bin_start": 125.9,
            "bin_end": 250.8,
            "count": 125
           },
           {
            "bin_start": 250.8,
            "bin_end": 375.70000000000005,
            "count": 125
           },
           {
            "bin_start": 375.70000000000005,
            "bin_end": 500.6,
            "count": 125
           },
           {
            "bin_start": 500.6,
            "bin_end": 625.5,
            "count": 125
           },
           {
            "bin_start": 625.5,
            "bin_end": 750.4000000000001,
            "count": 125
           },
           {
            "bin_start": 750.4000000000001,
            "bin_end": 875.3000000000001,
            "count": 125
           },
           {
            "bin_start": 875.3000000000001,
            "bin_end": 1000.2,
            "count": 125
           },
           {
            "bin_start": 1000.2,
            "bin_end": 1125.1000000000001,
            "count": 125
           },
           {
            "bin_start": 1125.1000000000001,
            "bin_end": 1250,
            "count": 125
           }
          ]
         }
        },
        {
         "name": "[step]",
         "dtype": "int64",
         "stats": {
          "unique_count": 1,
          "nan_count": 0,
          "min": "1001",
          "max": "1001",
          "histogram": [
           {
            "bin_start": 1000.5,
            "bin_end": 1000.6,
            "count": 0
           },
           {
            "bin_start": 1000.6,
            "bin_end": 1000.7,
            "count": 0
           },
           {
            "bin_start": 1000.7,
            "bin_end": 1000.8,
            "count": 0
           },
           {
            "bin_start": 1000.8,
            "bin_end": 1000.9,
            "count": 0
           },
           {
            "bin_start": 1000.9,
            "bin_end": 1001,
            "count": 0
           },
           {
            "bin_start": 1001,
            "bin_end": 1001.1,
            "count": 1250
           },
           {
            "bin_start": 1001.1,
            "bin_end": 1001.2,
            "count": 0
           },
           {
            "bin_start": 1001.2,
            "bin_end": 1001.3,
            "count": 0
           },
           {
            "bin_start": 1001.3,
            "bin_end": 1001.4,
            "count": 0
           },
           {
            "bin_start": 1001.4,
            "bin_end": 1001.5,
            "count": 0
           }
          ]
         }
        },
        {
         "name": "p_normal_reposts_hater",
         "dtype": "float64",
         "stats": {
          "unique_count": 25,
          "nan_count": 0,
          "min": "0.01",
          "max": "0.49",
          "histogram": [
           {
            "bin_start": 0.01,
            "bin_end": 0.058,
            "count": 150
           },
           {
            "bin_start": 0.058,
            "bin_end": 0.106,
            "count": 100
           },
           {
            "bin_start": 0.106,
            "bin_end": 0.15400000000000003,
            "count": 150
           },
           {
            "bin_start": 0.15400000000000003,
            "bin_end": 0.202,
            "count": 100
           },
           {
            "bin_start": 0.202,
            "bin_end": 0.25,
            "count": 100
           },
           {
            "bin_start": 0.25,
            "bin_end": 0.29800000000000004,
            "count": 150
           },
           {
            "bin_start": 0.29800000000000004,
            "bin_end": 0.34600000000000003,
            "count": 100
           },
           {
            "bin_start": 0.34600000000000003,
            "bin_end": 0.394,
            "count": 150
           },
           {
            "bin_start": 0.394,
            "bin_end": 0.442,
            "count": 100
           },
           {
            "bin_start": 0.442,
            "bin_end": 0.49,
            "count": 150
           }
          ]
         }
        },
        {
         "name": "hateful-node-percents",
         "dtype": "float64",
         "stats": {
          "unique_count": 145,
          "nan_count": 0,
          "min": "0.5",
          "max": "16.3",
          "histogram": [
           {
            "bin_start": 0.5,
            "bin_end": 2.08,
            "count": 12
           },
           {
            "bin_start": 2.08,
            "bin_end": 3.66,
            "count": 48
           },
           {
            "bin_start": 3.66,
            "bin_end": 5.24,
            "count": 80
           },
           {
            "bin_start": 5.24,
            "bin_end": 6.82,
            "count": 73
           },
           {
            "bin_start": 6.82,
            "bin_end": 8.4,
            "count": 53
           },
           {
            "bin_start": 8.4,
            "bin_end": 9.98,
            "count": 99
           },
           {
            "bin_start": 9.98,
            "bin_end": 11.56,
            "count": 204
           },
           {
            "bin_start": 11.56,
            "bin_end": 13.14,
            "count": 402
           },
           {
            "bin_start": 13.14,
            "bin_end": 14.72,
            "count": 241
           },
           {
            "bin_start": 14.72,
            "bin_end": 16.3,
            "count": 38
           }
          ]
         }
        },
        {
         "name": "plot-smoothed-mean-path-length true",
         "dtype": "float64",
         "stats": {
          "unique_count": 1238,
          "nan_count": 0,
          "min": "0.0",
          "max": "0.0459263657957245",
          "histogram": [
           {
            "bin_start": 0,
            "bin_end": 0.00459263657957245,
            "count": 1
           },
           {
            "bin_start": 0.00459263657957245,
            "bin_end": 0.0091852731591449,
            "count": 6
           },
           {
            "bin_start": 0.0091852731591449,
            "bin_end": 0.013777909738717349,
            "count": 117
           },
           {
            "bin_start": 0.013777909738717349,
            "bin_end": 0.0183705463182898,
            "count": 326
           },
           {
            "bin_start": 0.0183705463182898,
            "bin_end": 0.02296318289786225,
            "count": 203
           },
           {
            "bin_start": 0.02296318289786225,
            "bin_end": 0.027555819477434698,
            "count": 159
           },
           {
            "bin_start": 0.027555819477434698,
            "bin_end": 0.03214845605700715,
            "count": 158
           },
           {
            "bin_start": 0.03214845605700715,
            "bin_end": 0.0367410926365796,
            "count": 138
           },
           {
            "bin_start": 0.0367410926365796,
            "bin_end": 0.04133372921615205,
            "count": 112
           },
           {
            "bin_start": 0.04133372921615205,
            "bin_end": 0.0459263657957245,
            "count": 30
           }
          ]
         }
        },
        {
         "name": "plot-smoothed-num-posts true",
         "dtype": "float64",
         "stats": {
          "unique_count": 913,
          "nan_count": 0,
          "min": "0.05",
          "max": "49.770000000000046",
          "histogram": [
           {
            "bin_start": 0.05,
            "bin_end": 5.022000000000005,
            "count": 507
           },
           {
            "bin_start": 5.022000000000005,
            "bin_end": 9.99400000000001,
            "count": 303
           },
           {
            "bin_start": 9.99400000000001,
            "bin_end": 14.966000000000015,
            "count": 168
           },
           {
            "bin_start": 14.966000000000015,
            "bin_end": 19.93800000000002,
            "count": 102
           },
           {
            "bin_start": 19.93800000000002,
            "bin_end": 24.910000000000025,
            "count": 68
           },
           {
            "bin_start": 24.910000000000025,
            "bin_end": 29.88200000000003,
            "count": 50
           },
           {
            "bin_start": 29.88200000000003,
            "bin_end": 34.85400000000003,
            "count": 28
           },
           {
            "bin_start": 34.85400000000003,
            "bin_end": 39.826000000000036,
            "count": 14
           },
           {
            "bin_start": 39.826000000000036,
            "bin_end": 44.798000000000044,
            "count": 6
           },
           {
            "bin_start": 44.798000000000044,
            "bin_end": 49.770000000000046,
            "count": 4
           }
          ]
         }
        },
        {
         "name": "swap-to-hate",
         "dtype": "bool",
         "stats": {
          "unique_count": 1,
          "nan_count": 0,
          "categories": [
           {
            "name": "False",
            "count": 1250
           }
          ]
         }
        },
        {
         "name": "_deepnote_index_column",
         "dtype": "int64"
        }
       ],
       "rows_top": [
        {
         "[run number]": 1,
         "[step]": 1001,
         "p_normal_reposts_hater": 0.01,
         "hateful-node-percents": 3.2,
         "plot-smoothed-mean-path-length true": 0.0156578947368421,
         "plot-smoothed-num-posts true": 1.5200000000000014,
         "swap-to-hate": "False",
         "_deepnote_index_column": 8
        },
        {
         "[run number]": 2,
         "[step]": 1001,
         "p_normal_reposts_hater": 0.01,
         "hateful-node-percents": 3.3,
         "plot-smoothed-mean-path-length true": 0.0115686274509804,
         "plot-smoothed-num-posts true": 1.020000000000001,
         "swap-to-hate": "False",
         "_deepnote_index_column": 3
        },
        {
         "[run number]": 3,
         "[step]": 1001,
         "p_normal_reposts_hater": 0.01,
         "hateful-node-percents": 5.1,
         "plot-smoothed-mean-path-length true": 0.014331550802139,
         "plot-smoothed-num-posts true": 1.8700000000000017,
         "swap-to-hate": "False",
         "_deepnote_index_column": 6
        },
        {
         "[run number]": 4,
         "[step]": 1001,
         "p_normal_reposts_hater": 0.01,
         "hateful-node-percents": 7.2,
         "plot-smoothed-mean-path-length true": 0.0150915750915751,
         "plot-smoothed-num-posts true": 2.730000000000002,
         "swap-to-hate": "False",
         "_deepnote_index_column": 9
        },
        {
         "[run number]": 5,
         "[step]": 1001,
         "p_normal_reposts_hater": 0.01,
         "hateful-node-percents": 3.2,
         "plot-smoothed-mean-path-length true": 0.013469387755102,
         "plot-smoothed-num-posts true": 0.9800000000000008,
         "swap-to-hate": "False",
         "_deepnote_index_column": 5
        },
        {
         "[run number]": 6,
         "[step]": 1001,
         "p_normal_reposts_hater": 0.01,
         "hateful-node-percents": 5.7,
         "plot-smoothed-mean-path-length true": 0.0079090909090909,
         "plot-smoothed-num-posts true": 1.100000000000001,
         "swap-to-hate": "False",
         "_deepnote_index_column": 0
        },
        {
         "[run number]": 7,
         "[step]": 1001,
         "p_normal_reposts_hater": 0.01,
         "hateful-node-percents": 8.1,
         "plot-smoothed-mean-path-length true": 0.0162931034482758,
         "plot-smoothed-num-posts true": 3.480000000000003,
         "swap-to-hate": "False",
         "_deepnote_index_column": 10
        },
        {
         "[run number]": 8,
         "[step]": 1001,
         "p_normal_reposts_hater": 0.01,
         "hateful-node-percents": 3.9,
         "plot-smoothed-mean-path-length true": 0.015,
         "plot-smoothed-num-posts true": 1.480000000000001,
         "swap-to-hate": "False",
         "_deepnote_index_column": 11
        },
        {
         "[run number]": 9,
         "[step]": 1001,
         "p_normal_reposts_hater": 0.01,
         "hateful-node-percents": 5,
         "plot-smoothed-mean-path-length true": 0.0133333333333333,
         "plot-smoothed-num-posts true": 1.4700000000000013,
         "swap-to-hate": "False",
         "_deepnote_index_column": 2
        },
        {
         "[run number]": 10,
         "[step]": 1001,
         "p_normal_reposts_hater": 0.01,
         "hateful-node-percents": 3.2,
         "plot-smoothed-mean-path-length true": 0.0118085106382978,
         "plot-smoothed-num-posts true": 0.9400000000000008,
         "swap-to-hate": "False",
         "_deepnote_index_column": 1
        },
        {
         "[run number]": 11,
         "[step]": 1001,
         "p_normal_reposts_hater": 0.01,
         "hateful-node-percents": 4,
         "plot-smoothed-mean-path-length true": 0.0111666666666666,
         "plot-smoothed-num-posts true": 1.200000000000001,
         "swap-to-hate": "False",
         "_deepnote_index_column": 4
        },
        {
         "[run number]": 12,
         "[step]": 1001,
         "p_normal_reposts_hater": 0.01,
         "hateful-node-percents": 5.2,
         "plot-smoothed-mean-path-length true": 0.0198333333333333,
         "plot-smoothed-num-posts true": 2.400000000000002,
         "swap-to-hate": "False",
         "_deepnote_index_column": 7
        },
        {
         "[run number]": 13,
         "[step]": 1001,
         "p_normal_reposts_hater": 0.01,
         "hateful-node-percents": 3.5,
         "plot-smoothed-mean-path-length true": 0.0168387096774193,
         "plot-smoothed-num-posts true": 1.5500000000000014,
         "swap-to-hate": "False",
         "_deepnote_index_column": 13
        },
        {
         "[run number]": 14,
         "[step]": 1001,
         "p_normal_reposts_hater": 0.01,
         "hateful-node-percents": 4.1,
         "plot-smoothed-mean-path-length true": 0.0142957746478873,
         "plot-smoothed-num-posts true": 1.4200000000000013,
         "swap-to-hate": "False",
         "_deepnote_index_column": 14
        },
        {
         "[run number]": 15,
         "[step]": 1001,
         "p_normal_reposts_hater": 0.01,
         "hateful-node-percents": 2.8,
         "plot-smoothed-mean-path-length true": 0.01632,
         "plot-smoothed-num-posts true": 1.250000000000001,
         "swap-to-hate": "False",
         "_deepnote_index_column": 12
        },
        {
         "[run number]": 16,
         "[step]": 1001,
         "p_normal_reposts_hater": 0.01,
         "hateful-node-percents": 4.2,
         "plot-smoothed-mean-path-length true": 0.0122608695652174,
         "plot-smoothed-num-posts true": 1.150000000000001,
         "swap-to-hate": "False",
         "_deepnote_index_column": 15
        },
        {
         "[run number]": 17,
         "[step]": 1001,
         "p_normal_reposts_hater": 0.01,
         "hateful-node-percents": 3.3,
         "plot-smoothed-mean-path-length true": 0.0138461538461538,
         "plot-smoothed-num-posts true": 1.3000000000000012,
         "swap-to-hate": "False",
         "_deepnote_index_column": 16
        },
        {
         "[run number]": 18,
         "[step]": 1001,
         "p_normal_reposts_hater": 0.01,
         "hateful-node-percents": 4.4,
         "plot-smoothed-mean-path-length true": 0.0123239436619718,
         "plot-smoothed-num-posts true": 1.4200000000000013,
         "swap-to-hate": "False",
         "_deepnote_index_column": 17
        },
        {
         "[run number]": 19,
         "[step]": 1001,
         "p_normal_reposts_hater": 0.01,
         "hateful-node-percents": 5.2,
         "plot-smoothed-mean-path-length true": 0.0123770491803278,
         "plot-smoothed-num-posts true": 1.220000000000001,
         "swap-to-hate": "False",
         "_deepnote_index_column": 18
        },
        {
         "[run number]": 20,
         "[step]": 1001,
         "p_normal_reposts_hater": 0.01,
         "hateful-node-percents": 4.5,
         "plot-smoothed-mean-path-length true": 0.016017316017316,
         "plot-smoothed-num-posts true": 2.3100000000000023,
         "swap-to-hate": "False",
         "_deepnote_index_column": 21
        },
        {
         "[run number]": 21,
         "[step]": 1001,
         "p_normal_reposts_hater": 0.01,
         "hateful-node-percents": 2.8,
         "plot-smoothed-mean-path-length true": 0.0151724137931034,
         "plot-smoothed-num-posts true": 0.8700000000000008,
         "swap-to-hate": "False",
         "_deepnote_index_column": 19
        },
        {
         "[run number]": 22,
         "[step]": 1001,
         "p_normal_reposts_hater": 0.01,
         "hateful-node-percents": 5.3,
         "plot-smoothed-mean-path-length true": 0.0165106382978723,
         "plot-smoothed-num-posts true": 2.3500000000000023,
         "swap-to-hate": "False",
         "_deepnote_index_column": 22
        },
        {
         "[run number]": 23,
         "[step]": 1001,
         "p_normal_reposts_hater": 0.01,
         "hateful-node-percents": 3.5,
         "plot-smoothed-mean-path-length true": 0.0133070866141732,
         "plot-smoothed-num-posts true": 1.2700000000000011,
         "swap-to-hate": "False",
         "_deepnote_index_column": 20
        },
        {
         "[run number]": 24,
         "[step]": 1001,
         "p_normal_reposts_hater": 0.01,
         "hateful-node-percents": 6.7,
         "plot-smoothed-mean-path-length true": 0.0121229050279329,
         "plot-smoothed-num-posts true": 1.7900000000000016,
         "swap-to-hate": "False",
         "_deepnote_index_column": 23
        },
        {
         "[run number]": 25,
         "[step]": 1001,
         "p_normal_reposts_hater": 0.01,
         "hateful-node-percents": 3.9,
         "plot-smoothed-mean-path-length true": 0.0145,
         "plot-smoothed-num-posts true": 1.4000000000000012,
         "swap-to-hate": "False",
         "_deepnote_index_column": 26
        },
        {
         "[run number]": 26,
         "[step]": 1001,
         "p_normal_reposts_hater": 0.01,
         "hateful-node-percents": 4.8,
         "plot-smoothed-mean-path-length true": 0.0167788461538461,
         "plot-smoothed-num-posts true": 2.080000000000002,
         "swap-to-hate": "False",
         "_deepnote_index_column": 25
        },
        {
         "[run number]": 27,
         "[step]": 1001,
         "p_normal_reposts_hater": 0.01,
         "hateful-node-percents": 7.8,
         "plot-smoothed-mean-path-length true": 0.0104166666666666,
         "plot-smoothed-num-posts true": 1.9200000000000017,
         "swap-to-hate": "False",
         "_deepnote_index_column": 24
        },
        {
         "[run number]": 28,
         "[step]": 1001,
         "p_normal_reposts_hater": 0.01,
         "hateful-node-percents": 5.2,
         "plot-smoothed-mean-path-length true": 0.0163076923076923,
         "plot-smoothed-num-posts true": 2.6000000000000023,
         "swap-to-hate": "False",
         "_deepnote_index_column": 28
        },
        {
         "[run number]": 29,
         "[step]": 1001,
         "p_normal_reposts_hater": 0.01,
         "hateful-node-percents": 3.1,
         "plot-smoothed-mean-path-length true": 0.0144827586206896,
         "plot-smoothed-num-posts true": 1.4500000000000013,
         "swap-to-hate": "False",
         "_deepnote_index_column": 27
        },
        {
         "[run number]": 30,
         "[step]": 1001,
         "p_normal_reposts_hater": 0.01,
         "hateful-node-percents": 6.2,
         "plot-smoothed-mean-path-length true": 0.0154285714285714,
         "plot-smoothed-num-posts true": 2.100000000000002,
         "swap-to-hate": "False",
         "_deepnote_index_column": 30
        },
        {
         "[run number]": 31,
         "[step]": 1001,
         "p_normal_reposts_hater": 0.01,
         "hateful-node-percents": 4.6,
         "plot-smoothed-mean-path-length true": 0.0160267857142857,
         "plot-smoothed-num-posts true": 2.240000000000002,
         "swap-to-hate": "False",
         "_deepnote_index_column": 29
        },
        {
         "[run number]": 32,
         "[step]": 1001,
         "p_normal_reposts_hater": 0.01,
         "hateful-node-percents": 4.9,
         "plot-smoothed-mean-path-length true": 0.0137988826815642,
         "plot-smoothed-num-posts true": 1.7900000000000016,
         "swap-to-hate": "False",
         "_deepnote_index_column": 32
        },
        {
         "[run number]": 33,
         "[step]": 1001,
         "p_normal_reposts_hater": 0.01,
         "hateful-node-percents": 4.3,
         "plot-smoothed-mean-path-length true": 0.0162114537444934,
         "plot-smoothed-num-posts true": 2.2700000000000022,
         "swap-to-hate": "False",
         "_deepnote_index_column": 34
        },
        {
         "[run number]": 34,
         "[step]": 1001,
         "p_normal_reposts_hater": 0.01,
         "hateful-node-percents": 3.7,
         "plot-smoothed-mean-path-length true": 0.0129508196721311,
         "plot-smoothed-num-posts true": 1.220000000000001,
         "swap-to-hate": "False",
         "_deepnote_index_column": 31
        },
        {
         "[run number]": 35,
         "[step]": 1001,
         "p_normal_reposts_hater": 0.01,
         "hateful-node-percents": 5.8,
         "plot-smoothed-mean-path-length true": 0.014021164021164,
         "plot-smoothed-num-posts true": 1.8900000000000017,
         "swap-to-hate": "False",
         "_deepnote_index_column": 33
        },
        {
         "[run number]": 36,
         "[step]": 1001,
         "p_normal_reposts_hater": 0.01,
         "hateful-node-percents": 3.6,
         "plot-smoothed-mean-path-length true": 0.0168306010928961,
         "plot-smoothed-num-posts true": 1.8300000000000016,
         "swap-to-hate": "False",
         "_deepnote_index_column": 35
        },
        {
         "[run number]": 37,
         "[step]": 1001,
         "p_normal_reposts_hater": 0.01,
         "hateful-node-percents": 4.7,
         "plot-smoothed-mean-path-length true": 0.0123021582733813,
         "plot-smoothed-num-posts true": 1.3900000000000012,
         "swap-to-hate": "False",
         "_deepnote_index_column": 36
        },
        {
         "[run number]": 38,
         "[step]": 1001,
         "p_normal_reposts_hater": 0.01,
         "hateful-node-percents": 3.4,
         "plot-smoothed-mean-path-length true": 0.014695652173913,
         "plot-smoothed-num-posts true": 1.150000000000001,
         "swap-to-hate": "False",
         "_deepnote_index_column": 37
        },
        {
         "[run number]": 39,
         "[step]": 1001,
         "p_normal_reposts_hater": 0.01,
         "hateful-node-percents": 6.6,
         "plot-smoothed-mean-path-length true": 0.0151140065146579,
         "plot-smoothed-num-posts true": 3.070000000000003,
         "swap-to-hate": "False",
         "_deepnote_index_column": 40
        },
        {
         "[run number]": 40,
         "[step]": 1001,
         "p_normal_reposts_hater": 0.01,
         "hateful-node-percents": 2.2,
         "plot-smoothed-mean-path-length true": 0.0116666666666666,
         "plot-smoothed-num-posts true": 0.5400000000000005,
         "swap-to-hate": "False",
         "_deepnote_index_column": 41
        },
        {
         "[run number]": 41,
         "[step]": 1001,
         "p_normal_reposts_hater": 0.01,
         "hateful-node-percents": 4,
         "plot-smoothed-mean-path-length true": 0.0164676616915423,
         "plot-smoothed-num-posts true": 2.0100000000000016,
         "swap-to-hate": "False",
         "_deepnote_index_column": 42
        },
        {
         "[run number]": 42,
         "[step]": 1001,
         "p_normal_reposts_hater": 0.01,
         "hateful-node-percents": 4.5,
         "plot-smoothed-mean-path-length true": 0.0123846153846153,
         "plot-smoothed-num-posts true": 1.3000000000000012,
         "swap-to-hate": "False",
         "_deepnote_index_column": 38
        },
        {
         "[run number]": 43,
         "[step]": 1001,
         "p_normal_reposts_hater": 0.01,
         "hateful-node-percents": 3.4,
         "plot-smoothed-mean-path-length true": 0.0144339622641509,
         "plot-smoothed-num-posts true": 1.060000000000001,
         "swap-to-hate": "False",
         "_deepnote_index_column": 39
        },
        {
         "[run number]": 44,
         "[step]": 1001,
         "p_normal_reposts_hater": 0.01,
         "hateful-node-percents": 3.9,
         "plot-smoothed-mean-path-length true": 0.0154032258064516,
         "plot-smoothed-num-posts true": 1.240000000000001,
         "swap-to-hate": "False",
         "_deepnote_index_column": 44
        },
        {
         "[run number]": 45,
         "[step]": 1001,
         "p_normal_reposts_hater": 0.01,
         "hateful-node-percents": 5.6,
         "plot-smoothed-mean-path-length true": 0.0141477272727272,
         "plot-smoothed-num-posts true": 1.7600000000000016,
         "swap-to-hate": "False",
         "_deepnote_index_column": 47
        },
        {
         "[run number]": 46,
         "[step]": 1001,
         "p_normal_reposts_hater": 0.01,
         "hateful-node-percents": 2.3,
         "plot-smoothed-mean-path-length true": 0.0132530120481927,
         "plot-smoothed-num-posts true": 0.8300000000000007,
         "swap-to-hate": "False",
         "_deepnote_index_column": 43
        },
        {
         "[run number]": 47,
         "[step]": 1001,
         "p_normal_reposts_hater": 0.01,
         "hateful-node-percents": 4,
         "plot-smoothed-mean-path-length true": 0.0217928286852589,
         "plot-smoothed-num-posts true": 2.5100000000000025,
         "swap-to-hate": "False",
         "_deepnote_index_column": 46
        },
        {
         "[run number]": 48,
         "[step]": 1001,
         "p_normal_reposts_hater": 0.01,
         "hateful-node-percents": 2.2,
         "plot-smoothed-mean-path-length true": 0.0140845070422535,
         "plot-smoothed-num-posts true": 0.7100000000000006,
         "swap-to-hate": "False",
         "_deepnote_index_column": 45
        },
        {
         "[run number]": 49,
         "[step]": 1001,
         "p_normal_reposts_hater": 0.01,
         "hateful-node-percents": 6.6,
         "plot-smoothed-mean-path-length true": 0.0142066420664206,
         "plot-smoothed-num-posts true": 2.710000000000002,
         "swap-to-hate": "False",
         "_deepnote_index_column": 48
        },
        {
         "[run number]": 50,
         "[step]": 1001,
         "p_normal_reposts_hater": 0.01,
         "hateful-node-percents": 3.6,
         "plot-smoothed-mean-path-length true": 0.0135714285714285,
         "plot-smoothed-num-posts true": 1.2600000000000011,
         "swap-to-hate": "False",
         "_deepnote_index_column": 49
        },
        {
         "[run number]": 51,
         "[step]": 1001,
         "p_normal_reposts_hater": 0.03,
         "hateful-node-percents": 3.5,
         "plot-smoothed-mean-path-length true": 0.0154128440366972,
         "plot-smoothed-num-posts true": 1.090000000000001,
         "swap-to-hate": "False",
         "_deepnote_index_column": 52
        },
        {
         "[run number]": 52,
         "[step]": 1001,
         "p_normal_reposts_hater": 0.03,
         "hateful-node-percents": 6.8,
         "plot-smoothed-mean-path-length true": 0.0193227091633466,
         "plot-smoothed-num-posts true": 2.5100000000000025,
         "swap-to-hate": "False",
         "_deepnote_index_column": 51
        },
        {
         "[run number]": 53,
         "[step]": 1001,
         "p_normal_reposts_hater": 0.03,
         "hateful-node-percents": 6,
         "plot-smoothed-mean-path-length true": 0.0166489361702127,
         "plot-smoothed-num-posts true": 1.8800000000000017,
         "swap-to-hate": "False",
         "_deepnote_index_column": 50
        },
        {
         "[run number]": 54,
         "[step]": 1001,
         "p_normal_reposts_hater": 0.03,
         "hateful-node-percents": 4.2,
         "plot-smoothed-mean-path-length true": 0.0172222222222222,
         "plot-smoothed-num-posts true": 2.7000000000000024,
         "swap-to-hate": "False",
         "_deepnote_index_column": 53
        },
        {
         "[run number]": 55,
         "[step]": 1001,
         "p_normal_reposts_hater": 0.03,
         "hateful-node-percents": 5.1,
         "plot-smoothed-mean-path-length true": 0.0151219512195122,
         "plot-smoothed-num-posts true": 2.0500000000000016,
         "swap-to-hate": "False",
         "_deepnote_index_column": 55
        },
        {
         "[run number]": 56,
         "[step]": 1001,
         "p_normal_reposts_hater": 0.03,
         "hateful-node-percents": 2.8,
         "plot-smoothed-mean-path-length true": 0.0117808219178082,
         "plot-smoothed-num-posts true": 0.7300000000000006,
         "swap-to-hate": "False",
         "_deepnote_index_column": 54
        },
        {
         "[run number]": 57,
         "[step]": 1001,
         "p_normal_reposts_hater": 0.03,
         "hateful-node-percents": 5.3,
         "plot-smoothed-mean-path-length true": 0.0137234042553191,
         "plot-smoothed-num-posts true": 1.8800000000000017,
         "swap-to-hate": "False",
         "_deepnote_index_column": 56
        },
        {
         "[run number]": 58,
         "[step]": 1001,
         "p_normal_reposts_hater": 0.03,
         "hateful-node-percents": 5.8,
         "plot-smoothed-mean-path-length true": 0.0183561643835616,
         "plot-smoothed-num-posts true": 2.190000000000002,
         "swap-to-hate": "False",
         "_deepnote_index_column": 58
        },
        {
         "[run number]": 59,
         "[step]": 1001,
         "p_normal_reposts_hater": 0.03,
         "hateful-node-percents": 3.9,
         "plot-smoothed-mean-path-length true": 0.016,
         "plot-smoothed-num-posts true": 1.4000000000000012,
         "swap-to-hate": "False",
         "_deepnote_index_column": 57
        },
        {
         "[run number]": 60,
         "[step]": 1001,
         "p_normal_reposts_hater": 0.03,
         "hateful-node-percents": 5.3,
         "plot-smoothed-mean-path-length true": 0.0113970588235294,
         "plot-smoothed-num-posts true": 1.3600000000000012,
         "swap-to-hate": "False",
         "_deepnote_index_column": 59
        },
        {
         "[run number]": 61,
         "[step]": 1001,
         "p_normal_reposts_hater": 0.03,
         "hateful-node-percents": 4.5,
         "plot-smoothed-mean-path-length true": 0.0130215827338129,
         "plot-smoothed-num-posts true": 1.3900000000000012,
         "swap-to-hate": "False",
         "_deepnote_index_column": 60
        },
        {
         "[run number]": 62,
         "[step]": 1001,
         "p_normal_reposts_hater": 0.03,
         "hateful-node-percents": 3.4,
         "plot-smoothed-mean-path-length true": 0.0146710526315789,
         "plot-smoothed-num-posts true": 1.5200000000000014,
         "swap-to-hate": "False",
         "_deepnote_index_column": 61
        },
        {
         "[run number]": 63,
         "[step]": 1001,
         "p_normal_reposts_hater": 0.03,
         "hateful-node-percents": 8,
         "plot-smoothed-mean-path-length true": 0.0123696682464455,
         "plot-smoothed-num-posts true": 2.110000000000002,
         "swap-to-hate": "False",
         "_deepnote_index_column": 62
        },
        {
         "[run number]": 64,
         "[step]": 1001,
         "p_normal_reposts_hater": 0.03,
         "hateful-node-percents": 0.5,
         "plot-smoothed-mean-path-length true": 0,
         "plot-smoothed-num-posts true": 0.05,
         "swap-to-hate": "False",
         "_deepnote_index_column": 64
        },
        {
         "[run number]": 65,
         "[step]": 1001,
         "p_normal_reposts_hater": 0.03,
         "hateful-node-percents": 3.3,
         "plot-smoothed-mean-path-length true": 0.0130208333333333,
         "plot-smoothed-num-posts true": 0.9600000000000009,
         "swap-to-hate": "False",
         "_deepnote_index_column": 66
        },
        {
         "[run number]": 66,
         "[step]": 1001,
         "p_normal_reposts_hater": 0.03,
         "hateful-node-percents": 5.7,
         "plot-smoothed-mean-path-length true": 0.0155111111111111,
         "plot-smoothed-num-posts true": 2.2500000000000018,
         "swap-to-hate": "False",
         "_deepnote_index_column": 68
        },
        {
         "[run number]": 67,
         "[step]": 1001,
         "p_normal_reposts_hater": 0.03,
         "hateful-node-percents": 5,
         "plot-smoothed-mean-path-length true": 0.0107751937984496,
         "plot-smoothed-num-posts true": 1.2900000000000011,
         "swap-to-hate": "False",
         "_deepnote_index_column": 63
        },
        {
         "[run number]": 68,
         "[step]": 1001,
         "p_normal_reposts_hater": 0.03,
         "hateful-node-percents": 4.4,
         "plot-smoothed-mean-path-length true": 0.0187916666666666,
         "plot-smoothed-num-posts true": 2.400000000000002,
         "swap-to-hate": "False",
         "_deepnote_index_column": 67
        },
        {
         "[run number]": 69,
         "[step]": 1001,
         "p_normal_reposts_hater": 0.03,
         "hateful-node-percents": 4,
         "plot-smoothed-mean-path-length true": 0.0113043478260869,
         "plot-smoothed-num-posts true": 1.150000000000001,
         "swap-to-hate": "False",
         "_deepnote_index_column": 65
        },
        {
         "[run number]": 70,
         "[step]": 1001,
         "p_normal_reposts_hater": 0.03,
         "hateful-node-percents": 5.3,
         "plot-smoothed-mean-path-length true": 0.0092523364485981,
         "plot-smoothed-num-posts true": 1.070000000000001,
         "swap-to-hate": "False",
         "_deepnote_index_column": 69
        },
        {
         "[run number]": 71,
         "[step]": 1001,
         "p_normal_reposts_hater": 0.03,
         "hateful-node-percents": 5.7,
         "plot-smoothed-mean-path-length true": 0.0160915492957746,
         "plot-smoothed-num-posts true": 2.8400000000000025,
         "swap-to-hate": "False",
         "_deepnote_index_column": 70
        }
       ],
       "rows_bottom": [
        {
         "[run number]": 1180,
         "[step]": 1001,
         "p_normal_reposts_hater": 0.47,
         "hateful-node-percents": 12.8,
         "plot-smoothed-mean-path-length true": 0.0368427419354839,
         "plot-smoothed-num-posts true": 24.800000000000026,
         "swap-to-hate": "False",
         "_deepnote_index_column": 1181
        },
        {
         "[run number]": 1181,
         "[step]": 1001,
         "p_normal_reposts_hater": 0.47,
         "hateful-node-percents": 13.8,
         "plot-smoothed-mean-path-length true": 0.0405996021597045,
         "plot-smoothed-num-posts true": 35.19000000000003,
         "swap-to-hate": "False",
         "_deepnote_index_column": 1185
        },
        {
         "[run number]": 1182,
         "[step]": 1001,
         "p_normal_reposts_hater": 0.47,
         "hateful-node-percents": 12.4,
         "plot-smoothed-mean-path-length true": 0.0364667666166916,
         "plot-smoothed-num-posts true": 20.01000000000002,
         "swap-to-hate": "False",
         "_deepnote_index_column": 1179
        },
        {
         "[run number]": 1183,
         "[step]": 1001,
         "p_normal_reposts_hater": 0.47,
         "hateful-node-percents": 14.6,
         "plot-smoothed-mean-path-length true": 0.0375572519083969,
         "plot-smoothed-num-posts true": 30.130000000000027,
         "swap-to-hate": "False",
         "_deepnote_index_column": 1184
        },
        {
         "[run number]": 1184,
         "[step]": 1001,
         "p_normal_reposts_hater": 0.47,
         "hateful-node-percents": 11.2,
         "plot-smoothed-mean-path-length true": 0.0379605508001489,
         "plot-smoothed-num-posts true": 26.870000000000022,
         "swap-to-hate": "False",
         "_deepnote_index_column": 1178
        },
        {
         "[run number]": 1185,
         "[step]": 1001,
         "p_normal_reposts_hater": 0.47,
         "hateful-node-percents": 12.4,
         "plot-smoothed-mean-path-length true": 0.0381788908765653,
         "plot-smoothed-num-posts true": 27.950000000000024,
         "swap-to-hate": "False",
         "_deepnote_index_column": 1183
        },
        {
         "[run number]": 1186,
         "[step]": 1001,
         "p_normal_reposts_hater": 0.47,
         "hateful-node-percents": 15.7,
         "plot-smoothed-mean-path-length true": 0.0357370659107016,
         "plot-smoothed-num-posts true": 28.220000000000024,
         "swap-to-hate": "False",
         "_deepnote_index_column": 1188
        },
        {
         "[run number]": 1187,
         "[step]": 1001,
         "p_normal_reposts_hater": 0.47,
         "hateful-node-percents": 13.1,
         "plot-smoothed-mean-path-length true": 0.0376634991615427,
         "plot-smoothed-num-posts true": 17.890000000000015,
         "swap-to-hate": "False",
         "_deepnote_index_column": 1182
        },
        {
         "[run number]": 1188,
         "[step]": 1001,
         "p_normal_reposts_hater": 0.47,
         "hateful-node-percents": 12.2,
         "plot-smoothed-mean-path-length true": 0.0363050108932462,
         "plot-smoothed-num-posts true": 22.95000000000002,
         "swap-to-hate": "False",
         "_deepnote_index_column": 1186
        },
        {
         "[run number]": 1189,
         "[step]": 1001,
         "p_normal_reposts_hater": 0.47,
         "hateful-node-percents": 12.9,
         "plot-smoothed-mean-path-length true": 0.0410663615560641,
         "plot-smoothed-num-posts true": 21.85000000000002,
         "swap-to-hate": "False",
         "_deepnote_index_column": 1187
        },
        {
         "[run number]": 1190,
         "[step]": 1001,
         "p_normal_reposts_hater": 0.47,
         "hateful-node-percents": 12.8,
         "plot-smoothed-mean-path-length true": 0.0367620561738209,
         "plot-smoothed-num-posts true": 18.87000000000001,
         "swap-to-hate": "False",
         "_deepnote_index_column": 1189
        },
        {
         "[run number]": 1191,
         "[step]": 1001,
         "p_normal_reposts_hater": 0.47,
         "hateful-node-percents": 11.1,
         "plot-smoothed-mean-path-length true": 0.0382880434782609,
         "plot-smoothed-num-posts true": 18.400000000000016,
         "swap-to-hate": "False",
         "_deepnote_index_column": 1190
        },
        {
         "[run number]": 1192,
         "[step]": 1001,
         "p_normal_reposts_hater": 0.47,
         "hateful-node-percents": 16.3,
         "plot-smoothed-mean-path-length true": 0.040572699471782,
         "plot-smoothed-num-posts true": 35.970000000000034,
         "swap-to-hate": "False",
         "_deepnote_index_column": 1196
        },
        {
         "[run number]": 1193,
         "[step]": 1001,
         "p_normal_reposts_hater": 0.47,
         "hateful-node-percents": 11,
         "plot-smoothed-mean-path-length true": 0.0357233368532207,
         "plot-smoothed-num-posts true": 18.940000000000012,
         "swap-to-hate": "False",
         "_deepnote_index_column": 1192
        },
        {
         "[run number]": 1194,
         "[step]": 1001,
         "p_normal_reposts_hater": 0.47,
         "hateful-node-percents": 11.4,
         "plot-smoothed-mean-path-length true": 0.0396098953377735,
         "plot-smoothed-num-posts true": 21.020000000000017,
         "swap-to-hate": "False",
         "_deepnote_index_column": 1191
        },
        {
         "[run number]": 1195,
         "[step]": 1001,
         "p_normal_reposts_hater": 0.47,
         "hateful-node-percents": 11,
         "plot-smoothed-mean-path-length true": 0.038902020587114,
         "plot-smoothed-num-posts true": 26.23000000000002,
         "swap-to-hate": "False",
         "_deepnote_index_column": 1193
        },
        {
         "[run number]": 1196,
         "[step]": 1001,
         "p_normal_reposts_hater": 0.47,
         "hateful-node-percents": 13.7,
         "plot-smoothed-mean-path-length true": 0.0384760147601476,
         "plot-smoothed-num-posts true": 27.100000000000023,
         "swap-to-hate": "False",
         "_deepnote_index_column": 1195
        },
        {
         "[run number]": 1197,
         "[step]": 1001,
         "p_normal_reposts_hater": 0.47,
         "hateful-node-percents": 12.2,
         "plot-smoothed-mean-path-length true": 0.0394241607449155,
         "plot-smoothed-num-posts true": 40.81000000000004,
         "swap-to-hate": "False",
         "_deepnote_index_column": 1203
        },
        {
         "[run number]": 1198,
         "[step]": 1001,
         "p_normal_reposts_hater": 0.47,
         "hateful-node-percents": 13.1,
         "plot-smoothed-mean-path-length true": 0.0393488824101069,
         "plot-smoothed-num-posts true": 20.58000000000002,
         "swap-to-hate": "False",
         "_deepnote_index_column": 1194
        },
        {
         "[run number]": 1199,
         "[step]": 1001,
         "p_normal_reposts_hater": 0.47,
         "hateful-node-percents": 12.4,
         "plot-smoothed-mean-path-length true": 0.0364194669756663,
         "plot-smoothed-num-posts true": 34.52000000000003,
         "swap-to-hate": "False",
         "_deepnote_index_column": 1199
        },
        {
         "[run number]": 1200,
         "[step]": 1001,
         "p_normal_reposts_hater": 0.47,
         "hateful-node-percents": 12.4,
         "plot-smoothed-mean-path-length true": 0.0424093722369584,
         "plot-smoothed-num-posts true": 22.62000000000002,
         "swap-to-hate": "False",
         "_deepnote_index_column": 1198
        },
        {
         "[run number]": 1201,
         "[step]": 1001,
         "p_normal_reposts_hater": 0.49,
         "hateful-node-percents": 13.2,
         "plot-smoothed-mean-path-length true": 0.0425744476464937,
         "plot-smoothed-num-posts true": 31.23000000000003,
         "swap-to-hate": "False",
         "_deepnote_index_column": 1197
        },
        {
         "[run number]": 1202,
         "[step]": 1001,
         "p_normal_reposts_hater": 0.49,
         "hateful-node-percents": 10.8,
         "plot-smoothed-mean-path-length true": 0.0420514366083986,
         "plot-smoothed-num-posts true": 49.770000000000046,
         "swap-to-hate": "False",
         "_deepnote_index_column": 1204
        },
        {
         "[run number]": 1203,
         "[step]": 1001,
         "p_normal_reposts_hater": 0.49,
         "hateful-node-percents": 14.4,
         "plot-smoothed-mean-path-length true": 0.0360690705942102,
         "plot-smoothed-num-posts true": 39.38000000000004,
         "swap-to-hate": "False",
         "_deepnote_index_column": 1202
        },
        {
         "[run number]": 1204,
         "[step]": 1001,
         "p_normal_reposts_hater": 0.49,
         "hateful-node-percents": 12.1,
         "plot-smoothed-mean-path-length true": 0.0459263657957245,
         "plot-smoothed-num-posts true": 33.68000000000003,
         "swap-to-hate": "False",
         "_deepnote_index_column": 1200
        },
        {
         "[run number]": 1205,
         "[step]": 1001,
         "p_normal_reposts_hater": 0.49,
         "hateful-node-percents": 12.2,
         "plot-smoothed-mean-path-length true": 0.0408549116317304,
         "plot-smoothed-num-posts true": 24.330000000000023,
         "swap-to-hate": "False",
         "_deepnote_index_column": 1201
        },
        {
         "[run number]": 1206,
         "[step]": 1001,
         "p_normal_reposts_hater": 0.49,
         "hateful-node-percents": 14.7,
         "plot-smoothed-mean-path-length true": 0.0422969098438993,
         "plot-smoothed-num-posts true": 31.39000000000003,
         "swap-to-hate": "False",
         "_deepnote_index_column": 1206
        },
        {
         "[run number]": 1207,
         "[step]": 1001,
         "p_normal_reposts_hater": 0.49,
         "hateful-node-percents": 13.9,
         "plot-smoothed-mean-path-length true": 0.038423464711274,
         "plot-smoothed-num-posts true": 32.73000000000003,
         "swap-to-hate": "False",
         "_deepnote_index_column": 1205
        },
        {
         "[run number]": 1208,
         "[step]": 1001,
         "p_normal_reposts_hater": 0.49,
         "hateful-node-percents": 11.4,
         "plot-smoothed-mean-path-length true": 0.0449225806451613,
         "plot-smoothed-num-posts true": 31.00000000000003,
         "swap-to-hate": "False",
         "_deepnote_index_column": 1208
        },
        {
         "[run number]": 1209,
         "[step]": 1001,
         "p_normal_reposts_hater": 0.49,
         "hateful-node-percents": 12.5,
         "plot-smoothed-mean-path-length true": 0.0367338371116709,
         "plot-smoothed-num-posts true": 23.82000000000002,
         "swap-to-hate": "False",
         "_deepnote_index_column": 1207
        },
        {
         "[run number]": 1210,
         "[step]": 1001,
         "p_normal_reposts_hater": 0.49,
         "hateful-node-percents": 12.7,
         "plot-smoothed-mean-path-length true": 0.0418653465346535,
         "plot-smoothed-num-posts true": 25.25000000000002,
         "swap-to-hate": "False",
         "_deepnote_index_column": 1209
        },
        {
         "[run number]": 1211,
         "[step]": 1001,
         "p_normal_reposts_hater": 0.49,
         "hateful-node-percents": 12.7,
         "plot-smoothed-mean-path-length true": 0.038650431253171,
         "plot-smoothed-num-posts true": 39.42000000000004,
         "swap-to-hate": "False",
         "_deepnote_index_column": 1212
        },
        {
         "[run number]": 1212,
         "[step]": 1001,
         "p_normal_reposts_hater": 0.49,
         "hateful-node-percents": 11.3,
         "plot-smoothed-mean-path-length true": 0.0396392992098935,
         "plot-smoothed-num-posts true": 29.110000000000024,
         "swap-to-hate": "False",
         "_deepnote_index_column": 1210
        },
        {
         "[run number]": 1213,
         "[step]": 1001,
         "p_normal_reposts_hater": 0.49,
         "hateful-node-percents": 11.4,
         "plot-smoothed-mean-path-length true": 0.038901494189264,
         "plot-smoothed-num-posts true": 36.14000000000003,
         "swap-to-hate": "False",
         "_deepnote_index_column": 1219
        },
        {
         "[run number]": 1214,
         "[step]": 1001,
         "p_normal_reposts_hater": 0.49,
         "hateful-node-percents": 12.4,
         "plot-smoothed-mean-path-length true": 0.0391594303577631,
         "plot-smoothed-num-posts true": 28.790000000000024,
         "swap-to-hate": "False",
         "_deepnote_index_column": 1214
        },
        {
         "[run number]": 1215,
         "[step]": 1001,
         "p_normal_reposts_hater": 0.49,
         "hateful-node-percents": 12.9,
         "plot-smoothed-mean-path-length true": 0.0421596904678157,
         "plot-smoothed-num-posts true": 28.430000000000025,
         "swap-to-hate": "False",
         "_deepnote_index_column": 1211
        },
        {
         "[run number]": 1216,
         "[step]": 1001,
         "p_normal_reposts_hater": 0.49,
         "hateful-node-percents": 13.4,
         "plot-smoothed-mean-path-length true": 0.0418174924165824,
         "plot-smoothed-num-posts true": 39.56000000000004,
         "swap-to-hate": "False",
         "_deepnote_index_column": 1218
        },
        {
         "[run number]": 1217,
         "[step]": 1001,
         "p_normal_reposts_hater": 0.49,
         "hateful-node-percents": 11.5,
         "plot-smoothed-mean-path-length true": 0.0387814952498967,
         "plot-smoothed-num-posts true": 24.210000000000026,
         "swap-to-hate": "False",
         "_deepnote_index_column": 1213
        },
        {
         "[run number]": 1218,
         "[step]": 1001,
         "p_normal_reposts_hater": 0.49,
         "hateful-node-percents": 13.9,
         "plot-smoothed-mean-path-length true": 0.0411739441660701,
         "plot-smoothed-num-posts true": 27.940000000000023,
         "swap-to-hate": "False",
         "_deepnote_index_column": 1216
        },
        {
         "[run number]": 1219,
         "[step]": 1001,
         "p_normal_reposts_hater": 0.49,
         "hateful-node-percents": 12.5,
         "plot-smoothed-mean-path-length true": 0.0425807341981783,
         "plot-smoothed-num-posts true": 36.23000000000003,
         "swap-to-hate": "False",
         "_deepnote_index_column": 1217
        },
        {
         "[run number]": 1220,
         "[step]": 1001,
         "p_normal_reposts_hater": 0.49,
         "hateful-node-percents": 13,
         "plot-smoothed-mean-path-length true": 0.0405104321907601,
         "plot-smoothed-num-posts true": 26.840000000000025,
         "swap-to-hate": "False",
         "_deepnote_index_column": 1215
        },
        {
         "[run number]": 1221,
         "[step]": 1001,
         "p_normal_reposts_hater": 0.49,
         "hateful-node-percents": 12.1,
         "plot-smoothed-mean-path-length true": 0.0431192275398824,
         "plot-smoothed-num-posts true": 23.82000000000002,
         "swap-to-hate": "False",
         "_deepnote_index_column": 1220
        },
        {
         "[run number]": 1222,
         "[step]": 1001,
         "p_normal_reposts_hater": 0.49,
         "hateful-node-percents": 10.5,
         "plot-smoothed-mean-path-length true": 0.0418742442563482,
         "plot-smoothed-num-posts true": 24.810000000000024,
         "swap-to-hate": "False",
         "_deepnote_index_column": 1221
        },
        {
         "[run number]": 1223,
         "[step]": 1001,
         "p_normal_reposts_hater": 0.49,
         "hateful-node-percents": 14.8,
         "plot-smoothed-mean-path-length true": 0.0401393952391164,
         "plot-smoothed-num-posts true": 46.63000000000004,
         "swap-to-hate": "False",
         "_deepnote_index_column": 1226
        },
        {
         "[run number]": 1224,
         "[step]": 1001,
         "p_normal_reposts_hater": 0.49,
         "hateful-node-percents": 12,
         "plot-smoothed-mean-path-length true": 0.0377109826589595,
         "plot-smoothed-num-posts true": 34.60000000000003,
         "swap-to-hate": "False",
         "_deepnote_index_column": 1225
        },
        {
         "[run number]": 1225,
         "[step]": 1001,
         "p_normal_reposts_hater": 0.49,
         "hateful-node-percents": 14.3,
         "plot-smoothed-mean-path-length true": 0.040147620259608,
         "plot-smoothed-num-posts true": 39.29000000000004,
         "swap-to-hate": "False",
         "_deepnote_index_column": 1227
        },
        {
         "[run number]": 1226,
         "[step]": 1001,
         "p_normal_reposts_hater": 0.49,
         "hateful-node-percents": 13.7,
         "plot-smoothed-mean-path-length true": 0.039116652578191,
         "plot-smoothed-num-posts true": 47.32000000000004,
         "swap-to-hate": "False",
         "_deepnote_index_column": 1232
        },
        {
         "[run number]": 1227,
         "[step]": 1001,
         "p_normal_reposts_hater": 0.49,
         "hateful-node-percents": 13.2,
         "plot-smoothed-mean-path-length true": 0.0390995850622407,
         "plot-smoothed-num-posts true": 24.100000000000023,
         "swap-to-hate": "False",
         "_deepnote_index_column": 1222
        },
        {
         "[run number]": 1228,
         "[step]": 1001,
         "p_normal_reposts_hater": 0.49,
         "hateful-node-percents": 13.5,
         "plot-smoothed-mean-path-length true": 0.0405226480836237,
         "plot-smoothed-num-posts true": 22.960000000000026,
         "swap-to-hate": "False",
         "_deepnote_index_column": 1223
        },
        {
         "[run number]": 1229,
         "[step]": 1001,
         "p_normal_reposts_hater": 0.49,
         "hateful-node-percents": 12.5,
         "plot-smoothed-mean-path-length true": 0.040936329588015,
         "plot-smoothed-num-posts true": 34.71000000000003,
         "swap-to-hate": "False",
         "_deepnote_index_column": 1228
        },
        {
         "[run number]": 1230,
         "[step]": 1001,
         "p_normal_reposts_hater": 0.49,
         "hateful-node-percents": 11.2,
         "plot-smoothed-mean-path-length true": 0.0409199565374864,
         "plot-smoothed-num-posts true": 27.610000000000024,
         "swap-to-hate": "False",
         "_deepnote_index_column": 1224
        },
        {
         "[run number]": 1231,
         "[step]": 1001,
         "p_normal_reposts_hater": 0.49,
         "hateful-node-percents": 14.3,
         "plot-smoothed-mean-path-length true": 0.0444874077842788,
         "plot-smoothed-num-posts true": 39.31000000000004,
         "swap-to-hate": "False",
         "_deepnote_index_column": 1231
        },
        {
         "[run number]": 1232,
         "[step]": 1001,
         "p_normal_reposts_hater": 0.49,
         "hateful-node-percents": 13.2,
         "plot-smoothed-mean-path-length true": 0.0442041312272175,
         "plot-smoothed-num-posts true": 41.150000000000034,
         "swap-to-hate": "False",
         "_deepnote_index_column": 1233
        },
        {
         "[run number]": 1233,
         "[step]": 1001,
         "p_normal_reposts_hater": 0.49,
         "hateful-node-percents": 11.2,
         "plot-smoothed-mean-path-length true": 0.0402142007140024,
         "plot-smoothed-num-posts true": 25.210000000000026,
         "swap-to-hate": "False",
         "_deepnote_index_column": 1230
        },
        {
         "[run number]": 1234,
         "[step]": 1001,
         "p_normal_reposts_hater": 0.49,
         "hateful-node-percents": 12.7,
         "plot-smoothed-mean-path-length true": 0.039301877708233,
         "plot-smoothed-num-posts true": 20.770000000000017,
         "swap-to-hate": "False",
         "_deepnote_index_column": 1229
        },
        {
         "[run number]": 1235,
         "[step]": 1001,
         "p_normal_reposts_hater": 0.49,
         "hateful-node-percents": 13.4,
         "plot-smoothed-mean-path-length true": 0.0417902725077613,
         "plot-smoothed-num-posts true": 28.990000000000027,
         "swap-to-hate": "False",
         "_deepnote_index_column": 1234
        },
        {
         "[run number]": 1236,
         "[step]": 1001,
         "p_normal_reposts_hater": 0.49,
         "hateful-node-percents": 12.9,
         "plot-smoothed-mean-path-length true": 0.0386761320030698,
         "plot-smoothed-num-posts true": 26.060000000000024,
         "swap-to-hate": "False",
         "_deepnote_index_column": 1235
        },
        {
         "[run number]": 1237,
         "[step]": 1001,
         "p_normal_reposts_hater": 0.49,
         "hateful-node-percents": 11.5,
         "plot-smoothed-mean-path-length true": 0.0399173553719008,
         "plot-smoothed-num-posts true": 22.99000000000002,
         "swap-to-hate": "False",
         "_deepnote_index_column": 1236
        },
        {
         "[run number]": 1238,
         "[step]": 1001,
         "p_normal_reposts_hater": 0.49,
         "hateful-node-percents": 15,
         "plot-smoothed-mean-path-length true": 0.0419861660079051,
         "plot-smoothed-num-posts true": 30.360000000000028,
         "swap-to-hate": "False",
         "_deepnote_index_column": 1237
        },
        {
         "[run number]": 1239,
         "[step]": 1001,
         "p_normal_reposts_hater": 0.49,
         "hateful-node-percents": 13.8,
         "plot-smoothed-mean-path-length true": 0.039469887076537,
         "plot-smoothed-num-posts true": 31.880000000000027,
         "swap-to-hate": "False",
         "_deepnote_index_column": 1241
        },
        {
         "[run number]": 1240,
         "[step]": 1001,
         "p_normal_reposts_hater": 0.49,
         "hateful-node-percents": 14.1,
         "plot-smoothed-mean-path-length true": 0.0392742571653957,
         "plot-smoothed-num-posts true": 38.03000000000004,
         "swap-to-hate": "False",
         "_deepnote_index_column": 1243
        },
        {
         "[run number]": 1241,
         "[step]": 1001,
         "p_normal_reposts_hater": 0.49,
         "hateful-node-percents": 11.9,
         "plot-smoothed-mean-path-length true": 0.0384658040665434,
         "plot-smoothed-num-posts true": 27.050000000000026,
         "swap-to-hate": "False",
         "_deepnote_index_column": 1239
        },
        {
         "[run number]": 1242,
         "[step]": 1001,
         "p_normal_reposts_hater": 0.49,
         "hateful-node-percents": 13.8,
         "plot-smoothed-mean-path-length true": 0.0391231884057971,
         "plot-smoothed-num-posts true": 27.600000000000023,
         "swap-to-hate": "False",
         "_deepnote_index_column": 1240
        },
        {
         "[run number]": 1243,
         "[step]": 1001,
         "p_normal_reposts_hater": 0.49,
         "hateful-node-percents": 13.9,
         "plot-smoothed-mean-path-length true": 0.0423968253968254,
         "plot-smoothed-num-posts true": 25.200000000000024,
         "swap-to-hate": "False",
         "_deepnote_index_column": 1238
        },
        {
         "[run number]": 1244,
         "[step]": 1001,
         "p_normal_reposts_hater": 0.49,
         "hateful-node-percents": 11.6,
         "plot-smoothed-mean-path-length true": 0.041747823282812,
         "plot-smoothed-num-posts true": 31.010000000000023,
         "swap-to-hate": "False",
         "_deepnote_index_column": 1245
        },
        {
         "[run number]": 1245,
         "[step]": 1001,
         "p_normal_reposts_hater": 0.49,
         "hateful-node-percents": 13.6,
         "plot-smoothed-mean-path-length true": 0.0407689393939394,
         "plot-smoothed-num-posts true": 26.400000000000023,
         "swap-to-hate": "False",
         "_deepnote_index_column": 1244
        },
        {
         "[run number]": 1246,
         "[step]": 1001,
         "p_normal_reposts_hater": 0.49,
         "hateful-node-percents": 11,
         "plot-smoothed-mean-path-length true": 0.0366519174041298,
         "plot-smoothed-num-posts true": 20.340000000000018,
         "swap-to-hate": "False",
         "_deepnote_index_column": 1242
        },
        {
         "[run number]": 1247,
         "[step]": 1001,
         "p_normal_reposts_hater": 0.49,
         "hateful-node-percents": 15.2,
         "plot-smoothed-mean-path-length true": 0.0403062426383981,
         "plot-smoothed-num-posts true": 42.45000000000004,
         "swap-to-hate": "False",
         "_deepnote_index_column": 1248
        },
        {
         "[run number]": 1248,
         "[step]": 1001,
         "p_normal_reposts_hater": 0.49,
         "hateful-node-percents": 11.7,
         "plot-smoothed-mean-path-length true": 0.0423355149844988,
         "plot-smoothed-num-posts true": 29.030000000000022,
         "swap-to-hate": "False",
         "_deepnote_index_column": 1246
        },
        {
         "[run number]": 1249,
         "[step]": 1001,
         "p_normal_reposts_hater": 0.49,
         "hateful-node-percents": 11.6,
         "plot-smoothed-mean-path-length true": 0.0367032631899969,
         "plot-smoothed-num-posts true": 32.79000000000003,
         "swap-to-hate": "False",
         "_deepnote_index_column": 1249
        },
        {
         "[run number]": 1250,
         "[step]": 1001,
         "p_normal_reposts_hater": 0.49,
         "hateful-node-percents": 10.8,
         "plot-smoothed-mean-path-length true": 0.0383018867924528,
         "plot-smoothed-num-posts true": 22.26000000000002,
         "swap-to-hate": "False",
         "_deepnote_index_column": 1247
        }
       ]
      },
      "text/plain": "      [run number]  [step]  p_normal_reposts_hater  hateful-node-percents  \\\n8                1    1001                    0.01                    3.2   \n3                2    1001                    0.01                    3.3   \n6                3    1001                    0.01                    5.1   \n9                4    1001                    0.01                    7.2   \n5                5    1001                    0.01                    3.2   \n...            ...     ...                     ...                    ...   \n1242          1246    1001                    0.49                   11.0   \n1248          1247    1001                    0.49                   15.2   \n1246          1248    1001                    0.49                   11.7   \n1249          1249    1001                    0.49                   11.6   \n1247          1250    1001                    0.49                   10.8   \n\n      plot-smoothed-mean-path-length true  plot-smoothed-num-posts true  \\\n8                                0.015658                          1.52   \n3                                0.011569                          1.02   \n6                                0.014332                          1.87   \n9                                0.015092                          2.73   \n5                                0.013469                          0.98   \n...                                   ...                           ...   \n1242                             0.036652                         20.34   \n1248                             0.040306                         42.45   \n1246                             0.042336                         29.03   \n1249                             0.036703                         32.79   \n1247                             0.038302                         22.26   \n\n      swap-to-hate  \n8            False  \n3            False  \n6            False  \n9            False  \n5            False  \n...            ...  \n1242         False  \n1248         False  \n1246         False  \n1249         False  \n1247         False  \n\n[1250 rows x 7 columns]",
      "text/html": "<div>\n<style scoped>\n    .dataframe tbody tr th:only-of-type {\n        vertical-align: middle;\n    }\n\n    .dataframe tbody tr th {\n        vertical-align: top;\n    }\n\n    .dataframe thead th {\n        text-align: right;\n    }\n</style>\n<table border=\"1\" class=\"dataframe\">\n  <thead>\n    <tr style=\"text-align: right;\">\n      <th></th>\n      <th>[run number]</th>\n      <th>[step]</th>\n      <th>p_normal_reposts_hater</th>\n      <th>hateful-node-percents</th>\n      <th>plot-smoothed-mean-path-length true</th>\n      <th>plot-smoothed-num-posts true</th>\n      <th>swap-to-hate</th>\n    </tr>\n  </thead>\n  <tbody>\n    <tr>\n      <th>8</th>\n      <td>1</td>\n      <td>1001</td>\n      <td>0.01</td>\n      <td>3.2</td>\n      <td>0.015658</td>\n      <td>1.52</td>\n      <td>False</td>\n    </tr>\n    <tr>\n      <th>3</th>\n      <td>2</td>\n      <td>1001</td>\n      <td>0.01</td>\n      <td>3.3</td>\n      <td>0.011569</td>\n      <td>1.02</td>\n      <td>False</td>\n    </tr>\n    <tr>\n      <th>6</th>\n      <td>3</td>\n      <td>1001</td>\n      <td>0.01</td>\n      <td>5.1</td>\n      <td>0.014332</td>\n      <td>1.87</td>\n      <td>False</td>\n    </tr>\n    <tr>\n      <th>9</th>\n      <td>4</td>\n      <td>1001</td>\n      <td>0.01</td>\n      <td>7.2</td>\n      <td>0.015092</td>\n      <td>2.73</td>\n      <td>False</td>\n    </tr>\n    <tr>\n      <th>5</th>\n      <td>5</td>\n      <td>1001</td>\n      <td>0.01</td>\n      <td>3.2</td>\n      <td>0.013469</td>\n      <td>0.98</td>\n      <td>False</td>\n    </tr>\n    <tr>\n      <th>...</th>\n      <td>...</td>\n      <td>...</td>\n      <td>...</td>\n      <td>...</td>\n      <td>...</td>\n      <td>...</td>\n      <td>...</td>\n    </tr>\n    <tr>\n      <th>1242</th>\n      <td>1246</td>\n      <td>1001</td>\n      <td>0.49</td>\n      <td>11.0</td>\n      <td>0.036652</td>\n      <td>20.34</td>\n      <td>False</td>\n    </tr>\n    <tr>\n      <th>1248</th>\n      <td>1247</td>\n      <td>1001</td>\n      <td>0.49</td>\n      <td>15.2</td>\n      <td>0.040306</td>\n      <td>42.45</td>\n      <td>False</td>\n    </tr>\n    <tr>\n      <th>1246</th>\n      <td>1248</td>\n      <td>1001</td>\n      <td>0.49</td>\n      <td>11.7</td>\n      <td>0.042336</td>\n      <td>29.03</td>\n      <td>False</td>\n    </tr>\n    <tr>\n      <th>1249</th>\n      <td>1249</td>\n      <td>1001</td>\n      <td>0.49</td>\n      <td>11.6</td>\n      <td>0.036703</td>\n      <td>32.79</td>\n      <td>False</td>\n    </tr>\n    <tr>\n      <th>1247</th>\n      <td>1250</td>\n      <td>1001</td>\n      <td>0.49</td>\n      <td>10.8</td>\n      <td>0.038302</td>\n      <td>22.26</td>\n      <td>False</td>\n    </tr>\n  </tbody>\n</table>\n<p>1250 rows × 7 columns</p>\n</div>"
     },
     "metadata": {}
    }
   ]
  },
  {
   "cell_type": "code",
   "metadata": {
    "cell_id": "00004-72cbdbd0-2205-4f22-bceb-e6224c4690b8",
    "deepnote_to_be_reexecuted": false,
    "source_hash": "8a57a88d",
    "execution_start": 1636144452863,
    "execution_millis": 58,
    "deepnote_cell_type": "code"
   },
   "source": "print('hateful-node-percents')\n# df_nodes = df[df['swap-to-hate'] == False].groupby(['p_normal_reposts_hater'])['percents-hateful-persons'].agg([\ndf_nodes = df[df['swap-to-hate'] == False].groupby(['p_normal_reposts_hater'])['hateful-node-percents'].agg([\n    np.min,\n    np.mean,\n    np.max,\n    np.std\n])\ndf_nodes.columns = ['amin', 'hateful_nodes', 'amax', 'std']\ndf_nodes",
   "execution_count": 5,
   "outputs": [
    {
     "name": "stdout",
     "text": "hateful-node-percents\n",
     "output_type": "stream"
    },
    {
     "output_type": "execute_result",
     "execution_count": 5,
     "data": {
      "application/vnd.deepnote.dataframe.v2+json": {
       "row_count": 25,
       "column_count": 4,
       "columns": [
        {
         "name": "amin",
         "dtype": "float64",
         "stats": {
          "unique_count": 23,
          "nan_count": 0,
          "min": "0.5",
          "max": "10.9",
          "histogram": [
           {
            "bin_start": 0.5,
            "bin_end": 1.54,
            "count": 7
           },
           {
            "bin_start": 1.54,
            "bin_end": 2.58,
            "count": 2
           },
           {
            "bin_start": 2.58,
            "bin_end": 3.62,
            "count": 3
           },
           {
            "bin_start": 3.62,
            "bin_end": 4.66,
            "count": 1
           },
           {
            "bin_start": 4.66,
            "bin_end": 5.7,
            "count": 1
           },
           {
            "bin_start": 5.7,
            "bin_end": 6.74,
            "count": 1
           },
           {
            "bin_start": 6.74,
            "bin_end": 7.78,
            "count": 0
           },
           {
            "bin_start": 7.78,
            "bin_end": 8.82,
            "count": 0
           },
           {
            "bin_start": 8.82,
            "bin_end": 9.86,
            "count": 3
           },
           {
            "bin_start": 9.86,
            "bin_end": 10.9,
            "count": 7
           }
          ]
         }
        },
        {
         "name": "hateful_nodes",
         "dtype": "float64",
         "stats": {
          "unique_count": 25,
          "nan_count": 0,
          "min": "4.445999999999999",
          "max": "13.110000000000003",
          "histogram": [
           {
            "bin_start": 4.445999999999999,
            "bin_end": 5.312399999999999,
            "count": 2
           },
           {
            "bin_start": 5.312399999999999,
            "bin_end": 6.1788,
            "count": 1
           },
           {
            "bin_start": 6.1788,
            "bin_end": 7.0452,
            "count": 1
           },
           {
            "bin_start": 7.0452,
            "bin_end": 7.911600000000001,
            "count": 1
           },
           {
            "bin_start": 7.911600000000001,
            "bin_end": 8.778000000000002,
            "count": 1
           },
           {
            "bin_start": 8.778000000000002,
            "bin_end": 9.644400000000001,
            "count": 2
           },
           {
            "bin_start": 9.644400000000001,
            "bin_end": 10.510800000000003,
            "count": 1
           },
           {
            "bin_start": 10.510800000000003,
            "bin_end": 11.377200000000002,
            "count": 0
           },
           {
            "bin_start": 11.377200000000002,
            "bin_end": 12.243600000000004,
            "count": 4
           },
           {
            "bin_start": 12.243600000000004,
            "bin_end": 13.110000000000003,
            "count": 12
           }
          ]
         }
        },
        {
         "name": "amax",
         "dtype": "float64",
         "stats": {
          "unique_count": 18,
          "nan_count": 0,
          "min": "8.0",
          "max": "16.3",
          "histogram": [
           {
            "bin_start": 8,
            "bin_end": 8.83,
            "count": 2
           },
           {
            "bin_start": 8.83,
            "bin_end": 9.66,
            "count": 0
           },
           {
            "bin_start": 9.66,
            "bin_end": 10.49,
            "count": 1
           },
           {
            "bin_start": 10.49,
            "bin_end": 11.32,
            "count": 0
           },
           {
            "bin_start": 11.32,
            "bin_end": 12.15,
            "count": 1
           },
           {
            "bin_start": 12.15,
            "bin_end": 12.98,
            "count": 2
           },
           {
            "bin_start": 12.98,
            "bin_end": 13.81,
            "count": 2
           },
           {
            "bin_start": 13.81,
            "bin_end": 14.64,
            "count": 2
           },
           {
            "bin_start": 14.64,
            "bin_end": 15.47,
            "count": 10
           },
           {
            "bin_start": 15.47,
            "bin_end": 16.3,
            "count": 5
           }
          ]
         }
        },
        {
         "name": "std",
         "dtype": "float64",
         "stats": {
          "unique_count": 25,
          "nan_count": 0,
          "min": "1.0346566027983808",
          "max": "3.218216009797087",
          "histogram": [
           {
            "bin_start": 1.0346566027983808,
            "bin_end": 1.2530125434982515,
            "count": 8
           },
           {
            "bin_start": 1.2530125434982515,
            "bin_end": 1.471368484198122,
            "count": 4
           },
           {
            "bin_start": 1.471368484198122,
            "bin_end": 1.6897244248979928,
            "count": 1
           },
           {
            "bin_start": 1.6897244248979928,
            "bin_end": 1.9080803655978635,
            "count": 2
           },
           {
            "bin_start": 1.9080803655978635,
            "bin_end": 2.126436306297734,
            "count": 2
           },
           {
            "bin_start": 2.126436306297734,
            "bin_end": 2.3447922469976046,
            "count": 4
           },
           {
            "bin_start": 2.3447922469976046,
            "bin_end": 2.5631481876974753,
            "count": 0
           },
           {
            "bin_start": 2.5631481876974753,
            "bin_end": 2.781504128397346,
            "count": 3
           },
           {
            "bin_start": 2.781504128397346,
            "bin_end": 2.999860069097217,
            "count": 0
           },
           {
            "bin_start": 2.999860069097217,
            "bin_end": 3.218216009797087,
            "count": 1
           }
          ]
         }
        },
        {
         "name": "_deepnote_index_column",
         "dtype": "float64"
        }
       ],
       "rows_top": [
        {
         "amin": 2.2,
         "hateful_nodes": 4.445999999999999,
         "amax": 8.1,
         "std": 1.391110259865134,
         "_deepnote_index_column": 0.01
        },
        {
         "amin": 0.5,
         "hateful_nodes": 4.7620000000000005,
         "amax": 8,
         "std": 1.4516549317301017,
         "_deepnote_index_column": 0.03
        },
        {
         "amin": 2.6,
         "hateful_nodes": 6.1259999999999994,
         "amax": 10,
         "std": 2.1216868529641255,
         "_deepnote_index_column": 0.05
        },
        {
         "amin": 0.5,
         "hateful_nodes": 6.841999999999998,
         "amax": 12.4,
         "std": 2.765464126821155,
         "_deepnote_index_column": 0.07
        },
        {
         "amin": 1.2,
         "hateful_nodes": 7.070000000000001,
         "amax": 11.8,
         "std": 2.3426175835712373,
         "_deepnote_index_column": 0.09
        },
        {
         "amin": 3.4,
         "hateful_nodes": 8.431999999999997,
         "amax": 12.5,
         "std": 2.3251455956168265,
         "_deepnote_index_column": 0.11
        },
        {
         "amin": 3.2,
         "hateful_nodes": 9.602,
         "amax": 13.4,
         "std": 2.672878903477122,
         "_deepnote_index_column": 0.13
        },
        {
         "amin": 0.9,
         "hateful_nodes": 9.467999999999998,
         "amax": 13.8,
         "std": 3.218216009797087,
         "_deepnote_index_column": 0.15
        },
        {
         "amin": 1.8,
         "hateful_nodes": 10.444000000000003,
         "amax": 14.6,
         "std": 2.5697740709078296,
         "_deepnote_index_column": 0.17
        },
        {
         "amin": 0.9,
         "hateful_nodes": 11.38,
         "amax": 15,
         "std": 2.2415373733039483,
         "_deepnote_index_column": 0.19
        },
        {
         "amin": 5.9,
         "hateful_nodes": 11.782,
         "amax": 14.3,
         "std": 1.630286064793913,
         "_deepnote_index_column": 0.21
        },
        {
         "amin": 4.7,
         "hateful_nodes": 12.083999999999998,
         "amax": 15.2,
         "std": 1.7550347400480455,
         "_deepnote_index_column": 0.23
        },
        {
         "amin": 8.9,
         "hateful_nodes": 12.154000000000005,
         "amax": 14.8,
         "std": 1.3433448962213987,
         "_deepnote_index_column": 0.25
        },
        {
         "amin": 3.9,
         "hateful_nodes": 12.343999999999996,
         "amax": 14.8,
         "std": 1.741118570790347,
         "_deepnote_index_column": 0.27
        },
        {
         "amin": 10.3,
         "hateful_nodes": 12.619999999999997,
         "amax": 14.9,
         "std": 1.0661776089740165,
         "_deepnote_index_column": 0.29
        },
        {
         "amin": 10.4,
         "hateful_nodes": 12.936000000000003,
         "amax": 14.9,
         "std": 1.0346566027983808,
         "_deepnote_index_column": 0.31
        },
        {
         "amin": 9.6,
         "hateful_nodes": 12.482000000000005,
         "amax": 15.1,
         "std": 1.278182702280141,
         "_deepnote_index_column": 0.33
        },
        {
         "amin": 10.1,
         "hateful_nodes": 13.110000000000003,
         "amax": 15.7,
         "std": 1.2322618990113674,
         "_deepnote_index_column": 0.35
        },
        {
         "amin": 0.7,
         "hateful_nodes": 12.712000000000005,
         "amax": 15.7,
         "std": 2.070161188636956,
         "_deepnote_index_column": 0.37
        },
        {
         "amin": 10.9,
         "hateful_nodes": 12.640000000000002,
         "amax": 15.6,
         "std": 1.0673254768201625,
         "_deepnote_index_column": 0.39
        },
        {
         "amin": 9.9,
         "hateful_nodes": 13.043999999999997,
         "amax": 15.6,
         "std": 1.0921164623550634,
         "_deepnote_index_column": 0.41
        },
        {
         "amin": 10.6,
         "hateful_nodes": 12.77,
         "amax": 14.8,
         "std": 1.0593124454771858,
         "_deepnote_index_column": 0.43
        },
        {
         "amin": 9.7,
         "hateful_nodes": 12.702,
         "amax": 15.1,
         "std": 1.116205306256105,
         "_deepnote_index_column": 0.45
        },
        {
         "amin": 0.8,
         "hateful_nodes": 12.722000000000001,
         "amax": 16.3,
         "std": 2.1988206486428035,
         "_deepnote_index_column": 0.47
        },
        {
         "amin": 10.5,
         "hateful_nodes": 12.758,
         "amax": 15.2,
         "std": 1.2309097349156861,
         "_deepnote_index_column": 0.49
        }
       ],
       "rows_bottom": null
      },
      "text/plain": "                        amin  hateful_nodes  amax       std\np_normal_reposts_hater                                     \n0.01                     2.2          4.446   8.1  1.391110\n0.03                     0.5          4.762   8.0  1.451655\n0.05                     2.6          6.126  10.0  2.121687\n0.07                     0.5          6.842  12.4  2.765464\n0.09                     1.2          7.070  11.8  2.342618\n0.11                     3.4          8.432  12.5  2.325146\n0.13                     3.2          9.602  13.4  2.672879\n0.15                     0.9          9.468  13.8  3.218216\n0.17                     1.8         10.444  14.6  2.569774\n0.19                     0.9         11.380  15.0  2.241537\n0.21                     5.9         11.782  14.3  1.630286\n0.23                     4.7         12.084  15.2  1.755035\n0.25                     8.9         12.154  14.8  1.343345\n0.27                     3.9         12.344  14.8  1.741119\n0.29                    10.3         12.620  14.9  1.066178\n0.31                    10.4         12.936  14.9  1.034657\n0.33                     9.6         12.482  15.1  1.278183\n0.35                    10.1         13.110  15.7  1.232262\n0.37                     0.7         12.712  15.7  2.070161\n0.39                    10.9         12.640  15.6  1.067325\n0.41                     9.9         13.044  15.6  1.092116\n0.43                    10.6         12.770  14.8  1.059312\n0.45                     9.7         12.702  15.1  1.116205\n0.47                     0.8         12.722  16.3  2.198821\n0.49                    10.5         12.758  15.2  1.230910",
      "text/html": "<div>\n<style scoped>\n    .dataframe tbody tr th:only-of-type {\n        vertical-align: middle;\n    }\n\n    .dataframe tbody tr th {\n        vertical-align: top;\n    }\n\n    .dataframe thead th {\n        text-align: right;\n    }\n</style>\n<table border=\"1\" class=\"dataframe\">\n  <thead>\n    <tr style=\"text-align: right;\">\n      <th></th>\n      <th>amin</th>\n      <th>hateful_nodes</th>\n      <th>amax</th>\n      <th>std</th>\n    </tr>\n    <tr>\n      <th>p_normal_reposts_hater</th>\n      <th></th>\n      <th></th>\n      <th></th>\n      <th></th>\n    </tr>\n  </thead>\n  <tbody>\n    <tr>\n      <th>0.01</th>\n      <td>2.2</td>\n      <td>4.446</td>\n      <td>8.1</td>\n      <td>1.391110</td>\n    </tr>\n    <tr>\n      <th>0.03</th>\n      <td>0.5</td>\n      <td>4.762</td>\n      <td>8.0</td>\n      <td>1.451655</td>\n    </tr>\n    <tr>\n      <th>0.05</th>\n      <td>2.6</td>\n      <td>6.126</td>\n      <td>10.0</td>\n      <td>2.121687</td>\n    </tr>\n    <tr>\n      <th>0.07</th>\n      <td>0.5</td>\n      <td>6.842</td>\n      <td>12.4</td>\n      <td>2.765464</td>\n    </tr>\n    <tr>\n      <th>0.09</th>\n      <td>1.2</td>\n      <td>7.070</td>\n      <td>11.8</td>\n      <td>2.342618</td>\n    </tr>\n    <tr>\n      <th>0.11</th>\n      <td>3.4</td>\n      <td>8.432</td>\n      <td>12.5</td>\n      <td>2.325146</td>\n    </tr>\n    <tr>\n      <th>0.13</th>\n      <td>3.2</td>\n      <td>9.602</td>\n      <td>13.4</td>\n      <td>2.672879</td>\n    </tr>\n    <tr>\n      <th>0.15</th>\n      <td>0.9</td>\n      <td>9.468</td>\n      <td>13.8</td>\n      <td>3.218216</td>\n    </tr>\n    <tr>\n      <th>0.17</th>\n      <td>1.8</td>\n      <td>10.444</td>\n      <td>14.6</td>\n      <td>2.569774</td>\n    </tr>\n    <tr>\n      <th>0.19</th>\n      <td>0.9</td>\n      <td>11.380</td>\n      <td>15.0</td>\n      <td>2.241537</td>\n    </tr>\n    <tr>\n      <th>0.21</th>\n      <td>5.9</td>\n      <td>11.782</td>\n      <td>14.3</td>\n      <td>1.630286</td>\n    </tr>\n    <tr>\n      <th>0.23</th>\n      <td>4.7</td>\n      <td>12.084</td>\n      <td>15.2</td>\n      <td>1.755035</td>\n    </tr>\n    <tr>\n      <th>0.25</th>\n      <td>8.9</td>\n      <td>12.154</td>\n      <td>14.8</td>\n      <td>1.343345</td>\n    </tr>\n    <tr>\n      <th>0.27</th>\n      <td>3.9</td>\n      <td>12.344</td>\n      <td>14.8</td>\n      <td>1.741119</td>\n    </tr>\n    <tr>\n      <th>0.29</th>\n      <td>10.3</td>\n      <td>12.620</td>\n      <td>14.9</td>\n      <td>1.066178</td>\n    </tr>\n    <tr>\n      <th>0.31</th>\n      <td>10.4</td>\n      <td>12.936</td>\n      <td>14.9</td>\n      <td>1.034657</td>\n    </tr>\n    <tr>\n      <th>0.33</th>\n      <td>9.6</td>\n      <td>12.482</td>\n      <td>15.1</td>\n      <td>1.278183</td>\n    </tr>\n    <tr>\n      <th>0.35</th>\n      <td>10.1</td>\n      <td>13.110</td>\n      <td>15.7</td>\n      <td>1.232262</td>\n    </tr>\n    <tr>\n      <th>0.37</th>\n      <td>0.7</td>\n      <td>12.712</td>\n      <td>15.7</td>\n      <td>2.070161</td>\n    </tr>\n    <tr>\n      <th>0.39</th>\n      <td>10.9</td>\n      <td>12.640</td>\n      <td>15.6</td>\n      <td>1.067325</td>\n    </tr>\n    <tr>\n      <th>0.41</th>\n      <td>9.9</td>\n      <td>13.044</td>\n      <td>15.6</td>\n      <td>1.092116</td>\n    </tr>\n    <tr>\n      <th>0.43</th>\n      <td>10.6</td>\n      <td>12.770</td>\n      <td>14.8</td>\n      <td>1.059312</td>\n    </tr>\n    <tr>\n      <th>0.45</th>\n      <td>9.7</td>\n      <td>12.702</td>\n      <td>15.1</td>\n      <td>1.116205</td>\n    </tr>\n    <tr>\n      <th>0.47</th>\n      <td>0.8</td>\n      <td>12.722</td>\n      <td>16.3</td>\n      <td>2.198821</td>\n    </tr>\n    <tr>\n      <th>0.49</th>\n      <td>10.5</td>\n      <td>12.758</td>\n      <td>15.2</td>\n      <td>1.230910</td>\n    </tr>\n  </tbody>\n</table>\n</div>"
     },
     "metadata": {}
    }
   ]
  },
  {
   "cell_type": "code",
   "metadata": {
    "cell_id": "00005-02759859-29bd-406d-9976-f18260eec50c",
    "deepnote_to_be_reexecuted": false,
    "source_hash": "95f8c240",
    "execution_start": 1636144452920,
    "execution_millis": 262,
    "deepnote_cell_type": "code"
   },
   "source": "df_plot = df_nodes.reset_index()\nsns.lineplot(data=df_plot, x=\"p_normal_reposts_hater\", y=\"hateful_nodes\")",
   "execution_count": 6,
   "outputs": [
    {
     "output_type": "execute_result",
     "execution_count": 6,
     "data": {
      "text/plain": "<AxesSubplot:xlabel='p_normal_reposts_hater', ylabel='hateful_nodes'>"
     },
     "metadata": {}
    },
    {
     "data": {
      "text/plain": "<Figure size 432x288 with 1 Axes>",
      "image/png": "[encoded data removed]"
     },
     "metadata": {
      "needs_background": "light",
      "image/png": {
       "width": 383,
       "height": 263
      }
     },
     "output_type": "display_data"
    }
   ]
  },
  {
   "cell_type": "code",
   "metadata": {
    "cell_id": "00006-ec141b25-654c-400a-bf58-bcc68b8aa560",
    "deepnote_to_be_reexecuted": false,
    "source_hash": "3b7fbc06",
    "execution_start": 1636144453248,
    "execution_millis": 15,
    "deepnote_cell_type": "code"
   },
   "source": "print('mean-path-length hateful')\n# df_path = df[df['swap-to-hate'] == False].groupby(['p_normal_reposts_hater'])['mean-path-length true'].agg([\ndf_path = df[df['swap-to-hate'] == False].groupby(['p_normal_reposts_hater'])['plot-smoothed-mean-path-length true'].agg([\n    np.min,\n    np.mean,\n    np.max,\n    np.std\n])\ndf_path.columns = ['amin', 'hateful_path_len', 'amax', 'std']\ndf_path",
   "execution_count": 7,
   "outputs": [
    {
     "name": "stdout",
     "text": "mean-path-length hateful\n",
     "output_type": "stream"
    },
    {
     "output_type": "execute_result",
     "execution_count": 7,
     "data": {
      "application/vnd.deepnote.dataframe.v2+json": {
       "row_count": 25,
       "column_count": 4,
       "columns": [
        {
         "name": "amin",
         "dtype": "float64",
         "stats": {
          "unique_count": 25,
          "nan_count": 0,
          "min": "0.0",
          "max": "0.0360690705942102",
          "histogram": [
           {
            "bin_start": 0,
            "bin_end": 0.0036069070594210197,
            "count": 1
           },
           {
            "bin_start": 0.0036069070594210197,
            "bin_end": 0.007213814118842039,
            "count": 1
           },
           {
            "bin_start": 0.007213814118842039,
            "bin_end": 0.010820721178263059,
            "count": 6
           },
           {
            "bin_start": 0.010820721178263059,
            "bin_end": 0.014427628237684079,
            "count": 3
           },
           {
            "bin_start": 0.014427628237684079,
            "bin_end": 0.0180345352971051,
            "count": 4
           },
           {
            "bin_start": 0.0180345352971051,
            "bin_end": 0.021641442356526118,
            "count": 3
           },
           {
            "bin_start": 0.021641442356526118,
            "bin_end": 0.025248349415947138,
            "count": 1
           },
           {
            "bin_start": 0.025248349415947138,
            "bin_end": 0.028855256475368157,
            "count": 2
           },
           {
            "bin_start": 0.028855256475368157,
            "bin_end": 0.032462163534789173,
            "count": 3
           },
           {
            "bin_start": 0.032462163534789173,
            "bin_end": 0.0360690705942102,
            "count": 1
           }
          ]
         }
        },
        {
         "name": "hateful_path_len",
         "dtype": "float64",
         "stats": {
          "unique_count": 25,
          "nan_count": 0,
          "min": "0.014333271294506589",
          "max": "0.04049605099495555",
          "histogram": [
           {
            "bin_start": 0.014333271294506589,
            "bin_end": 0.016949549264551486,
            "count": 8
           },
           {
            "bin_start": 0.016949549264551486,
            "bin_end": 0.01956582723459638,
            "count": 2
           },
           {
            "bin_start": 0.01956582723459638,
            "bin_end": 0.022182105204641277,
            "count": 2
           },
           {
            "bin_start": 0.022182105204641277,
            "bin_end": 0.024798383174686175,
            "count": 2
           },
           {
            "bin_start": 0.024798383174686175,
            "bin_end": 0.027414661144731067,
            "count": 2
           },
           {
            "bin_start": 0.027414661144731067,
            "bin_end": 0.030030939114775966,
            "count": 2
           },
           {
            "bin_start": 0.030030939114775966,
            "bin_end": 0.032647217084820865,
            "count": 1
           },
           {
            "bin_start": 0.032647217084820865,
            "bin_end": 0.03526349505486576,
            "count": 2
           },
           {
            "bin_start": 0.03526349505486576,
            "bin_end": 0.037879773024910655,
            "count": 2
           },
           {
            "bin_start": 0.037879773024910655,
            "bin_end": 0.04049605099495555,
            "count": 2
           }
          ]
         }
        },
        {
         "name": "amax",
         "dtype": "float64",
         "stats": {
          "unique_count": 25,
          "nan_count": 0,
          "min": "0.0192871287128713",
          "max": "0.0459263657957245",
          "histogram": [
           {
            "bin_start": 0.0192871287128713,
            "bin_end": 0.021951052421156622,
            "count": 7
           },
           {
            "bin_start": 0.021951052421156622,
            "bin_end": 0.02461497612944194,
            "count": 2
           },
           {
            "bin_start": 0.02461497612944194,
            "bin_end": 0.027278899837727258,
            "count": 4
           },
           {
            "bin_start": 0.027278899837727258,
            "bin_end": 0.02994282354601258,
            "count": 0
           },
           {
            "bin_start": 0.02994282354601258,
            "bin_end": 0.0326067472542979,
            "count": 3
           },
           {
            "bin_start": 0.0326067472542979,
            "bin_end": 0.03527067096258322,
            "count": 2
           },
           {
            "bin_start": 0.03527067096258322,
            "bin_end": 0.03793459467086854,
            "count": 1
           },
           {
            "bin_start": 0.03793459467086854,
            "bin_end": 0.04059851837915386,
            "count": 3
           },
           {
            "bin_start": 0.04059851837915386,
            "bin_end": 0.04326244208743918,
            "count": 1
           },
           {
            "bin_start": 0.04326244208743918,
            "bin_end": 0.0459263657957245,
            "count": 2
           }
          ]
         }
        },
        {
         "name": "std",
         "dtype": "float64",
         "stats": {
          "unique_count": 25,
          "nan_count": 0,
          "min": "0.0019212850300670496",
          "max": "0.0036492222262885484",
          "histogram": [
           {
            "bin_start": 0.0019212850300670496,
            "bin_end": 0.0020940787496891993,
            "count": 3
           },
           {
            "bin_start": 0.0020940787496891993,
            "bin_end": 0.0022668724693113494,
            "count": 2
           },
           {
            "bin_start": 0.0022668724693113494,
            "bin_end": 0.002439666188933499,
            "count": 5
           },
           {
            "bin_start": 0.002439666188933499,
            "bin_end": 0.0026124599085556493,
            "count": 4
           },
           {
            "bin_start": 0.0026124599085556493,
            "bin_end": 0.002785253628177799,
            "count": 5
           },
           {
            "bin_start": 0.002785253628177799,
            "bin_end": 0.0029580473477999487,
            "count": 3
           },
           {
            "bin_start": 0.0029580473477999487,
            "bin_end": 0.003130841067422099,
            "count": 0
           },
           {
            "bin_start": 0.003130841067422099,
            "bin_end": 0.0033036347870442485,
            "count": 0
           },
           {
            "bin_start": 0.0033036347870442485,
            "bin_end": 0.0034764285066663982,
            "count": 1
           },
           {
            "bin_start": 0.0034764285066663982,
            "bin_end": 0.0036492222262885484,
            "count": 2
           }
          ]
         }
        },
        {
         "name": "_deepnote_index_column",
         "dtype": "float64"
        }
       ],
       "rows_top": [
        {
         "amin": 0.0079090909090909,
         "hateful_path_len": 0.014362685421213448,
         "amax": 0.0217928286852589,
         "std": 0.0023084165064360305,
         "_deepnote_index_column": 0.01
        },
        {
         "amin": 0,
         "hateful_path_len": 0.014620470335406281,
         "amax": 0.0215384615384615,
         "std": 0.0036492222262885484,
         "_deepnote_index_column": 0.03
        },
        {
         "amin": 0.0094,
         "hateful_path_len": 0.015508224089206761,
         "amax": 0.0205053191489361,
         "std": 0.0026475641008573995,
         "_deepnote_index_column": 0.05
        },
        {
         "amin": 0.0072222222222222,
         "hateful_path_len": 0.014333271294506589,
         "amax": 0.0192871287128713,
         "std": 0.0026324420048364026,
         "_deepnote_index_column": 0.07
        },
        {
         "amin": 0.005,
         "hateful_path_len": 0.015158573872146166,
         "amax": 0.0208181818181818,
         "std": 0.0027858518002346257,
         "_deepnote_index_column": 0.09
        },
        {
         "amin": 0.0100423728813559,
         "hateful_path_len": 0.015472236687804513,
         "amax": 0.0195049504950495,
         "std": 0.0022912300744099444,
         "_deepnote_index_column": 0.11
        },
        {
         "amin": 0.0095,
         "hateful_path_len": 0.015516708062079694,
         "amax": 0.0217433414043583,
         "std": 0.0026946381661142283,
         "_deepnote_index_column": 0.13
        },
        {
         "amin": 0.0078571428571428,
         "hateful_path_len": 0.016652447782324747,
         "amax": 0.0225092250922509,
         "std": 0.002881174558295916,
         "_deepnote_index_column": 0.15
        },
        {
         "amin": 0.0124812030075188,
         "hateful_path_len": 0.01702402212081804,
         "amax": 0.0260650406504065,
         "std": 0.0025656927059763777,
         "_deepnote_index_column": 0.17
        },
        {
         "amin": 0.0143442622950819,
         "hateful_path_len": 0.01857267599852165,
         "amax": 0.0259032576505429,
         "std": 0.002576738530239214,
         "_deepnote_index_column": 0.19
        },
        {
         "amin": 0.0154939759036144,
         "hateful_path_len": 0.0198058552377488,
         "amax": 0.025348506401138,
         "std": 0.0022863362126468844,
         "_deepnote_index_column": 0.21
        },
        {
         "amin": 0.014753086419753,
         "hateful_path_len": 0.02045589233308418,
         "amax": 0.0245921450151057,
         "std": 0.0025821436756996684,
         "_deepnote_index_column": 0.23
        },
        {
         "amin": 0.0155238095238095,
         "hateful_path_len": 0.022262524120482238,
         "amax": 0.0265737704918033,
         "std": 0.002576036158851236,
         "_deepnote_index_column": 0.25
        },
        {
         "amin": 0.0168811881188118,
         "hateful_path_len": 0.022792162924773554,
         "amax": 0.030384047267356,
         "std": 0.0027721833949389545,
         "_deepnote_index_column": 0.27
        },
        {
         "amin": 0.0206112469437653,
         "hateful_path_len": 0.025440908576195277,
         "amax": 0.0323287671232877,
         "std": 0.002886535927024237,
         "_deepnote_index_column": 0.29
        },
        {
         "amin": 0.0183491461100569,
         "hateful_path_len": 0.026383270544205528,
         "amax": 0.032507614213198,
         "std": 0.0027296074003498997,
         "_deepnote_index_column": 0.31
        },
        {
         "amin": 0.0242066805845511,
         "hateful_path_len": 0.027941328953485254,
         "amax": 0.0336963696369637,
         "std": 0.002235934937776488,
         "_deepnote_index_column": 0.33
        },
        {
         "amin": 0.0252782462057335,
         "hateful_path_len": 0.02889249214487807,
         "amax": 0.033989703989704,
         "std": 0.0020206172470251175,
         "_deepnote_index_column": 0.35
        },
        {
         "amin": 0.0130263157894736,
         "hateful_path_len": 0.03034707510336644,
         "amax": 0.0358024691358025,
         "std": 0.0033598916888793783,
         "_deepnote_index_column": 0.37
        },
        {
         "amin": 0.0279952267303102,
         "hateful_path_len": 0.032997762870944185,
         "amax": 0.038195,
         "std": 0.0019212850300670496,
         "_deepnote_index_column": 0.39
        },
        {
         "amin": 0.0290224159402241,
         "hateful_path_len": 0.033849832385557915,
         "amax": 0.0394755804643715,
         "std": 0.0023513625456031088,
         "_deepnote_index_column": 0.41
        },
        {
         "amin": 0.0322144846796657,
         "hateful_path_len": 0.036233125763314715,
         "amax": 0.040125284738041,
         "std": 0.0019838842308456794,
         "_deepnote_index_column": 0.43
        },
        {
         "amin": 0.03135955831608,
         "hateful_path_len": 0.03771560461430218,
         "amax": 0.0427530253025302,
         "std": 0.002379045529222905,
         "_deepnote_index_column": 0.45
        },
        {
         "amin": 0.0187301587301587,
         "hateful_path_len": 0.03872917916035406,
         "amax": 0.0434207240948814,
         "std": 0.0036317039655967905,
         "_deepnote_index_column": 0.47
        },
        {
         "amin": 0.0360690705942102,
         "hateful_path_len": 0.04049605099495555,
         "amax": 0.0459263657957245,
         "std": 0.0021702533662789594,
         "_deepnote_index_column": 0.49
        }
       ],
       "rows_bottom": null
      },
      "text/plain": "                            amin  hateful_path_len      amax       std\np_normal_reposts_hater                                                \n0.01                    0.007909          0.014363  0.021793  0.002308\n0.03                    0.000000          0.014620  0.021538  0.003649\n0.05                    0.009400          0.015508  0.020505  0.002648\n0.07                    0.007222          0.014333  0.019287  0.002632\n0.09                    0.005000          0.015159  0.020818  0.002786\n0.11                    0.010042          0.015472  0.019505  0.002291\n0.13                    0.009500          0.015517  0.021743  0.002695\n0.15                    0.007857          0.016652  0.022509  0.002881\n0.17                    0.012481          0.017024  0.026065  0.002566\n0.19                    0.014344          0.018573  0.025903  0.002577\n0.21                    0.015494          0.019806  0.025349  0.002286\n0.23                    0.014753          0.020456  0.024592  0.002582\n0.25                    0.015524          0.022263  0.026574  0.002576\n0.27                    0.016881          0.022792  0.030384  0.002772\n0.29                    0.020611          0.025441  0.032329  0.002887\n0.31                    0.018349          0.026383  0.032508  0.002730\n0.33                    0.024207          0.027941  0.033696  0.002236\n0.35                    0.025278          0.028892  0.033990  0.002021\n0.37                    0.013026          0.030347  0.035802  0.003360\n0.39                    0.027995          0.032998  0.038195  0.001921\n0.41                    0.029022          0.033850  0.039476  0.002351\n0.43                    0.032214          0.036233  0.040125  0.001984\n0.45                    0.031360          0.037716  0.042753  0.002379\n0.47                    0.018730          0.038729  0.043421  0.003632\n0.49                    0.036069          0.040496  0.045926  0.002170",
      "text/html": "<div>\n<style scoped>\n    .dataframe tbody tr th:only-of-type {\n        vertical-align: middle;\n    }\n\n    .dataframe tbody tr th {\n        vertical-align: top;\n    }\n\n    .dataframe thead th {\n        text-align: right;\n    }\n</style>\n<table border=\"1\" class=\"dataframe\">\n  <thead>\n    <tr style=\"text-align: right;\">\n      <th></th>\n      <th>amin</th>\n      <th>hateful_path_len</th>\n      <th>amax</th>\n      <th>std</th>\n    </tr>\n    <tr>\n      <th>p_normal_reposts_hater</th>\n      <th></th>\n      <th></th>\n      <th></th>\n      <th></th>\n    </tr>\n  </thead>\n  <tbody>\n    <tr>\n      <th>0.01</th>\n      <td>0.007909</td>\n      <td>0.014363</td>\n      <td>0.021793</td>\n      <td>0.002308</td>\n    </tr>\n    <tr>\n      <th>0.03</th>\n      <td>0.000000</td>\n      <td>0.014620</td>\n      <td>0.021538</td>\n      <td>0.003649</td>\n    </tr>\n    <tr>\n      <th>0.05</th>\n      <td>0.009400</td>\n      <td>0.015508</td>\n      <td>0.020505</td>\n      <td>0.002648</td>\n    </tr>\n    <tr>\n      <th>0.07</th>\n      <td>0.007222</td>\n      <td>0.014333</td>\n      <td>0.019287</td>\n      <td>0.002632</td>\n    </tr>\n    <tr>\n      <th>0.09</th>\n      <td>0.005000</td>\n      <td>0.015159</td>\n      <td>0.020818</td>\n      <td>0.002786</td>\n    </tr>\n    <tr>\n      <th>0.11</th>\n      <td>0.010042</td>\n      <td>0.015472</td>\n      <td>0.019505</td>\n      <td>0.002291</td>\n    </tr>\n    <tr>\n      <th>0.13</th>\n      <td>0.009500</td>\n      <td>0.015517</td>\n      <td>0.021743</td>\n      <td>0.002695</td>\n    </tr>\n    <tr>\n      <th>0.15</th>\n      <td>0.007857</td>\n      <td>0.016652</td>\n      <td>0.022509</td>\n      <td>0.002881</td>\n    </tr>\n    <tr>\n      <th>0.17</th>\n      <td>0.012481</td>\n      <td>0.017024</td>\n      <td>0.026065</td>\n      <td>0.002566</td>\n    </tr>\n    <tr>\n      <th>0.19</th>\n      <td>0.014344</td>\n      <td>0.018573</td>\n      <td>0.025903</td>\n      <td>0.002577</td>\n    </tr>\n    <tr>\n      <th>0.21</th>\n      <td>0.015494</td>\n      <td>0.019806</td>\n      <td>0.025349</td>\n      <td>0.002286</td>\n    </tr>\n    <tr>\n      <th>0.23</th>\n      <td>0.014753</td>\n      <td>0.020456</td>\n      <td>0.024592</td>\n      <td>0.002582</td>\n    </tr>\n    <tr>\n      <th>0.25</th>\n      <td>0.015524</td>\n      <td>0.022263</td>\n      <td>0.026574</td>\n      <td>0.002576</td>\n    </tr>\n    <tr>\n      <th>0.27</th>\n      <td>0.016881</td>\n      <td>0.022792</td>\n      <td>0.030384</td>\n      <td>0.002772</td>\n    </tr>\n    <tr>\n      <th>0.29</th>\n      <td>0.020611</td>\n      <td>0.025441</td>\n      <td>0.032329</td>\n      <td>0.002887</td>\n    </tr>\n    <tr>\n      <th>0.31</th>\n      <td>0.018349</td>\n      <td>0.026383</td>\n      <td>0.032508</td>\n      <td>0.002730</td>\n    </tr>\n    <tr>\n      <th>0.33</th>\n      <td>0.024207</td>\n      <td>0.027941</td>\n      <td>0.033696</td>\n      <td>0.002236</td>\n    </tr>\n    <tr>\n      <th>0.35</th>\n      <td>0.025278</td>\n      <td>0.028892</td>\n      <td>0.033990</td>\n      <td>0.002021</td>\n    </tr>\n    <tr>\n      <th>0.37</th>\n      <td>0.013026</td>\n      <td>0.030347</td>\n      <td>0.035802</td>\n      <td>0.003360</td>\n    </tr>\n    <tr>\n      <th>0.39</th>\n      <td>0.027995</td>\n      <td>0.032998</td>\n      <td>0.038195</td>\n      <td>0.001921</td>\n    </tr>\n    <tr>\n      <th>0.41</th>\n      <td>0.029022</td>\n      <td>0.033850</td>\n      <td>0.039476</td>\n      <td>0.002351</td>\n    </tr>\n    <tr>\n      <th>0.43</th>\n      <td>0.032214</td>\n      <td>0.036233</td>\n      <td>0.040125</td>\n      <td>0.001984</td>\n    </tr>\n    <tr>\n      <th>0.45</th>\n      <td>0.031360</td>\n      <td>0.037716</td>\n      <td>0.042753</td>\n      <td>0.002379</td>\n    </tr>\n    <tr>\n      <th>0.47</th>\n      <td>0.018730</td>\n      <td>0.038729</td>\n      <td>0.043421</td>\n      <td>0.003632</td>\n    </tr>\n    <tr>\n      <th>0.49</th>\n      <td>0.036069</td>\n      <td>0.040496</td>\n      <td>0.045926</td>\n      <td>0.002170</td>\n    </tr>\n  </tbody>\n</table>\n</div>"
     },
     "metadata": {}
    }
   ]
  },
  {
   "cell_type": "code",
   "metadata": {
    "cell_id": "00007-f9bc39bf-a548-4cf4-86b8-4dd8f949aa43",
    "deepnote_to_be_reexecuted": false,
    "source_hash": "409f08c7",
    "execution_start": 1636144453290,
    "execution_millis": 309,
    "deepnote_cell_type": "code"
   },
   "source": "df_plot = df_path.reset_index()\nsns.lineplot(data=df_plot, x=\"p_normal_reposts_hater\", y=\"hateful_path_len\")",
   "execution_count": 8,
   "outputs": [
    {
     "output_type": "execute_result",
     "execution_count": 8,
     "data": {
      "text/plain": "<AxesSubplot:xlabel='p_normal_reposts_hater', ylabel='hateful_path_len'>"
     },
     "metadata": {}
    },
    {
     "data": {
      "text/plain": "<Figure size 432x288 with 1 Axes>",
      "image/png": "[encoded data removed]"
     },
     "metadata": {
      "needs_background": "light",
      "image/png": {
       "width": 399,
       "height": 263
      }
     },
     "output_type": "display_data"
    }
   ]
  },
  {
   "cell_type": "code",
   "metadata": {
    "cell_id": "00008-cd8cd53e-d315-4c06-beb4-7a2511018bfb",
    "deepnote_to_be_reexecuted": false,
    "source_hash": "ddcdc592",
    "execution_start": 1636144453654,
    "execution_millis": 13,
    "deepnote_cell_type": "code"
   },
   "source": "print('num-posts hateful')\n# df_posts = df[df['swap-to-hate'] == False].groupby(['p_normal_reposts_hater'])['percents-hateful-posts'].agg([\ndf_posts = df[df['swap-to-hate'] == False].groupby(['p_normal_reposts_hater'])['plot-smoothed-num-posts true'].agg([\n    np.min,\n    np.mean,\n    np.max,\n    np.std\n])\ndf_posts.columns = ['amin', 'hateful_posts_percents', 'amax', 'std']\ndf_posts",
   "execution_count": 9,
   "outputs": [
    {
     "name": "stdout",
     "text": "num-posts hateful\n",
     "output_type": "stream"
    },
    {
     "output_type": "execute_result",
     "execution_count": 9,
     "data": {
      "application/vnd.deepnote.dataframe.v2+json": {
       "row_count": 25,
       "column_count": 4,
       "columns": [
        {
         "name": "amin",
         "dtype": "float64",
         "stats": {
          "unique_count": 25,
          "nan_count": 0,
          "min": "0.05",
          "max": "20.340000000000018",
          "histogram": [
           {
            "bin_start": 0.05,
            "bin_end": 2.0790000000000015,
            "count": 13
           },
           {
            "bin_start": 2.0790000000000015,
            "bin_end": 4.108000000000003,
            "count": 4
           },
           {
            "bin_start": 4.108000000000003,
            "bin_end": 6.137000000000005,
            "count": 2
           },
           {
            "bin_start": 6.137000000000005,
            "bin_end": 8.166000000000007,
            "count": 1
           },
           {
            "bin_start": 8.166000000000007,
            "bin_end": 10.19500000000001,
            "count": 2
           },
           {
            "bin_start": 10.19500000000001,
            "bin_end": 12.22400000000001,
            "count": 2
           },
           {
            "bin_start": 12.22400000000001,
            "bin_end": 14.253000000000013,
            "count": 0
           },
           {
            "bin_start": 14.253000000000013,
            "bin_end": 16.282000000000014,
            "count": 0
           },
           {
            "bin_start": 16.282000000000014,
            "bin_end": 18.311000000000018,
            "count": 0
           },
           {
            "bin_start": 18.311000000000018,
            "bin_end": 20.340000000000018,
            "count": 1
           }
          ]
         }
        },
        {
         "name": "hateful_posts_percents",
         "dtype": "float64",
         "stats": {
          "unique_count": 25,
          "nan_count": 0,
          "min": "1.6484000000000014",
          "max": "31.079600000000028",
          "histogram": [
           {
            "bin_start": 1.6484000000000014,
            "bin_end": 4.5915200000000045,
            "count": 9
           },
           {
            "bin_start": 4.5915200000000045,
            "bin_end": 7.534640000000007,
            "count": 5
           },
           {
            "bin_start": 7.534640000000007,
            "bin_end": 10.47776000000001,
            "count": 3
           },
           {
            "bin_start": 10.47776000000001,
            "bin_end": 13.420880000000011,
            "count": 2
           },
           {
            "bin_start": 13.420880000000011,
            "bin_end": 16.364000000000015,
            "count": 1
           },
           {
            "bin_start": 16.364000000000015,
            "bin_end": 19.30712000000002,
            "count": 1
           },
           {
            "bin_start": 19.30712000000002,
            "bin_end": 22.25024000000002,
            "count": 1
           },
           {
            "bin_start": 22.25024000000002,
            "bin_end": 25.193360000000023,
            "count": 1
           },
           {
            "bin_start": 25.193360000000023,
            "bin_end": 28.136480000000027,
            "count": 1
           },
           {
            "bin_start": 28.136480000000027,
            "bin_end": 31.079600000000028,
            "count": 1
           }
          ]
         }
        },
        {
         "name": "amax",
         "dtype": "float64",
         "stats": {
          "unique_count": 25,
          "nan_count": 0,
          "min": "3.2500000000000027",
          "max": "49.770000000000046",
          "histogram": [
           {
            "bin_start": 3.2500000000000027,
            "bin_end": 7.902000000000007,
            "count": 9
           },
           {
            "bin_start": 7.902000000000007,
            "bin_end": 12.554000000000013,
            "count": 4
           },
           {
            "bin_start": 12.554000000000013,
            "bin_end": 17.206000000000017,
            "count": 3
           },
           {
            "bin_start": 17.206000000000017,
            "bin_end": 21.858000000000022,
            "count": 3
           },
           {
            "bin_start": 21.858000000000022,
            "bin_end": 26.510000000000026,
            "count": 1
           },
           {
            "bin_start": 26.510000000000026,
            "bin_end": 31.16200000000003,
            "count": 1
           },
           {
            "bin_start": 31.16200000000003,
            "bin_end": 35.814000000000036,
            "count": 1
           },
           {
            "bin_start": 35.814000000000036,
            "bin_end": 40.46600000000004,
            "count": 0
           },
           {
            "bin_start": 40.46600000000004,
            "bin_end": 45.11800000000004,
            "count": 1
           },
           {
            "bin_start": 45.11800000000004,
            "bin_end": 49.770000000000046,
            "count": 2
           }
          ]
         }
        },
        {
         "name": "std",
         "dtype": "float64",
         "stats": {
          "unique_count": 25,
          "nan_count": 0,
          "min": "0.6388841036989295",
          "max": "7.888567806694474",
          "histogram": [
           {
            "bin_start": 0.6388841036989295,
            "bin_end": 1.3638524739984839,
            "count": 11
           },
           {
            "bin_start": 1.3638524739984839,
            "bin_end": 2.0888208442980383,
            "count": 3
           },
           {
            "bin_start": 2.0888208442980383,
            "bin_end": 2.813789214597593,
            "count": 3
           },
           {
            "bin_start": 2.813789214597593,
            "bin_end": 3.538757584897147,
            "count": 2
           },
           {
            "bin_start": 3.538757584897147,
            "bin_end": 4.263725955196701,
            "count": 2
           },
           {
            "bin_start": 4.263725955196701,
            "bin_end": 4.988694325496256,
            "count": 0
           },
           {
            "bin_start": 4.988694325496256,
            "bin_end": 5.7136626957958105,
            "count": 1
           },
           {
            "bin_start": 5.7136626957958105,
            "bin_end": 6.438631066095365,
            "count": 0
           },
           {
            "bin_start": 6.438631066095365,
            "bin_end": 7.163599436394919,
            "count": 1
           },
           {
            "bin_start": 7.163599436394919,
            "bin_end": 7.888567806694474,
            "count": 2
           }
          ]
         }
        },
        {
         "name": "_deepnote_index_column",
         "dtype": "float64"
        }
       ],
       "rows_top": [
        {
         "amin": 0.5400000000000005,
         "hateful_posts_percents": 1.6484000000000014,
         "amax": 3.480000000000003,
         "std": 0.6388841036989295,
         "_deepnote_index_column": 0.01
        },
        {
         "amin": 0.05,
         "hateful_posts_percents": 1.798800000000001,
         "amax": 3.2500000000000027,
         "std": 0.6825511567880123,
         "_deepnote_index_column": 0.03
        },
        {
         "amin": 0.9600000000000009,
         "hateful_posts_percents": 2.323400000000002,
         "amax": 3.8000000000000034,
         "std": 0.6986068059987365,
         "_deepnote_index_column": 0.05
        },
        {
         "amin": 0.1800000000000001,
         "hateful_posts_percents": 2.299400000000002,
         "amax": 5.050000000000004,
         "std": 0.9448947895217263,
         "_deepnote_index_column": 0.07
        },
        {
         "amin": 0.2400000000000002,
         "hateful_posts_percents": 2.6154000000000015,
         "amax": 4.090000000000003,
         "std": 0.7685055999424196,
         "_deepnote_index_column": 0.09
        },
        {
         "amin": 1.110000000000001,
         "hateful_posts_percents": 3.126600000000003,
         "amax": 5.940000000000005,
         "std": 0.8358781524326897,
         "_deepnote_index_column": 0.11
        },
        {
         "amin": 1.4300000000000013,
         "hateful_posts_percents": 3.3376000000000037,
         "amax": 5.800000000000005,
         "std": 1.0212148827424599,
         "_deepnote_index_column": 0.13
        },
        {
         "amin": 0.4200000000000004,
         "hateful_posts_percents": 3.801400000000003,
         "amax": 7.110000000000007,
         "std": 1.3802484396303603,
         "_deepnote_index_column": 0.15
        },
        {
         "amin": 1.130000000000001,
         "hateful_posts_percents": 4.089200000000003,
         "amax": 6.310000000000006,
         "std": 1.1980065755671139,
         "_deepnote_index_column": 0.17
        },
        {
         "amin": 0.4500000000000004,
         "hateful_posts_percents": 4.863600000000004,
         "amax": 10.13000000000001,
         "std": 1.3542476787907776,
         "_deepnote_index_column": 0.19
        },
        {
         "amin": 3.110000000000003,
         "hateful_posts_percents": 5.385600000000006,
         "amax": 9.710000000000008,
         "std": 1.2903411350871374,
         "_deepnote_index_column": 0.21
        },
        {
         "amin": 1.6200000000000014,
         "hateful_posts_percents": 5.723600000000006,
         "amax": 8.690000000000008,
         "std": 1.3613330201815932,
         "_deepnote_index_column": 0.23
        },
        {
         "amin": 3.650000000000003,
         "hateful_posts_percents": 6.7252000000000045,
         "amax": 10.81000000000001,
         "std": 1.5337512237408437,
         "_deepnote_index_column": 0.25
        },
        {
         "amin": 2.6000000000000023,
         "hateful_posts_percents": 7.130400000000004,
         "amax": 13.540000000000012,
         "std": 2.1755561897349116,
         "_deepnote_index_column": 0.27
        },
        {
         "amin": 4.090000000000003,
         "hateful_posts_percents": 8.47660000000001,
         "amax": 13.890000000000011,
         "std": 2.2512215368913107,
         "_deepnote_index_column": 0.29
        },
        {
         "amin": 5.270000000000005,
         "hateful_posts_percents": 9.49280000000001,
         "amax": 16.220000000000013,
         "std": 2.05479731360541,
         "_deepnote_index_column": 0.31
        },
        {
         "amin": 6.330000000000005,
         "hateful_posts_percents": 10.378000000000009,
         "amax": 20.560000000000016,
         "std": 3.050227157817222,
         "_deepnote_index_column": 0.33
        },
        {
         "amin": 5.930000000000005,
         "hateful_posts_percents": 11.622400000000011,
         "amax": 19.510000000000016,
         "std": 2.739654052345045,
         "_deepnote_index_column": 0.35
        },
        {
         "amin": 0.7600000000000007,
         "hateful_posts_percents": 13.265800000000011,
         "amax": 21.49000000000002,
         "std": 3.6049241210277048,
         "_deepnote_index_column": 0.37
        },
        {
         "amin": 10.240000000000007,
         "hateful_posts_percents": 15.843600000000013,
         "amax": 22.98000000000002,
         "std": 3.17858122630914,
         "_deepnote_index_column": 0.39
        },
        {
         "amin": 8.280000000000008,
         "hateful_posts_percents": 17.142000000000017,
         "amax": 28.050000000000026,
         "std": 4.122606664997978,
         "_deepnote_index_column": 0.41
        },
        {
         "amin": 10.180000000000009,
         "hateful_posts_percents": 20.15920000000002,
         "amax": 33.05000000000003,
         "std": 5.080016406851222,
         "_deepnote_index_column": 0.43
        },
        {
         "amin": 10.69000000000001,
         "hateful_posts_percents": 24.014400000000027,
         "amax": 41.18000000000004,
         "std": 6.870882413697474,
         "_deepnote_index_column": 0.45
        },
        {
         "amin": 0.6300000000000006,
         "hateful_posts_percents": 26.91400000000002,
         "amax": 45.90000000000004,
         "std": 7.888567806694474,
         "_deepnote_index_column": 0.47
        },
        {
         "amin": 20.340000000000018,
         "hateful_posts_percents": 31.079600000000028,
         "amax": 49.770000000000046,
         "std": 7.186749133094944,
         "_deepnote_index_column": 0.49
        }
       ],
       "rows_bottom": null
      },
      "text/plain": "                         amin  hateful_posts_percents   amax       std\np_normal_reposts_hater                                                \n0.01                     0.54                  1.6484   3.48  0.638884\n0.03                     0.05                  1.7988   3.25  0.682551\n0.05                     0.96                  2.3234   3.80  0.698607\n0.07                     0.18                  2.2994   5.05  0.944895\n0.09                     0.24                  2.6154   4.09  0.768506\n0.11                     1.11                  3.1266   5.94  0.835878\n0.13                     1.43                  3.3376   5.80  1.021215\n0.15                     0.42                  3.8014   7.11  1.380248\n0.17                     1.13                  4.0892   6.31  1.198007\n0.19                     0.45                  4.8636  10.13  1.354248\n0.21                     3.11                  5.3856   9.71  1.290341\n0.23                     1.62                  5.7236   8.69  1.361333\n0.25                     3.65                  6.7252  10.81  1.533751\n0.27                     2.60                  7.1304  13.54  2.175556\n0.29                     4.09                  8.4766  13.89  2.251222\n0.31                     5.27                  9.4928  16.22  2.054797\n0.33                     6.33                 10.3780  20.56  3.050227\n0.35                     5.93                 11.6224  19.51  2.739654\n0.37                     0.76                 13.2658  21.49  3.604924\n0.39                    10.24                 15.8436  22.98  3.178581\n0.41                     8.28                 17.1420  28.05  4.122607\n0.43                    10.18                 20.1592  33.05  5.080016\n0.45                    10.69                 24.0144  41.18  6.870882\n0.47                     0.63                 26.9140  45.90  7.888568\n0.49                    20.34                 31.0796  49.77  7.186749",
      "text/html": "<div>\n<style scoped>\n    .dataframe tbody tr th:only-of-type {\n        vertical-align: middle;\n    }\n\n    .dataframe tbody tr th {\n        vertical-align: top;\n    }\n\n    .dataframe thead th {\n        text-align: right;\n    }\n</style>\n<table border=\"1\" class=\"dataframe\">\n  <thead>\n    <tr style=\"text-align: right;\">\n      <th></th>\n      <th>amin</th>\n      <th>hateful_posts_percents</th>\n      <th>amax</th>\n      <th>std</th>\n    </tr>\n    <tr>\n      <th>p_normal_reposts_hater</th>\n      <th></th>\n      <th></th>\n      <th></th>\n      <th></th>\n    </tr>\n  </thead>\n  <tbody>\n    <tr>\n      <th>0.01</th>\n      <td>0.54</td>\n      <td>1.6484</td>\n      <td>3.48</td>\n      <td>0.638884</td>\n    </tr>\n    <tr>\n      <th>0.03</th>\n      <td>0.05</td>\n      <td>1.7988</td>\n      <td>3.25</td>\n      <td>0.682551</td>\n    </tr>\n    <tr>\n      <th>0.05</th>\n      <td>0.96</td>\n      <td>2.3234</td>\n      <td>3.80</td>\n      <td>0.698607</td>\n    </tr>\n    <tr>\n      <th>0.07</th>\n      <td>0.18</td>\n      <td>2.2994</td>\n      <td>5.05</td>\n      <td>0.944895</td>\n    </tr>\n    <tr>\n      <th>0.09</th>\n      <td>0.24</td>\n      <td>2.6154</td>\n      <td>4.09</td>\n      <td>0.768506</td>\n    </tr>\n    <tr>\n      <th>0.11</th>\n      <td>1.11</td>\n      <td>3.1266</td>\n      <td>5.94</td>\n      <td>0.835878</td>\n    </tr>\n    <tr>\n      <th>0.13</th>\n      <td>1.43</td>\n      <td>3.3376</td>\n      <td>5.80</td>\n      <td>1.021215</td>\n    </tr>\n    <tr>\n      <th>0.15</th>\n      <td>0.42</td>\n      <td>3.8014</td>\n      <td>7.11</td>\n      <td>1.380248</td>\n    </tr>\n    <tr>\n      <th>0.17</th>\n      <td>1.13</td>\n      <td>4.0892</td>\n      <td>6.31</td>\n      <td>1.198007</td>\n    </tr>\n    <tr>\n      <th>0.19</th>\n      <td>0.45</td>\n      <td>4.8636</td>\n      <td>10.13</td>\n      <td>1.354248</td>\n    </tr>\n    <tr>\n      <th>0.21</th>\n      <td>3.11</td>\n      <td>5.3856</td>\n      <td>9.71</td>\n      <td>1.290341</td>\n    </tr>\n    <tr>\n      <th>0.23</th>\n      <td>1.62</td>\n      <td>5.7236</td>\n      <td>8.69</td>\n      <td>1.361333</td>\n    </tr>\n    <tr>\n      <th>0.25</th>\n      <td>3.65</td>\n      <td>6.7252</td>\n      <td>10.81</td>\n      <td>1.533751</td>\n    </tr>\n    <tr>\n      <th>0.27</th>\n      <td>2.60</td>\n      <td>7.1304</td>\n      <td>13.54</td>\n      <td>2.175556</td>\n    </tr>\n    <tr>\n      <th>0.29</th>\n      <td>4.09</td>\n      <td>8.4766</td>\n      <td>13.89</td>\n      <td>2.251222</td>\n    </tr>\n    <tr>\n      <th>0.31</th>\n      <td>5.27</td>\n      <td>9.4928</td>\n      <td>16.22</td>\n      <td>2.054797</td>\n    </tr>\n    <tr>\n      <th>0.33</th>\n      <td>6.33</td>\n      <td>10.3780</td>\n      <td>20.56</td>\n      <td>3.050227</td>\n    </tr>\n    <tr>\n      <th>0.35</th>\n      <td>5.93</td>\n      <td>11.6224</td>\n      <td>19.51</td>\n      <td>2.739654</td>\n    </tr>\n    <tr>\n      <th>0.37</th>\n      <td>0.76</td>\n      <td>13.2658</td>\n      <td>21.49</td>\n      <td>3.604924</td>\n    </tr>\n    <tr>\n      <th>0.39</th>\n      <td>10.24</td>\n      <td>15.8436</td>\n      <td>22.98</td>\n      <td>3.178581</td>\n    </tr>\n    <tr>\n      <th>0.41</th>\n      <td>8.28</td>\n      <td>17.1420</td>\n      <td>28.05</td>\n      <td>4.122607</td>\n    </tr>\n    <tr>\n      <th>0.43</th>\n      <td>10.18</td>\n      <td>20.1592</td>\n      <td>33.05</td>\n      <td>5.080016</td>\n    </tr>\n    <tr>\n      <th>0.45</th>\n      <td>10.69</td>\n      <td>24.0144</td>\n      <td>41.18</td>\n      <td>6.870882</td>\n    </tr>\n    <tr>\n      <th>0.47</th>\n      <td>0.63</td>\n      <td>26.9140</td>\n      <td>45.90</td>\n      <td>7.888568</td>\n    </tr>\n    <tr>\n      <th>0.49</th>\n      <td>20.34</td>\n      <td>31.0796</td>\n      <td>49.77</td>\n      <td>7.186749</td>\n    </tr>\n  </tbody>\n</table>\n</div>"
     },
     "metadata": {}
    }
   ]
  },
  {
   "cell_type": "code",
   "metadata": {
    "cell_id": "00009-205c774a-ed07-4d4b-9744-dbc884b07a18",
    "deepnote_to_be_reexecuted": false,
    "source_hash": "ff3ba05c",
    "execution_start": 1636144453669,
    "execution_millis": 257,
    "deepnote_cell_type": "code"
   },
   "source": "df_plot = df_posts.reset_index()\nsns.lineplot(data=df_plot, x=\"p_normal_reposts_hater\", y=\"hateful_posts_percents\")",
   "execution_count": 10,
   "outputs": [
    {
     "output_type": "execute_result",
     "execution_count": 10,
     "data": {
      "text/plain": "<AxesSubplot:xlabel='p_normal_reposts_hater', ylabel='hateful_posts_percents'>"
     },
     "metadata": {}
    },
    {
     "data": {
      "text/plain": "<Figure size 432x288 with 1 Axes>",
      "image/png": "[encoded data removed]"
     },
     "metadata": {
      "needs_background": "light",
      "image/png": {
       "width": 383,
       "height": 263
      }
     },
     "output_type": "display_data"
    }
   ]
  },
  {
   "cell_type": "code",
   "metadata": {
    "cell_id": "00010-e4cb40a0-64a2-462d-8766-b23a42f95830",
    "deepnote_to_be_reexecuted": false,
    "source_hash": "b623e53d",
    "execution_start": 1636144453974,
    "execution_millis": 0,
    "deepnote_cell_type": "code"
   },
   "source": "",
   "execution_count": 10,
   "outputs": []
  },
  {
   "cell_type": "markdown",
   "source": "<a style='text-decoration:none;line-height:16px;display:flex;color:#5B5B62;padding:10px;justify-content:end;' href='https://deepnote.com?utm_source=created-in-deepnote-cell&projectId=76a22323-d43c-4823-9752-036f6744cf38' target=\"_blank\">\n<img alt='Created in deepnote.com' style='display:inline;max-height:16px;margin:0px;margin-right:7.5px;' src='data:image/svg+xml;base64,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' > </img>\nCreated in <span style='font-weight:600;margin-left:4px;'>Deepnote</span></a>",
   "metadata": {
    "tags": [],
    "created_in_deepnote_cell": true,
    "deepnote_cell_type": "markdown"
   }
  }
 ],
 "nbformat": 4,
 "nbformat_minor": 2,
 "metadata": {
  "kernelspec": {
   "name": "pycharm-19907461",
   "language": "python",
   "display_name": "PyCharm (thesis)"
  },
  "language_info": {
   "codemirror_mode": {
    "name": "ipython",
    "version": 3
   },
   "file_extension": ".py",
   "mimetype": "text/x-python",
   "name": "python",
   "nbconvert_exporter": "python",
   "pygments_lexer": "ipython3",
   "version": "3.8.3"
  },
  "deepnote_notebook_id": "bb3fde39-11dd-4131-844a-9cce8e5bfadd",
  "deepnote": {},
  "deepnote_execution_queue": []
 }
}