{
 "cells": [
  {
   "cell_type": "code",
   "metadata": {
    "cell_id": "00000-debcab00-5db8-4f02-91c0-c24534589d7e",
    "deepnote_to_be_reexecuted": false,
    "source_hash": "b7dcc9c8",
    "execution_start": 1636144393708,
    "execution_millis": 42,
    "deepnote_cell_type": "code"
   },
   "source": "import numpy as np\nimport pandas as pd",
   "execution_count": 1,
   "outputs": []
  },
  {
   "cell_type": "code",
   "metadata": {
    "cell_id": "00001-5bd6c0d4-4935-4bc6-af70-e4947419a0f6",
    "deepnote_to_be_reexecuted": false,
    "source_hash": "519978ea",
    "execution_start": 1636144393751,
    "execution_millis": 0,
    "deepnote_cell_type": "code"
   },
   "source": "# f_name = 'evaluation_csv/network_growth validate_counter_defer_0_1000-table.csv'\n# f_name = 'evaluation_csv/network_growth validate_counter_defer_500_1500-table.csv'\n# f_name = 'evaluation_csv/network_growth validate_counter_defer_1000_2000-table.csv'\n# f_name = 'evaluation_csv/network_growth validate_counter_defer_2000_3000-table.csv'\nf_name = 'evaluation_csv/network_growth validate_counter_defer_5000_6000-table.csv'\n# f_name = 'evaluation_csv/network_growth validate_counter_defer_10000_11000-table.csv'\n\n\ndf_raw = pd.read_csv(f_name, skiprows=6)\ndf = df_raw[[\n    '[run number]',\n    '[step]',\n    'swap-to-hate',                             # Society becomes hateful when > 30% hateful nodes\n    'p_defer_hateful_post',                     # Deferring probability for hateful posts\n\n    'max-out-degree false',                     # Max degree of normals\n    'max-out-degree true',                      # Max degree of haters\n    'connection-density false',                 # Connection density of normals\n    'connection-density true',                  # Connection density of haters\n    'reciprocal-connections-percents false',    # Reciprocity of normals\n    'reciprocal-connections-percents true',     # Reciprocity of haters\n    'mean-follower-followee false',             # Follower/Followee of normals\n    'mean-follower-followee true',              # Follower/Followee of haters\n    'mean-following true false',                # Mean followers of normals\n    'mean-following true true',                 # Mean followers of haters\n    'mean-following false false',               # Mean followees of normals\n    'mean-following false true',                # Mean followees of haters\n    # 'mean-follow-prob true false',            # Mean following probabilities of hater to normal\n    'mean-follow-prob true true',               # Mean following probabilities of hater to hater\n    'mean-follow-prob false false',             # Mean following probabilities of normal to normal\n    # 'mean-follow-prob false true',            # Mean following probabilities of normal to hater\n    'connections-percents true false',          # Fraction of edges from haters to normals\n    'connections-percents false true',          # Fraction of edges from normals to haters\n    'percents-persons-with-degree false true 0',# Fraction of normals with out-degree 0\n    'percents-persons-with-degree false true 1',# Fraction of normals with out-degree 0\n    'percents-persons-with-degree true true 0', # Fraction of haters with out-degree 0\n    'percents-persons-with-degree true true 1', # Fraction of haters with out-degree 0\n    'percents-hateful-persons',                 # % of hateful users\n    'percents-hateful-posts',                   # % of hateful posts\n    'stddev-hate-score-dist',                   # StdDev of hate score distribution\n    'mean-hate-score',                          # Mean of hate score distribution\n    'reposts-by-haters',                        # Reposts by haters\n    'reposts-by-normals',                       # Reposts by normals\n    'mean-path-length false',                   # Mean post path length of normal posts\n    'mean-path-length true',                    # Mean post path length of hateful posts\n]]",
   "execution_count": 2,
   "outputs": []
  },
  {
   "cell_type": "code",
   "metadata": {
    "cell_id": "00002-d1f9ef3c-940d-46a3-bb7e-227f41a4ee21",
    "deepnote_to_be_reexecuted": false,
    "source_hash": "786d0f53",
    "execution_start": 1636144393752,
    "execution_millis": 43,
    "deepnote_cell_type": "code"
   },
   "source": "df.dtypes\ndf.info()",
   "execution_count": 3,
   "outputs": [
    {
     "name": "stdout",
     "text": "<class 'pandas.core.frame.DataFrame'>\nRangeIndex: 500 entries, 0 to 499\nData columns (total 32 columns):\n #   Column                                     Non-Null Count  Dtype  \n---  ------                                     --------------  -----  \n 0   [run number]                               500 non-null    int64  \n 1   [step]                                     500 non-null    int64  \n 2   swap-to-hate                               500 non-null    bool   \n 3   p_defer_hateful_post                       500 non-null    float64\n 4   max-out-degree false                       500 non-null    int64  \n 5   max-out-degree true                        500 non-null    int64  \n 6   connection-density false                   500 non-null    float64\n 7   connection-density true                    500 non-null    float64\n 8   reciprocal-connections-percents false      500 non-null    float64\n 9   reciprocal-connections-percents true       500 non-null    float64\n 10  mean-follower-followee false               500 non-null    float64\n 11  mean-follower-followee true                500 non-null    float64\n 12  mean-following true false                  500 non-null    float64\n 13  mean-following true true                   500 non-null    float64\n 14  mean-following false false                 500 non-null    float64\n 15  mean-following false true                  500 non-null    float64\n 16  mean-follow-prob true true                 500 non-null    float64\n 17  mean-follow-prob false false               500 non-null    float64\n 18  connections-percents true false            500 non-null    float64\n 19  connections-percents false true            500 non-null    float64\n 20  percents-persons-with-degree false true 0  500 non-null    float64\n 21  percents-persons-with-degree false true 1  500 non-null    float64\n 22  percents-persons-with-degree true true 0   500 non-null    float64\n 23  percents-persons-with-degree true true 1   500 non-null    float64\n 24  percents-hateful-persons                   500 non-null    float64\n 25  percents-hateful-posts                     500 non-null    float64\n 26  stddev-hate-score-dist                     500 non-null    float64\n 27  mean-hate-score                            500 non-null    float64\n 28  reposts-by-haters                          500 non-null    float64\n 29  reposts-by-normals                         500 non-null    float64\n 30  mean-path-length false                     500 non-null    float64\n 31  mean-path-length true                      500 non-null    float64\ndtypes: bool(1), float64(27), int64(4)\nmemory usage: 121.7 KB\n",
     "output_type": "stream"
    }
   ]
  },
  {
   "cell_type": "code",
   "metadata": {
    "pycharm": {
     "name": "#%%\n"
    },
    "cell_id": "00003-f7033557-6f00-487e-82f5-b267bff92b90",
    "deepnote_to_be_reexecuted": false,
    "source_hash": "20b19d41",
    "execution_start": 1636144393795,
    "execution_millis": 119,
    "deepnote_cell_type": "code"
   },
   "source": "pd.options.display.max_rows = 100\ndf_swap = df.copy()\ndf = df[df['swap-to-hate'] != True]\ndisplay(df.head(3))\nprint(len(df))",
   "execution_count": 4,
   "outputs": [
    {
     "data": {
      "application/vnd.deepnote.dataframe.v2+json": {
       "row_count": 3,
       "column_count": 32,
       "columns": [
        {
         "name": "[run number]",
         "dtype": "int64",
         "stats": {
          "unique_count": 3,
          "nan_count": 0,
          "min": "2",
          "max": "9",
          "histogram": [
           {
            "bin_start": 2,
            "bin_end": 2.7,
            "count": 1
           },
           {
            "bin_start": 2.7,
            "bin_end": 3.4,
            "count": 0
           },
           {
            "bin_start": 3.4,
            "bin_end": 4.1,
            "count": 0
           },
           {
            "bin_start": 4.1,
            "bin_end": 4.8,
            "count": 0
           },
           {
            "bin_start": 4.8,
            "bin_end": 5.5,
            "count": 0
           },
           {
            "bin_start": 5.5,
            "bin_end": 6.199999999999999,
            "count": 1
           },
           {
            "bin_start": 6.199999999999999,
            "bin_end": 6.8999999999999995,
            "count": 0
           },
           {
            "bin_start": 6.8999999999999995,
            "bin_end": 7.6,
            "count": 0
           },
           {
            "bin_start": 7.6,
            "bin_end": 8.3,
            "count": 0
           },
           {
            "bin_start": 8.3,
            "bin_end": 9,
            "count": 1
           }
          ]
         }
        },
        {
         "name": "[step]",
         "dtype": "int64",
         "stats": {
          "unique_count": 1,
          "nan_count": 0,
          "min": "6001",
          "max": "6001",
          "histogram": [
           {
            "bin_start": 6000.5,
            "bin_end": 6000.6,
            "count": 0
           },
           {
            "bin_start": 6000.6,
            "bin_end": 6000.7,
            "count": 0
           },
           {
            "bin_start": 6000.7,
            "bin_end": 6000.8,
            "count": 0
           },
           {
            "bin_start": 6000.8,
            "bin_end": 6000.9,
            "count": 0
           },
           {
            "bin_start": 6000.9,
            "bin_end": 6001,
            "count": 0
           },
           {
            "bin_start": 6001,
            "bin_end": 6001.1,
            "count": 3
           },
           {
            "bin_start": 6001.1,
            "bin_end": 6001.2,
            "count": 0
           },
           {
            "bin_start": 6001.2,
            "bin_end": 6001.3,
            "count": 0
           },
           {
            "bin_start": 6001.3,
            "bin_end": 6001.4,
            "count": 0
           },
           {
            "bin_start": 6001.4,
            "bin_end": 6001.5,
            "count": 0
           }
          ]
         }
        },
        {
         "name": "swap-to-hate",
         "dtype": "bool",
         "stats": {
          "unique_count": 1,
          "nan_count": 0,
          "categories": [
           {
            "name": "False",
            "count": 3
           }
          ]
         }
        },
        {
         "name": "p_defer_hateful_post",
         "dtype": "float64",
         "stats": {
          "unique_count": 1,
          "nan_count": 0,
          "min": "0.1",
          "max": "0.1",
          "histogram": [
           {
            "bin_start": -0.4,
            "bin_end": -0.30000000000000004,
            "count": 0
           },
           {
            "bin_start": -0.30000000000000004,
            "bin_end": -0.2,
            "count": 0
           },
           {
            "bin_start": -0.2,
            "bin_end": -0.09999999999999998,
            "count": 0
           },
           {
            "bin_start": -0.09999999999999998,
            "bin_end": 0,
            "count": 0
           },
           {
            "bin_start": 0,
            "bin_end": 0.09999999999999998,
            "count": 0
           },
           {
            "bin_start": 0.09999999999999998,
            "bin_end": 0.20000000000000007,
            "count": 3
           },
           {
            "bin_start": 0.20000000000000007,
            "bin_end": 0.30000000000000004,
            "count": 0
           },
           {
            "bin_start": 0.30000000000000004,
            "bin_end": 0.4,
            "count": 0
           },
           {
            "bin_start": 0.4,
            "bin_end": 0.5,
            "count": 0
           },
           {
            "bin_start": 0.5,
            "bin_end": 0.6,
            "count": 0
           }
          ]
         }
        },
        {
         "name": "max-out-degree false",
         "dtype": "int64",
         "stats": {
          "unique_count": 3,
          "nan_count": 0,
          "min": "170",
          "max": "207",
          "histogram": [
           {
            "bin_start": 170,
            "bin_end": 173.7,
            "count": 1
           },
           {
            "bin_start": 173.7,
            "bin_end": 177.4,
            "count": 0
           },
           {
            "bin_start": 177.4,
            "bin_end": 181.1,
            "count": 0
           },
           {
            "bin_start": 181.1,
            "bin_end": 184.8,
            "count": 0
           },
           {
            "bin_start": 184.8,
            "bin_end": 188.5,
            "count": 0
           },
           {
            "bin_start": 188.5,
            "bin_end": 192.2,
            "count": 0
           },
           {
            "bin_start": 192.2,
            "bin_end": 195.9,
            "count": 0
           },
           {
            "bin_start": 195.9,
            "bin_end": 199.6,
            "count": 0
           },
           {
            "bin_start": 199.6,
            "bin_end": 203.3,
            "count": 0
           },
           {
            "bin_start": 203.3,
            "bin_end": 207,
            "count": 2
           }
          ]
         }
        },
        {
         "name": "max-out-degree true",
         "dtype": "int64",
         "stats": {
          "unique_count": 3,
          "nan_count": 0,
          "min": "45",
          "max": "71",
          "histogram": [
           {
            "bin_start": 45,
            "bin_end": 47.6,
            "count": 1
           },
           {
            "bin_start": 47.6,
            "bin_end": 50.2,
            "count": 0
           },
           {
            "bin_start": 50.2,
            "bin_end": 52.8,
            "count": 0
           },
           {
            "bin_start": 52.8,
            "bin_end": 55.4,
            "count": 0
           },
           {
            "bin_start": 55.4,
            "bin_end": 58,
            "count": 0
           },
           {
            "bin_start": 58,
            "bin_end": 60.6,
            "count": 0
           },
           {
            "bin_start": 60.6,
            "bin_end": 63.2,
            "count": 0
           },
           {
            "bin_start": 63.2,
            "bin_end": 65.8,
            "count": 1
           },
           {
            "bin_start": 65.8,
            "bin_end": 68.4,
            "count": 0
           },
           {
            "bin_start": 68.4,
            "bin_end": 71,
            "count": 1
           }
          ]
         }
        },
        {
         "name": "connection-density false",
         "dtype": "float64",
         "stats": {
          "unique_count": 3,
          "nan_count": 0,
          "min": "0.0006057490879322502",
          "max": "0.0006074080542871023",
          "histogram": [
           {
            "bin_start": 0.0006057490879322502,
            "bin_end": 0.0006059149845677354,
            "count": 1
           },
           {
            "bin_start": 0.0006059149845677354,
            "bin_end": 0.0006060808812032206,
            "count": 0
           },
           {
            "bin_start": 0.0006060808812032206,
            "bin_end": 0.0006062467778387058,
            "count": 0
           },
           {
            "bin_start": 0.0006062467778387058,
            "bin_end": 0.000606412674474191,
            "count": 0
           },
           {
            "bin_start": 0.000606412674474191,
            "bin_end": 0.0006065785711096762,
            "count": 0
           },
           {
            "bin_start": 0.0006065785711096762,
            "bin_end": 0.0006067444677451615,
            "count": 0
           },
           {
            "bin_start": 0.0006067444677451615,
            "bin_end": 0.0006069103643806466,
            "count": 0
           },
           {
            "bin_start": 0.0006069103643806466,
            "bin_end": 0.0006070762610161319,
            "count": 0
           },
           {
            "bin_start": 0.0006070762610161319,
            "bin_end": 0.000607242157651617,
            "count": 1
           },
           {
            "bin_start": 0.000607242157651617,
            "bin_end": 0.0006074080542871023,
            "count": 1
           }
          ]
         }
        },
        {
         "name": "connection-density true",
         "dtype": "float64",
         "stats": {
          "unique_count": 3,
          "nan_count": 0,
          "min": "0.0173179761415055",
          "max": "0.0198848770277341",
          "histogram": [
           {
            "bin_start": 0.0173179761415055,
            "bin_end": 0.01757466623012836,
            "count": 1
           },
           {
            "bin_start": 0.01757466623012836,
            "bin_end": 0.01783135631875122,
            "count": 0
           },
           {
            "bin_start": 0.01783135631875122,
            "bin_end": 0.01808804640737408,
            "count": 0
           },
           {
            "bin_start": 0.01808804640737408,
            "bin_end": 0.01834473649599694,
            "count": 0
           },
           {
            "bin_start": 0.01834473649599694,
            "bin_end": 0.0186014265846198,
            "count": 0
           },
           {
            "bin_start": 0.0186014265846198,
            "bin_end": 0.01885811667324266,
            "count": 0
           },
           {
            "bin_start": 0.01885811667324266,
            "bin_end": 0.01911480676186552,
            "count": 0
           },
           {
            "bin_start": 0.01911480676186552,
            "bin_end": 0.01937149685048838,
            "count": 1
           },
           {
            "bin_start": 0.01937149685048838,
            "bin_end": 0.01962818693911124,
            "count": 0
           },
           {
            "bin_start": 0.01962818693911124,
            "bin_end": 0.0198848770277341,
            "count": 1
           }
          ]
         }
        },
        {
         "name": "reciprocal-connections-percents false",
         "dtype": "float64",
         "stats": {
          "unique_count": 3,
          "nan_count": 0,
          "min": "0.886219357359117",
          "max": "0.8883442799725517",
          "histogram": [
           {
            "bin_start": 0.886219357359117,
            "bin_end": 0.8864318496204605,
            "count": 1
           },
           {
            "bin_start": 0.8864318496204605,
            "bin_end": 0.886644341881804,
            "count": 0
           },
           {
            "bin_start": 0.886644341881804,
            "bin_end": 0.8868568341431474,
            "count": 0
           },
           {
            "bin_start": 0.8868568341431474,
            "bin_end": 0.8870693264044909,
            "count": 1
           },
           {
            "bin_start": 0.8870693264044909,
            "bin_end": 0.8872818186658344,
            "count": 0
           },
           {
            "bin_start": 0.8872818186658344,
            "bin_end": 0.8874943109271779,
            "count": 0
           },
           {
            "bin_start": 0.8874943109271779,
            "bin_end": 0.8877068031885214,
            "count": 0
           },
           {
            "bin_start": 0.8877068031885214,
            "bin_end": 0.8879192954498648,
            "count": 0
           },
           {
            "bin_start": 0.8879192954498648,
            "bin_end": 0.8881317877112083,
            "count": 0
           },
           {
            "bin_start": 0.8881317877112083,
            "bin_end": 0.8883442799725517,
            "count": 1
           }
          ]
         }
        },
        {
         "name": "reciprocal-connections-percents true",
         "dtype": "float64",
         "stats": {
          "unique_count": 3,
          "nan_count": 0,
          "min": "0.6855524079320113",
          "max": "0.7526315789473684",
          "histogram": [
           {
            "bin_start": 0.6855524079320113,
            "bin_end": 0.6922603250335471,
            "count": 1
           },
           {
            "bin_start": 0.6922603250335471,
            "bin_end": 0.6989682421350828,
            "count": 0
           },
           {
            "bin_start": 0.6989682421350828,
            "bin_end": 0.7056761592366184,
            "count": 0
           },
           {
            "bin_start": 0.7056761592366184,
            "bin_end": 0.7123840763381541,
            "count": 0
           },
           {
            "bin_start": 0.7123840763381541,
            "bin_end": 0.7190919934396899,
            "count": 0
           },
           {
            "bin_start": 0.7190919934396899,
            "bin_end": 0.7257999105412256,
            "count": 0
           },
           {
            "bin_start": 0.7257999105412256,
            "bin_end": 0.7325078276427613,
            "count": 0
           },
           {
            "bin_start": 0.7325078276427613,
            "bin_end": 0.739215744744297,
            "count": 0
           },
           {
            "bin_start": 0.739215744744297,
            "bin_end": 0.7459236618458327,
            "count": 1
           },
           {
            "bin_start": 0.7459236618458327,
            "bin_end": 0.7526315789473684,
            "count": 1
           }
          ]
         }
        },
        {
         "name": "mean-follower-followee false",
         "dtype": "float64",
         "stats": {
          "unique_count": 3,
          "nan_count": 0,
          "min": "0.8762824831645083",
          "max": "0.881543813172726",
          "histogram": [
           {
            "bin_start": 0.8762824831645083,
            "bin_end": 0.8768086161653301,
            "count": 1
           },
           {
            "bin_start": 0.8768086161653301,
            "bin_end": 0.8773347491661518,
            "count": 0
           },
           {
            "bin_start": 0.8773347491661518,
            "bin_end": 0.8778608821669736,
            "count": 0
           },
           {
            "bin_start": 0.8778608821669736,
            "bin_end": 0.8783870151677954,
            "count": 0
           },
           {
            "bin_start": 0.8783870151677954,
            "bin_end": 0.8789131481686172,
            "count": 0
           },
           {
            "bin_start": 0.8789131481686172,
            "bin_end": 0.8794392811694389,
            "count": 1
           },
           {
            "bin_start": 0.8794392811694389,
            "bin_end": 0.8799654141702606,
            "count": 0
           },
           {
            "bin_start": 0.8799654141702606,
            "bin_end": 0.8804915471710825,
            "count": 0
           },
           {
            "bin_start": 0.8804915471710825,
            "bin_end": 0.8810176801719043,
            "count": 0
           },
           {
            "bin_start": 0.8810176801719043,
            "bin_end": 0.881543813172726,
            "count": 1
           }
          ]
         }
        },
        {
         "name": "mean-follower-followee true",
         "dtype": "float64",
         "stats": {
          "unique_count": 3,
          "nan_count": 0,
          "min": "0.7192978302764489",
          "max": "0.7583186500406617",
          "histogram": [
           {
            "bin_start": 0.7192978302764489,
            "bin_end": 0.7231999122528702,
            "count": 1
           },
           {
            "bin_start": 0.7231999122528702,
            "bin_end": 0.7271019942292914,
            "count": 0
           },
           {
            "bin_start": 0.7271019942292914,
            "bin_end": 0.7310040762057127,
            "count": 0
           },
           {
            "bin_start": 0.7310040762057127,
            "bin_end": 0.734906158182134,
            "count": 0
           },
           {
            "bin_start": 0.734906158182134,
            "bin_end": 0.7388082401585553,
            "count": 0
           },
           {
            "bin_start": 0.7388082401585553,
            "bin_end": 0.7427103221349766,
            "count": 0
           },
           {
            "bin_start": 0.7427103221349766,
            "bin_end": 0.7466124041113978,
            "count": 0
           },
           {
            "bin_start": 0.7466124041113978,
            "bin_end": 0.7505144860878191,
            "count": 0
           },
           {
            "bin_start": 0.7505144860878191,
            "bin_end": 0.7544165680642404,
            "count": 0
           },
           {
            "bin_start": 0.7544165680642404,
            "bin_end": 0.7583186500406617,
            "count": 2
           }
          ]
         }
        },
        {
         "name": "mean-following true false",
         "dtype": "float64",
         "stats": {
          "unique_count": 3,
          "nan_count": 0,
          "min": "1.763626925073542",
          "max": "1.7680785123966942",
          "histogram": [
           {
            "bin_start": 1.763626925073542,
            "bin_end": 1.7640720838058572,
            "count": 1
           },
           {
            "bin_start": 1.7640720838058572,
            "bin_end": 1.7645172425381723,
            "count": 0
           },
           {
            "bin_start": 1.7645172425381723,
            "bin_end": 1.7649624012704876,
            "count": 0
           },
           {
            "bin_start": 1.7649624012704876,
            "bin_end": 1.7654075600028027,
            "count": 0
           },
           {
            "bin_start": 1.7654075600028027,
            "bin_end": 1.765852718735118,
            "count": 1
           },
           {
            "bin_start": 1.765852718735118,
            "bin_end": 1.7662978774674334,
            "count": 0
           },
           {
            "bin_start": 1.7662978774674334,
            "bin_end": 1.7667430361997485,
            "count": 0
           },
           {
            "bin_start": 1.7667430361997485,
            "bin_end": 1.7671881949320638,
            "count": 0
           },
           {
            "bin_start": 1.7671881949320638,
            "bin_end": 1.767633353664379,
            "count": 0
           },
           {
            "bin_start": 1.767633353664379,
            "bin_end": 1.7680785123966942,
            "count": 1
           }
          ]
         }
        },
        {
         "name": "mean-following true true",
         "dtype": "float64",
         "stats": {
          "unique_count": 3,
          "nan_count": 0,
          "min": "2.390625",
          "max": "2.627551020408163",
          "histogram": [
           {
            "bin_start": 2.390625,
            "bin_end": 2.4143176020408164,
            "count": 1
           },
           {
            "bin_start": 2.4143176020408164,
            "bin_end": 2.4380102040816327,
            "count": 0
           },
           {
            "bin_start": 2.4380102040816327,
            "bin_end": 2.461702806122449,
            "count": 0
           },
           {
            "bin_start": 2.461702806122449,
            "bin_end": 2.4853954081632654,
            "count": 0
           },
           {
            "bin_start": 2.4853954081632654,
            "bin_end": 2.5090880102040813,
            "count": 0
           },
           {
            "bin_start": 2.5090880102040813,
            "bin_end": 2.5327806122448977,
            "count": 1
           },
           {
            "bin_start": 2.5327806122448977,
            "bin_end": 2.556473214285714,
            "count": 0
           },
           {
            "bin_start": 2.556473214285714,
            "bin_end": 2.5801658163265304,
            "count": 0
           },
           {
            "bin_start": 2.5801658163265304,
            "bin_end": 2.6038584183673468,
            "count": 0
           },
           {
            "bin_start": 2.6038584183673468,
            "bin_end": 2.627551020408163,
            "count": 1
           }
          ]
         }
        },
        {
         "name": "mean-following false false",
         "dtype": "float64",
         "stats": {
          "unique_count": 3,
          "nan_count": 0,
          "min": "1.7781623118186538",
          "max": "1.78116391184573",
          "histogram": [
           {
            "bin_start": 1.7781623118186538,
            "bin_end": 1.7784624718213615,
            "count": 1
           },
           {
            "bin_start": 1.7784624718213615,
            "bin_end": 1.778762631824069,
            "count": 0
           },
           {
            "bin_start": 1.778762631824069,
            "bin_end": 1.7790627918267767,
            "count": 0
           },
           {
            "bin_start": 1.7790627918267767,
            "bin_end": 1.7793629518294842,
            "count": 0
           },
           {
            "bin_start": 1.7793629518294842,
            "bin_end": 1.779663111832192,
            "count": 0
           },
           {
            "bin_start": 1.779663111832192,
            "bin_end": 1.7799632718348997,
            "count": 0
           },
           {
            "bin_start": 1.7799632718348997,
            "bin_end": 1.7802634318376072,
            "count": 0
           },
           {
            "bin_start": 1.7802634318376072,
            "bin_end": 1.7805635918403149,
            "count": 0
           },
           {
            "bin_start": 1.7805635918403149,
            "bin_end": 1.7808637518430224,
            "count": 1
           },
           {
            "bin_start": 1.7808637518430224,
            "bin_end": 1.78116391184573,
            "count": 1
           }
          ]
         }
        },
        {
         "name": "mean-following false true",
         "dtype": "float64",
         "stats": {
          "unique_count": 3,
          "nan_count": 0,
          "min": "1.9947916666666667",
          "max": "2.1785714285714284",
          "histogram": [
           {
            "bin_start": 1.9947916666666667,
            "bin_end": 2.013169642857143,
            "count": 1
           },
           {
            "bin_start": 2.013169642857143,
            "bin_end": 2.031547619047619,
            "count": 0
           },
           {
            "bin_start": 2.031547619047619,
            "bin_end": 2.0499255952380953,
            "count": 0
           },
           {
            "bin_start": 2.0499255952380953,
            "bin_end": 2.0683035714285714,
            "count": 0
           },
           {
            "bin_start": 2.0683035714285714,
            "bin_end": 2.0866815476190474,
            "count": 0
           },
           {
            "bin_start": 2.0866815476190474,
            "bin_end": 2.1050595238095235,
            "count": 0
           },
           {
            "bin_start": 2.1050595238095235,
            "bin_end": 2.1234375,
            "count": 0
           },
           {
            "bin_start": 2.1234375,
            "bin_end": 2.141815476190476,
            "count": 1
           },
           {
            "bin_start": 2.141815476190476,
            "bin_end": 2.1601934523809523,
            "count": 0
           },
           {
            "bin_start": 2.1601934523809523,
            "bin_end": 2.1785714285714284,
            "count": 1
           }
          ]
         }
        },
        {
         "name": "mean-follow-prob true true",
         "dtype": "float64",
         "stats": {
          "unique_count": 3,
          "nan_count": 0,
          "min": "0.9158624740218668",
          "max": "0.9489170072434872",
          "histogram": [
           {
            "bin_start": 0.9158624740218668,
            "bin_end": 0.9191679273440289,
            "count": 1
           },
           {
            "bin_start": 0.9191679273440289,
            "bin_end": 0.9224733806661909,
            "count": 0
           },
           {
            "bin_start": 0.9224733806661909,
            "bin_end": 0.9257788339883529,
            "count": 1
           },
           {
            "bin_start": 0.9257788339883529,
            "bin_end": 0.929084287310515,
            "count": 0
           },
           {
            "bin_start": 0.929084287310515,
            "bin_end": 0.932389740632677,
            "count": 0
           },
           {
            "bin_start": 0.932389740632677,
            "bin_end": 0.935695193954839,
            "count": 0
           },
           {
            "bin_start": 0.935695193954839,
            "bin_end": 0.939000647277001,
            "count": 0
           },
           {
            "bin_start": 0.939000647277001,
            "bin_end": 0.9423061005991631,
            "count": 0
           },
           {
            "bin_start": 0.9423061005991631,
            "bin_end": 0.9456115539213251,
            "count": 0
           },
           {
            "bin_start": 0.9456115539213251,
            "bin_end": 0.9489170072434872,
            "count": 1
           }
          ]
         }
        },
        {
         "name": "mean-follow-prob false false",
         "dtype": "float64",
         "stats": {
          "unique_count": 3,
          "nan_count": 0,
          "min": "0.9779950395108729",
          "max": "0.9823806244260788",
          "histogram": [
           {
            "bin_start": 0.9779950395108729,
            "bin_end": 0.9784335980023935,
            "count": 1
           },
           {
            "bin_start": 0.9784335980023935,
            "bin_end": 0.978872156493914,
            "count": 1
           },
           {
            "bin_start": 0.978872156493914,
            "bin_end": 0.9793107149854346,
            "count": 0
           },
           {
            "bin_start": 0.9793107149854346,
            "bin_end": 0.9797492734769552,
            "count": 0
           },
           {
            "bin_start": 0.9797492734769552,
            "bin_end": 0.9801878319684758,
            "count": 0
           },
           {
            "bin_start": 0.9801878319684758,
            "bin_end": 0.9806263904599964,
            "count": 0
           },
           {
            "bin_start": 0.9806263904599964,
            "bin_end": 0.981064948951517,
            "count": 0
           },
           {
            "bin_start": 0.981064948951517,
            "bin_end": 0.9815035074430376,
            "count": 0
           },
           {
            "bin_start": 0.9815035074430376,
            "bin_end": 0.9819420659345581,
            "count": 0
           },
           {
            "bin_start": 0.9819420659345581,
            "bin_end": 0.9823806244260788,
            "count": 1
           }
          ]
         }
        },
        {
         "name": "connections-percents true false",
         "dtype": "float64",
         "stats": {
          "unique_count": 3,
          "nan_count": 0,
          "min": "0.0027964205816554",
          "max": "0.0047450688500186",
          "histogram": [
           {
            "bin_start": 0.0027964205816554,
            "bin_end": 0.00299128540849172,
            "count": 1
           },
           {
            "bin_start": 0.00299128540849172,
            "bin_end": 0.00318615023532804,
            "count": 0
           },
           {
            "bin_start": 0.00318615023532804,
            "bin_end": 0.00338101506216436,
            "count": 0
           },
           {
            "bin_start": 0.00338101506216436,
            "bin_end": 0.00357587988900068,
            "count": 0
           },
           {
            "bin_start": 0.00357587988900068,
            "bin_end": 0.003770744715837,
            "count": 0
           },
           {
            "bin_start": 0.003770744715837,
            "bin_end": 0.00396560954267332,
            "count": 0
           },
           {
            "bin_start": 0.00396560954267332,
            "bin_end": 0.00416047436950964,
            "count": 0
           },
           {
            "bin_start": 0.00416047436950964,
            "bin_end": 0.00435533919634596,
            "count": 0
           },
           {
            "bin_start": 0.00435533919634596,
            "bin_end": 0.004550204023182279,
            "count": 1
           },
           {
            "bin_start": 0.004550204023182279,
            "bin_end": 0.0047450688500186,
            "count": 1
           }
          ]
         }
        },
        {
         "name": "connections-percents false true",
         "dtype": "float64",
         "stats": {
          "unique_count": 3,
          "nan_count": 0,
          "min": "0.0098806860551827",
          "max": "0.0125604763676963",
          "histogram": [
           {
            "bin_start": 0.0098806860551827,
            "bin_end": 0.01014866508643406,
            "count": 1
           },
           {
            "bin_start": 0.01014866508643406,
            "bin_end": 0.01041664411768542,
            "count": 0
           },
           {
            "bin_start": 0.01041664411768542,
            "bin_end": 0.01068462314893678,
            "count": 0
           },
           {
            "bin_start": 0.01068462314893678,
            "bin_end": 0.01095260218018814,
            "count": 0
           },
           {
            "bin_start": 0.01095260218018814,
            "bin_end": 0.0112205812114395,
            "count": 0
           },
           {
            "bin_start": 0.0112205812114395,
            "bin_end": 0.011488560242690859,
            "count": 0
           },
           {
            "bin_start": 0.011488560242690859,
            "bin_end": 0.01175653927394222,
            "count": 0
           },
           {
            "bin_start": 0.01175653927394222,
            "bin_end": 0.01202451830519358,
            "count": 0
           },
           {
            "bin_start": 0.01202451830519358,
            "bin_end": 0.012292497336444939,
            "count": 0
           },
           {
            "bin_start": 0.012292497336444939,
            "bin_end": 0.0125604763676963,
            "count": 2
           }
          ]
         }
        },
        {
         "name": "percents-persons-with-degree false true 0",
         "dtype": "float64",
         "stats": {
          "unique_count": 3,
          "nan_count": 0,
          "min": "0.1700551343900758",
          "max": "0.1766741650804637",
          "histogram": [
           {
            "bin_start": 0.1700551343900758,
            "bin_end": 0.1707170374591146,
            "count": 2
           },
           {
            "bin_start": 0.1707170374591146,
            "bin_end": 0.1713789405281534,
            "count": 0
           },
           {
            "bin_start": 0.1713789405281534,
            "bin_end": 0.17204084359719218,
            "count": 0
           },
           {
            "bin_start": 0.17204084359719218,
            "bin_end": 0.17270274666623098,
            "count": 0
           },
           {
            "bin_start": 0.17270274666623098,
            "bin_end": 0.17336464973526977,
            "count": 0
           },
           {
            "bin_start": 0.17336464973526977,
            "bin_end": 0.17402655280430854,
            "count": 0
           },
           {
            "bin_start": 0.17402655280430854,
            "bin_end": 0.17468845587334733,
            "count": 0
           },
           {
            "bin_start": 0.17468845587334733,
            "bin_end": 0.17535035894238613,
            "count": 0
           },
           {
            "bin_start": 0.17535035894238613,
            "bin_end": 0.17601226201142492,
            "count": 0
           },
           {
            "bin_start": 0.17601226201142492,
            "bin_end": 0.1766741650804637,
            "count": 1
           }
          ]
         }
        },
        {
         "name": "percents-persons-with-degree false true 1",
         "dtype": "float64",
         "stats": {
          "unique_count": 3,
          "nan_count": 0,
          "min": "0.5371171482955529",
          "max": "0.5480702963473466",
          "histogram": [
           {
            "bin_start": 0.5371171482955529,
            "bin_end": 0.5382124631007322,
            "count": 1
           },
           {
            "bin_start": 0.5382124631007322,
            "bin_end": 0.5393077779059117,
            "count": 1
           },
           {
            "bin_start": 0.5393077779059117,
            "bin_end": 0.540403092711091,
            "count": 0
           },
           {
            "bin_start": 0.540403092711091,
            "bin_end": 0.5414984075162704,
            "count": 0
           },
           {
            "bin_start": 0.5414984075162704,
            "bin_end": 0.5425937223214498,
            "count": 0
           },
           {
            "bin_start": 0.5425937223214498,
            "bin_end": 0.5436890371266291,
            "count": 0
           },
           {
            "bin_start": 0.5436890371266291,
            "bin_end": 0.5447843519318085,
            "count": 0
           },
           {
            "bin_start": 0.5447843519318085,
            "bin_end": 0.5458796667369878,
            "count": 0
           },
           {
            "bin_start": 0.5458796667369878,
            "bin_end": 0.5469749815421673,
            "count": 0
           },
           {
            "bin_start": 0.5469749815421673,
            "bin_end": 0.5480702963473466,
            "count": 1
           }
          ]
         }
        },
        {
         "name": "percents-persons-with-degree true true 0",
         "dtype": "float64",
         "stats": {
          "unique_count": 3,
          "nan_count": 0,
          "min": "0.3418367346938775",
          "max": "0.4166666666666667",
          "histogram": [
           {
            "bin_start": 0.3418367346938775,
            "bin_end": 0.3493197278911564,
            "count": 2
           },
           {
            "bin_start": 0.3493197278911564,
            "bin_end": 0.3568027210884353,
            "count": 0
           },
           {
            "bin_start": 0.3568027210884353,
            "bin_end": 0.36428571428571427,
            "count": 0
           },
           {
            "bin_start": 0.36428571428571427,
            "bin_end": 0.3717687074829932,
            "count": 0
           },
           {
            "bin_start": 0.3717687074829932,
            "bin_end": 0.3792517006802721,
            "count": 0
           },
           {
            "bin_start": 0.3792517006802721,
            "bin_end": 0.386734693877551,
            "count": 0
           },
           {
            "bin_start": 0.386734693877551,
            "bin_end": 0.3942176870748299,
            "count": 0
           },
           {
            "bin_start": 0.3942176870748299,
            "bin_end": 0.40170068027210887,
            "count": 0
           },
           {
            "bin_start": 0.40170068027210887,
            "bin_end": 0.4091836734693878,
            "count": 0
           },
           {
            "bin_start": 0.4091836734693878,
            "bin_end": 0.4166666666666667,
            "count": 1
           }
          ]
         }
        },
        {
         "name": "percents-persons-with-degree true true 1",
         "dtype": "float64",
         "stats": {
          "unique_count": 3,
          "nan_count": 0,
          "min": "0.2291666666666666",
          "max": "0.2669683257918552",
          "histogram": [
           {
            "bin_start": 0.2291666666666666,
            "bin_end": 0.23294683257918547,
            "count": 1
           },
           {
            "bin_start": 0.23294683257918547,
            "bin_end": 0.2367269984917043,
            "count": 0
           },
           {
            "bin_start": 0.2367269984917043,
            "bin_end": 0.24050716440422318,
            "count": 0
           },
           {
            "bin_start": 0.24050716440422318,
            "bin_end": 0.24428733031674205,
            "count": 0
           },
           {
            "bin_start": 0.24428733031674205,
            "bin_end": 0.2480674962292609,
            "count": 0
           },
           {
            "bin_start": 0.2480674962292609,
            "bin_end": 0.2518476621417798,
            "count": 0
           },
           {
            "bin_start": 0.2518476621417798,
            "bin_end": 0.2556278280542986,
            "count": 0
           },
           {
            "bin_start": 0.2556278280542986,
            "bin_end": 0.25940799396681746,
            "count": 0
           },
           {
            "bin_start": 0.25940799396681746,
            "bin_end": 0.26318815987933636,
            "count": 0
           },
           {
            "bin_start": 0.26318815987933636,
            "bin_end": 0.2669683257918552,
            "count": 2
           }
          ]
         }
        },
        {
         "name": "percents-hateful-persons",
         "dtype": "float64",
         "stats": {
          "unique_count": 3,
          "nan_count": 0,
          "min": "3.2",
          "max": "3.683333333333333",
          "histogram": [
           {
            "bin_start": 3.2,
            "bin_end": 3.2483333333333335,
            "count": 1
           },
           {
            "bin_start": 3.2483333333333335,
            "bin_end": 3.296666666666667,
            "count": 1
           },
           {
            "bin_start": 3.296666666666667,
            "bin_end": 3.345,
            "count": 0
           },
           {
            "bin_start": 3.345,
            "bin_end": 3.3933333333333335,
            "count": 0
           },
           {
            "bin_start": 3.3933333333333335,
            "bin_end": 3.4416666666666664,
            "count": 0
           },
           {
            "bin_start": 3.4416666666666664,
            "bin_end": 3.49,
            "count": 0
           },
           {
            "bin_start": 3.49,
            "bin_end": 3.538333333333333,
            "count": 0
           },
           {
            "bin_start": 3.538333333333333,
            "bin_end": 3.5866666666666664,
            "count": 0
           },
           {
            "bin_start": 3.5866666666666664,
            "bin_end": 3.635,
            "count": 0
           },
           {
            "bin_start": 3.635,
            "bin_end": 3.683333333333333,
            "count": 1
           }
          ]
         }
        },
        {
         "name": "percents-hateful-posts",
         "dtype": "float64",
         "stats": {
          "unique_count": 3,
          "nan_count": 0,
          "min": "0.3218637992831541",
          "max": "0.3548821548821549",
          "histogram": [
           {
            "bin_start": 0.3218637992831541,
            "bin_end": 0.3251656348430542,
            "count": 1
           },
           {
            "bin_start": 0.3251656348430542,
            "bin_end": 0.32846747040295426,
            "count": 0
           },
           {
            "bin_start": 0.32846747040295426,
            "bin_end": 0.33176930596285437,
            "count": 0
           },
           {
            "bin_start": 0.33176930596285437,
            "bin_end": 0.3350711415227544,
            "count": 0
           },
           {
            "bin_start": 0.3350711415227544,
            "bin_end": 0.3383729770826545,
            "count": 0
           },
           {
            "bin_start": 0.3383729770826545,
            "bin_end": 0.3416748126425546,
            "count": 0
           },
           {
            "bin_start": 0.3416748126425546,
            "bin_end": 0.34497664820245466,
            "count": 0
           },
           {
            "bin_start": 0.34497664820245466,
            "bin_end": 0.34827848376235476,
            "count": 1
           },
           {
            "bin_start": 0.34827848376235476,
            "bin_end": 0.3515803193222548,
            "count": 0
           },
           {
            "bin_start": 0.3515803193222548,
            "bin_end": 0.3548821548821549,
            "count": 1
           }
          ]
         }
        },
        {
         "name": "stddev-hate-score-dist",
         "dtype": "float64",
         "stats": {
          "unique_count": 3,
          "nan_count": 0,
          "min": "0.0872846840641976",
          "max": "0.1219614143955095",
          "histogram": [
           {
            "bin_start": 0.0872846840641976,
            "bin_end": 0.09075235709732879,
            "count": 1
           },
           {
            "bin_start": 0.09075235709732879,
            "bin_end": 0.09422003013045999,
            "count": 0
           },
           {
            "bin_start": 0.09422003013045999,
            "bin_end": 0.09768770316359118,
            "count": 0
           },
           {
            "bin_start": 0.09768770316359118,
            "bin_end": 0.10115537619672237,
            "count": 0
           },
           {
            "bin_start": 0.10115537619672237,
            "bin_end": 0.10462304922985355,
            "count": 1
           },
           {
            "bin_start": 0.10462304922985355,
            "bin_end": 0.10809072226298475,
            "count": 0
           },
           {
            "bin_start": 0.10809072226298475,
            "bin_end": 0.11155839529611594,
            "count": 0
           },
           {
            "bin_start": 0.11155839529611594,
            "bin_end": 0.11502606832924712,
            "count": 0
           },
           {
            "bin_start": 0.11502606832924712,
            "bin_end": 0.11849374136237831,
            "count": 0
           },
           {
            "bin_start": 0.11849374136237831,
            "bin_end": 0.1219614143955095,
            "count": 1
           }
          ]
         }
        },
        {
         "name": "mean-hate-score",
         "dtype": "float64",
         "stats": {
          "unique_count": 3,
          "nan_count": 0,
          "min": "0.3821194265485831",
          "max": "0.4060260481316517",
          "histogram": [
           {
            "bin_start": 0.3821194265485831,
            "bin_end": 0.38451008870688996,
            "count": 2
           },
           {
            "bin_start": 0.38451008870688996,
            "bin_end": 0.3869007508651968,
            "count": 0
           },
           {
            "bin_start": 0.3869007508651968,
            "bin_end": 0.3892914130235037,
            "count": 0
           },
           {
            "bin_start": 0.3892914130235037,
            "bin_end": 0.39168207518181053,
            "count": 0
           },
           {
            "bin_start": 0.39168207518181053,
            "bin_end": 0.3940727373401174,
            "count": 0
           },
           {
            "bin_start": 0.3940727373401174,
            "bin_end": 0.3964633994984243,
            "count": 0
           },
           {
            "bin_start": 0.3964633994984243,
            "bin_end": 0.39885406165673115,
            "count": 0
           },
           {
            "bin_start": 0.39885406165673115,
            "bin_end": 0.401244723815038,
            "count": 0
           },
           {
            "bin_start": 0.401244723815038,
            "bin_end": 0.40363538597334486,
            "count": 0
           },
           {
            "bin_start": 0.40363538597334486,
            "bin_end": 0.4060260481316517,
            "count": 1
           }
          ]
         }
        },
        {
         "name": "reposts-by-haters",
         "dtype": "float64",
         "stats": {
          "unique_count": 3,
          "nan_count": 0,
          "min": "317.93778504949927",
          "max": "323.7804107927158",
          "histogram": [
           {
            "bin_start": 317.93778504949927,
            "bin_end": 318.5220476238209,
            "count": 1
           },
           {
            "bin_start": 318.5220476238209,
            "bin_end": 319.1063101981426,
            "count": 0
           },
           {
            "bin_start": 319.1063101981426,
            "bin_end": 319.69057277246424,
            "count": 0
           },
           {
            "bin_start": 319.69057277246424,
            "bin_end": 320.2748353467859,
            "count": 0
           },
           {
            "bin_start": 320.2748353467859,
            "bin_end": 320.85909792110755,
            "count": 0
           },
           {
            "bin_start": 320.85909792110755,
            "bin_end": 321.4433604954292,
            "count": 0
           },
           {
            "bin_start": 321.4433604954292,
            "bin_end": 322.02762306975086,
            "count": 0
           },
           {
            "bin_start": 322.02762306975086,
            "bin_end": 322.6118856440725,
            "count": 0
           },
           {
            "bin_start": 322.6118856440725,
            "bin_end": 323.19614821839417,
            "count": 0
           },
           {
            "bin_start": 323.19614821839417,
            "bin_end": 323.7804107927158,
            "count": 2
           }
          ]
         }
        },
        {
         "name": "reposts-by-normals",
         "dtype": "float64",
         "stats": {
          "unique_count": 3,
          "nan_count": 0,
          "min": "13.732379569242068",
          "max": "14.021328318121",
          "histogram": [
           {
            "bin_start": 13.732379569242068,
            "bin_end": 13.761274444129961,
            "count": 1
           },
           {
            "bin_start": 13.761274444129961,
            "bin_end": 13.790169319017854,
            "count": 0
           },
           {
            "bin_start": 13.790169319017854,
            "bin_end": 13.819064193905747,
            "count": 0
           },
           {
            "bin_start": 13.819064193905747,
            "bin_end": 13.84795906879364,
            "count": 0
           },
           {
            "bin_start": 13.84795906879364,
            "bin_end": 13.876853943681535,
            "count": 0
           },
           {
            "bin_start": 13.876853943681535,
            "bin_end": 13.905748818569428,
            "count": 1
           },
           {
            "bin_start": 13.905748818569428,
            "bin_end": 13.934643693457321,
            "count": 0
           },
           {
            "bin_start": 13.934643693457321,
            "bin_end": 13.963538568345214,
            "count": 0
           },
           {
            "bin_start": 13.963538568345214,
            "bin_end": 13.992433443233107,
            "count": 0
           },
           {
            "bin_start": 13.992433443233107,
            "bin_end": 14.021328318121,
            "count": 1
           }
          ]
         }
        },
        {
         "name": "mean-path-length false",
         "dtype": "float64",
         "stats": {
          "unique_count": 3,
          "nan_count": 0,
          "min": "0.6749460043196545",
          "max": "0.7161733615221987",
          "histogram": [
           {
            "bin_start": 0.6749460043196545,
            "bin_end": 0.6790687400399089,
            "count": 1
           },
           {
            "bin_start": 0.6790687400399089,
            "bin_end": 0.6831914757601633,
            "count": 0
           },
           {
            "bin_start": 0.6831914757601633,
            "bin_end": 0.6873142114804177,
            "count": 0
           },
           {
            "bin_start": 0.6873142114804177,
            "bin_end": 0.6914369472006722,
            "count": 0
           },
           {
            "bin_start": 0.6914369472006722,
            "bin_end": 0.6955596829209265,
            "count": 0
           },
           {
            "bin_start": 0.6955596829209265,
            "bin_end": 0.699682418641181,
            "count": 0
           },
           {
            "bin_start": 0.699682418641181,
            "bin_end": 0.7038051543614354,
            "count": 0
           },
           {
            "bin_start": 0.7038051543614354,
            "bin_end": 0.7079278900816899,
            "count": 0
           },
           {
            "bin_start": 0.7079278900816899,
            "bin_end": 0.7120506258019442,
            "count": 1
           },
           {
            "bin_start": 0.7120506258019442,
            "bin_end": 0.7161733615221987,
            "count": 1
           }
          ]
         }
        },
        {
         "name": "mean-path-length true",
         "dtype": "float64",
         "stats": {
          "unique_count": 3,
          "nan_count": 0,
          "min": "2.8129175946547886",
          "max": "2.951844262295082",
          "histogram": [
           {
            "bin_start": 2.8129175946547886,
            "bin_end": 2.826810261418818,
            "count": 1
           },
           {
            "bin_start": 2.826810261418818,
            "bin_end": 2.8407029281828473,
            "count": 0
           },
           {
            "bin_start": 2.8407029281828473,
            "bin_end": 2.8545955949468764,
            "count": 1
           },
           {
            "bin_start": 2.8545955949468764,
            "bin_end": 2.868488261710906,
            "count": 0
           },
           {
            "bin_start": 2.868488261710906,
            "bin_end": 2.8823809284749355,
            "count": 0
           },
           {
            "bin_start": 2.8823809284749355,
            "bin_end": 2.8962735952389647,
            "count": 0
           },
           {
            "bin_start": 2.8962735952389647,
            "bin_end": 2.9101662620029938,
            "count": 0
           },
           {
            "bin_start": 2.9101662620029938,
            "bin_end": 2.9240589287670233,
            "count": 0
           },
           {
            "bin_start": 2.9240589287670233,
            "bin_end": 2.937951595531053,
            "count": 0
           },
           {
            "bin_start": 2.937951595531053,
            "bin_end": 2.951844262295082,
            "count": 1
           }
          ]
         }
        },
        {
         "name": "_deepnote_index_column",
         "dtype": "int64"
        }
       ],
       "rows_top": [
        {
         "[run number]": 2,
         "[step]": 6001,
         "swap-to-hate": "False",
         "p_defer_hateful_post": 0.1,
         "max-out-degree false": 207,
         "max-out-degree true": 45,
         "connection-density false": 0.0006071683220735305,
         "connection-density true": 0.019251745200698,
         "reciprocal-connections-percents false": 0.886219357359117,
         "reciprocal-connections-percents true": 0.6855524079320113,
         "mean-follower-followee false": 0.881543813172726,
         "mean-follower-followee true": 0.7192978302764489,
         "mean-following true false": 1.7680785123966942,
         "mean-following true true": 2.390625,
         "mean-following false false": 1.78116391184573,
         "mean-following false true": 1.9947916666666667,
         "mean-follow-prob true true": 0.9489170072434872,
         "mean-follow-prob false false": 0.9823806244260788,
         "connections-percents true false": 0.0027964205816554,
         "connections-percents false true": 0.0098806860551827,
         "percents-persons-with-degree false true 0": 0.1702823691460055,
         "percents-persons-with-degree false true 1": 0.5383953168044077,
         "percents-persons-with-degree true true 0": 0.4166666666666667,
         "percents-persons-with-degree true true 1": 0.2291666666666666,
         "percents-hateful-persons": 3.2,
         "percents-hateful-posts": 0.3218637992831541,
         "stddev-hate-score-dist": 0.0872846840641976,
         "mean-hate-score": 0.4060260481316517,
         "reposts-by-haters": 323.29330692354495,
         "reposts-by-normals": 13.732379569242068,
         "mean-path-length false": 0.7161733615221987,
         "mean-path-length true": 2.8129175946547886,
         "_deepnote_index_column": 2
        },
        {
         "[run number]": 6,
         "[step]": 6001,
         "swap-to-hate": "False",
         "p_defer_hateful_post": 0.1,
         "max-out-degree false": 205,
         "max-out-degree true": 65,
         "connection-density false": 0.0006057490879322502,
         "connection-density true": 0.0198848770277341,
         "reciprocal-connections-percents false": 0.8883442799725517,
         "reciprocal-connections-percents true": 0.7526315789473684,
         "mean-follower-followee false": 0.8793223492885102,
         "mean-follower-followee true": 0.7575091291928027,
         "mean-following true false": 1.7656788421778085,
         "mean-following true true": 2.627551020408163,
         "mean-following false false": 1.780840799448656,
         "mean-following false true": 2.1785714285714284,
         "mean-follow-prob true true": 0.9245034160850488,
         "mean-follow-prob false false": 0.9786928555019528,
         "connections-percents true false": 0.0043668122270742,
         "connections-percents false true": 0.0125429712905323,
         "percents-persons-with-degree false true 0": 0.1700551343900758,
         "percents-persons-with-degree false true 1": 0.5480702963473466,
         "percents-persons-with-degree true true 0": 0.3418367346938775,
         "percents-persons-with-degree true true 1": 0.2653061224489796,
         "percents-hateful-persons": 3.2666666666666666,
         "percents-hateful-posts": 0.3451202263083451,
         "stddev-hate-score-dist": 0.1033121870588744,
         "mean-hate-score": 0.3821194265485831,
         "reposts-by-haters": 323.7804107927158,
         "reposts-by-normals": 13.879782057402876,
         "mean-path-length false": 0.6749460043196545,
         "mean-path-length true": 2.951844262295082,
         "_deepnote_index_column": 3
        },
        {
         "[run number]": 9,
         "[step]": 6001,
         "swap-to-hate": "False",
         "p_defer_hateful_post": 0.1,
         "max-out-degree false": 170,
         "max-out-degree true": 71,
         "connection-density false": 0.0006074080542871023,
         "connection-density true": 0.0173179761415055,
         "reciprocal-connections-percents false": 0.886894783551918,
         "reciprocal-connections-percents true": 0.7458432304038005,
         "mean-follower-followee false": 0.8762824831645083,
         "mean-follower-followee true": 0.7583186500406617,
         "mean-following true false": 1.763626925073542,
         "mean-following true true": 2.515837104072398,
         "mean-following false false": 1.7781623118186538,
         "mean-following false true": 2.1357466063348416,
         "mean-follow-prob true true": 0.9158624740218668,
         "mean-follow-prob false false": 0.9779950395108729,
         "connections-percents true false": 0.0047450688500186,
         "connections-percents false true": 0.0125604763676963,
         "percents-persons-with-degree false true 0": 0.1766741650804637,
         "percents-persons-with-degree false true 1": 0.5371171482955529,
         "percents-persons-with-degree true true 0": 0.3484162895927601,
         "percents-persons-with-degree true true 1": 0.2669683257918552,
         "percents-hateful-persons": 3.683333333333333,
         "percents-hateful-posts": 0.3548821548821549,
         "stddev-hate-score-dist": 0.1219614143955095,
         "mean-hate-score": 0.3827629669160454,
         "reposts-by-haters": 317.93778504949927,
         "reposts-by-normals": 14.021328318121,
         "mean-path-length false": 0.7098121085594989,
         "mean-path-length true": 2.847248576850095,
         "_deepnote_index_column": 4
        }
       ],
       "rows_bottom": null
      },
      "text/plain": "   [run number]  [step]  swap-to-hate  p_defer_hateful_post  \\\n2             2    6001         False                   0.1   \n3             6    6001         False                   0.1   \n4             9    6001         False                   0.1   \n\n   max-out-degree false  max-out-degree true  connection-density false  \\\n2                   207                   45                  0.000607   \n3                   205                   65                  0.000606   \n4                   170                   71                  0.000607   \n\n   connection-density true  reciprocal-connections-percents false  \\\n2                 0.019252                               0.886219   \n3                 0.019885                               0.888344   \n4                 0.017318                               0.886895   \n\n   reciprocal-connections-percents true  ...  \\\n2                              0.685552  ...   \n3                              0.752632  ...   \n4                              0.745843  ...   \n\n   percents-persons-with-degree true true 0  \\\n2                                  0.416667   \n3                                  0.341837   \n4                                  0.348416   \n\n   percents-persons-with-degree true true 1  percents-hateful-persons  \\\n2                                  0.229167                  3.200000   \n3                                  0.265306                  3.266667   \n4                                  0.266968                  3.683333   \n\n   percents-hateful-posts  stddev-hate-score-dist  mean-hate-score  \\\n2                0.321864                0.087285         0.406026   \n3                0.345120                0.103312         0.382119   \n4                0.354882                0.121961         0.382763   \n\n   reposts-by-haters  reposts-by-normals  mean-path-length false  \\\n2         323.293307           13.732380                0.716173   \n3         323.780411           13.879782                0.674946   \n4         317.937785           14.021328                0.709812   \n\n   mean-path-length true  \n2               2.812918  \n3               2.951844  \n4               2.847249  \n\n[3 rows x 32 columns]",
      "text/html": "<div>\n<style scoped>\n    .dataframe tbody tr th:only-of-type {\n        vertical-align: middle;\n    }\n\n    .dataframe tbody tr th {\n        vertical-align: top;\n    }\n\n    .dataframe thead th {\n        text-align: right;\n    }\n</style>\n<table border=\"1\" class=\"dataframe\">\n  <thead>\n    <tr style=\"text-align: right;\">\n      <th></th>\n      <th>[run number]</th>\n      <th>[step]</th>\n      <th>swap-to-hate</th>\n      <th>p_defer_hateful_post</th>\n      <th>max-out-degree false</th>\n      <th>max-out-degree true</th>\n      <th>connection-density false</th>\n      <th>connection-density true</th>\n      <th>reciprocal-connections-percents false</th>\n      <th>reciprocal-connections-percents true</th>\n      <th>...</th>\n      <th>percents-persons-with-degree true true 0</th>\n      <th>percents-persons-with-degree true true 1</th>\n      <th>percents-hateful-persons</th>\n      <th>percents-hateful-posts</th>\n      <th>stddev-hate-score-dist</th>\n      <th>mean-hate-score</th>\n      <th>reposts-by-haters</th>\n      <th>reposts-by-normals</th>\n      <th>mean-path-length false</th>\n      <th>mean-path-length true</th>\n    </tr>\n  </thead>\n  <tbody>\n    <tr>\n      <th>2</th>\n      <td>2</td>\n      <td>6001</td>\n      <td>False</td>\n      <td>0.1</td>\n      <td>207</td>\n      <td>45</td>\n      <td>0.000607</td>\n      <td>0.019252</td>\n      <td>0.886219</td>\n      <td>0.685552</td>\n      <td>...</td>\n      <td>0.416667</td>\n      <td>0.229167</td>\n      <td>3.200000</td>\n      <td>0.321864</td>\n      <td>0.087285</td>\n      <td>0.406026</td>\n      <td>323.293307</td>\n      <td>13.732380</td>\n      <td>0.716173</td>\n      <td>2.812918</td>\n    </tr>\n    <tr>\n      <th>3</th>\n      <td>6</td>\n      <td>6001</td>\n      <td>False</td>\n      <td>0.1</td>\n      <td>205</td>\n      <td>65</td>\n      <td>0.000606</td>\n      <td>0.019885</td>\n      <td>0.888344</td>\n      <td>0.752632</td>\n      <td>...</td>\n      <td>0.341837</td>\n      <td>0.265306</td>\n      <td>3.266667</td>\n      <td>0.345120</td>\n      <td>0.103312</td>\n      <td>0.382119</td>\n      <td>323.780411</td>\n      <td>13.879782</td>\n      <td>0.674946</td>\n      <td>2.951844</td>\n    </tr>\n    <tr>\n      <th>4</th>\n      <td>9</td>\n      <td>6001</td>\n      <td>False</td>\n      <td>0.1</td>\n      <td>170</td>\n      <td>71</td>\n      <td>0.000607</td>\n      <td>0.017318</td>\n      <td>0.886895</td>\n      <td>0.745843</td>\n      <td>...</td>\n      <td>0.348416</td>\n      <td>0.266968</td>\n      <td>3.683333</td>\n      <td>0.354882</td>\n      <td>0.121961</td>\n      <td>0.382763</td>\n      <td>317.937785</td>\n      <td>14.021328</td>\n      <td>0.709812</td>\n      <td>2.847249</td>\n    </tr>\n  </tbody>\n</table>\n<p>3 rows × 32 columns</p>\n</div>"
     },
     "metadata": {},
     "output_type": "display_data"
    },
    {
     "name": "stdout",
     "text": "453\n",
     "output_type": "stream"
    }
   ]
  },
  {
   "cell_type": "code",
   "metadata": {
    "collapsed": false,
    "pycharm": {
     "name": "#%%\n"
    },
    "cell_id": "00004-cb9c4eb8-e827-4b4f-b0a5-de59226398b4",
    "deepnote_to_be_reexecuted": false,
    "source_hash": "1792753e",
    "execution_start": 1636144393963,
    "execution_millis": 0,
    "deepnote_cell_type": "code"
   },
   "source": "df['percents-hateful-persons'] /= 100\n\n# Compute ratio of connection densities\ndf['density'] = df['connection-density true'] / df['connection-density false']\n\n# Compute ratio of NH / HN edges\ndf['connections'] = df['connections-percents false true'] / df['connections-percents true false']\n\n# Compute ratio of max out-degrees\ndf['ratio-max-out-degrees'] = df[df['max-out-degree true'] > 0]['max-out-degree false'] / df[df['max-out-degree true'] > 0]['max-out-degree true']",
   "execution_count": 5,
   "outputs": []
  },
  {
   "cell_type": "code",
   "metadata": {
    "collapsed": false,
    "pycharm": {
     "name": "#%%\n"
    },
    "cell_id": "00005-43c8b611-661f-4adb-b890-d54b5ee8548c",
    "deepnote_to_be_reexecuted": false,
    "source_hash": "d79f6b13",
    "execution_start": 1636144393963,
    "execution_millis": 3,
    "deepnote_cell_type": "code"
   },
   "source": "df_all = df.groupby(['p_defer_hateful_post']).mean()\n\ndf_plot = df_all[[\n    'percents-hateful-persons',\n    'percents-hateful-posts',\n    'mean-hate-score',\n    'stddev-hate-score-dist',\n\n    'density',\n    'ratio-max-out-degrees',\n    'reciprocal-connections-percents false',\n    'reciprocal-connections-percents true',\n\n    'mean-following true false',\n    'mean-following true true',\n    'mean-following false false',\n    'mean-following false true',\n    'mean-follower-followee false',\n    'mean-follower-followee true',\n\n    'mean-path-length false',\n    'mean-path-length true',\n    'reposts-by-normals',\n    'reposts-by-haters',\n]]\ndf_plot.columns = [\n    'Fraction of hateful persons',\n    'Fraction of hateful posts',\n    'Mean of hate score distribution',\n    'StdDev of hate score distribution',\n\n    'Ratio network density H / N',\n    'Ratio max. followers of N / H',\n    'Reciprocity of normals',\n    'Reciprocity of haters',\n\n    'Mean followers of normals',\n    'Mean followers of haters',\n    'Mean followees of normals',\n    'Mean followees of hater',\n    'Mean follower/followee of normals',\n    'Mean follower/followee of haters',\n\n    'Mean path len normals',\n    'Mean path len haters',\n    'Reposts of normals',\n    'Reposts of haters',\n]\ndf_plot['Swap to hate'] = df_swap.groupby(['p_defer_hateful_post'])['swap-to-hate'].mean()",
   "execution_count": 6,
   "outputs": [
    {
     "name": "stderr",
     "text": "/shared-libs/python3.7/py-core/lib/python3.7/site-packages/ipykernel_launcher.py:49: SettingWithCopyWarning: \nA value is trying to be set on a copy of a slice from a DataFrame.\nTry using .loc[row_indexer,col_indexer] = value instead\n\nSee the caveats in the documentation: https://pandas.pydata.org/pandas-docs/stable/user_guide/indexing.html#returning-a-view-versus-a-copy\n",
     "output_type": "stream"
    }
   ]
  },
  {
   "cell_type": "code",
   "metadata": {
    "collapsed": false,
    "pycharm": {
     "name": "#%%\n"
    },
    "cell_id": "00006-f3effbf6-0213-4188-8d80-e0f0371a55d0",
    "deepnote_to_be_reexecuted": false,
    "source_hash": "46ed7f7a",
    "execution_start": 1636144393964,
    "execution_millis": 106,
    "deepnote_cell_type": "code"
   },
   "source": "df_plot",
   "execution_count": 7,
   "outputs": [
    {
     "output_type": "execute_result",
     "execution_count": 7,
     "data": {
      "application/vnd.deepnote.dataframe.v2+json": {
       "row_count": 5,
       "column_count": 19,
       "columns": [
        {
         "name": "Fraction of hateful persons",
         "dtype": "float64",
         "stats": {
          "unique_count": 5,
          "nan_count": 0,
          "min": "0.03858833333333333",
          "max": "0.07369318181818184",
          "histogram": [
           {
            "bin_start": 0.03858833333333333,
            "bin_end": 0.04209881818181818,
            "count": 1
           },
           {
            "bin_start": 0.04209881818181818,
            "bin_end": 0.04560930303030303,
            "count": 0
           },
           {
            "bin_start": 0.04560930303030303,
            "bin_end": 0.04911978787878788,
            "count": 0
           },
           {
            "bin_start": 0.04911978787878788,
            "bin_end": 0.052630272727272734,
            "count": 1
           },
           {
            "bin_start": 0.052630272727272734,
            "bin_end": 0.05614075757575758,
            "count": 0
           },
           {
            "bin_start": 0.05614075757575758,
            "bin_end": 0.05965124242424243,
            "count": 0
           },
           {
            "bin_start": 0.05965124242424243,
            "bin_end": 0.06316172727272729,
            "count": 1
           },
           {
            "bin_start": 0.06316172727272729,
            "bin_end": 0.06667221212121213,
            "count": 0
           },
           {
            "bin_start": 0.06667221212121213,
            "bin_end": 0.07018269696969698,
            "count": 1
           },
           {
            "bin_start": 0.07018269696969698,
            "bin_end": 0.07369318181818184,
            "count": 1
           }
          ]
         }
        },
        {
         "name": "Fraction of hateful posts",
         "dtype": "float64",
         "stats": {
          "unique_count": 5,
          "nan_count": 0,
          "min": "0.23934742280292487",
          "max": "0.439682882324893",
          "histogram": [
           {
            "bin_start": 0.23934742280292487,
            "bin_end": 0.2593809687551217,
            "count": 1
           },
           {
            "bin_start": 0.2593809687551217,
            "bin_end": 0.2794145147073185,
            "count": 0
           },
           {
            "bin_start": 0.2794145147073185,
            "bin_end": 0.2994480606595153,
            "count": 0
           },
           {
            "bin_start": 0.2994480606595153,
            "bin_end": 0.3194816066117121,
            "count": 0
           },
           {
            "bin_start": 0.3194816066117121,
            "bin_end": 0.33951515256390896,
            "count": 0
           },
           {
            "bin_start": 0.33951515256390896,
            "bin_end": 0.35954869851610577,
            "count": 1
           },
           {
            "bin_start": 0.35954869851610577,
            "bin_end": 0.3795822444683026,
            "count": 0
           },
           {
            "bin_start": 0.3795822444683026,
            "bin_end": 0.3996157904204994,
            "count": 1
           },
           {
            "bin_start": 0.3996157904204994,
            "bin_end": 0.4196493363726962,
            "count": 0
           },
           {
            "bin_start": 0.4196493363726962,
            "bin_end": 0.439682882324893,
            "count": 2
           }
          ]
         }
        },
        {
         "name": "Mean of hate score distribution",
         "dtype": "float64",
         "stats": {
          "unique_count": 5,
          "nan_count": 0,
          "min": "0.3930135986621118",
          "max": "0.42543792736388064",
          "histogram": [
           {
            "bin_start": 0.3930135986621118,
            "bin_end": 0.39625603153228867,
            "count": 1
           },
           {
            "bin_start": 0.39625603153228867,
            "bin_end": 0.39949846440246556,
            "count": 0
           },
           {
            "bin_start": 0.39949846440246556,
            "bin_end": 0.40274089727264245,
            "count": 0
           },
           {
            "bin_start": 0.40274089727264245,
            "bin_end": 0.40598333014281934,
            "count": 1
           },
           {
            "bin_start": 0.40598333014281934,
            "bin_end": 0.4092257630129962,
            "count": 1
           },
           {
            "bin_start": 0.4092257630129962,
            "bin_end": 0.41246819588317307,
            "count": 0
           },
           {
            "bin_start": 0.41246819588317307,
            "bin_end": 0.41571062875334996,
            "count": 1
           },
           {
            "bin_start": 0.41571062875334996,
            "bin_end": 0.41895306162352686,
            "count": 0
           },
           {
            "bin_start": 0.41895306162352686,
            "bin_end": 0.42219549449370375,
            "count": 0
           },
           {
            "bin_start": 0.42219549449370375,
            "bin_end": 0.42543792736388064,
            "count": 1
           }
          ]
         }
        },
        {
         "name": "StdDev of hate score distribution",
         "dtype": "float64",
         "stats": {
          "unique_count": 5,
          "nan_count": 0,
          "min": "0.10598461655637782",
          "max": "0.12090811859994664",
          "histogram": [
           {
            "bin_start": 0.10598461655637782,
            "bin_end": 0.1074769667607347,
            "count": 1
           },
           {
            "bin_start": 0.1074769667607347,
            "bin_end": 0.10896931696509159,
            "count": 0
           },
           {
            "bin_start": 0.10896931696509159,
            "bin_end": 0.11046166716944847,
            "count": 0
           },
           {
            "bin_start": 0.11046166716944847,
            "bin_end": 0.11195401737380535,
            "count": 0
           },
           {
            "bin_start": 0.11195401737380535,
            "bin_end": 0.11344636757816223,
            "count": 0
           },
           {
            "bin_start": 0.11344636757816223,
            "bin_end": 0.11493871778251911,
            "count": 0
           },
           {
            "bin_start": 0.11493871778251911,
            "bin_end": 0.116431067986876,
            "count": 1
           },
           {
            "bin_start": 0.116431067986876,
            "bin_end": 0.11792341819123288,
            "count": 2
           },
           {
            "bin_start": 0.11792341819123288,
            "bin_end": 0.11941576839558976,
            "count": 0
           },
           {
            "bin_start": 0.11941576839558976,
            "bin_end": 0.12090811859994664,
            "count": 1
           }
          ]
         }
        },
        {
         "name": "Ratio network density H / N",
         "dtype": "float64",
         "stats": {
          "unique_count": 5,
          "nan_count": 0,
          "min": "21.773020006862637",
          "max": "32.011243145835216",
          "histogram": [
           {
            "bin_start": 21.773020006862637,
            "bin_end": 22.796842320759897,
            "count": 1
           },
           {
            "bin_start": 22.796842320759897,
            "bin_end": 23.820664634657152,
            "count": 0
           },
           {
            "bin_start": 23.820664634657152,
            "bin_end": 24.84448694855441,
            "count": 0
           },
           {
            "bin_start": 24.84448694855441,
            "bin_end": 25.868309262451668,
            "count": 0
           },
           {
            "bin_start": 25.868309262451668,
            "bin_end": 26.892131576348927,
            "count": 1
           },
           {
            "bin_start": 26.892131576348927,
            "bin_end": 27.915953890246186,
            "count": 2
           },
           {
            "bin_start": 27.915953890246186,
            "bin_end": 28.939776204143442,
            "count": 0
           },
           {
            "bin_start": 28.939776204143442,
            "bin_end": 29.9635985180407,
            "count": 0
           },
           {
            "bin_start": 29.9635985180407,
            "bin_end": 30.98742083193796,
            "count": 0
           },
           {
            "bin_start": 30.98742083193796,
            "bin_end": 32.011243145835216,
            "count": 1
           }
          ]
         }
        },
        {
         "name": "Ratio max. followers of N / H",
         "dtype": "float64",
         "stats": {
          "unique_count": 5,
          "nan_count": 0,
          "min": "3.1078168923474947",
          "max": "3.970218646364351",
          "histogram": [
           {
            "bin_start": 3.1078168923474947,
            "bin_end": 3.1940570677491804,
            "count": 3
           },
           {
            "bin_start": 3.1940570677491804,
            "bin_end": 3.280297243150866,
            "count": 1
           },
           {
            "bin_start": 3.280297243150866,
            "bin_end": 3.366537418552552,
            "count": 0
           },
           {
            "bin_start": 3.366537418552552,
            "bin_end": 3.452777593954237,
            "count": 0
           },
           {
            "bin_start": 3.452777593954237,
            "bin_end": 3.539017769355923,
            "count": 0
           },
           {
            "bin_start": 3.539017769355923,
            "bin_end": 3.6252579447576085,
            "count": 0
           },
           {
            "bin_start": 3.6252579447576085,
            "bin_end": 3.7114981201592943,
            "count": 0
           },
           {
            "bin_start": 3.7114981201592943,
            "bin_end": 3.79773829556098,
            "count": 0
           },
           {
            "bin_start": 3.79773829556098,
            "bin_end": 3.8839784709626652,
            "count": 0
           },
           {
            "bin_start": 3.8839784709626652,
            "bin_end": 3.970218646364351,
            "count": 1
           }
          ]
         }
        },
        {
         "name": "Reciprocity of normals",
         "dtype": "float64",
         "stats": {
          "unique_count": 5,
          "nan_count": 0,
          "min": "0.8883082722433401",
          "max": "0.8888406093909511",
          "histogram": [
           {
            "bin_start": 0.8883082722433401,
            "bin_end": 0.8883615059581011,
            "count": 1
           },
           {
            "bin_start": 0.8883615059581011,
            "bin_end": 0.8884147396728623,
            "count": 0
           },
           {
            "bin_start": 0.8884147396728623,
            "bin_end": 0.8884679733876234,
            "count": 0
           },
           {
            "bin_start": 0.8884679733876234,
            "bin_end": 0.8885212071023845,
            "count": 1
           },
           {
            "bin_start": 0.8885212071023845,
            "bin_end": 0.8885744408171456,
            "count": 0
           },
           {
            "bin_start": 0.8885744408171456,
            "bin_end": 0.8886276745319067,
            "count": 1
           },
           {
            "bin_start": 0.8886276745319067,
            "bin_end": 0.8886809082466678,
            "count": 0
           },
           {
            "bin_start": 0.8886809082466678,
            "bin_end": 0.8887341419614289,
            "count": 0
           },
           {
            "bin_start": 0.8887341419614289,
            "bin_end": 0.88878737567619,
            "count": 0
           },
           {
            "bin_start": 0.88878737567619,
            "bin_end": 0.8888406093909511,
            "count": 2
           }
          ]
         }
        },
        {
         "name": "Reciprocity of haters",
         "dtype": "float64",
         "stats": {
          "unique_count": 5,
          "nan_count": 0,
          "min": "0.7380507410843758",
          "max": "0.7641636835277646",
          "histogram": [
           {
            "bin_start": 0.7380507410843758,
            "bin_end": 0.7406620353287148,
            "count": 1
           },
           {
            "bin_start": 0.7406620353287148,
            "bin_end": 0.7432733295730536,
            "count": 0
           },
           {
            "bin_start": 0.7432733295730536,
            "bin_end": 0.7458846238173925,
            "count": 1
           },
           {
            "bin_start": 0.7458846238173925,
            "bin_end": 0.7484959180617313,
            "count": 0
           },
           {
            "bin_start": 0.7484959180617313,
            "bin_end": 0.7511072123060702,
            "count": 0
           },
           {
            "bin_start": 0.7511072123060702,
            "bin_end": 0.7537185065504092,
            "count": 0
           },
           {
            "bin_start": 0.7537185065504092,
            "bin_end": 0.756329800794748,
            "count": 0
           },
           {
            "bin_start": 0.756329800794748,
            "bin_end": 0.7589410950390869,
            "count": 1
           },
           {
            "bin_start": 0.7589410950390869,
            "bin_end": 0.7615523892834257,
            "count": 0
           },
           {
            "bin_start": 0.7615523892834257,
            "bin_end": 0.7641636835277646,
            "count": 2
           }
          ]
         }
        },
        {
         "name": "Mean followers of normals",
         "dtype": "float64",
         "stats": {
          "unique_count": 5,
          "nan_count": 0,
          "min": "1.7643372009896212",
          "max": "1.7711268180514204",
          "histogram": [
           {
            "bin_start": 1.7643372009896212,
            "bin_end": 1.7650161626958012,
            "count": 1
           },
           {
            "bin_start": 1.7650161626958012,
            "bin_end": 1.765695124401981,
            "count": 1
           },
           {
            "bin_start": 1.765695124401981,
            "bin_end": 1.766374086108161,
            "count": 1
           },
           {
            "bin_start": 1.766374086108161,
            "bin_end": 1.767053047814341,
            "count": 0
           },
           {
            "bin_start": 1.767053047814341,
            "bin_end": 1.767732009520521,
            "count": 0
           },
           {
            "bin_start": 1.767732009520521,
            "bin_end": 1.7684109712267007,
            "count": 0
           },
           {
            "bin_start": 1.7684109712267007,
            "bin_end": 1.7690899329328806,
            "count": 1
           },
           {
            "bin_start": 1.7690899329328806,
            "bin_end": 1.7697688946390606,
            "count": 0
           },
           {
            "bin_start": 1.7697688946390606,
            "bin_end": 1.7704478563452404,
            "count": 0
           },
           {
            "bin_start": 1.7704478563452404,
            "bin_end": 1.7711268180514204,
            "count": 1
           }
          ]
         }
        },
        {
         "name": "Mean followers of haters",
         "dtype": "float64",
         "stats": {
          "unique_count": 5,
          "nan_count": 0,
          "min": "2.2651492774789044",
          "max": "2.425840892703355",
          "histogram": [
           {
            "bin_start": 2.2651492774789044,
            "bin_end": 2.2812184390013495,
            "count": 1
           },
           {
            "bin_start": 2.2812184390013495,
            "bin_end": 2.2972876005237945,
            "count": 0
           },
           {
            "bin_start": 2.2972876005237945,
            "bin_end": 2.3133567620462396,
            "count": 0
           },
           {
            "bin_start": 2.3133567620462396,
            "bin_end": 2.3294259235686847,
            "count": 0
           },
           {
            "bin_start": 2.3294259235686847,
            "bin_end": 2.3454950850911294,
            "count": 2
           },
           {
            "bin_start": 2.3454950850911294,
            "bin_end": 2.3615642466135744,
            "count": 0
           },
           {
            "bin_start": 2.3615642466135744,
            "bin_end": 2.3776334081360195,
            "count": 1
           },
           {
            "bin_start": 2.3776334081360195,
            "bin_end": 2.3937025696584646,
            "count": 0
           },
           {
            "bin_start": 2.3937025696584646,
            "bin_end": 2.4097717311809097,
            "count": 0
           },
           {
            "bin_start": 2.4097717311809097,
            "bin_end": 2.425840892703355,
            "count": 1
           }
          ]
         }
        },
        {
         "name": "Mean followees of normals",
         "dtype": "float64",
         "stats": {
          "unique_count": 5,
          "nan_count": 0,
          "min": "1.7803763974833544",
          "max": "1.784428013089904",
          "histogram": [
           {
            "bin_start": 1.7803763974833544,
            "bin_end": 1.7807815590440095,
            "count": 1
           },
           {
            "bin_start": 1.7807815590440095,
            "bin_end": 1.7811867206046643,
            "count": 1
           },
           {
            "bin_start": 1.7811867206046643,
            "bin_end": 1.7815918821653192,
            "count": 1
           },
           {
            "bin_start": 1.7815918821653192,
            "bin_end": 1.7819970437259742,
            "count": 0
           },
           {
            "bin_start": 1.7819970437259742,
            "bin_end": 1.7824022052866293,
            "count": 0
           },
           {
            "bin_start": 1.7824022052866293,
            "bin_end": 1.7828073668472841,
            "count": 1
           },
           {
            "bin_start": 1.7828073668472841,
            "bin_end": 1.783212528407939,
            "count": 0
           },
           {
            "bin_start": 1.783212528407939,
            "bin_end": 1.783617689968594,
            "count": 0
           },
           {
            "bin_start": 1.783617689968594,
            "bin_end": 1.784022851529249,
            "count": 0
           },
           {
            "bin_start": 1.784022851529249,
            "bin_end": 1.784428013089904,
            "count": 1
           }
          ]
         }
        },
        {
         "name": "Mean followees of hater",
         "dtype": "float64",
         "stats": {
          "unique_count": 5,
          "nan_count": 0,
          "min": "1.9848382442987509",
          "max": "2.0854702238940273",
          "histogram": [
           {
            "bin_start": 1.9848382442987509,
            "bin_end": 1.9949014422582785,
            "count": 1
           },
           {
            "bin_start": 1.9949014422582785,
            "bin_end": 2.004964640217806,
            "count": 0
           },
           {
            "bin_start": 2.004964640217806,
            "bin_end": 2.0150278381773337,
            "count": 0
           },
           {
            "bin_start": 2.0150278381773337,
            "bin_end": 2.0250910361368613,
            "count": 0
           },
           {
            "bin_start": 2.0250910361368613,
            "bin_end": 2.035154234096389,
            "count": 0
           },
           {
            "bin_start": 2.035154234096389,
            "bin_end": 2.045217432055917,
            "count": 0
           },
           {
            "bin_start": 2.045217432055917,
            "bin_end": 2.0552806300154445,
            "count": 2
           },
           {
            "bin_start": 2.0552806300154445,
            "bin_end": 2.065343827974972,
            "count": 1
           },
           {
            "bin_start": 2.065343827974972,
            "bin_end": 2.0754070259344997,
            "count": 0
           },
           {
            "bin_start": 2.0754070259344997,
            "bin_end": 2.0854702238940273,
            "count": 1
           }
          ]
         }
        },
        {
         "name": "Mean follower/followee of normals",
         "dtype": "float64",
         "stats": {
          "unique_count": 5,
          "nan_count": 0,
          "min": "0.8780216798064333",
          "max": "0.8802149960519808",
          "histogram": [
           {
            "bin_start": 0.8780216798064333,
            "bin_end": 0.8782410114309881,
            "count": 1
           },
           {
            "bin_start": 0.8782410114309881,
            "bin_end": 0.8784603430555428,
            "count": 0
           },
           {
            "bin_start": 0.8784603430555428,
            "bin_end": 0.8786796746800976,
            "count": 1
           },
           {
            "bin_start": 0.8786796746800976,
            "bin_end": 0.8788990063046523,
            "count": 0
           },
           {
            "bin_start": 0.8788990063046523,
            "bin_end": 0.8791183379292071,
            "count": 0
           },
           {
            "bin_start": 0.8791183379292071,
            "bin_end": 0.8793376695537618,
            "count": 0
           },
           {
            "bin_start": 0.8793376695537618,
            "bin_end": 0.8795570011783166,
            "count": 1
           },
           {
            "bin_start": 0.8795570011783166,
            "bin_end": 0.8797763328028714,
            "count": 0
           },
           {
            "bin_start": 0.8797763328028714,
            "bin_end": 0.879995664427426,
            "count": 0
           },
           {
            "bin_start": 0.879995664427426,
            "bin_end": 0.8802149960519808,
            "count": 2
           }
          ]
         }
        },
        {
         "name": "Mean follower/followee of haters",
         "dtype": "float64",
         "stats": {
          "unique_count": 5,
          "nan_count": 0,
          "min": "0.7567922034955212",
          "max": "0.7828684487630924",
          "histogram": [
           {
            "bin_start": 0.7567922034955212,
            "bin_end": 0.7593998280222783,
            "count": 1
           },
           {
            "bin_start": 0.7593998280222783,
            "bin_end": 0.7620074525490355,
            "count": 0
           },
           {
            "bin_start": 0.7620074525490355,
            "bin_end": 0.7646150770757926,
            "count": 0
           },
           {
            "bin_start": 0.7646150770757926,
            "bin_end": 0.7672227016025497,
            "count": 1
           },
           {
            "bin_start": 0.7672227016025497,
            "bin_end": 0.7698303261293068,
            "count": 0
           },
           {
            "bin_start": 0.7698303261293068,
            "bin_end": 0.7724379506560639,
            "count": 0
           },
           {
            "bin_start": 0.7724379506560639,
            "bin_end": 0.775045575182821,
            "count": 0
           },
           {
            "bin_start": 0.775045575182821,
            "bin_end": 0.7776531997095781,
            "count": 0
           },
           {
            "bin_start": 0.7776531997095781,
            "bin_end": 0.7802608242363352,
            "count": 2
           },
           {
            "bin_start": 0.7802608242363352,
            "bin_end": 0.7828684487630924,
            "count": 1
           }
          ]
         }
        },
        {
         "name": "Mean path len normals",
         "dtype": "float64",
         "stats": {
          "unique_count": 5,
          "nan_count": 0,
          "min": "0.7028104958950865",
          "max": "0.7153246873542587",
          "histogram": [
           {
            "bin_start": 0.7028104958950865,
            "bin_end": 0.7040619150410037,
            "count": 1
           },
           {
            "bin_start": 0.7040619150410037,
            "bin_end": 0.7053133341869209,
            "count": 2
           },
           {
            "bin_start": 0.7053133341869209,
            "bin_end": 0.7065647533328382,
            "count": 0
           },
           {
            "bin_start": 0.7065647533328382,
            "bin_end": 0.7078161724787554,
            "count": 0
           },
           {
            "bin_start": 0.7078161724787554,
            "bin_end": 0.7090675916246726,
            "count": 0
           },
           {
            "bin_start": 0.7090675916246726,
            "bin_end": 0.7103190107705898,
            "count": 0
           },
           {
            "bin_start": 0.7103190107705898,
            "bin_end": 0.711570429916507,
            "count": 0
           },
           {
            "bin_start": 0.711570429916507,
            "bin_end": 0.7128218490624243,
            "count": 1
           },
           {
            "bin_start": 0.7128218490624243,
            "bin_end": 0.7140732682083415,
            "count": 0
           },
           {
            "bin_start": 0.7140732682083415,
            "bin_end": 0.7153246873542587,
            "count": 1
           }
          ]
         }
        },
        {
         "name": "Mean path len haters",
         "dtype": "float64",
         "stats": {
          "unique_count": 5,
          "nan_count": 0,
          "min": "1.0351380281439457",
          "max": "2.53374544152958",
          "histogram": [
           {
            "bin_start": 1.0351380281439457,
            "bin_end": 1.1849987694825093,
            "count": 1
           },
           {
            "bin_start": 1.1849987694825093,
            "bin_end": 1.3348595108210726,
            "count": 0
           },
           {
            "bin_start": 1.3348595108210726,
            "bin_end": 1.484720252159636,
            "count": 0
           },
           {
            "bin_start": 1.484720252159636,
            "bin_end": 1.6345809934981994,
            "count": 0
           },
           {
            "bin_start": 1.6345809934981994,
            "bin_end": 1.784441734836763,
            "count": 0
           },
           {
            "bin_start": 1.784441734836763,
            "bin_end": 1.9343024761753265,
            "count": 0
           },
           {
            "bin_start": 1.9343024761753265,
            "bin_end": 2.0841632175138898,
            "count": 1
           },
           {
            "bin_start": 2.0841632175138898,
            "bin_end": 2.234023958852453,
            "count": 1
           },
           {
            "bin_start": 2.234023958852453,
            "bin_end": 2.383884700191017,
            "count": 1
           },
           {
            "bin_start": 2.383884700191017,
            "bin_end": 2.53374544152958,
            "count": 1
           }
          ]
         }
        },
        {
         "name": "Reposts of normals",
         "dtype": "float64",
         "stats": {
          "unique_count": 5,
          "nan_count": 0,
          "min": "12.656862638999941",
          "max": "14.155852268623267",
          "histogram": [
           {
            "bin_start": 12.656862638999941,
            "bin_end": 12.806761601962274,
            "count": 1
           },
           {
            "bin_start": 12.806761601962274,
            "bin_end": 12.956660564924606,
            "count": 0
           },
           {
            "bin_start": 12.956660564924606,
            "bin_end": 13.106559527886938,
            "count": 0
           },
           {
            "bin_start": 13.106559527886938,
            "bin_end": 13.25645849084927,
            "count": 1
           },
           {
            "bin_start": 13.25645849084927,
            "bin_end": 13.406357453811605,
            "count": 0
           },
           {
            "bin_start": 13.406357453811605,
            "bin_end": 13.556256416773937,
            "count": 1
           },
           {
            "bin_start": 13.556256416773937,
            "bin_end": 13.70615537973627,
            "count": 0
           },
           {
            "bin_start": 13.70615537973627,
            "bin_end": 13.856054342698602,
            "count": 0
           },
           {
            "bin_start": 13.856054342698602,
            "bin_end": 14.005953305660935,
            "count": 1
           },
           {
            "bin_start": 14.005953305660935,
            "bin_end": 14.155852268623267,
            "count": 1
           }
          ]
         }
        },
        {
         "name": "Reposts of haters",
         "dtype": "float64",
         "stats": {
          "unique_count": 5,
          "nan_count": 0,
          "min": "65.93565593543477",
          "max": "306.1701807680535",
          "histogram": [
           {
            "bin_start": 65.93565593543477,
            "bin_end": 89.95910841869664,
            "count": 1
           },
           {
            "bin_start": 89.95910841869664,
            "bin_end": 113.98256090195852,
            "count": 0
           },
           {
            "bin_start": 113.98256090195852,
            "bin_end": 138.0060133852204,
            "count": 0
           },
           {
            "bin_start": 138.0060133852204,
            "bin_end": 162.02946586848225,
            "count": 0
           },
           {
            "bin_start": 162.02946586848225,
            "bin_end": 186.05291835174415,
            "count": 1
           },
           {
            "bin_start": 186.05291835174415,
            "bin_end": 210.076370835006,
            "count": 0
           },
           {
            "bin_start": 210.076370835006,
            "bin_end": 234.09982331826788,
            "count": 1
           },
           {
            "bin_start": 234.09982331826788,
            "bin_end": 258.12327580152976,
            "count": 1
           },
           {
            "bin_start": 258.12327580152976,
            "bin_end": 282.1467282847916,
            "count": 0
           },
           {
            "bin_start": 282.1467282847916,
            "bin_end": 306.1701807680535,
            "count": 1
           }
          ]
         }
        },
        {
         "name": "Swap to hate",
         "dtype": "float64",
         "stats": {
          "unique_count": 5,
          "nan_count": 0,
          "min": "0.0",
          "max": "0.2",
          "histogram": [
           {
            "bin_start": 0,
            "bin_end": 0.02,
            "count": 1
           },
           {
            "bin_start": 0.02,
            "bin_end": 0.04,
            "count": 1
           },
           {
            "bin_start": 0.04,
            "bin_end": 0.06,
            "count": 0
           },
           {
            "bin_start": 0.06,
            "bin_end": 0.08,
            "count": 0
           },
           {
            "bin_start": 0.08,
            "bin_end": 0.1,
            "count": 0
           },
           {
            "bin_start": 0.1,
            "bin_end": 0.12,
            "count": 0
           },
           {
            "bin_start": 0.12,
            "bin_end": 0.14,
            "count": 2
           },
           {
            "bin_start": 0.14,
            "bin_end": 0.16,
            "count": 0
           },
           {
            "bin_start": 0.16,
            "bin_end": 0.18,
            "count": 0
           },
           {
            "bin_start": 0.18,
            "bin_end": 0.2,
            "count": 1
           }
          ]
         }
        },
        {
         "name": "_deepnote_index_column",
         "dtype": "float64"
        }
       ],
       "rows_top": [
        {
         "Fraction of hateful persons": 0.06813541666666667,
         "Fraction of hateful posts": 0.42898179652494994,
         "Mean of hate score distribution": 0.4145974012080809,
         "StdDev of hate score distribution": 0.11712017051669063,
         "Ratio network density H / N": 26.047763404227567,
         "Ratio max. followers of N / H": 3.1741732471278614,
         "Reciprocity of normals": 0.8888406093909511,
         "Reciprocity of haters": 0.7624535065009777,
         "Mean followers of normals": 1.765240337630694,
         "Mean followers of haters": 2.3447321715730043,
         "Mean followees of normals": 1.781112818435247,
         "Mean followees of hater": 2.0461619229073857,
         "Mean follower/followee of normals": 0.8785986557515955,
         "Mean follower/followee of haters": 0.7828684487630924,
         "Mean path len normals": 0.7048124927759291,
         "Mean path len haters": 2.53374544152958,
         "Reposts of normals": 14.155852268623267,
         "Reposts of haters": 306.1701807680535,
         "Swap to hate": 0.2,
         "_deepnote_index_column": 0.1
        },
        {
         "Fraction of hateful persons": 0.07369318181818184,
         "Fraction of hateful posts": 0.439682882324893,
         "Mean of hate score distribution": 0.42543792736388064,
         "StdDev of hate score distribution": 0.12090811859994664,
         "Ratio network density H / N": 21.773020006862637,
         "Ratio max. followers of N / H": 3.1571099334813013,
         "Reciprocity of normals": 0.8883082722433401,
         "Reciprocity of haters": 0.7572390933750482,
         "Mean followers of normals": 1.7643372009896212,
         "Mean followers of haters": 2.2651492774789044,
         "Mean followees of normals": 1.7803763974833544,
         "Mean followees of hater": 1.9848382442987509,
         "Mean follower/followee of normals": 0.8780216798064333,
         "Mean follower/followee of haters": 0.7792334674801588,
         "Mean path len normals": 0.7028104958950865,
         "Mean path len haters": 2.2507794640209955,
         "Reposts of normals": 13.874328192134293,
         "Reposts of haters": 252.95316217971475,
         "Swap to hate": 0.12,
         "_deepnote_index_column": 0.3
        },
        {
         "Fraction of hateful persons": 0.060105363984674365,
         "Fraction of hateful posts": 0.38367020190699935,
         "Mean of hate score distribution": 0.4089760685754245,
         "StdDev of hate score distribution": 0.1150030723497961,
         "Ratio network density H / N": 27.05067044670184,
         "Ratio max. followers of N / H": 3.1078168923474947,
         "Reciprocity of normals": 0.8886129194275988,
         "Reciprocity of haters": 0.7641636835277646,
         "Mean followers of normals": 1.7687847569664723,
         "Mean followers of haters": 2.3365727419791793,
         "Mean followees of normals": 1.7827104537816483,
         "Mean followees of hater": 2.056169831337386,
         "Mean follower/followee of normals": 0.8800947103782258,
         "Mean follower/followee of haters": 0.7777616121921411,
         "Mean path len normals": 0.7048264290752005,
         "Mean path len haters": 2.157104137348533,
         "Reposts of normals": 13.431147645821989,
         "Reposts of haters": 216.24976053000196,
         "Swap to hate": 0.13,
         "_deepnote_index_column": 0.5
        },
        {
         "Fraction of hateful persons": 0.052205782312925185,
         "Fraction of hateful posts": 0.341751176352693,
         "Mean of hate score distribution": 0.40337252489907294,
         "StdDev of hate score distribution": 0.11647724474892543,
         "Ratio network density H / N": 26.98734205048121,
         "Ratio max. followers of N / H": 3.2391825135514782,
         "Reciprocity of normals": 0.8887989612718215,
         "Reciprocity of haters": 0.7456765110240484,
         "Mean followers of normals": 1.7658900968175655,
         "Mean followers of haters": 2.3704852463452135,
         "Mean followees of normals": 1.781512358153462,
         "Mean followees of hater": 2.047539822775421,
         "Mean follower/followee of normals": 0.8793871878332502,
         "Mean follower/followee of haters": 0.7655759921263249,
         "Mean path len normals": 0.7122653067347055,
         "Mean path len haters": 1.988464113493928,
         "Reposts of normals": 13.144693519082244,
         "Reposts of haters": 162.6900473914375,
         "Swap to hate": 0.02,
         "_deepnote_index_column": 0.7
        },
        {
         "Fraction of hateful persons": 0.03858833333333333,
         "Fraction of hateful posts": 0.23934742280292487,
         "Mean of hate score distribution": 0.3930135986621118,
         "StdDev of hate score distribution": 0.10598461655637782,
         "Ratio network density H / N": 32.011243145835216,
         "Ratio max. followers of N / H": 3.970218646364351,
         "Reciprocity of normals": 0.888499938754137,
         "Reciprocity of haters": 0.7380507410843758,
         "Mean followers of normals": 1.7711268180514204,
         "Mean followers of haters": 2.425840892703355,
         "Mean followees of normals": 1.784428013089904,
         "Mean followees of hater": 2.0854702238940273,
         "Mean follower/followee of normals": 0.8802149960519808,
         "Mean follower/followee of haters": 0.7567922034955212,
         "Mean path len normals": 0.7153246873542587,
         "Mean path len haters": 1.0351380281439457,
         "Reposts of normals": 12.656862638999941,
         "Reposts of haters": 65.93565593543477,
         "Swap to hate": 0,
         "_deepnote_index_column": 0.9
        }
       ],
       "rows_bottom": null
      },
      "text/plain": "                      Fraction of hateful persons  Fraction of hateful posts  \\\np_defer_hateful_post                                                           \n0.1                                      0.068135                   0.428982   \n0.3                                      0.073693                   0.439683   \n0.5                                      0.060105                   0.383670   \n0.7                                      0.052206                   0.341751   \n0.9                                      0.038588                   0.239347   \n\n                      Mean of hate score distribution  \\\np_defer_hateful_post                                    \n0.1                                          0.414597   \n0.3                                          0.425438   \n0.5                                          0.408976   \n0.7                                          0.403373   \n0.9                                          0.393014   \n\n                      StdDev of hate score distribution  \\\np_defer_hateful_post                                      \n0.1                                            0.117120   \n0.3                                            0.120908   \n0.5                                            0.115003   \n0.7                                            0.116477   \n0.9                                            0.105985   \n\n                      Ratio network density H / N  \\\np_defer_hateful_post                                \n0.1                                     26.047763   \n0.3                                     21.773020   \n0.5                                     27.050670   \n0.7                                     26.987342   \n0.9                                     32.011243   \n\n                      Ratio max. followers of N / H  Reciprocity of normals  \\\np_defer_hateful_post                                                          \n0.1                                        3.174173                0.888841   \n0.3                                        3.157110                0.888308   \n0.5                                        3.107817                0.888613   \n0.7                                        3.239183                0.888799   \n0.9                                        3.970219                0.888500   \n\n                      Reciprocity of haters  Mean followers of normals  \\\np_defer_hateful_post                                                     \n0.1                                0.762454                   1.765240   \n0.3                                0.757239                   1.764337   \n0.5                                0.764164                   1.768785   \n0.7                                0.745677                   1.765890   \n0.9                                0.738051                   1.771127   \n\n                      Mean followers of haters  Mean followees of normals  \\\np_defer_hateful_post                                                        \n0.1                                   2.344732                   1.781113   \n0.3                                   2.265149                   1.780376   \n0.5                                   2.336573                   1.782710   \n0.7                                   2.370485                   1.781512   \n0.9                                   2.425841                   1.784428   \n\n                      Mean followees of hater  \\\np_defer_hateful_post                            \n0.1                                  2.046162   \n0.3                                  1.984838   \n0.5                                  2.056170   \n0.7                                  2.047540   \n0.9                                  2.085470   \n\n                      Mean follower/followee of normals  \\\np_defer_hateful_post                                      \n0.1                                            0.878599   \n0.3                                            0.878022   \n0.5                                            0.880095   \n0.7                                            0.879387   \n0.9                                            0.880215   \n\n                      Mean follower/followee of haters  Mean path len normals  \\\np_defer_hateful_post                                                            \n0.1                                           0.782868               0.704812   \n0.3                                           0.779233               0.702810   \n0.5                                           0.777762               0.704826   \n0.7                                           0.765576               0.712265   \n0.9                                           0.756792               0.715325   \n\n                      Mean path len haters  Reposts of normals  \\\np_defer_hateful_post                                             \n0.1                               2.533745           14.155852   \n0.3                               2.250779           13.874328   \n0.5                               2.157104           13.431148   \n0.7                               1.988464           13.144694   \n0.9                               1.035138           12.656863   \n\n                      Reposts of haters  Swap to hate  \np_defer_hateful_post                                   \n0.1                          306.170181          0.20  \n0.3                          252.953162          0.12  \n0.5                          216.249761          0.13  \n0.7                          162.690047          0.02  \n0.9                           65.935656          0.00  ",
      "text/html": "<div>\n<style scoped>\n    .dataframe tbody tr th:only-of-type {\n        vertical-align: middle;\n    }\n\n    .dataframe tbody tr th {\n        vertical-align: top;\n    }\n\n    .dataframe thead th {\n        text-align: right;\n    }\n</style>\n<table border=\"1\" class=\"dataframe\">\n  <thead>\n    <tr style=\"text-align: right;\">\n      <th></th>\n      <th>Fraction of hateful persons</th>\n      <th>Fraction of hateful posts</th>\n      <th>Mean of hate score distribution</th>\n      <th>StdDev of hate score distribution</th>\n      <th>Ratio network density H / N</th>\n      <th>Ratio max. followers of N / H</th>\n      <th>Reciprocity of normals</th>\n      <th>Reciprocity of haters</th>\n      <th>Mean followers of normals</th>\n      <th>Mean followers of haters</th>\n      <th>Mean followees of normals</th>\n      <th>Mean followees of hater</th>\n      <th>Mean follower/followee of normals</th>\n      <th>Mean follower/followee of haters</th>\n      <th>Mean path len normals</th>\n      <th>Mean path len haters</th>\n      <th>Reposts of normals</th>\n      <th>Reposts of haters</th>\n      <th>Swap to hate</th>\n    </tr>\n    <tr>\n      <th>p_defer_hateful_post</th>\n      <th></th>\n      <th></th>\n      <th></th>\n      <th></th>\n      <th></th>\n      <th></th>\n      <th></th>\n      <th></th>\n      <th></th>\n      <th></th>\n      <th></th>\n      <th></th>\n      <th></th>\n      <th></th>\n      <th></th>\n      <th></th>\n      <th></th>\n      <th></th>\n      <th></th>\n    </tr>\n  </thead>\n  <tbody>\n    <tr>\n      <th>0.1</th>\n      <td>0.068135</td>\n      <td>0.428982</td>\n      <td>0.414597</td>\n      <td>0.117120</td>\n      <td>26.047763</td>\n      <td>3.174173</td>\n      <td>0.888841</td>\n      <td>0.762454</td>\n      <td>1.765240</td>\n      <td>2.344732</td>\n      <td>1.781113</td>\n      <td>2.046162</td>\n      <td>0.878599</td>\n      <td>0.782868</td>\n      <td>0.704812</td>\n      <td>2.533745</td>\n      <td>14.155852</td>\n      <td>306.170181</td>\n      <td>0.20</td>\n    </tr>\n    <tr>\n      <th>0.3</th>\n      <td>0.073693</td>\n      <td>0.439683</td>\n      <td>0.425438</td>\n      <td>0.120908</td>\n      <td>21.773020</td>\n      <td>3.157110</td>\n      <td>0.888308</td>\n      <td>0.757239</td>\n      <td>1.764337</td>\n      <td>2.265149</td>\n      <td>1.780376</td>\n      <td>1.984838</td>\n      <td>0.878022</td>\n      <td>0.779233</td>\n      <td>0.702810</td>\n      <td>2.250779</td>\n      <td>13.874328</td>\n      <td>252.953162</td>\n      <td>0.12</td>\n    </tr>\n    <tr>\n      <th>0.5</th>\n      <td>0.060105</td>\n      <td>0.383670</td>\n      <td>0.408976</td>\n      <td>0.115003</td>\n      <td>27.050670</td>\n      <td>3.107817</td>\n      <td>0.888613</td>\n      <td>0.764164</td>\n      <td>1.768785</td>\n      <td>2.336573</td>\n      <td>1.782710</td>\n      <td>2.056170</td>\n      <td>0.880095</td>\n      <td>0.777762</td>\n      <td>0.704826</td>\n      <td>2.157104</td>\n      <td>13.431148</td>\n      <td>216.249761</td>\n      <td>0.13</td>\n    </tr>\n    <tr>\n      <th>0.7</th>\n      <td>0.052206</td>\n      <td>0.341751</td>\n      <td>0.403373</td>\n      <td>0.116477</td>\n      <td>26.987342</td>\n      <td>3.239183</td>\n      <td>0.888799</td>\n      <td>0.745677</td>\n      <td>1.765890</td>\n      <td>2.370485</td>\n      <td>1.781512</td>\n      <td>2.047540</td>\n      <td>0.879387</td>\n      <td>0.765576</td>\n      <td>0.712265</td>\n      <td>1.988464</td>\n      <td>13.144694</td>\n      <td>162.690047</td>\n      <td>0.02</td>\n    </tr>\n    <tr>\n      <th>0.9</th>\n      <td>0.038588</td>\n      <td>0.239347</td>\n      <td>0.393014</td>\n      <td>0.105985</td>\n      <td>32.011243</td>\n      <td>3.970219</td>\n      <td>0.888500</td>\n      <td>0.738051</td>\n      <td>1.771127</td>\n      <td>2.425841</td>\n      <td>1.784428</td>\n      <td>2.085470</td>\n      <td>0.880215</td>\n      <td>0.756792</td>\n      <td>0.715325</td>\n      <td>1.035138</td>\n      <td>12.656863</td>\n      <td>65.935656</td>\n      <td>0.00</td>\n    </tr>\n  </tbody>\n</table>\n</div>"
     },
     "metadata": {}
    }
   ]
  },
  {
   "cell_type": "markdown",
   "source": "<a style='text-decoration:none;line-height:16px;display:flex;color:#5B5B62;padding:10px;justify-content:end;' href='https://deepnote.com?utm_source=created-in-deepnote-cell&projectId=76a22323-d43c-4823-9752-036f6744cf38' target=\"_blank\">\n<img alt='Created in deepnote.com' style='display:inline;max-height:16px;margin:0px;margin-right:7.5px;' src='data:image/svg+xml;base64,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' > </img>\nCreated in <span style='font-weight:600;margin-left:4px;'>Deepnote</span></a>",
   "metadata": {
    "tags": [],
    "created_in_deepnote_cell": true,
    "deepnote_cell_type": "markdown"
   }
  }
 ],
 "nbformat": 4,
 "nbformat_minor": 2,
 "metadata": {
  "kernelspec": {
   "name": "pycharm-19907461",
   "language": "python",
   "display_name": "PyCharm (thesis)"
  },
  "language_info": {
   "codemirror_mode": {
    "name": "ipython",
    "version": 3
   },
   "file_extension": ".py",
   "mimetype": "text/x-python",
   "name": "python",
   "nbconvert_exporter": "python",
   "pygments_lexer": "ipython3",
   "version": "3.8.3"
  },
  "deepnote_notebook_id": "134a1752-aab9-4b4e-8d68-6acdb6122d09",
  "deepnote": {},
  "deepnote_execution_queue": []
 }
}