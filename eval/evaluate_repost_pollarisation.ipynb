{
 "cells": [
  {
   "cell_type": "code",
   "metadata": {
    "cell_id": "00000-71f308f0-5c9c-46c0-990e-72f91bdcd548",
    "deepnote_to_be_reexecuted": false,
    "source_hash": "b7dcc9c8",
    "execution_start": 1636144459322,
    "execution_millis": 44,
    "deepnote_cell_type": "code"
   },
   "source": "import numpy as np\nimport pandas as pd",
   "execution_count": 1,
   "outputs": []
  },
  {
   "cell_type": "code",
   "metadata": {
    "cell_id": "00001-d8cea0f5-e720-41fb-8c96-97d4785577b3",
    "deepnote_to_be_reexecuted": false,
    "source_hash": "9281bb00",
    "execution_start": 1636144459367,
    "execution_millis": 0,
    "deepnote_cell_type": "code"
   },
   "source": "f_name = 'evaluation_csv/network_growth high_hater_follow_probs_repost-->pollarisation-table.csv'\n\ndf_raw = pd.read_csv(f_name, skiprows=6)\ndf = df_raw[[\n    '[run number]',\n    '[step]',\n    'repost?',\n    'hateful-node-percents',\n    'stddev-hate-score-dist',\n    'polarisation-factor',\n]]\ndf = df.sort_values(by=[\n    '[run number]',\n    '[step]',\n    'repost?',\n])",
   "execution_count": 2,
   "outputs": []
  },
  {
   "cell_type": "code",
   "metadata": {
    "cell_id": "00002-9caf22be-9d43-4086-ad54-2ced946a27a7",
    "deepnote_to_be_reexecuted": false,
    "source_hash": "786d0f53",
    "execution_start": 1636144459410,
    "execution_millis": 1,
    "deepnote_cell_type": "code"
   },
   "source": "df.dtypes\ndf.info()",
   "execution_count": 3,
   "outputs": [
    {
     "name": "stdout",
     "text": "<class 'pandas.core.frame.DataFrame'>\nInt64Index: 100 entries, 11 to 99\nData columns (total 6 columns):\n #   Column                  Non-Null Count  Dtype  \n---  ------                  --------------  -----  \n 0   [run number]            100 non-null    int64  \n 1   [step]                  100 non-null    int64  \n 2   repost?                 100 non-null    bool   \n 3   hateful-node-percents   100 non-null    float64\n 4   stddev-hate-score-dist  100 non-null    float64\n 5   polarisation-factor     100 non-null    float64\ndtypes: bool(1), float64(3), int64(2)\nmemory usage: 4.8 KB\n",
     "output_type": "stream"
    }
   ]
  },
  {
   "cell_type": "code",
   "metadata": {
    "cell_id": "00003-9fde12ad-6b00-4774-9acb-dfa3e605f37a",
    "deepnote_to_be_reexecuted": false,
    "source_hash": "4f4ba287",
    "execution_start": 1636144459411,
    "execution_millis": 45,
    "deepnote_cell_type": "code"
   },
   "source": "pd.options.display.max_rows = 100\ndf[(df['polarisation-factor'] <= 0.5)]",
   "execution_count": 4,
   "outputs": [
    {
     "output_type": "execute_result",
     "execution_count": 4,
     "data": {
      "application/vnd.deepnote.dataframe.v2+json": {
       "row_count": 76,
       "column_count": 6,
       "columns": [
        {
         "name": "[run number]",
         "dtype": "int64",
         "stats": {
          "unique_count": 76,
          "nan_count": 0,
          "min": "1",
          "max": "98",
          "histogram": [
           {
            "bin_start": 1,
            "bin_end": 10.7,
            "count": 10
           },
           {
            "bin_start": 10.7,
            "bin_end": 20.4,
            "count": 10
           },
           {
            "bin_start": 20.4,
            "bin_end": 30.099999999999998,
            "count": 9
           },
           {
            "bin_start": 30.099999999999998,
            "bin_end": 39.8,
            "count": 7
           },
           {
            "bin_start": 39.8,
            "bin_end": 49.5,
            "count": 10
           },
           {
            "bin_start": 49.5,
            "bin_end": 59.199999999999996,
            "count": 5
           },
           {
            "bin_start": 59.199999999999996,
            "bin_end": 68.89999999999999,
            "count": 8
           },
           {
            "bin_start": 68.89999999999999,
            "bin_end": 78.6,
            "count": 6
           },
           {
            "bin_start": 78.6,
            "bin_end": 88.3,
            "count": 6
           },
           {
            "bin_start": 88.3,
            "bin_end": 98,
            "count": 5
           }
          ]
         }
        },
        {
         "name": "[step]",
         "dtype": "int64",
         "stats": {
          "unique_count": 1,
          "nan_count": 0,
          "min": "1001",
          "max": "1001",
          "histogram": [
           {
            "bin_start": 1000.5,
            "bin_end": 1000.6,
            "count": 0
           },
           {
            "bin_start": 1000.6,
            "bin_end": 1000.7,
            "count": 0
           },
           {
            "bin_start": 1000.7,
            "bin_end": 1000.8,
            "count": 0
           },
           {
            "bin_start": 1000.8,
            "bin_end": 1000.9,
            "count": 0
           },
           {
            "bin_start": 1000.9,
            "bin_end": 1001,
            "count": 0
           },
           {
            "bin_start": 1001,
            "bin_end": 1001.1,
            "count": 76
           },
           {
            "bin_start": 1001.1,
            "bin_end": 1001.2,
            "count": 0
           },
           {
            "bin_start": 1001.2,
            "bin_end": 1001.3,
            "count": 0
           },
           {
            "bin_start": 1001.3,
            "bin_end": 1001.4,
            "count": 0
           },
           {
            "bin_start": 1001.4,
            "bin_end": 1001.5,
            "count": 0
           }
          ]
         }
        },
        {
         "name": "repost?",
         "dtype": "bool",
         "stats": {
          "unique_count": 2,
          "nan_count": 0,
          "categories": [
           {
            "name": "False",
            "count": 47
           },
           {
            "name": "True",
            "count": 29
           }
          ]
         }
        },
        {
         "name": "hateful-node-percents",
         "dtype": "float64",
         "stats": {
          "unique_count": 24,
          "nan_count": 0,
          "min": "0.4",
          "max": "3.4",
          "histogram": [
           {
            "bin_start": 0.4,
            "bin_end": 0.7,
            "count": 9
           },
           {
            "bin_start": 0.7,
            "bin_end": 1,
            "count": 18
           },
           {
            "bin_start": 1,
            "bin_end": 1.2999999999999998,
            "count": 13
           },
           {
            "bin_start": 1.2999999999999998,
            "bin_end": 1.6,
            "count": 17
           },
           {
            "bin_start": 1.6,
            "bin_end": 1.9,
            "count": 7
           },
           {
            "bin_start": 1.9,
            "bin_end": 2.1999999999999997,
            "count": 5
           },
           {
            "bin_start": 2.1999999999999997,
            "bin_end": 2.5,
            "count": 2
           },
           {
            "bin_start": 2.5,
            "bin_end": 2.8,
            "count": 2
           },
           {
            "bin_start": 2.8,
            "bin_end": 3.0999999999999996,
            "count": 1
           },
           {
            "bin_start": 3.0999999999999996,
            "bin_end": 3.4,
            "count": 2
           }
          ]
         }
        },
        {
         "name": "stddev-hate-score-dist",
         "dtype": "float64",
         "stats": {
          "unique_count": 76,
          "nan_count": 0,
          "min": "0.118370276851636",
          "max": "0.198174715669486",
          "histogram": [
           {
            "bin_start": 0.118370276851636,
            "bin_end": 0.126350720733421,
            "count": 2
           },
           {
            "bin_start": 0.126350720733421,
            "bin_end": 0.134331164615206,
            "count": 8
           },
           {
            "bin_start": 0.134331164615206,
            "bin_end": 0.14231160849699098,
            "count": 25
           },
           {
            "bin_start": 0.14231160849699098,
            "bin_end": 0.150292052378776,
            "count": 19
           },
           {
            "bin_start": 0.150292052378776,
            "bin_end": 0.158272496260561,
            "count": 7
           },
           {
            "bin_start": 0.158272496260561,
            "bin_end": 0.16625294014234598,
            "count": 3
           },
           {
            "bin_start": 0.16625294014234598,
            "bin_end": 0.174233384024131,
            "count": 7
           },
           {
            "bin_start": 0.174233384024131,
            "bin_end": 0.182213827905916,
            "count": 2
           },
           {
            "bin_start": 0.182213827905916,
            "bin_end": 0.19019427178770099,
            "count": 1
           },
           {
            "bin_start": 0.19019427178770099,
            "bin_end": 0.198174715669486,
            "count": 2
           }
          ]
         }
        },
        {
         "name": "polarisation-factor",
         "dtype": "float64",
         "stats": {
          "unique_count": 76,
          "nan_count": 0,
          "min": "0.06714498984941",
          "max": "0.484962983602205",
          "histogram": [
           {
            "bin_start": 0.06714498984941,
            "bin_end": 0.10892678922468951,
            "count": 14
           },
           {
            "bin_start": 0.10892678922468951,
            "bin_end": 0.150708588599969,
            "count": 14
           },
           {
            "bin_start": 0.150708588599969,
            "bin_end": 0.1924903879752485,
            "count": 17
           },
           {
            "bin_start": 0.1924903879752485,
            "bin_end": 0.23427218735052802,
            "count": 11
           },
           {
            "bin_start": 0.23427218735052802,
            "bin_end": 0.2760539867258075,
            "count": 11
           },
           {
            "bin_start": 0.2760539867258075,
            "bin_end": 0.317835786101087,
            "count": 3
           },
           {
            "bin_start": 0.317835786101087,
            "bin_end": 0.3596175854763666,
            "count": 0
           },
           {
            "bin_start": 0.3596175854763666,
            "bin_end": 0.40139938485164606,
            "count": 0
           },
           {
            "bin_start": 0.40139938485164606,
            "bin_end": 0.44318118422692554,
            "count": 2
           },
           {
            "bin_start": 0.44318118422692554,
            "bin_end": 0.484962983602205,
            "count": 4
           }
          ]
         }
        },
        {
         "name": "_deepnote_index_column",
         "dtype": "int64"
        }
       ],
       "rows_top": [
        {
         "[run number]": 1,
         "[step]": 1001,
         "repost?": "False",
         "hateful-node-percents": 1.9,
         "stddev-hate-score-dist": 0.13166506593018,
         "polarisation-factor": 0.250163625267342,
         "_deepnote_index_column": 11
        },
        {
         "[run number]": 2,
         "[step]": 1001,
         "repost?": "False",
         "hateful-node-percents": 1.2,
         "stddev-hate-score-dist": 0.147063425323409,
         "polarisation-factor": 0.176476110388091,
         "_deepnote_index_column": 0
        },
        {
         "[run number]": 3,
         "[step]": 1001,
         "repost?": "False",
         "hateful-node-percents": 1.6,
         "stddev-hate-score-dist": 0.148583419447359,
         "polarisation-factor": 0.237733471115774,
         "_deepnote_index_column": 6
        },
        {
         "[run number]": 4,
         "[step]": 1001,
         "repost?": "False",
         "hateful-node-percents": 1,
         "stddev-hate-score-dist": 0.137492844096184,
         "polarisation-factor": 0.137492844096184,
         "_deepnote_index_column": 8
        },
        {
         "[run number]": 5,
         "[step]": 1001,
         "repost?": "False",
         "hateful-node-percents": 1.3,
         "stddev-hate-score-dist": 0.130984554671502,
         "polarisation-factor": 0.170279921072953,
         "_deepnote_index_column": 2
        },
        {
         "[run number]": 6,
         "[step]": 1001,
         "repost?": "False",
         "hateful-node-percents": 3.4,
         "stddev-hate-score-dist": 0.142636171647707,
         "polarisation-factor": 0.484962983602205,
         "_deepnote_index_column": 7
        },
        {
         "[run number]": 7,
         "[step]": 1001,
         "repost?": "False",
         "hateful-node-percents": 0.7,
         "stddev-hate-score-dist": 0.130954666786981,
         "polarisation-factor": 0.091668266750887,
         "_deepnote_index_column": 10
        },
        {
         "[run number]": 8,
         "[step]": 1001,
         "repost?": "False",
         "hateful-node-percents": 1.8,
         "stddev-hate-score-dist": 0.142612844700061,
         "polarisation-factor": 0.256703120460109,
         "_deepnote_index_column": 4
        },
        {
         "[run number]": 9,
         "[step]": 1001,
         "repost?": "False",
         "hateful-node-percents": 1.5,
         "stddev-hate-score-dist": 0.135356409022017,
         "polarisation-factor": 0.203034613533025,
         "_deepnote_index_column": 5
        },
        {
         "[run number]": 10,
         "[step]": 1001,
         "repost?": "False",
         "hateful-node-percents": 3,
         "stddev-hate-score-dist": 0.141932703230769,
         "polarisation-factor": 0.425798109692307,
         "_deepnote_index_column": 9
        },
        {
         "[run number]": 11,
         "[step]": 1001,
         "repost?": "False",
         "hateful-node-percents": 1.3,
         "stddev-hate-score-dist": 0.126376434477282,
         "polarisation-factor": 0.164289364820466,
         "_deepnote_index_column": 1
        },
        {
         "[run number]": 12,
         "[step]": 1001,
         "repost?": "False",
         "hateful-node-percents": 2,
         "stddev-hate-score-dist": 0.132363350941456,
         "polarisation-factor": 0.264726701882913,
         "_deepnote_index_column": 3
        },
        {
         "[run number]": 13,
         "[step]": 1001,
         "repost?": "False",
         "hateful-node-percents": 0.9,
         "stddev-hate-score-dist": 0.1303643542027,
         "polarisation-factor": 0.11732791878243,
         "_deepnote_index_column": 14
        },
        {
         "[run number]": 14,
         "[step]": 1001,
         "repost?": "False",
         "hateful-node-percents": 0.6,
         "stddev-hate-score-dist": 0.138237572048121,
         "polarisation-factor": 0.082942543228872,
         "_deepnote_index_column": 12
        },
        {
         "[run number]": 15,
         "[step]": 1001,
         "repost?": "False",
         "hateful-node-percents": 1.7,
         "stddev-hate-score-dist": 0.13473238587425,
         "polarisation-factor": 0.229045055986224,
         "_deepnote_index_column": 13
        },
        {
         "[run number]": 16,
         "[step]": 1001,
         "repost?": "False",
         "hateful-node-percents": 1.3,
         "stddev-hate-score-dist": 0.142503139637623,
         "polarisation-factor": 0.18525408152891,
         "_deepnote_index_column": 16
        },
        {
         "[run number]": 17,
         "[step]": 1001,
         "repost?": "False",
         "hateful-node-percents": 0.6,
         "stddev-hate-score-dist": 0.143060329350305,
         "polarisation-factor": 0.085836197610183,
         "_deepnote_index_column": 17
        },
        {
         "[run number]": 18,
         "[step]": 1001,
         "repost?": "False",
         "hateful-node-percents": 1.5,
         "stddev-hate-score-dist": 0.134828872178472,
         "polarisation-factor": 0.202243308267708,
         "_deepnote_index_column": 15
        },
        {
         "[run number]": 19,
         "[step]": 1001,
         "repost?": "False",
         "hateful-node-percents": 1.9,
         "stddev-hate-score-dist": 0.134499754148245,
         "polarisation-factor": 0.255549532881665,
         "_deepnote_index_column": 19
        },
        {
         "[run number]": 20,
         "[step]": 1001,
         "repost?": "False",
         "hateful-node-percents": 1,
         "stddev-hate-score-dist": 0.142718049352495,
         "polarisation-factor": 0.142718049352495,
         "_deepnote_index_column": 18
        },
        {
         "[run number]": 21,
         "[step]": 1001,
         "repost?": "False",
         "hateful-node-percents": 1.1,
         "stddev-hate-score-dist": 0.13986412213611,
         "polarisation-factor": 0.153850534349721,
         "_deepnote_index_column": 20
        },
        {
         "[run number]": 22,
         "[step]": 1001,
         "repost?": "False",
         "hateful-node-percents": 1.1,
         "stddev-hate-score-dist": 0.141012388715718,
         "polarisation-factor": 0.15511362758729,
         "_deepnote_index_column": 21
        },
        {
         "[run number]": 23,
         "[step]": 1001,
         "repost?": "False",
         "hateful-node-percents": 1.2,
         "stddev-hate-score-dist": 0.142177467286885,
         "polarisation-factor": 0.170612960744262,
         "_deepnote_index_column": 22
        },
        {
         "[run number]": 24,
         "[step]": 1001,
         "repost?": "False",
         "hateful-node-percents": 1.6,
         "stddev-hate-score-dist": 0.145652230339161,
         "polarisation-factor": 0.233043568542658,
         "_deepnote_index_column": 23
        },
        {
         "[run number]": 26,
         "[step]": 1001,
         "repost?": "False",
         "hateful-node-percents": 1.1,
         "stddev-hate-score-dist": 0.118370276851636,
         "polarisation-factor": 0.1302073045368,
         "_deepnote_index_column": 26
        },
        {
         "[run number]": 27,
         "[step]": 1001,
         "repost?": "False",
         "hateful-node-percents": 0.7,
         "stddev-hate-score-dist": 0.134616697037055,
         "polarisation-factor": 0.094231687925938,
         "_deepnote_index_column": 24
        },
        {
         "[run number]": 28,
         "[step]": 1001,
         "repost?": "False",
         "hateful-node-percents": 1.1,
         "stddev-hate-score-dist": 0.142593852969448,
         "polarisation-factor": 0.156853238266392,
         "_deepnote_index_column": 27
        },
        {
         "[run number]": 29,
         "[step]": 1001,
         "repost?": "False",
         "hateful-node-percents": 1.2,
         "stddev-hate-score-dist": 0.138407307983551,
         "polarisation-factor": 0.166088769580261,
         "_deepnote_index_column": 28
        },
        {
         "[run number]": 30,
         "[step]": 1001,
         "repost?": "False",
         "hateful-node-percents": 1.4,
         "stddev-hate-score-dist": 0.138177228464125,
         "polarisation-factor": 0.193448119849775,
         "_deepnote_index_column": 29
        },
        {
         "[run number]": 31,
         "[step]": 1001,
         "repost?": "False",
         "hateful-node-percents": 1.3,
         "stddev-hate-score-dist": 0.136348879332826,
         "polarisation-factor": 0.177253543132674,
         "_deepnote_index_column": 30
        },
        {
         "[run number]": 32,
         "[step]": 1001,
         "repost?": "False",
         "hateful-node-percents": 0.9,
         "stddev-hate-score-dist": 0.144450260600616,
         "polarisation-factor": 0.130005234540555,
         "_deepnote_index_column": 31
        },
        {
         "[run number]": 35,
         "[step]": 1001,
         "repost?": "False",
         "hateful-node-percents": 2.2,
         "stddev-hate-score-dist": 0.132282139402765,
         "polarisation-factor": 0.291020706686083,
         "_deepnote_index_column": 34
        },
        {
         "[run number]": 36,
         "[step]": 1001,
         "repost?": "False",
         "hateful-node-percents": 1.4,
         "stddev-hate-score-dist": 0.135773536727293,
         "polarisation-factor": 0.19008295141821,
         "_deepnote_index_column": 35
        },
        {
         "[run number]": 37,
         "[step]": 1001,
         "repost?": "False",
         "hateful-node-percents": 0.9,
         "stddev-hate-score-dist": 0.140164328093153,
         "polarisation-factor": 0.126147895283838,
         "_deepnote_index_column": 37
        },
        {
         "[run number]": 38,
         "[step]": 1001,
         "repost?": "False",
         "hateful-node-percents": 0.7,
         "stddev-hate-score-dist": 0.138542398197799,
         "polarisation-factor": 0.09697967873846,
         "_deepnote_index_column": 36
        },
        {
         "[run number]": 39,
         "[step]": 1001,
         "repost?": "False",
         "hateful-node-percents": 0.8,
         "stddev-hate-score-dist": 0.127637880537145,
         "polarisation-factor": 0.102110304429716,
         "_deepnote_index_column": 38
        },
        {
         "[run number]": 40,
         "[step]": 1001,
         "repost?": "False",
         "hateful-node-percents": 0.7,
         "stddev-hate-score-dist": 0.138982466048655,
         "polarisation-factor": 0.097287726234059,
         "_deepnote_index_column": 41
        },
        {
         "[run number]": 41,
         "[step]": 1001,
         "repost?": "False",
         "hateful-node-percents": 0.8,
         "stddev-hate-score-dist": 0.144463682773345,
         "polarisation-factor": 0.115570946218676,
         "_deepnote_index_column": 39
        },
        {
         "[run number]": 42,
         "[step]": 1001,
         "repost?": "False",
         "hateful-node-percents": 0.9,
         "stddev-hate-score-dist": 0.144046081127733,
         "polarisation-factor": 0.12964147301496,
         "_deepnote_index_column": 40
        },
        {
         "[run number]": 43,
         "[step]": 1001,
         "repost?": "False",
         "hateful-node-percents": 1.1,
         "stddev-hate-score-dist": 0.154856299052648,
         "polarisation-factor": 0.170341928957913,
         "_deepnote_index_column": 42
        },
        {
         "[run number]": 44,
         "[step]": 1001,
         "repost?": "False",
         "hateful-node-percents": 1.8,
         "stddev-hate-score-dist": 0.139622017168187,
         "polarisation-factor": 0.251319630902736,
         "_deepnote_index_column": 43
        },
        {
         "[run number]": 45,
         "[step]": 1001,
         "repost?": "False",
         "hateful-node-percents": 0.5,
         "stddev-hate-score-dist": 0.135535555021652,
         "polarisation-factor": 0.067767777510826,
         "_deepnote_index_column": 44
        },
        {
         "[run number]": 46,
         "[step]": 1001,
         "repost?": "False",
         "hateful-node-percents": 1.4,
         "stddev-hate-score-dist": 0.14376928447324,
         "polarisation-factor": 0.201276998262536,
         "_deepnote_index_column": 45
        },
        {
         "[run number]": 47,
         "[step]": 1001,
         "repost?": "False",
         "hateful-node-percents": 0.9,
         "stddev-hate-score-dist": 0.123757418336887,
         "polarisation-factor": 0.111381676503198,
         "_deepnote_index_column": 46
        },
        {
         "[run number]": 48,
         "[step]": 1001,
         "repost?": "False",
         "hateful-node-percents": 3.3,
         "stddev-hate-score-dist": 0.141426939907489,
         "polarisation-factor": 0.466708901694713,
         "_deepnote_index_column": 47
        },
        {
         "[run number]": 49,
         "[step]": 1001,
         "repost?": "False",
         "hateful-node-percents": 1.9,
         "stddev-hate-score-dist": 0.148068091463309,
         "polarisation-factor": 0.281329373780288,
         "_deepnote_index_column": 49
        },
        {
         "[run number]": 50,
         "[step]": 1001,
         "repost?": "False",
         "hateful-node-percents": 1.3,
         "stddev-hate-score-dist": 0.141077070976434,
         "polarisation-factor": 0.183400192269365,
         "_deepnote_index_column": 48
        },
        {
         "[run number]": 51,
         "[step]": 1001,
         "repost?": "True",
         "hateful-node-percents": 0.4,
         "stddev-hate-score-dist": 0.167862474623525,
         "polarisation-factor": 0.06714498984941,
         "_deepnote_index_column": 53
        },
        {
         "[run number]": 52,
         "[step]": 1001,
         "repost?": "True",
         "hateful-node-percents": 0.5,
         "stddev-hate-score-dist": 0.138159418470192,
         "polarisation-factor": 0.069079709235096,
         "_deepnote_index_column": 51
        },
        {
         "[run number]": 53,
         "[step]": 1001,
         "repost?": "True",
         "hateful-node-percents": 1.3,
         "stddev-hate-score-dist": 0.153602067542949,
         "polarisation-factor": 0.199682687805833,
         "_deepnote_index_column": 50
        },
        {
         "[run number]": 57,
         "[step]": 1001,
         "repost?": "True",
         "hateful-node-percents": 2,
         "stddev-hate-score-dist": 0.148282911483184,
         "polarisation-factor": 0.296565822966368,
         "_deepnote_index_column": 54
        },
        {
         "[run number]": 60,
         "[step]": 1001,
         "repost?": "True",
         "hateful-node-percents": 0.6,
         "stddev-hate-score-dist": 0.156214105487622,
         "polarisation-factor": 0.093728463292573,
         "_deepnote_index_column": 56
        },
        {
         "[run number]": 61,
         "[step]": 1001,
         "repost?": "True",
         "hateful-node-percents": 0.9,
         "stddev-hate-score-dist": 0.168362218348784,
         "polarisation-factor": 0.151525996513906,
         "_deepnote_index_column": 60
        },
        {
         "[run number]": 62,
         "[step]": 1001,
         "repost?": "True",
         "hateful-node-percents": 1.4,
         "stddev-hate-score-dist": 0.151223386603881,
         "polarisation-factor": 0.211712741245433,
         "_deepnote_index_column": 61
        },
        {
         "[run number]": 63,
         "[step]": 1001,
         "repost?": "True",
         "hateful-node-percents": 2.4,
         "stddev-hate-score-dist": 0.198174715669486,
         "polarisation-factor": 0.475619317606766,
         "_deepnote_index_column": 63
        },
        {
         "[run number]": 65,
         "[step]": 1001,
         "repost?": "True",
         "hateful-node-percents": 0.6,
         "stddev-hate-score-dist": 0.141846386396,
         "polarisation-factor": 0.0851078318376,
         "_deepnote_index_column": 62
        },
        {
         "[run number]": 66,
         "[step]": 1001,
         "repost?": "True",
         "hateful-node-percents": 0.5,
         "stddev-hate-score-dist": 0.146751870533673,
         "polarisation-factor": 0.073375935266836,
         "_deepnote_index_column": 64
        },
        {
         "[run number]": 67,
         "[step]": 1001,
         "repost?": "True",
         "hateful-node-percents": 2.7,
         "stddev-hate-score-dist": 0.158411962705814,
         "polarisation-factor": 0.427712299305697,
         "_deepnote_index_column": 66
        },
        {
         "[run number]": 68,
         "[step]": 1001,
         "repost?": "True",
         "hateful-node-percents": 1.3,
         "stddev-hate-score-dist": 0.148128744533667,
         "polarisation-factor": 0.192567367893768,
         "_deepnote_index_column": 67
        },
        {
         "[run number]": 70,
         "[step]": 1001,
         "repost?": "True",
         "hateful-node-percents": 0.9,
         "stddev-hate-score-dist": 0.187051855657693,
         "polarisation-factor": 0.168346670091923,
         "_deepnote_index_column": 69
        },
        {
         "[run number]": 72,
         "[step]": 1001,
         "repost?": "True",
         "hateful-node-percents": 1.8,
         "stddev-hate-score-dist": 0.149064449153533,
         "polarisation-factor": 0.268316008476359,
         "_deepnote_index_column": 70
        },
        {
         "[run number]": 74,
         "[step]": 1001,
         "repost?": "True",
         "hateful-node-percents": 0.8,
         "stddev-hate-score-dist": 0.172114723613422,
         "polarisation-factor": 0.137691778890737,
         "_deepnote_index_column": 71
        },
        {
         "[run number]": 76,
         "[step]": 1001,
         "repost?": "True",
         "hateful-node-percents": 1.1,
         "stddev-hate-score-dist": 0.158161356424662,
         "polarisation-factor": 0.173977492067129,
         "_deepnote_index_column": 75
        },
        {
         "[run number]": 77,
         "[step]": 1001,
         "repost?": "True",
         "hateful-node-percents": 2.6,
         "stddev-hate-score-dist": 0.178391713799378,
         "polarisation-factor": 0.463818455878384,
         "_deepnote_index_column": 78
        },
        {
         "[run number]": 78,
         "[step]": 1001,
         "repost?": "True",
         "hateful-node-percents": 1.3,
         "stddev-hate-score-dist": 0.191556832173035,
         "polarisation-factor": 0.249023881824945,
         "_deepnote_index_column": 77
        },
        {
         "[run number]": 79,
         "[step]": 1001,
         "repost?": "True",
         "hateful-node-percents": 0.8,
         "stddev-hate-score-dist": 0.172657132605922,
         "polarisation-factor": 0.138125706084738,
         "_deepnote_index_column": 76
        },
        {
         "[run number]": 80,
         "[step]": 1001,
         "repost?": "True",
         "hateful-node-percents": 0.8,
         "stddev-hate-score-dist": 0.160833425862215,
         "polarisation-factor": 0.128666740689772,
         "_deepnote_index_column": 79
        },
        {
         "[run number]": 81,
         "[step]": 1001,
         "repost?": "True",
         "hateful-node-percents": 0.8,
         "stddev-hate-score-dist": 0.170907694684074,
         "polarisation-factor": 0.136726155747259,
         "_deepnote_index_column": 80
        },
        {
         "[run number]": 84,
         "[step]": 1001,
         "repost?": "True",
         "hateful-node-percents": 1.1,
         "stddev-hate-score-dist": 0.176930228592264,
         "polarisation-factor": 0.19462325145149,
         "_deepnote_index_column": 83
        },
        {
         "[run number]": 86,
         "[step]": 1001,
         "repost?": "True",
         "hateful-node-percents": 1.3,
         "stddev-hate-score-dist": 0.153247158126904,
         "polarisation-factor": 0.199221305564975,
         "_deepnote_index_column": 81
        },
        {
         "[run number]": 88,
         "[step]": 1001,
         "repost?": "True",
         "hateful-node-percents": 1.4,
         "stddev-hate-score-dist": 0.169630017102655,
         "polarisation-factor": 0.237482023943717,
         "_deepnote_index_column": 85
        },
        {
         "[run number]": 91,
         "[step]": 1001,
         "repost?": "True",
         "hateful-node-percents": 0.6,
         "stddev-hate-score-dist": 0.138698256377053,
         "polarisation-factor": 0.083218953826232,
         "_deepnote_index_column": 88
        },
        {
         "[run number]": 92,
         "[step]": 1001,
         "repost?": "True",
         "hateful-node-percents": 1.4,
         "stddev-hate-score-dist": 0.172481260957678,
         "polarisation-factor": 0.241473765340749,
         "_deepnote_index_column": 91
        },
        {
         "[run number]": 96,
         "[step]": 1001,
         "repost?": "True",
         "hateful-node-percents": 1.6,
         "stddev-hate-score-dist": 0.160132377865405,
         "polarisation-factor": 0.256211804584648,
         "_deepnote_index_column": 95
        },
        {
         "[run number]": 97,
         "[step]": 1001,
         "repost?": "True",
         "hateful-node-percents": 0.8,
         "stddev-hate-score-dist": 0.143271929882561,
         "polarisation-factor": 0.114617543906049,
         "_deepnote_index_column": 93
        },
        {
         "[run number]": 98,
         "[step]": 1001,
         "repost?": "True",
         "hateful-node-percents": 1,
         "stddev-hate-score-dist": 0.153243073630381,
         "polarisation-factor": 0.153243073630381,
         "_deepnote_index_column": 97
        }
       ],
       "rows_bottom": null
      },
      "text/plain": "    [run number]  [step]  repost?  hateful-node-percents  \\\n11             1    1001    False                    1.9   \n0              2    1001    False                    1.2   \n6              3    1001    False                    1.6   \n8              4    1001    False                    1.0   \n2              5    1001    False                    1.3   \n7              6    1001    False                    3.4   \n10             7    1001    False                    0.7   \n4              8    1001    False                    1.8   \n5              9    1001    False                    1.5   \n9             10    1001    False                    3.0   \n1             11    1001    False                    1.3   \n3             12    1001    False                    2.0   \n14            13    1001    False                    0.9   \n12            14    1001    False                    0.6   \n13            15    1001    False                    1.7   \n16            16    1001    False                    1.3   \n17            17    1001    False                    0.6   \n15            18    1001    False                    1.5   \n19            19    1001    False                    1.9   \n18            20    1001    False                    1.0   \n20            21    1001    False                    1.1   \n21            22    1001    False                    1.1   \n22            23    1001    False                    1.2   \n23            24    1001    False                    1.6   \n26            26    1001    False                    1.1   \n24            27    1001    False                    0.7   \n27            28    1001    False                    1.1   \n28            29    1001    False                    1.2   \n29            30    1001    False                    1.4   \n30            31    1001    False                    1.3   \n31            32    1001    False                    0.9   \n34            35    1001    False                    2.2   \n35            36    1001    False                    1.4   \n37            37    1001    False                    0.9   \n36            38    1001    False                    0.7   \n38            39    1001    False                    0.8   \n41            40    1001    False                    0.7   \n39            41    1001    False                    0.8   \n40            42    1001    False                    0.9   \n42            43    1001    False                    1.1   \n43            44    1001    False                    1.8   \n44            45    1001    False                    0.5   \n45            46    1001    False                    1.4   \n46            47    1001    False                    0.9   \n47            48    1001    False                    3.3   \n49            49    1001    False                    1.9   \n48            50    1001    False                    1.3   \n53            51    1001     True                    0.4   \n51            52    1001     True                    0.5   \n50            53    1001     True                    1.3   \n54            57    1001     True                    2.0   \n56            60    1001     True                    0.6   \n60            61    1001     True                    0.9   \n61            62    1001     True                    1.4   \n63            63    1001     True                    2.4   \n62            65    1001     True                    0.6   \n64            66    1001     True                    0.5   \n66            67    1001     True                    2.7   \n67            68    1001     True                    1.3   \n69            70    1001     True                    0.9   \n70            72    1001     True                    1.8   \n71            74    1001     True                    0.8   \n75            76    1001     True                    1.1   \n78            77    1001     True                    2.6   \n77            78    1001     True                    1.3   \n76            79    1001     True                    0.8   \n79            80    1001     True                    0.8   \n80            81    1001     True                    0.8   \n83            84    1001     True                    1.1   \n81            86    1001     True                    1.3   \n85            88    1001     True                    1.4   \n88            91    1001     True                    0.6   \n91            92    1001     True                    1.4   \n95            96    1001     True                    1.6   \n93            97    1001     True                    0.8   \n97            98    1001     True                    1.0   \n\n    stddev-hate-score-dist  polarisation-factor  \n11                0.131665             0.250164  \n0                 0.147063             0.176476  \n6                 0.148583             0.237733  \n8                 0.137493             0.137493  \n2                 0.130985             0.170280  \n7                 0.142636             0.484963  \n10                0.130955             0.091668  \n4                 0.142613             0.256703  \n5                 0.135356             0.203035  \n9                 0.141933             0.425798  \n1                 0.126376             0.164289  \n3                 0.132363             0.264727  \n14                0.130364             0.117328  \n12                0.138238             0.082943  \n13                0.134732             0.229045  \n16                0.142503             0.185254  \n17                0.143060             0.085836  \n15                0.134829             0.202243  \n19                0.134500             0.255550  \n18                0.142718             0.142718  \n20                0.139864             0.153851  \n21                0.141012             0.155114  \n22                0.142177             0.170613  \n23                0.145652             0.233044  \n26                0.118370             0.130207  \n24                0.134617             0.094232  \n27                0.142594             0.156853  \n28                0.138407             0.166089  \n29                0.138177             0.193448  \n30                0.136349             0.177254  \n31                0.144450             0.130005  \n34                0.132282             0.291021  \n35                0.135774             0.190083  \n37                0.140164             0.126148  \n36                0.138542             0.096980  \n38                0.127638             0.102110  \n41                0.138982             0.097288  \n39                0.144464             0.115571  \n40                0.144046             0.129641  \n42                0.154856             0.170342  \n43                0.139622             0.251320  \n44                0.135536             0.067768  \n45                0.143769             0.201277  \n46                0.123757             0.111382  \n47                0.141427             0.466709  \n49                0.148068             0.281329  \n48                0.141077             0.183400  \n53                0.167862             0.067145  \n51                0.138159             0.069080  \n50                0.153602             0.199683  \n54                0.148283             0.296566  \n56                0.156214             0.093728  \n60                0.168362             0.151526  \n61                0.151223             0.211713  \n63                0.198175             0.475619  \n62                0.141846             0.085108  \n64                0.146752             0.073376  \n66                0.158412             0.427712  \n67                0.148129             0.192567  \n69                0.187052             0.168347  \n70                0.149064             0.268316  \n71                0.172115             0.137692  \n75                0.158161             0.173977  \n78                0.178392             0.463818  \n77                0.191557             0.249024  \n76                0.172657             0.138126  \n79                0.160833             0.128667  \n80                0.170908             0.136726  \n83                0.176930             0.194623  \n81                0.153247             0.199221  \n85                0.169630             0.237482  \n88                0.138698             0.083219  \n91                0.172481             0.241474  \n95                0.160132             0.256212  \n93                0.143272             0.114618  \n97                0.153243             0.153243  ",
      "text/html": "<div>\n<style scoped>\n    .dataframe tbody tr th:only-of-type {\n        vertical-align: middle;\n    }\n\n    .dataframe tbody tr th {\n        vertical-align: top;\n    }\n\n    .dataframe thead th {\n        text-align: right;\n    }\n</style>\n<table border=\"1\" class=\"dataframe\">\n  <thead>\n    <tr style=\"text-align: right;\">\n      <th></th>\n      <th>[run number]</th>\n      <th>[step]</th>\n      <th>repost?</th>\n      <th>hateful-node-percents</th>\n      <th>stddev-hate-score-dist</th>\n      <th>polarisation-factor</th>\n    </tr>\n  </thead>\n  <tbody>\n    <tr>\n      <th>11</th>\n      <td>1</td>\n      <td>1001</td>\n      <td>False</td>\n      <td>1.9</td>\n      <td>0.131665</td>\n      <td>0.250164</td>\n    </tr>\n    <tr>\n      <th>0</th>\n      <td>2</td>\n      <td>1001</td>\n      <td>False</td>\n      <td>1.2</td>\n      <td>0.147063</td>\n      <td>0.176476</td>\n    </tr>\n    <tr>\n      <th>6</th>\n      <td>3</td>\n      <td>1001</td>\n      <td>False</td>\n      <td>1.6</td>\n      <td>0.148583</td>\n      <td>0.237733</td>\n    </tr>\n    <tr>\n      <th>8</th>\n      <td>4</td>\n      <td>1001</td>\n      <td>False</td>\n      <td>1.0</td>\n      <td>0.137493</td>\n      <td>0.137493</td>\n    </tr>\n    <tr>\n      <th>2</th>\n      <td>5</td>\n      <td>1001</td>\n      <td>False</td>\n      <td>1.3</td>\n      <td>0.130985</td>\n      <td>0.170280</td>\n    </tr>\n    <tr>\n      <th>7</th>\n      <td>6</td>\n      <td>1001</td>\n      <td>False</td>\n      <td>3.4</td>\n      <td>0.142636</td>\n      <td>0.484963</td>\n    </tr>\n    <tr>\n      <th>10</th>\n      <td>7</td>\n      <td>1001</td>\n      <td>False</td>\n      <td>0.7</td>\n      <td>0.130955</td>\n      <td>0.091668</td>\n    </tr>\n    <tr>\n      <th>4</th>\n      <td>8</td>\n      <td>1001</td>\n      <td>False</td>\n      <td>1.8</td>\n      <td>0.142613</td>\n      <td>0.256703</td>\n    </tr>\n    <tr>\n      <th>5</th>\n      <td>9</td>\n      <td>1001</td>\n      <td>False</td>\n      <td>1.5</td>\n      <td>0.135356</td>\n      <td>0.203035</td>\n    </tr>\n    <tr>\n      <th>9</th>\n      <td>10</td>\n      <td>1001</td>\n      <td>False</td>\n      <td>3.0</td>\n      <td>0.141933</td>\n      <td>0.425798</td>\n    </tr>\n    <tr>\n      <th>1</th>\n      <td>11</td>\n      <td>1001</td>\n      <td>False</td>\n      <td>1.3</td>\n      <td>0.126376</td>\n      <td>0.164289</td>\n    </tr>\n    <tr>\n      <th>3</th>\n      <td>12</td>\n      <td>1001</td>\n      <td>False</td>\n      <td>2.0</td>\n      <td>0.132363</td>\n      <td>0.264727</td>\n    </tr>\n    <tr>\n      <th>14</th>\n      <td>13</td>\n      <td>1001</td>\n      <td>False</td>\n      <td>0.9</td>\n      <td>0.130364</td>\n      <td>0.117328</td>\n    </tr>\n    <tr>\n      <th>12</th>\n      <td>14</td>\n      <td>1001</td>\n      <td>False</td>\n      <td>0.6</td>\n      <td>0.138238</td>\n      <td>0.082943</td>\n    </tr>\n    <tr>\n      <th>13</th>\n      <td>15</td>\n      <td>1001</td>\n      <td>False</td>\n      <td>1.7</td>\n      <td>0.134732</td>\n      <td>0.229045</td>\n    </tr>\n    <tr>\n      <th>16</th>\n      <td>16</td>\n      <td>1001</td>\n      <td>False</td>\n      <td>1.3</td>\n      <td>0.142503</td>\n      <td>0.185254</td>\n    </tr>\n    <tr>\n      <th>17</th>\n      <td>17</td>\n      <td>1001</td>\n      <td>False</td>\n      <td>0.6</td>\n      <td>0.143060</td>\n      <td>0.085836</td>\n    </tr>\n    <tr>\n      <th>15</th>\n      <td>18</td>\n      <td>1001</td>\n      <td>False</td>\n      <td>1.5</td>\n      <td>0.134829</td>\n      <td>0.202243</td>\n    </tr>\n    <tr>\n      <th>19</th>\n      <td>19</td>\n      <td>1001</td>\n      <td>False</td>\n      <td>1.9</td>\n      <td>0.134500</td>\n      <td>0.255550</td>\n    </tr>\n    <tr>\n      <th>18</th>\n      <td>20</td>\n      <td>1001</td>\n      <td>False</td>\n      <td>1.0</td>\n      <td>0.142718</td>\n      <td>0.142718</td>\n    </tr>\n    <tr>\n      <th>20</th>\n      <td>21</td>\n      <td>1001</td>\n      <td>False</td>\n      <td>1.1</td>\n      <td>0.139864</td>\n      <td>0.153851</td>\n    </tr>\n    <tr>\n      <th>21</th>\n      <td>22</td>\n      <td>1001</td>\n      <td>False</td>\n      <td>1.1</td>\n      <td>0.141012</td>\n      <td>0.155114</td>\n    </tr>\n    <tr>\n      <th>22</th>\n      <td>23</td>\n      <td>1001</td>\n      <td>False</td>\n      <td>1.2</td>\n      <td>0.142177</td>\n      <td>0.170613</td>\n    </tr>\n    <tr>\n      <th>23</th>\n      <td>24</td>\n      <td>1001</td>\n      <td>False</td>\n      <td>1.6</td>\n      <td>0.145652</td>\n      <td>0.233044</td>\n    </tr>\n    <tr>\n      <th>26</th>\n      <td>26</td>\n      <td>1001</td>\n      <td>False</td>\n      <td>1.1</td>\n      <td>0.118370</td>\n      <td>0.130207</td>\n    </tr>\n    <tr>\n      <th>24</th>\n      <td>27</td>\n      <td>1001</td>\n      <td>False</td>\n      <td>0.7</td>\n      <td>0.134617</td>\n      <td>0.094232</td>\n    </tr>\n    <tr>\n      <th>27</th>\n      <td>28</td>\n      <td>1001</td>\n      <td>False</td>\n      <td>1.1</td>\n      <td>0.142594</td>\n      <td>0.156853</td>\n    </tr>\n    <tr>\n      <th>28</th>\n      <td>29</td>\n      <td>1001</td>\n      <td>False</td>\n      <td>1.2</td>\n      <td>0.138407</td>\n      <td>0.166089</td>\n    </tr>\n    <tr>\n      <th>29</th>\n      <td>30</td>\n      <td>1001</td>\n      <td>False</td>\n      <td>1.4</td>\n      <td>0.138177</td>\n      <td>0.193448</td>\n    </tr>\n    <tr>\n      <th>30</th>\n      <td>31</td>\n      <td>1001</td>\n      <td>False</td>\n      <td>1.3</td>\n      <td>0.136349</td>\n      <td>0.177254</td>\n    </tr>\n    <tr>\n      <th>31</th>\n      <td>32</td>\n      <td>1001</td>\n      <td>False</td>\n      <td>0.9</td>\n      <td>0.144450</td>\n      <td>0.130005</td>\n    </tr>\n    <tr>\n      <th>34</th>\n      <td>35</td>\n      <td>1001</td>\n      <td>False</td>\n      <td>2.2</td>\n      <td>0.132282</td>\n      <td>0.291021</td>\n    </tr>\n    <tr>\n      <th>35</th>\n      <td>36</td>\n      <td>1001</td>\n      <td>False</td>\n      <td>1.4</td>\n      <td>0.135774</td>\n      <td>0.190083</td>\n    </tr>\n    <tr>\n      <th>37</th>\n      <td>37</td>\n      <td>1001</td>\n      <td>False</td>\n      <td>0.9</td>\n      <td>0.140164</td>\n      <td>0.126148</td>\n    </tr>\n    <tr>\n      <th>36</th>\n      <td>38</td>\n      <td>1001</td>\n      <td>False</td>\n      <td>0.7</td>\n      <td>0.138542</td>\n      <td>0.096980</td>\n    </tr>\n    <tr>\n      <th>38</th>\n      <td>39</td>\n      <td>1001</td>\n      <td>False</td>\n      <td>0.8</td>\n      <td>0.127638</td>\n      <td>0.102110</td>\n    </tr>\n    <tr>\n      <th>41</th>\n      <td>40</td>\n      <td>1001</td>\n      <td>False</td>\n      <td>0.7</td>\n      <td>0.138982</td>\n      <td>0.097288</td>\n    </tr>\n    <tr>\n      <th>39</th>\n      <td>41</td>\n      <td>1001</td>\n      <td>False</td>\n      <td>0.8</td>\n      <td>0.144464</td>\n      <td>0.115571</td>\n    </tr>\n    <tr>\n      <th>40</th>\n      <td>42</td>\n      <td>1001</td>\n      <td>False</td>\n      <td>0.9</td>\n      <td>0.144046</td>\n      <td>0.129641</td>\n    </tr>\n    <tr>\n      <th>42</th>\n      <td>43</td>\n      <td>1001</td>\n      <td>False</td>\n      <td>1.1</td>\n      <td>0.154856</td>\n      <td>0.170342</td>\n    </tr>\n    <tr>\n      <th>43</th>\n      <td>44</td>\n      <td>1001</td>\n      <td>False</td>\n      <td>1.8</td>\n      <td>0.139622</td>\n      <td>0.251320</td>\n    </tr>\n    <tr>\n      <th>44</th>\n      <td>45</td>\n      <td>1001</td>\n      <td>False</td>\n      <td>0.5</td>\n      <td>0.135536</td>\n      <td>0.067768</td>\n    </tr>\n    <tr>\n      <th>45</th>\n      <td>46</td>\n      <td>1001</td>\n      <td>False</td>\n      <td>1.4</td>\n      <td>0.143769</td>\n      <td>0.201277</td>\n    </tr>\n    <tr>\n      <th>46</th>\n      <td>47</td>\n      <td>1001</td>\n      <td>False</td>\n      <td>0.9</td>\n      <td>0.123757</td>\n      <td>0.111382</td>\n    </tr>\n    <tr>\n      <th>47</th>\n      <td>48</td>\n      <td>1001</td>\n      <td>False</td>\n      <td>3.3</td>\n      <td>0.141427</td>\n      <td>0.466709</td>\n    </tr>\n    <tr>\n      <th>49</th>\n      <td>49</td>\n      <td>1001</td>\n      <td>False</td>\n      <td>1.9</td>\n      <td>0.148068</td>\n      <td>0.281329</td>\n    </tr>\n    <tr>\n      <th>48</th>\n      <td>50</td>\n      <td>1001</td>\n      <td>False</td>\n      <td>1.3</td>\n      <td>0.141077</td>\n      <td>0.183400</td>\n    </tr>\n    <tr>\n      <th>53</th>\n      <td>51</td>\n      <td>1001</td>\n      <td>True</td>\n      <td>0.4</td>\n      <td>0.167862</td>\n      <td>0.067145</td>\n    </tr>\n    <tr>\n      <th>51</th>\n      <td>52</td>\n      <td>1001</td>\n      <td>True</td>\n      <td>0.5</td>\n      <td>0.138159</td>\n      <td>0.069080</td>\n    </tr>\n    <tr>\n      <th>50</th>\n      <td>53</td>\n      <td>1001</td>\n      <td>True</td>\n      <td>1.3</td>\n      <td>0.153602</td>\n      <td>0.199683</td>\n    </tr>\n    <tr>\n      <th>54</th>\n      <td>57</td>\n      <td>1001</td>\n      <td>True</td>\n      <td>2.0</td>\n      <td>0.148283</td>\n      <td>0.296566</td>\n    </tr>\n    <tr>\n      <th>56</th>\n      <td>60</td>\n      <td>1001</td>\n      <td>True</td>\n      <td>0.6</td>\n      <td>0.156214</td>\n      <td>0.093728</td>\n    </tr>\n    <tr>\n      <th>60</th>\n      <td>61</td>\n      <td>1001</td>\n      <td>True</td>\n      <td>0.9</td>\n      <td>0.168362</td>\n      <td>0.151526</td>\n    </tr>\n    <tr>\n      <th>61</th>\n      <td>62</td>\n      <td>1001</td>\n      <td>True</td>\n      <td>1.4</td>\n      <td>0.151223</td>\n      <td>0.211713</td>\n    </tr>\n    <tr>\n      <th>63</th>\n      <td>63</td>\n      <td>1001</td>\n      <td>True</td>\n      <td>2.4</td>\n      <td>0.198175</td>\n      <td>0.475619</td>\n    </tr>\n    <tr>\n      <th>62</th>\n      <td>65</td>\n      <td>1001</td>\n      <td>True</td>\n      <td>0.6</td>\n      <td>0.141846</td>\n      <td>0.085108</td>\n    </tr>\n    <tr>\n      <th>64</th>\n      <td>66</td>\n      <td>1001</td>\n      <td>True</td>\n      <td>0.5</td>\n      <td>0.146752</td>\n      <td>0.073376</td>\n    </tr>\n    <tr>\n      <th>66</th>\n      <td>67</td>\n      <td>1001</td>\n      <td>True</td>\n      <td>2.7</td>\n      <td>0.158412</td>\n      <td>0.427712</td>\n    </tr>\n    <tr>\n      <th>67</th>\n      <td>68</td>\n      <td>1001</td>\n      <td>True</td>\n      <td>1.3</td>\n      <td>0.148129</td>\n      <td>0.192567</td>\n    </tr>\n    <tr>\n      <th>69</th>\n      <td>70</td>\n      <td>1001</td>\n      <td>True</td>\n      <td>0.9</td>\n      <td>0.187052</td>\n      <td>0.168347</td>\n    </tr>\n    <tr>\n      <th>70</th>\n      <td>72</td>\n      <td>1001</td>\n      <td>True</td>\n      <td>1.8</td>\n      <td>0.149064</td>\n      <td>0.268316</td>\n    </tr>\n    <tr>\n      <th>71</th>\n      <td>74</td>\n      <td>1001</td>\n      <td>True</td>\n      <td>0.8</td>\n      <td>0.172115</td>\n      <td>0.137692</td>\n    </tr>\n    <tr>\n      <th>75</th>\n      <td>76</td>\n      <td>1001</td>\n      <td>True</td>\n      <td>1.1</td>\n      <td>0.158161</td>\n      <td>0.173977</td>\n    </tr>\n    <tr>\n      <th>78</th>\n      <td>77</td>\n      <td>1001</td>\n      <td>True</td>\n      <td>2.6</td>\n      <td>0.178392</td>\n      <td>0.463818</td>\n    </tr>\n    <tr>\n      <th>77</th>\n      <td>78</td>\n      <td>1001</td>\n      <td>True</td>\n      <td>1.3</td>\n      <td>0.191557</td>\n      <td>0.249024</td>\n    </tr>\n    <tr>\n      <th>76</th>\n      <td>79</td>\n      <td>1001</td>\n      <td>True</td>\n      <td>0.8</td>\n      <td>0.172657</td>\n      <td>0.138126</td>\n    </tr>\n    <tr>\n      <th>79</th>\n      <td>80</td>\n      <td>1001</td>\n      <td>True</td>\n      <td>0.8</td>\n      <td>0.160833</td>\n      <td>0.128667</td>\n    </tr>\n    <tr>\n      <th>80</th>\n      <td>81</td>\n      <td>1001</td>\n      <td>True</td>\n      <td>0.8</td>\n      <td>0.170908</td>\n      <td>0.136726</td>\n    </tr>\n    <tr>\n      <th>83</th>\n      <td>84</td>\n      <td>1001</td>\n      <td>True</td>\n      <td>1.1</td>\n      <td>0.176930</td>\n      <td>0.194623</td>\n    </tr>\n    <tr>\n      <th>81</th>\n      <td>86</td>\n      <td>1001</td>\n      <td>True</td>\n      <td>1.3</td>\n      <td>0.153247</td>\n      <td>0.199221</td>\n    </tr>\n    <tr>\n      <th>85</th>\n      <td>88</td>\n      <td>1001</td>\n      <td>True</td>\n      <td>1.4</td>\n      <td>0.169630</td>\n      <td>0.237482</td>\n    </tr>\n    <tr>\n      <th>88</th>\n      <td>91</td>\n      <td>1001</td>\n      <td>True</td>\n      <td>0.6</td>\n      <td>0.138698</td>\n      <td>0.083219</td>\n    </tr>\n    <tr>\n      <th>91</th>\n      <td>92</td>\n      <td>1001</td>\n      <td>True</td>\n      <td>1.4</td>\n      <td>0.172481</td>\n      <td>0.241474</td>\n    </tr>\n    <tr>\n      <th>95</th>\n      <td>96</td>\n      <td>1001</td>\n      <td>True</td>\n      <td>1.6</td>\n      <td>0.160132</td>\n      <td>0.256212</td>\n    </tr>\n    <tr>\n      <th>93</th>\n      <td>97</td>\n      <td>1001</td>\n      <td>True</td>\n      <td>0.8</td>\n      <td>0.143272</td>\n      <td>0.114618</td>\n    </tr>\n    <tr>\n      <th>97</th>\n      <td>98</td>\n      <td>1001</td>\n      <td>True</td>\n      <td>1.0</td>\n      <td>0.153243</td>\n      <td>0.153243</td>\n    </tr>\n  </tbody>\n</table>\n</div>"
     },
     "metadata": {}
    }
   ]
  },
  {
   "cell_type": "code",
   "metadata": {
    "cell_id": "00004-44478cd2-f705-459a-aada-3ceaf2dea94e",
    "deepnote_to_be_reexecuted": false,
    "source_hash": "2cd7d6c0",
    "execution_start": 1636144459498,
    "execution_millis": 5,
    "deepnote_cell_type": "code"
   },
   "source": "df[(df['polarisation-factor'] > 0.5) & (df['polarisation-factor'] <= 1)]",
   "execution_count": 5,
   "outputs": [
    {
     "output_type": "execute_result",
     "execution_count": 5,
     "data": {
      "application/vnd.deepnote.dataframe.v2+json": {
       "row_count": 13,
       "column_count": 6,
       "columns": [
        {
         "name": "[run number]",
         "dtype": "int64",
         "stats": {
          "unique_count": 13,
          "nan_count": 0,
          "min": "25",
          "max": "99",
          "histogram": [
           {
            "bin_start": 25,
            "bin_end": 32.4,
            "count": 1
           },
           {
            "bin_start": 32.4,
            "bin_end": 39.8,
            "count": 2
           },
           {
            "bin_start": 39.8,
            "bin_end": 47.2,
            "count": 0
           },
           {
            "bin_start": 47.2,
            "bin_end": 54.6,
            "count": 0
           },
           {
            "bin_start": 54.6,
            "bin_end": 62,
            "count": 3
           },
           {
            "bin_start": 62,
            "bin_end": 69.4,
            "count": 1
           },
           {
            "bin_start": 69.4,
            "bin_end": 76.80000000000001,
            "count": 1
           },
           {
            "bin_start": 76.80000000000001,
            "bin_end": 84.2,
            "count": 0
           },
           {
            "bin_start": 84.2,
            "bin_end": 91.60000000000001,
            "count": 1
           },
           {
            "bin_start": 91.60000000000001,
            "bin_end": 99,
            "count": 4
           }
          ]
         }
        },
        {
         "name": "[step]",
         "dtype": "int64",
         "stats": {
          "unique_count": 1,
          "nan_count": 0,
          "min": "1001",
          "max": "1001",
          "histogram": [
           {
            "bin_start": 1000.5,
            "bin_end": 1000.6,
            "count": 0
           },
           {
            "bin_start": 1000.6,
            "bin_end": 1000.7,
            "count": 0
           },
           {
            "bin_start": 1000.7,
            "bin_end": 1000.8,
            "count": 0
           },
           {
            "bin_start": 1000.8,
            "bin_end": 1000.9,
            "count": 0
           },
           {
            "bin_start": 1000.9,
            "bin_end": 1001,
            "count": 0
           },
           {
            "bin_start": 1001,
            "bin_end": 1001.1,
            "count": 13
           },
           {
            "bin_start": 1001.1,
            "bin_end": 1001.2,
            "count": 0
           },
           {
            "bin_start": 1001.2,
            "bin_end": 1001.3,
            "count": 0
           },
           {
            "bin_start": 1001.3,
            "bin_end": 1001.4,
            "count": 0
           },
           {
            "bin_start": 1001.4,
            "bin_end": 1001.5,
            "count": 0
           }
          ]
         }
        },
        {
         "name": "repost?",
         "dtype": "bool",
         "stats": {
          "unique_count": 2,
          "nan_count": 0,
          "categories": [
           {
            "name": "True",
            "count": 10
           },
           {
            "name": "False",
            "count": 3
           }
          ]
         }
        },
        {
         "name": "hateful-node-percents",
         "dtype": "float64",
         "stats": {
          "unique_count": 9,
          "nan_count": 0,
          "min": "3.6",
          "max": "5.3",
          "histogram": [
           {
            "bin_start": 3.6,
            "bin_end": 3.77,
            "count": 2
           },
           {
            "bin_start": 3.77,
            "bin_end": 3.94,
            "count": 1
           },
           {
            "bin_start": 3.94,
            "bin_end": 4.11,
            "count": 0
           },
           {
            "bin_start": 4.11,
            "bin_end": 4.28,
            "count": 0
           },
           {
            "bin_start": 4.28,
            "bin_end": 4.45,
            "count": 2
           },
           {
            "bin_start": 4.45,
            "bin_end": 4.62,
            "count": 4
           },
           {
            "bin_start": 4.62,
            "bin_end": 4.79,
            "count": 1
           },
           {
            "bin_start": 4.79,
            "bin_end": 4.96,
            "count": 0
           },
           {
            "bin_start": 4.96,
            "bin_end": 5.13,
            "count": 0
           },
           {
            "bin_start": 5.13,
            "bin_end": 5.3,
            "count": 3
           }
          ]
         }
        },
        {
         "name": "stddev-hate-score-dist",
         "dtype": "float64",
         "stats": {
          "unique_count": 13,
          "nan_count": 0,
          "min": "0.142464225681103",
          "max": "0.209097025152647",
          "histogram": [
           {
            "bin_start": 0.142464225681103,
            "bin_end": 0.1491275056282574,
            "count": 1
           },
           {
            "bin_start": 0.1491275056282574,
            "bin_end": 0.15579078557541182,
            "count": 3
           },
           {
            "bin_start": 0.15579078557541182,
            "bin_end": 0.1624540655225662,
            "count": 2
           },
           {
            "bin_start": 0.1624540655225662,
            "bin_end": 0.1691173454697206,
            "count": 0
           },
           {
            "bin_start": 0.1691173454697206,
            "bin_end": 0.175780625416875,
            "count": 0
           },
           {
            "bin_start": 0.175780625416875,
            "bin_end": 0.1824439053640294,
            "count": 4
           },
           {
            "bin_start": 0.1824439053640294,
            "bin_end": 0.1891071853111838,
            "count": 1
           },
           {
            "bin_start": 0.1891071853111838,
            "bin_end": 0.1957704652583382,
            "count": 0
           },
           {
            "bin_start": 0.1957704652583382,
            "bin_end": 0.2024337452054926,
            "count": 0
           },
           {
            "bin_start": 0.2024337452054926,
            "bin_end": 0.209097025152647,
            "count": 2
           }
          ]
         }
        },
        {
         "name": "polarisation-factor",
         "dtype": "float64",
         "stats": {
          "unique_count": 13,
          "nan_count": 0,
          "min": "0.512871212451972",
          "max": "0.982756018217441",
          "histogram": [
           {
            "bin_start": 0.512871212451972,
            "bin_end": 0.5598596930285189,
            "count": 1
           },
           {
            "bin_start": 0.5598596930285189,
            "bin_end": 0.6068481736050658,
            "count": 1
           },
           {
            "bin_start": 0.6068481736050658,
            "bin_end": 0.6538366541816127,
            "count": 0
           },
           {
            "bin_start": 0.6538366541816127,
            "bin_end": 0.7008251347581596,
            "count": 2
           },
           {
            "bin_start": 0.7008251347581596,
            "bin_end": 0.7478136153347065,
            "count": 3
           },
           {
            "bin_start": 0.7478136153347065,
            "bin_end": 0.7948020959112534,
            "count": 0
           },
           {
            "bin_start": 0.7948020959112534,
            "bin_end": 0.8417905764878002,
            "count": 1
           },
           {
            "bin_start": 0.8417905764878002,
            "bin_end": 0.8887790570643472,
            "count": 0
           },
           {
            "bin_start": 0.8887790570643472,
            "bin_end": 0.935767537640894,
            "count": 0
           },
           {
            "bin_start": 0.935767537640894,
            "bin_end": 0.982756018217441,
            "count": 5
           }
          ]
         }
        },
        {
         "name": "_deepnote_index_column",
         "dtype": "int64"
        }
       ],
       "rows_top": [
        {
         "[run number]": 25,
         "[step]": 1001,
         "repost?": "False",
         "hateful-node-percents": 4.6,
         "stddev-hate-score-dist": 0.15558541444764,
         "polarisation-factor": 0.715692906459144,
         "_deepnote_index_column": 25
        },
        {
         "[run number]": 33,
         "[step]": 1001,
         "repost?": "False",
         "hateful-node-percents": 3.6,
         "stddev-hate-score-dist": 0.142464225681103,
         "polarisation-factor": 0.512871212451972,
         "_deepnote_index_column": 32
        },
        {
         "[run number]": 34,
         "[step]": 1001,
         "repost?": "False",
         "hateful-node-percents": 3.7,
         "stddev-hate-score-dist": 0.154200816992576,
         "polarisation-factor": 0.570543022872531,
         "_deepnote_index_column": 33
        },
        {
         "[run number]": 55,
         "[step]": 1001,
         "repost?": "True",
         "hateful-node-percents": 4.6,
         "stddev-hate-score-dist": 0.154100597500684,
         "polarisation-factor": 0.708862748503147,
         "_deepnote_index_column": 52
        },
        {
         "[run number]": 56,
         "[step]": 1001,
         "repost?": "True",
         "hateful-node-percents": 4.6,
         "stddev-hate-score-dist": 0.182058882086407,
         "polarisation-factor": 0.837470857597472,
         "_deepnote_index_column": 55
        },
        {
         "[run number]": 59,
         "[step]": 1001,
         "repost?": "True",
         "hateful-node-percents": 5.2,
         "stddev-hate-score-dist": 0.180420393791106,
         "polarisation-factor": 0.938186047713752,
         "_deepnote_index_column": 57
        },
        {
         "[run number]": 69,
         "[step]": 1001,
         "repost?": "True",
         "hateful-node-percents": 3.8,
         "stddev-hate-score-dist": 0.180116616595097,
         "polarisation-factor": 0.684443143061369,
         "_deepnote_index_column": 68
        },
        {
         "[run number]": 75,
         "[step]": 1001,
         "repost?": "True",
         "hateful-node-percents": 5.3,
         "stddev-hate-score-dist": 0.180194852597155,
         "polarisation-factor": 0.955032718764921,
         "_deepnote_index_column": 74
        },
        {
         "[run number]": 89,
         "[step]": 1001,
         "repost?": "True",
         "hateful-node-percents": 4.4,
         "stddev-hate-score-dist": 0.161869961981385,
         "polarisation-factor": 0.712227832718094,
         "_deepnote_index_column": 90
        },
        {
         "[run number]": 93,
         "[step]": 1001,
         "repost?": "True",
         "hateful-node-percents": 4.6,
         "stddev-hate-score-dist": 0.20498485531947,
         "polarisation-factor": 0.94293033446956,
         "_deepnote_index_column": 92
        },
        {
         "[run number]": 94,
         "[step]": 1001,
         "repost?": "True",
         "hateful-node-percents": 5.2,
         "stddev-hate-score-dist": 0.183271832268607,
         "polarisation-factor": 0.953013527796756,
         "_deepnote_index_column": 94
        },
        {
         "[run number]": 95,
         "[step]": 1001,
         "repost?": "True",
         "hateful-node-percents": 4.3,
         "stddev-hate-score-dist": 0.157397943283848,
         "polarisation-factor": 0.676811156120546,
         "_deepnote_index_column": 96
        },
        {
         "[run number]": 99,
         "[step]": 1001,
         "repost?": "True",
         "hateful-node-percents": 4.7,
         "stddev-hate-score-dist": 0.209097025152647,
         "polarisation-factor": 0.982756018217441,
         "_deepnote_index_column": 98
        }
       ],
       "rows_bottom": null
      },
      "text/plain": "    [run number]  [step]  repost?  hateful-node-percents  \\\n25            25    1001    False                    4.6   \n32            33    1001    False                    3.6   \n33            34    1001    False                    3.7   \n52            55    1001     True                    4.6   \n55            56    1001     True                    4.6   \n57            59    1001     True                    5.2   \n68            69    1001     True                    3.8   \n74            75    1001     True                    5.3   \n90            89    1001     True                    4.4   \n92            93    1001     True                    4.6   \n94            94    1001     True                    5.2   \n96            95    1001     True                    4.3   \n98            99    1001     True                    4.7   \n\n    stddev-hate-score-dist  polarisation-factor  \n25                0.155585             0.715693  \n32                0.142464             0.512871  \n33                0.154201             0.570543  \n52                0.154101             0.708863  \n55                0.182059             0.837471  \n57                0.180420             0.938186  \n68                0.180117             0.684443  \n74                0.180195             0.955033  \n90                0.161870             0.712228  \n92                0.204985             0.942930  \n94                0.183272             0.953014  \n96                0.157398             0.676811  \n98                0.209097             0.982756  ",
      "text/html": "<div>\n<style scoped>\n    .dataframe tbody tr th:only-of-type {\n        vertical-align: middle;\n    }\n\n    .dataframe tbody tr th {\n        vertical-align: top;\n    }\n\n    .dataframe thead th {\n        text-align: right;\n    }\n</style>\n<table border=\"1\" class=\"dataframe\">\n  <thead>\n    <tr style=\"text-align: right;\">\n      <th></th>\n      <th>[run number]</th>\n      <th>[step]</th>\n      <th>repost?</th>\n      <th>hateful-node-percents</th>\n      <th>stddev-hate-score-dist</th>\n      <th>polarisation-factor</th>\n    </tr>\n  </thead>\n  <tbody>\n    <tr>\n      <th>25</th>\n      <td>25</td>\n      <td>1001</td>\n      <td>False</td>\n      <td>4.6</td>\n      <td>0.155585</td>\n      <td>0.715693</td>\n    </tr>\n    <tr>\n      <th>32</th>\n      <td>33</td>\n      <td>1001</td>\n      <td>False</td>\n      <td>3.6</td>\n      <td>0.142464</td>\n      <td>0.512871</td>\n    </tr>\n    <tr>\n      <th>33</th>\n      <td>34</td>\n      <td>1001</td>\n      <td>False</td>\n      <td>3.7</td>\n      <td>0.154201</td>\n      <td>0.570543</td>\n    </tr>\n    <tr>\n      <th>52</th>\n      <td>55</td>\n      <td>1001</td>\n      <td>True</td>\n      <td>4.6</td>\n      <td>0.154101</td>\n      <td>0.708863</td>\n    </tr>\n    <tr>\n      <th>55</th>\n      <td>56</td>\n      <td>1001</td>\n      <td>True</td>\n      <td>4.6</td>\n      <td>0.182059</td>\n      <td>0.837471</td>\n    </tr>\n    <tr>\n      <th>57</th>\n      <td>59</td>\n      <td>1001</td>\n      <td>True</td>\n      <td>5.2</td>\n      <td>0.180420</td>\n      <td>0.938186</td>\n    </tr>\n    <tr>\n      <th>68</th>\n      <td>69</td>\n      <td>1001</td>\n      <td>True</td>\n      <td>3.8</td>\n      <td>0.180117</td>\n      <td>0.684443</td>\n    </tr>\n    <tr>\n      <th>74</th>\n      <td>75</td>\n      <td>1001</td>\n      <td>True</td>\n      <td>5.3</td>\n      <td>0.180195</td>\n      <td>0.955033</td>\n    </tr>\n    <tr>\n      <th>90</th>\n      <td>89</td>\n      <td>1001</td>\n      <td>True</td>\n      <td>4.4</td>\n      <td>0.161870</td>\n      <td>0.712228</td>\n    </tr>\n    <tr>\n      <th>92</th>\n      <td>93</td>\n      <td>1001</td>\n      <td>True</td>\n      <td>4.6</td>\n      <td>0.204985</td>\n      <td>0.942930</td>\n    </tr>\n    <tr>\n      <th>94</th>\n      <td>94</td>\n      <td>1001</td>\n      <td>True</td>\n      <td>5.2</td>\n      <td>0.183272</td>\n      <td>0.953014</td>\n    </tr>\n    <tr>\n      <th>96</th>\n      <td>95</td>\n      <td>1001</td>\n      <td>True</td>\n      <td>4.3</td>\n      <td>0.157398</td>\n      <td>0.676811</td>\n    </tr>\n    <tr>\n      <th>98</th>\n      <td>99</td>\n      <td>1001</td>\n      <td>True</td>\n      <td>4.7</td>\n      <td>0.209097</td>\n      <td>0.982756</td>\n    </tr>\n  </tbody>\n</table>\n</div>"
     },
     "metadata": {}
    }
   ]
  },
  {
   "cell_type": "code",
   "metadata": {
    "cell_id": "00005-72622e5a-8d7e-4b59-ab77-79b8d4ec178a",
    "deepnote_to_be_reexecuted": false,
    "source_hash": "f797335d",
    "execution_start": 1636144459536,
    "execution_millis": 21,
    "deepnote_cell_type": "code"
   },
   "source": "df[df['polarisation-factor'] > 1]",
   "execution_count": 6,
   "outputs": [
    {
     "output_type": "execute_result",
     "execution_count": 6,
     "data": {
      "application/vnd.deepnote.dataframe.v2+json": {
       "row_count": 11,
       "column_count": 6,
       "columns": [
        {
         "name": "[run number]",
         "dtype": "int64",
         "stats": {
          "unique_count": 11,
          "nan_count": 0,
          "min": "54",
          "max": "100",
          "histogram": [
           {
            "bin_start": 54,
            "bin_end": 58.6,
            "count": 2
           },
           {
            "bin_start": 58.6,
            "bin_end": 63.2,
            "count": 0
           },
           {
            "bin_start": 63.2,
            "bin_end": 67.8,
            "count": 1
           },
           {
            "bin_start": 67.8,
            "bin_end": 72.4,
            "count": 1
           },
           {
            "bin_start": 72.4,
            "bin_end": 77,
            "count": 1
           },
           {
            "bin_start": 77,
            "bin_end": 81.6,
            "count": 0
           },
           {
            "bin_start": 81.6,
            "bin_end": 86.19999999999999,
            "count": 3
           },
           {
            "bin_start": 86.19999999999999,
            "bin_end": 90.8,
            "count": 2
           },
           {
            "bin_start": 90.8,
            "bin_end": 95.4,
            "count": 0
           },
           {
            "bin_start": 95.4,
            "bin_end": 100,
            "count": 1
           }
          ]
         }
        },
        {
         "name": "[step]",
         "dtype": "int64",
         "stats": {
          "unique_count": 1,
          "nan_count": 0,
          "min": "1001",
          "max": "1001",
          "histogram": [
           {
            "bin_start": 1000.5,
            "bin_end": 1000.6,
            "count": 0
           },
           {
            "bin_start": 1000.6,
            "bin_end": 1000.7,
            "count": 0
           },
           {
            "bin_start": 1000.7,
            "bin_end": 1000.8,
            "count": 0
           },
           {
            "bin_start": 1000.8,
            "bin_end": 1000.9,
            "count": 0
           },
           {
            "bin_start": 1000.9,
            "bin_end": 1001,
            "count": 0
           },
           {
            "bin_start": 1001,
            "bin_end": 1001.1,
            "count": 11
           },
           {
            "bin_start": 1001.1,
            "bin_end": 1001.2,
            "count": 0
           },
           {
            "bin_start": 1001.2,
            "bin_end": 1001.3,
            "count": 0
           },
           {
            "bin_start": 1001.3,
            "bin_end": 1001.4,
            "count": 0
           },
           {
            "bin_start": 1001.4,
            "bin_end": 1001.5,
            "count": 0
           }
          ]
         }
        },
        {
         "name": "repost?",
         "dtype": "bool",
         "stats": {
          "unique_count": 1,
          "nan_count": 0,
          "categories": [
           {
            "name": "True",
            "count": 11
           }
          ]
         }
        },
        {
         "name": "hateful-node-percents",
         "dtype": "float64",
         "stats": {
          "unique_count": 10,
          "nan_count": 0,
          "min": "7.0",
          "max": "24.0",
          "histogram": [
           {
            "bin_start": 7,
            "bin_end": 8.7,
            "count": 3
           },
           {
            "bin_start": 8.7,
            "bin_end": 10.4,
            "count": 3
           },
           {
            "bin_start": 10.4,
            "bin_end": 12.1,
            "count": 3
           },
           {
            "bin_start": 12.1,
            "bin_end": 13.8,
            "count": 0
           },
           {
            "bin_start": 13.8,
            "bin_end": 15.5,
            "count": 1
           },
           {
            "bin_start": 15.5,
            "bin_end": 17.2,
            "count": 0
           },
           {
            "bin_start": 17.2,
            "bin_end": 18.9,
            "count": 0
           },
           {
            "bin_start": 18.9,
            "bin_end": 20.6,
            "count": 0
           },
           {
            "bin_start": 20.6,
            "bin_end": 22.299999999999997,
            "count": 0
           },
           {
            "bin_start": 22.299999999999997,
            "bin_end": 24,
            "count": 1
           }
          ]
         }
        },
        {
         "name": "stddev-hate-score-dist",
         "dtype": "float64",
         "stats": {
          "unique_count": 11,
          "nan_count": 0,
          "min": "0.175314637334048",
          "max": "0.259183052506658",
          "histogram": [
           {
            "bin_start": 0.175314637334048,
            "bin_end": 0.183701478851309,
            "count": 4
           },
           {
            "bin_start": 0.183701478851309,
            "bin_end": 0.19208832036857001,
            "count": 1
           },
           {
            "bin_start": 0.19208832036857001,
            "bin_end": 0.200475161885831,
            "count": 4
           },
           {
            "bin_start": 0.200475161885831,
            "bin_end": 0.20886200340309202,
            "count": 0
           },
           {
            "bin_start": 0.20886200340309202,
            "bin_end": 0.217248844920353,
            "count": 1
           },
           {
            "bin_start": 0.217248844920353,
            "bin_end": 0.225635686437614,
            "count": 0
           },
           {
            "bin_start": 0.225635686437614,
            "bin_end": 0.234022527954875,
            "count": 0
           },
           {
            "bin_start": 0.234022527954875,
            "bin_end": 0.242409369472136,
            "count": 0
           },
           {
            "bin_start": 0.242409369472136,
            "bin_end": 0.25079621098939703,
            "count": 0
           },
           {
            "bin_start": 0.25079621098939703,
            "bin_end": 0.259183052506658,
            "count": 1
           }
          ]
         }
        },
        {
         "name": "polarisation-factor",
         "dtype": "float64",
         "stats": {
          "unique_count": 11,
          "nan_count": 0,
          "min": "1.32548030622014",
          "max": "6.22039326015979",
          "histogram": [
           {
            "bin_start": 1.32548030622014,
            "bin_end": 1.814971601614105,
            "count": 5
           },
           {
            "bin_start": 1.814971601614105,
            "bin_end": 2.30446289700807,
            "count": 4
           },
           {
            "bin_start": 2.30446289700807,
            "bin_end": 2.793954192402035,
            "count": 0
           },
           {
            "bin_start": 2.793954192402035,
            "bin_end": 3.2834454877960004,
            "count": 1
           },
           {
            "bin_start": 3.2834454877960004,
            "bin_end": 3.772936783189965,
            "count": 0
           },
           {
            "bin_start": 3.772936783189965,
            "bin_end": 4.26242807858393,
            "count": 0
           },
           {
            "bin_start": 4.26242807858393,
            "bin_end": 4.751919373977896,
            "count": 0
           },
           {
            "bin_start": 4.751919373977896,
            "bin_end": 5.24141066937186,
            "count": 0
           },
           {
            "bin_start": 5.24141066937186,
            "bin_end": 5.730901964765826,
            "count": 0
           },
           {
            "bin_start": 5.730901964765826,
            "bin_end": 6.22039326015979,
            "count": 1
           }
          ]
         }
        },
        {
         "name": "_deepnote_index_column",
         "dtype": "int64"
        }
       ],
       "rows_top": [
        {
         "[run number]": 54,
         "[step]": 1001,
         "repost?": "True",
         "hateful-node-percents": 14.5,
         "stddev-hate-score-dist": 0.212397634492358,
         "polarisation-factor": 3.07976570013919,
         "_deepnote_index_column": 59
        },
        {
         "[run number]": 58,
         "[step]": 1001,
         "repost?": "True",
         "hateful-node-percents": 10.6,
         "stddev-hate-score-dist": 0.194943913967805,
         "polarisation-factor": 2.06640548805874,
         "_deepnote_index_column": 58
        },
        {
         "[run number]": 64,
         "[step]": 1001,
         "repost?": "True",
         "hateful-node-percents": 8.4,
         "stddev-hate-score-dist": 0.181010122038676,
         "polarisation-factor": 1.52048502512487,
         "_deepnote_index_column": 65
        },
        {
         "[run number]": 71,
         "[step]": 1001,
         "repost?": "True",
         "hateful-node-percents": 7.6,
         "stddev-hate-score-dist": 0.198263328259701,
         "polarisation-factor": 1.50680129477373,
         "_deepnote_index_column": 72
        },
        {
         "[run number]": 73,
         "[step]": 1001,
         "repost?": "True",
         "hateful-node-percents": 11.4,
         "stddev-hate-score-dist": 0.198228499003865,
         "polarisation-factor": 2.25980488864406,
         "_deepnote_index_column": 73
        },
        {
         "[run number]": 82,
         "[step]": 1001,
         "repost?": "True",
         "hateful-node-percents": 8.9,
         "stddev-hate-score-dist": 0.175314637334048,
         "polarisation-factor": 1.56030027227303,
         "_deepnote_index_column": 84
        },
        {
         "[run number]": 83,
         "[step]": 1001,
         "repost?": "True",
         "hateful-node-percents": 10,
         "stddev-hate-score-dist": 0.183479505308611,
         "polarisation-factor": 1.83479505308611,
         "_deepnote_index_column": 82
        },
        {
         "[run number]": 85,
         "[step]": 1001,
         "repost?": "True",
         "hateful-node-percents": 24,
         "stddev-hate-score-dist": 0.259183052506658,
         "polarisation-factor": 6.22039326015979,
         "_deepnote_index_column": 86
        },
        {
         "[run number]": 87,
         "[step]": 1001,
         "repost?": "True",
         "hateful-node-percents": 7,
         "stddev-hate-score-dist": 0.18935432946002,
         "polarisation-factor": 1.32548030622014,
         "_deepnote_index_column": 87
        },
        {
         "[run number]": 90,
         "[step]": 1001,
         "repost?": "True",
         "hateful-node-percents": 9.5,
         "stddev-hate-score-dist": 0.176062204528986,
         "polarisation-factor": 1.67259094302536,
         "_deepnote_index_column": 89
        },
        {
         "[run number]": 100,
         "[step]": 1001,
         "repost?": "True",
         "hateful-node-percents": 10.6,
         "stddev-hate-score-dist": 0.195027521229629,
         "polarisation-factor": 2.06729172503407,
         "_deepnote_index_column": 99
        }
       ],
       "rows_bottom": null
      },
      "text/plain": "    [run number]  [step]  repost?  hateful-node-percents  \\\n59            54    1001     True                   14.5   \n58            58    1001     True                   10.6   \n65            64    1001     True                    8.4   \n72            71    1001     True                    7.6   \n73            73    1001     True                   11.4   \n84            82    1001     True                    8.9   \n82            83    1001     True                   10.0   \n86            85    1001     True                   24.0   \n87            87    1001     True                    7.0   \n89            90    1001     True                    9.5   \n99           100    1001     True                   10.6   \n\n    stddev-hate-score-dist  polarisation-factor  \n59                0.212398             3.079766  \n58                0.194944             2.066405  \n65                0.181010             1.520485  \n72                0.198263             1.506801  \n73                0.198228             2.259805  \n84                0.175315             1.560300  \n82                0.183480             1.834795  \n86                0.259183             6.220393  \n87                0.189354             1.325480  \n89                0.176062             1.672591  \n99                0.195028             2.067292  ",
      "text/html": "<div>\n<style scoped>\n    .dataframe tbody tr th:only-of-type {\n        vertical-align: middle;\n    }\n\n    .dataframe tbody tr th {\n        vertical-align: top;\n    }\n\n    .dataframe thead th {\n        text-align: right;\n    }\n</style>\n<table border=\"1\" class=\"dataframe\">\n  <thead>\n    <tr style=\"text-align: right;\">\n      <th></th>\n      <th>[run number]</th>\n      <th>[step]</th>\n      <th>repost?</th>\n      <th>hateful-node-percents</th>\n      <th>stddev-hate-score-dist</th>\n      <th>polarisation-factor</th>\n    </tr>\n  </thead>\n  <tbody>\n    <tr>\n      <th>59</th>\n      <td>54</td>\n      <td>1001</td>\n      <td>True</td>\n      <td>14.5</td>\n      <td>0.212398</td>\n      <td>3.079766</td>\n    </tr>\n    <tr>\n      <th>58</th>\n      <td>58</td>\n      <td>1001</td>\n      <td>True</td>\n      <td>10.6</td>\n      <td>0.194944</td>\n      <td>2.066405</td>\n    </tr>\n    <tr>\n      <th>65</th>\n      <td>64</td>\n      <td>1001</td>\n      <td>True</td>\n      <td>8.4</td>\n      <td>0.181010</td>\n      <td>1.520485</td>\n    </tr>\n    <tr>\n      <th>72</th>\n      <td>71</td>\n      <td>1001</td>\n      <td>True</td>\n      <td>7.6</td>\n      <td>0.198263</td>\n      <td>1.506801</td>\n    </tr>\n    <tr>\n      <th>73</th>\n      <td>73</td>\n      <td>1001</td>\n      <td>True</td>\n      <td>11.4</td>\n      <td>0.198228</td>\n      <td>2.259805</td>\n    </tr>\n    <tr>\n      <th>84</th>\n      <td>82</td>\n      <td>1001</td>\n      <td>True</td>\n      <td>8.9</td>\n      <td>0.175315</td>\n      <td>1.560300</td>\n    </tr>\n    <tr>\n      <th>82</th>\n      <td>83</td>\n      <td>1001</td>\n      <td>True</td>\n      <td>10.0</td>\n      <td>0.183480</td>\n      <td>1.834795</td>\n    </tr>\n    <tr>\n      <th>86</th>\n      <td>85</td>\n      <td>1001</td>\n      <td>True</td>\n      <td>24.0</td>\n      <td>0.259183</td>\n      <td>6.220393</td>\n    </tr>\n    <tr>\n      <th>87</th>\n      <td>87</td>\n      <td>1001</td>\n      <td>True</td>\n      <td>7.0</td>\n      <td>0.189354</td>\n      <td>1.325480</td>\n    </tr>\n    <tr>\n      <th>89</th>\n      <td>90</td>\n      <td>1001</td>\n      <td>True</td>\n      <td>9.5</td>\n      <td>0.176062</td>\n      <td>1.672591</td>\n    </tr>\n    <tr>\n      <th>99</th>\n      <td>100</td>\n      <td>1001</td>\n      <td>True</td>\n      <td>10.6</td>\n      <td>0.195028</td>\n      <td>2.067292</td>\n    </tr>\n  </tbody>\n</table>\n</div>"
     },
     "metadata": {}
    }
   ]
  },
  {
   "cell_type": "code",
   "metadata": {
    "cell_id": "00006-cedf0e20-cc51-4d12-bf28-0f7a9704d56d",
    "deepnote_to_be_reexecuted": false,
    "source_hash": "c8a0b335",
    "execution_start": 1636144459610,
    "execution_millis": 2,
    "deepnote_cell_type": "code"
   },
   "source": "df.groupby(['repost?'])['polarisation-factor'].mean()",
   "execution_count": 7,
   "outputs": [
    {
     "output_type": "execute_result",
     "execution_count": 7,
     "data": {
      "text/plain": "repost?\nFalse    0.212129\nTrue     0.783889\nName: polarisation-factor, dtype: float64"
     },
     "metadata": {}
    }
   ]
  },
  {
   "cell_type": "code",
   "metadata": {
    "cell_id": "00007-0f34848f-cb07-4cbe-9321-a9c96da91c68",
    "deepnote_to_be_reexecuted": false,
    "source_hash": "df3ea978",
    "execution_start": 1636144459611,
    "execution_millis": 1,
    "deepnote_cell_type": "code"
   },
   "source": "def is_pollarised(row, low, high):\n    if row['polarisation-factor'] > low and row['polarisation-factor'] <= high:\n        return 1\n    return 0\n\ndf['not-pollarised'] = df.apply(lambda row: is_pollarised(row, -1, 0.5), axis=1)\ndf['low-pollarised'] = df.apply(lambda row: is_pollarised(row, 0.5, 1), axis=1)\ndf['high-pollarised'] = df.apply(lambda row: is_pollarised(row, 1, 10000), axis=1)",
   "execution_count": 8,
   "outputs": []
  },
  {
   "cell_type": "code",
   "metadata": {
    "cell_id": "00008-e520e18c-82f2-4b13-a5d8-c70f1991b990",
    "deepnote_to_be_reexecuted": false,
    "source_hash": "146b359",
    "execution_start": 1636144459654,
    "execution_millis": 0,
    "deepnote_cell_type": "code"
   },
   "source": "g_not = df.groupby(['repost?'])['not-pollarised'].agg([np.sum])\ng_low = df.groupby(['repost?'])['low-pollarised'].agg([np.sum])\ng_high = df.groupby(['repost?'])['high-pollarised'].agg([np.sum])\n\ng_not.columns = ['not-pollarised']\ng_low.columns = ['low-pollarised']\ng_high.columns = ['high-pollarised']\n\ng_not.join(g_low).join(g_high)",
   "execution_count": 9,
   "outputs": [
    {
     "output_type": "execute_result",
     "execution_count": 9,
     "data": {
      "application/vnd.deepnote.dataframe.v2+json": {
       "row_count": 2,
       "column_count": 3,
       "columns": [
        {
         "name": "not-pollarised",
         "dtype": "int64",
         "stats": {
          "unique_count": 2,
          "nan_count": 0,
          "min": "29",
          "max": "47",
          "histogram": [
           {
            "bin_start": 29,
            "bin_end": 30.8,
            "count": 1
           },
           {
            "bin_start": 30.8,
            "bin_end": 32.6,
            "count": 0
           },
           {
            "bin_start": 32.6,
            "bin_end": 34.4,
            "count": 0
           },
           {
            "bin_start": 34.4,
            "bin_end": 36.2,
            "count": 0
           },
           {
            "bin_start": 36.2,
            "bin_end": 38,
            "count": 0
           },
           {
            "bin_start": 38,
            "bin_end": 39.8,
            "count": 0
           },
           {
            "bin_start": 39.8,
            "bin_end": 41.6,
            "count": 0
           },
           {
            "bin_start": 41.6,
            "bin_end": 43.4,
            "count": 0
           },
           {
            "bin_start": 43.4,
            "bin_end": 45.2,
            "count": 0
           },
           {
            "bin_start": 45.2,
            "bin_end": 47,
            "count": 1
           }
          ]
         }
        },
        {
         "name": "low-pollarised",
         "dtype": "int64",
         "stats": {
          "unique_count": 2,
          "nan_count": 0,
          "min": "3",
          "max": "10",
          "histogram": [
           {
            "bin_start": 3,
            "bin_end": 3.7,
            "count": 1
           },
           {
            "bin_start": 3.7,
            "bin_end": 4.4,
            "count": 0
           },
           {
            "bin_start": 4.4,
            "bin_end": 5.1,
            "count": 0
           },
           {
            "bin_start": 5.1,
            "bin_end": 5.8,
            "count": 0
           },
           {
            "bin_start": 5.8,
            "bin_end": 6.5,
            "count": 0
           },
           {
            "bin_start": 6.5,
            "bin_end": 7.199999999999999,
            "count": 0
           },
           {
            "bin_start": 7.199999999999999,
            "bin_end": 7.8999999999999995,
            "count": 0
           },
           {
            "bin_start": 7.8999999999999995,
            "bin_end": 8.6,
            "count": 0
           },
           {
            "bin_start": 8.6,
            "bin_end": 9.3,
            "count": 0
           },
           {
            "bin_start": 9.3,
            "bin_end": 10,
            "count": 1
           }
          ]
         }
        },
        {
         "name": "high-pollarised",
         "dtype": "int64",
         "stats": {
          "unique_count": 2,
          "nan_count": 0,
          "min": "0",
          "max": "11",
          "histogram": [
           {
            "bin_start": 0,
            "bin_end": 1.1,
            "count": 1
           },
           {
            "bin_start": 1.1,
            "bin_end": 2.2,
            "count": 0
           },
           {
            "bin_start": 2.2,
            "bin_end": 3.3000000000000003,
            "count": 0
           },
           {
            "bin_start": 3.3000000000000003,
            "bin_end": 4.4,
            "count": 0
           },
           {
            "bin_start": 4.4,
            "bin_end": 5.5,
            "count": 0
           },
           {
            "bin_start": 5.5,
            "bin_end": 6.6000000000000005,
            "count": 0
           },
           {
            "bin_start": 6.6000000000000005,
            "bin_end": 7.700000000000001,
            "count": 0
           },
           {
            "bin_start": 7.700000000000001,
            "bin_end": 8.8,
            "count": 0
           },
           {
            "bin_start": 8.8,
            "bin_end": 9.9,
            "count": 0
           },
           {
            "bin_start": 9.9,
            "bin_end": 11,
            "count": 1
           }
          ]
         }
        },
        {
         "name": "_deepnote_index_column",
         "dtype": "object"
        }
       ],
       "rows_top": [
        {
         "not-pollarised": 47,
         "low-pollarised": 3,
         "high-pollarised": 0,
         "_deepnote_index_column": "False"
        },
        {
         "not-pollarised": 29,
         "low-pollarised": 10,
         "high-pollarised": 11,
         "_deepnote_index_column": "True"
        }
       ],
       "rows_bottom": null
      },
      "text/plain": "         not-pollarised  low-pollarised  high-pollarised\nrepost?                                                 \nFalse                47               3                0\nTrue                 29              10               11",
      "text/html": "<div>\n<style scoped>\n    .dataframe tbody tr th:only-of-type {\n        vertical-align: middle;\n    }\n\n    .dataframe tbody tr th {\n        vertical-align: top;\n    }\n\n    .dataframe thead th {\n        text-align: right;\n    }\n</style>\n<table border=\"1\" class=\"dataframe\">\n  <thead>\n    <tr style=\"text-align: right;\">\n      <th></th>\n      <th>not-pollarised</th>\n      <th>low-pollarised</th>\n      <th>high-pollarised</th>\n    </tr>\n    <tr>\n      <th>repost?</th>\n      <th></th>\n      <th></th>\n      <th></th>\n    </tr>\n  </thead>\n  <tbody>\n    <tr>\n      <th>False</th>\n      <td>47</td>\n      <td>3</td>\n      <td>0</td>\n    </tr>\n    <tr>\n      <th>True</th>\n      <td>29</td>\n      <td>10</td>\n      <td>11</td>\n    </tr>\n  </tbody>\n</table>\n</div>"
     },
     "metadata": {}
    }
   ]
  },
  {
   "cell_type": "markdown",
   "source": "<a style='text-decoration:none;line-height:16px;display:flex;color:#5B5B62;padding:10px;justify-content:end;' href='https://deepnote.com?utm_source=created-in-deepnote-cell&projectId=76a22323-d43c-4823-9752-036f6744cf38' target=\"_blank\">\n<img alt='Created in deepnote.com' style='display:inline;max-height:16px;margin:0px;margin-right:7.5px;' src='data:image/svg+xml;base64,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' > </img>\nCreated in <span style='font-weight:600;margin-left:4px;'>Deepnote</span></a>",
   "metadata": {
    "tags": [],
    "created_in_deepnote_cell": true,
    "deepnote_cell_type": "markdown"
   }
  }
 ],
 "nbformat": 4,
 "nbformat_minor": 2,
 "metadata": {
  "kernelspec": {
   "name": "pycharm-19907461",
   "language": "python",
   "display_name": "PyCharm (thesis)"
  },
  "language_info": {
   "codemirror_mode": {
    "name": "ipython",
    "version": 3
   },
   "file_extension": ".py",
   "mimetype": "text/x-python",
   "name": "python",
   "nbconvert_exporter": "python",
   "pygments_lexer": "ipython3",
   "version": "3.8.3"
  },
  "deepnote_notebook_id": "ea39bd82-7ab1-428a-ad55-b51260542d5e",
  "deepnote": {},
  "deepnote_execution_queue": []
 }
}