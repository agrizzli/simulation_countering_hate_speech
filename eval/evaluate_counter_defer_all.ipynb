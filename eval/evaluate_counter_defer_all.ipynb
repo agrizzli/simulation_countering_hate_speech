{
 "cells": [
  {
   "cell_type": "code",
   "metadata": {
    "cell_id": "00000-b399fc68-2569-40a9-8b0d-b9b33f66f3f6",
    "deepnote_to_be_reexecuted": false,
    "source_hash": "f25bd425",
    "execution_start": 1636144404507,
    "execution_millis": 0,
    "deepnote_cell_type": "code"
   },
   "source": "import numpy as np\nimport pandas as pd\n",
   "execution_count": 1,
   "outputs": []
  },
  {
   "cell_type": "code",
   "metadata": {
    "collapsed": false,
    "pycharm": {
     "name": "#%%\n"
    },
    "cell_id": "00001-5a28586f-97c5-453b-a347-d8ffa2791b72",
    "deepnote_to_be_reexecuted": false,
    "source_hash": "601a4818",
    "execution_start": 1636144404508,
    "execution_millis": 11,
    "deepnote_cell_type": "code"
   },
   "source": "def eval_one(f_name):\n    df_raw = pd.read_csv(f_name, skiprows=6)\n    df = df_raw[[\n        '[run number]',\n        '[step]',\n        'swap-to-hate',                             # Society becomes hateful when > 30% hateful nodes\n        'p_defer_hateful_post',                     # Deferring probability for hateful posts\n\n        'max-out-degree false',                     # Max degree of normals\n        'max-out-degree true',                      # Max degree of haters\n        'connection-density false',                 # Connection density of normals\n        'connection-density true',                  # Connection density of haters\n        'reciprocal-connections-percents false',    # Reciprocity of normals\n        'reciprocal-connections-percents true',     # Reciprocity of haters\n        'mean-follower-followee false',             # Follower/Followee of normals\n        'mean-follower-followee true',              # Follower/Followee of haters\n        'mean-following true false',                # Mean followers of normals\n        'mean-following true true',                 # Mean followers of haters\n        'mean-following false false',               # Mean followees of normals\n        'mean-following false true',                # Mean followees of haters\n        # 'mean-follow-prob true false',            # Mean following probabilities of hater to normal\n        'mean-follow-prob true true',               # Mean following probabilities of hater to hater\n        'mean-follow-prob false false',             # Mean following probabilities of normal to normal\n        # 'mean-follow-prob false true',            # Mean following probabilities of normal to hater\n        'connections-percents true false',          # Fraction of edges from haters to normals\n        'connections-percents false true',          # Fraction of edges from normals to haters\n        'percents-persons-with-degree false true 0',# Fraction of normals with out-degree 0\n        'percents-persons-with-degree false true 1',# Fraction of normals with out-degree 0\n        'percents-persons-with-degree true true 0', # Fraction of haters with out-degree 0\n        'percents-persons-with-degree true true 1', # Fraction of haters with out-degree 0\n        'percents-hateful-persons',                 # % of hateful users\n        'percents-hateful-posts',                   # % of hateful posts\n        'stddev-hate-score-dist',                   # StdDev of hate score distribution\n        'mean-hate-score',                          # Mean of hate score distribution\n        'reposts-by-haters',                        # Reposts by haters\n        'reposts-by-normals',                       # Reposts by normals\n        'mean-path-length false',                   # Mean post path length of normal posts\n        'mean-path-length true',                    # Mean post path length of hateful posts\n    ]]\n\n    df_swap = df.copy()\n    df = df[df['swap-to-hate'] != True]\n\n    df['percents-hateful-persons'] /= 100\n\n    # Compute ratio of connection densities\n    df['density'] = df['connection-density true'] / df['connection-density false']\n\n    # Compute ratio of NH / HN edges\n    df['connections'] = df['connections-percents false true'] / df['connections-percents true false']\n\n    # Compute ratio of max out-degrees\n    df['ratio-max-out-degrees'] = df[df['max-out-degree true'] > 0]['max-out-degree false'] / df[df['max-out-degree true'] > 0]['max-out-degree true']\n\n    df_all = df.groupby(['p_defer_hateful_post']).mean()\n\n    df_plot = df_all[[\n        'percents-hateful-persons',\n        'percents-hateful-posts',\n        'mean-hate-score',\n        'stddev-hate-score-dist',\n\n        'density',\n        'ratio-max-out-degrees',\n        'reciprocal-connections-percents false',\n        'reciprocal-connections-percents true',\n\n        'mean-following true false',\n        'mean-following true true',\n        'mean-following false false',\n        'mean-following false true',\n        'mean-follower-followee false',\n        'mean-follower-followee true',\n\n        'mean-path-length false',\n        'mean-path-length true',\n        'reposts-by-normals',\n        'reposts-by-haters',\n    ]]\n    df_plot.columns = [\n        'Fraction of hateful persons',\n        'Fraction of hateful posts',\n        'Mean of hate score distribution',\n        'StdDev of hate score distribution',\n\n        'Ratio network density H - N',\n        'Ratio max. followers of N - H',\n        'Reciprocity of normals',\n        'Reciprocity of haters',\n\n        'Mean followers of normals',\n        'Mean followers of haters',\n        'Mean followees of normals',\n        'Mean followees of hater',\n        'Mean follower-followee of normals',\n        'Mean follower-followee of haters',\n\n        'Mean path len normals',\n        'Mean path len haters',\n        'Reposts of normals',\n        'Reposts of haters',\n    ]\n    df_plot['Swap to hate'] = df_swap.groupby(['p_defer_hateful_post'])['swap-to-hate'].mean()\n\n\n    return df_plot",
   "execution_count": 2,
   "outputs": []
  },
  {
   "cell_type": "code",
   "metadata": {
    "collapsed": false,
    "pycharm": {
     "name": "#%%\n"
    },
    "cell_id": "00002-22691a08-7000-43ac-bcce-85a88b59f523",
    "deepnote_to_be_reexecuted": false,
    "source_hash": "7f407196",
    "execution_start": 1636144404568,
    "execution_millis": 0,
    "deepnote_cell_type": "code"
   },
   "source": "f_names = {\n    0: 'evaluation_csv/network_growth validate_counter_defer_0_1000-table.csv',\n    500: 'evaluation_csv/network_growth validate_counter_defer_500_1500-table.csv',\n    1000: 'evaluation_csv/network_growth validate_counter_defer_1000_2000-table.csv',\n    2000: 'evaluation_csv/network_growth validate_counter_defer_2000_3000-table.csv',\n    5000: 'evaluation_csv/network_growth validate_counter_defer_5000_6000-table.csv',\n    #10000: 'evaluation_csv/network_growth validate_counter_defer_10000_11000-table.csv',\n}\n\nkeep_values = [\n    0.1,\n    0.3,\n    0.5,\n    0.7,\n    0.9,\n]",
   "execution_count": 3,
   "outputs": []
  },
  {
   "cell_type": "code",
   "metadata": {
    "collapsed": false,
    "pycharm": {
     "name": "#%%\n"
    },
    "cell_id": "00003-5ac2e545-21c3-47c8-9df5-5fb5c08d2614",
    "deepnote_to_be_reexecuted": false,
    "source_hash": "a282b0e9",
    "execution_start": 1636144404569,
    "execution_millis": 1,
    "deepnote_cell_type": "code"
   },
   "source": "get_col = 'Fraction of hateful persons'\n# get_col = 'Fraction of hateful posts'\n# get_col = 'Mean of hate score distribution'\n# get_col = 'StdDev of hate score distribution'\n\n# get_col = 'Ratio network density H - N'\n# get_col = 'Ratio max. followers of N - H'\n# get_col = 'Reciprocity of normals'\n# get_col = 'Reciprocity of haters'\n\n# get_col = 'Mean followers of normals'\n# get_col = 'Mean followers of haters'\n# get_col = 'Mean followees of normals'\n# get_col = 'Mean followees of hater'\n# get_col = 'Mean follower-followee of normals'\n# get_col = 'Mean follower-followee of haters'\n\n# get_col = 'Mean path len normals'\n# get_col = 'Mean path len haters'\n# get_col = 'Swap to hate'",
   "execution_count": 4,
   "outputs": []
  },
  {
   "cell_type": "code",
   "metadata": {
    "collapsed": false,
    "pycharm": {
     "name": "#%%\n"
    },
    "cell_id": "00004-de0c4b63-3d04-49b3-8edf-e4a504a5de90",
    "deepnote_to_be_reexecuted": false,
    "source_hash": "9940715",
    "execution_start": 1636144404570,
    "execution_millis": 261,
    "deepnote_cell_type": "code"
   },
   "source": "df_collect = pd.DataFrame(columns=['p_defer_hateful_post', *list(f_names.keys())])\ndf_collect.p_defer_hateful_post = keep_values\n\nfor f_k in f_names.keys():\n    df = eval_one(f_names[f_k])\n\n    df = df.reset_index()\n    df_new = pd.DataFrame()\n    for i in keep_values:\n        df_extract = df[df.p_defer_hateful_post == i]\n        df_new = df_new.append(df_extract)\n\n    df_collect.loc[:, f_k] = list(df_new[get_col])\n\ndf_collect.to_csv('summary_counter_defer_' + get_col + '.csv', index=False)\ndf_collect",
   "execution_count": 5,
   "outputs": [
    {
     "name": "stderr",
     "text": "/shared-libs/python3.7/py-core/lib/python3.7/site-packages/ipykernel_launcher.py:103: SettingWithCopyWarning: \nA value is trying to be set on a copy of a slice from a DataFrame.\nTry using .loc[row_indexer,col_indexer] = value instead\n\nSee the caveats in the documentation: https://pandas.pydata.org/pandas-docs/stable/user_guide/indexing.html#returning-a-view-versus-a-copy\n/shared-libs/python3.7/py-core/lib/python3.7/site-packages/ipykernel_launcher.py:103: SettingWithCopyWarning: \nA value is trying to be set on a copy of a slice from a DataFrame.\nTry using .loc[row_indexer,col_indexer] = value instead\n\nSee the caveats in the documentation: https://pandas.pydata.org/pandas-docs/stable/user_guide/indexing.html#returning-a-view-versus-a-copy\n/shared-libs/python3.7/py-core/lib/python3.7/site-packages/ipykernel_launcher.py:103: SettingWithCopyWarning: \nA value is trying to be set on a copy of a slice from a DataFrame.\nTry using .loc[row_indexer,col_indexer] = value instead\n\nSee the caveats in the documentation: https://pandas.pydata.org/pandas-docs/stable/user_guide/indexing.html#returning-a-view-versus-a-copy\n/shared-libs/python3.7/py-core/lib/python3.7/site-packages/ipykernel_launcher.py:103: SettingWithCopyWarning: \nA value is trying to be set on a copy of a slice from a DataFrame.\nTry using .loc[row_indexer,col_indexer] = value instead\n\nSee the caveats in the documentation: https://pandas.pydata.org/pandas-docs/stable/user_guide/indexing.html#returning-a-view-versus-a-copy\n/shared-libs/python3.7/py-core/lib/python3.7/site-packages/ipykernel_launcher.py:103: SettingWithCopyWarning: \nA value is trying to be set on a copy of a slice from a DataFrame.\nTry using .loc[row_indexer,col_indexer] = value instead\n\nSee the caveats in the documentation: https://pandas.pydata.org/pandas-docs/stable/user_guide/indexing.html#returning-a-view-versus-a-copy\n",
     "output_type": "stream"
    },
    {
     "output_type": "execute_result",
     "execution_count": 5,
     "data": {
      "application/vnd.deepnote.dataframe.v2+json": {
       "row_count": 5,
       "column_count": 6,
       "columns": [
        {
         "name": "p_defer_hateful_post",
         "dtype": "float64",
         "stats": {
          "unique_count": 5,
          "nan_count": 0,
          "min": "0.1",
          "max": "0.9",
          "histogram": [
           {
            "bin_start": 0.1,
            "bin_end": 0.18,
            "count": 1
           },
           {
            "bin_start": 0.18,
            "bin_end": 0.26,
            "count": 0
           },
           {
            "bin_start": 0.26,
            "bin_end": 0.33999999999999997,
            "count": 1
           },
           {
            "bin_start": 0.33999999999999997,
            "bin_end": 0.42000000000000004,
            "count": 0
           },
           {
            "bin_start": 0.42000000000000004,
            "bin_end": 0.5,
            "count": 0
           },
           {
            "bin_start": 0.5,
            "bin_end": 0.58,
            "count": 1
           },
           {
            "bin_start": 0.58,
            "bin_end": 0.66,
            "count": 0
           },
           {
            "bin_start": 0.66,
            "bin_end": 0.74,
            "count": 1
           },
           {
            "bin_start": 0.74,
            "bin_end": 0.82,
            "count": 0
           },
           {
            "bin_start": 0.82,
            "bin_end": 0.9,
            "count": 1
           }
          ]
         }
        },
        {
         "name": 0,
         "dtype": "float64",
         "stats": {
          "unique_count": 5,
          "nan_count": 0,
          "min": "0.017918367346938767",
          "max": "0.02698979591836734",
          "histogram": [
           {
            "bin_start": 0.017918367346938767,
            "bin_end": 0.018825510204081623,
            "count": 1
           },
           {
            "bin_start": 0.018825510204081623,
            "bin_end": 0.019732653061224483,
            "count": 1
           },
           {
            "bin_start": 0.019732653061224483,
            "bin_end": 0.02063979591836734,
            "count": 0
           },
           {
            "bin_start": 0.02063979591836734,
            "bin_end": 0.021546938775510196,
            "count": 1
           },
           {
            "bin_start": 0.021546938775510196,
            "bin_end": 0.022454081632653056,
            "count": 0
           },
           {
            "bin_start": 0.022454081632653056,
            "bin_end": 0.023361224489795912,
            "count": 1
           },
           {
            "bin_start": 0.023361224489795912,
            "bin_end": 0.02426836734693877,
            "count": 0
           },
           {
            "bin_start": 0.02426836734693877,
            "bin_end": 0.025175510204081625,
            "count": 0
           },
           {
            "bin_start": 0.025175510204081625,
            "bin_end": 0.026082653061224485,
            "count": 0
           },
           {
            "bin_start": 0.026082653061224485,
            "bin_end": 0.02698979591836734,
            "count": 1
           }
          ]
         }
        },
        {
         "name": 500,
         "dtype": "float64",
         "stats": {
          "unique_count": 5,
          "nan_count": 0,
          "min": "0.019840000000000003",
          "max": "0.03596787148594378",
          "histogram": [
           {
            "bin_start": 0.019840000000000003,
            "bin_end": 0.02145278714859438,
            "count": 1
           },
           {
            "bin_start": 0.02145278714859438,
            "bin_end": 0.023065574297188758,
            "count": 2
           },
           {
            "bin_start": 0.023065574297188758,
            "bin_end": 0.024678361445783135,
            "count": 0
           },
           {
            "bin_start": 0.024678361445783135,
            "bin_end": 0.026291148594377513,
            "count": 1
           },
           {
            "bin_start": 0.026291148594377513,
            "bin_end": 0.02790393574297189,
            "count": 0
           },
           {
            "bin_start": 0.02790393574297189,
            "bin_end": 0.029516722891566267,
            "count": 0
           },
           {
            "bin_start": 0.029516722891566267,
            "bin_end": 0.031129510040160645,
            "count": 0
           },
           {
            "bin_start": 0.031129510040160645,
            "bin_end": 0.03274229718875502,
            "count": 0
           },
           {
            "bin_start": 0.03274229718875502,
            "bin_end": 0.0343550843373494,
            "count": 0
           },
           {
            "bin_start": 0.0343550843373494,
            "bin_end": 0.03596787148594378,
            "count": 1
           }
          ]
         }
        },
        {
         "name": 1000,
         "dtype": "float64",
         "stats": {
          "unique_count": 5,
          "nan_count": 0,
          "min": "0.02493491124260355",
          "max": "0.03567229729729728",
          "histogram": [
           {
            "bin_start": 0.02493491124260355,
            "bin_end": 0.026008649848072923,
            "count": 1
           },
           {
            "bin_start": 0.026008649848072923,
            "bin_end": 0.027082388453542296,
            "count": 1
           },
           {
            "bin_start": 0.027082388453542296,
            "bin_end": 0.02815612705901167,
            "count": 0
           },
           {
            "bin_start": 0.02815612705901167,
            "bin_end": 0.02922986566448104,
            "count": 0
           },
           {
            "bin_start": 0.02922986566448104,
            "bin_end": 0.030303604269950414,
            "count": 0
           },
           {
            "bin_start": 0.030303604269950414,
            "bin_end": 0.03137734287541979,
            "count": 0
           },
           {
            "bin_start": 0.03137734287541979,
            "bin_end": 0.03245108148088916,
            "count": 0
           },
           {
            "bin_start": 0.03245108148088916,
            "bin_end": 0.033524820086358535,
            "count": 2
           },
           {
            "bin_start": 0.033524820086358535,
            "bin_end": 0.03459855869182791,
            "count": 0
           },
           {
            "bin_start": 0.03459855869182791,
            "bin_end": 0.03567229729729728,
            "count": 1
           }
          ]
         }
        },
        {
         "name": 2000,
         "dtype": "float64",
         "stats": {
          "unique_count": 5,
          "nan_count": 0,
          "min": "0.029053333333333323",
          "max": "0.04710964912280703",
          "histogram": [
           {
            "bin_start": 0.029053333333333323,
            "bin_end": 0.030858964912280695,
            "count": 1
           },
           {
            "bin_start": 0.030858964912280695,
            "bin_end": 0.03266459649122806,
            "count": 0
           },
           {
            "bin_start": 0.03266459649122806,
            "bin_end": 0.034470228070175433,
            "count": 0
           },
           {
            "bin_start": 0.034470228070175433,
            "bin_end": 0.036275859649122805,
            "count": 0
           },
           {
            "bin_start": 0.036275859649122805,
            "bin_end": 0.038081491228070176,
            "count": 1
           },
           {
            "bin_start": 0.038081491228070176,
            "bin_end": 0.03988712280701755,
            "count": 1
           },
           {
            "bin_start": 0.03988712280701755,
            "bin_end": 0.04169275438596492,
            "count": 0
           },
           {
            "bin_start": 0.04169275438596492,
            "bin_end": 0.04349838596491229,
            "count": 0
           },
           {
            "bin_start": 0.04349838596491229,
            "bin_end": 0.04530401754385966,
            "count": 0
           },
           {
            "bin_start": 0.04530401754385966,
            "bin_end": 0.04710964912280703,
            "count": 2
           }
          ]
         }
        },
        {
         "name": 5000,
         "dtype": "float64",
         "stats": {
          "unique_count": 5,
          "nan_count": 0,
          "min": "0.03858833333333333",
          "max": "0.07369318181818184",
          "histogram": [
           {
            "bin_start": 0.03858833333333333,
            "bin_end": 0.04209881818181818,
            "count": 1
           },
           {
            "bin_start": 0.04209881818181818,
            "bin_end": 0.04560930303030303,
            "count": 0
           },
           {
            "bin_start": 0.04560930303030303,
            "bin_end": 0.04911978787878788,
            "count": 0
           },
           {
            "bin_start": 0.04911978787878788,
            "bin_end": 0.052630272727272734,
            "count": 1
           },
           {
            "bin_start": 0.052630272727272734,
            "bin_end": 0.05614075757575758,
            "count": 0
           },
           {
            "bin_start": 0.05614075757575758,
            "bin_end": 0.05965124242424243,
            "count": 0
           },
           {
            "bin_start": 0.05965124242424243,
            "bin_end": 0.06316172727272729,
            "count": 1
           },
           {
            "bin_start": 0.06316172727272729,
            "bin_end": 0.06667221212121213,
            "count": 0
           },
           {
            "bin_start": 0.06667221212121213,
            "bin_end": 0.07018269696969698,
            "count": 1
           },
           {
            "bin_start": 0.07018269696969698,
            "bin_end": 0.07369318181818184,
            "count": 1
           }
          ]
         }
        },
        {
         "name": "_deepnote_index_column",
         "dtype": "int64"
        }
       ],
       "rows_top": [
        {
         "0": 0.02698979591836734,
         "500": 0.03596787148594378,
         "1000": 0.03344252873563218,
         "2000": 0.04710964912280703,
         "5000": 0.06813541666666667,
         "p_defer_hateful_post": 0.1,
         "_deepnote_index_column": 0
        },
        {
         "0": 0.022677083333333323,
         "500": 0.026234042553191502,
         "1000": 0.03567229729729728,
         "2000": 0.0398032128514056,
         "5000": 0.07369318181818184,
         "p_defer_hateful_post": 0.3,
         "_deepnote_index_column": 1
        },
        {
         "0": 0.02118181818181817,
         "500": 0.022201388888888892,
         "1000": 0.0330691489361702,
         "2000": 0.0454561403508772,
         "5000": 0.060105363984674365,
         "p_defer_hateful_post": 0.5,
         "_deepnote_index_column": 2
        },
        {
         "0": 0.01935714285714284,
         "500": 0.022560000000000004,
         "1000": 0.026593749999999996,
         "2000": 0.03774035087719298,
         "5000": 0.052205782312925185,
         "p_defer_hateful_post": 0.7,
         "_deepnote_index_column": 3
        },
        {
         "0": 0.017918367346938767,
         "500": 0.019840000000000003,
         "1000": 0.02493491124260355,
         "2000": 0.029053333333333323,
         "5000": 0.03858833333333333,
         "p_defer_hateful_post": 0.9,
         "_deepnote_index_column": 4
        }
       ],
       "rows_bottom": null
      },
      "text/plain": "   p_defer_hateful_post         0       500      1000      2000      5000\n0                   0.1  0.026990  0.035968  0.033443  0.047110  0.068135\n1                   0.3  0.022677  0.026234  0.035672  0.039803  0.073693\n2                   0.5  0.021182  0.022201  0.033069  0.045456  0.060105\n3                   0.7  0.019357  0.022560  0.026594  0.037740  0.052206\n4                   0.9  0.017918  0.019840  0.024935  0.029053  0.038588",
      "text/html": "<div>\n<style scoped>\n    .dataframe tbody tr th:only-of-type {\n        vertical-align: middle;\n    }\n\n    .dataframe tbody tr th {\n        vertical-align: top;\n    }\n\n    .dataframe thead th {\n        text-align: right;\n    }\n</style>\n<table border=\"1\" class=\"dataframe\">\n  <thead>\n    <tr style=\"text-align: right;\">\n      <th></th>\n      <th>p_defer_hateful_post</th>\n      <th>0</th>\n      <th>500</th>\n      <th>1000</th>\n      <th>2000</th>\n      <th>5000</th>\n    </tr>\n  </thead>\n  <tbody>\n    <tr>\n      <th>0</th>\n      <td>0.1</td>\n      <td>0.026990</td>\n      <td>0.035968</td>\n      <td>0.033443</td>\n      <td>0.047110</td>\n      <td>0.068135</td>\n    </tr>\n    <tr>\n      <th>1</th>\n      <td>0.3</td>\n      <td>0.022677</td>\n      <td>0.026234</td>\n      <td>0.035672</td>\n      <td>0.039803</td>\n      <td>0.073693</td>\n    </tr>\n    <tr>\n      <th>2</th>\n      <td>0.5</td>\n      <td>0.021182</td>\n      <td>0.022201</td>\n      <td>0.033069</td>\n      <td>0.045456</td>\n      <td>0.060105</td>\n    </tr>\n    <tr>\n      <th>3</th>\n      <td>0.7</td>\n      <td>0.019357</td>\n      <td>0.022560</td>\n      <td>0.026594</td>\n      <td>0.037740</td>\n      <td>0.052206</td>\n    </tr>\n    <tr>\n      <th>4</th>\n      <td>0.9</td>\n      <td>0.017918</td>\n      <td>0.019840</td>\n      <td>0.024935</td>\n      <td>0.029053</td>\n      <td>0.038588</td>\n    </tr>\n  </tbody>\n</table>\n</div>"
     },
     "metadata": {}
    }
   ]
  },
  {
   "cell_type": "code",
   "metadata": {
    "collapsed": false,
    "pycharm": {
     "name": "#%%"
    },
    "cell_id": "00005-b1bcd827-6093-47c1-9139-1379af13e1a1",
    "deepnote_to_be_reexecuted": false,
    "source_hash": "b623e53d",
    "execution_start": 1636144404836,
    "execution_millis": 7,
    "deepnote_cell_type": "code"
   },
   "source": "",
   "execution_count": 5,
   "outputs": []
  },
  {
   "cell_type": "markdown",
   "source": "<a style='text-decoration:none;line-height:16px;display:flex;color:#5B5B62;padding:10px;justify-content:end;' href='https://deepnote.com?utm_source=created-in-deepnote-cell&projectId=76a22323-d43c-4823-9752-036f6744cf38' target=\"_blank\">\n<img alt='Created in deepnote.com' style='display:inline;max-height:16px;margin:0px;margin-right:7.5px;' src='data:image/svg+xml;base64,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' > </img>\nCreated in <span style='font-weight:600;margin-left:4px;'>Deepnote</span></a>",
   "metadata": {
    "tags": [],
    "created_in_deepnote_cell": true,
    "deepnote_cell_type": "markdown"
   }
  }
 ],
 "nbformat": 4,
 "nbformat_minor": 2,
 "metadata": {
  "kernelspec": {
   "name": "pycharm-19907461",
   "language": "python",
   "display_name": "PyCharm (thesis)"
  },
  "language_info": {
   "codemirror_mode": {
    "name": "ipython",
    "version": 3
   },
   "file_extension": ".py",
   "mimetype": "text/x-python",
   "name": "python",
   "nbconvert_exporter": "python",
   "pygments_lexer": "ipython3",
   "version": "3.8.3"
  },
  "deepnote_notebook_id": "fc27c677-ad9a-4857-a94d-e271012c19d8",
  "deepnote": {},
  "deepnote_execution_queue": []
 }
}