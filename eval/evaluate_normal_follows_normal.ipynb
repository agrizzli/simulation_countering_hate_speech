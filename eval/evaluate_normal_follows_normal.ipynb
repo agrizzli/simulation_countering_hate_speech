{
 "cells": [
  {
   "cell_type": "code",
   "metadata": {
    "cell_id": "00000-59f51f80-e735-45f9-a82d-48dcb302f272",
    "deepnote_to_be_reexecuted": false,
    "source_hash": "456c4e13",
    "execution_start": 1636144430762,
    "execution_millis": 2218,
    "deepnote_cell_type": "code"
   },
   "source": "import numpy as np\nimport pandas as pd\nimport seaborn as sns",
   "execution_count": 1,
   "outputs": []
  },
  {
   "cell_type": "code",
   "metadata": {
    "cell_id": "00001-eda78607-6dc1-48cd-9dfb-7c67ee5fd1d6",
    "deepnote_to_be_reexecuted": false,
    "source_hash": "35b1f45b",
    "execution_start": 1636144432981,
    "execution_millis": 3698,
    "deepnote_cell_type": "code"
   },
   "source": "f_name = 'evaluation_csv/network_growth high_hater_follow_probs_and_normal_follows_normal-->num_haters-table.csv'\n\ndf_raw = pd.read_csv(f_name, skiprows=6)\ndf = df_raw[[\n    '[run number]',\n    '[step]',\n    'p_normal_follows_normal',\n    'hateful-node-percents',\n    'plot-smoothed-mean-path-length true',\n    'plot-smoothed-num-posts true',\n    'swap-to-hate',\n]]\ndf.loc[:, 'p_normal_follows_hater'] = df.apply(lambda row: 1 - row['p_normal_follows_normal'], axis=1)\ndf['polarisation-factor'] = False\ndf = df.sort_values(by=[\n    '[run number]',\n    '[step]',\n    'p_normal_follows_hater',\n])",
   "execution_count": 2,
   "outputs": [
    {
     "name": "stderr",
     "text": "/shared-libs/python3.7/py/lib/python3.7/site-packages/pandas/core/indexing.py:1597: SettingWithCopyWarning: \nA value is trying to be set on a copy of a slice from a DataFrame.\nTry using .loc[row_indexer,col_indexer] = value instead\n\nSee the caveats in the documentation: https://pandas.pydata.org/pandas-docs/stable/user_guide/indexing.html#returning-a-view-versus-a-copy\n  self.obj[key] = value\n/shared-libs/python3.7/py/lib/python3.7/site-packages/pandas/core/indexing.py:1676: SettingWithCopyWarning: \nA value is trying to be set on a copy of a slice from a DataFrame.\nTry using .loc[row_indexer,col_indexer] = value instead\n\nSee the caveats in the documentation: https://pandas.pydata.org/pandas-docs/stable/user_guide/indexing.html#returning-a-view-versus-a-copy\n  self._setitem_single_column(ilocs[0], value, pi)\n/shared-libs/python3.7/py-core/lib/python3.7/site-packages/ipykernel_launcher.py:14: SettingWithCopyWarning: \nA value is trying to be set on a copy of a slice from a DataFrame.\nTry using .loc[row_indexer,col_indexer] = value instead\n\nSee the caveats in the documentation: https://pandas.pydata.org/pandas-docs/stable/user_guide/indexing.html#returning-a-view-versus-a-copy\n  \n",
     "output_type": "stream"
    }
   ]
  },
  {
   "cell_type": "code",
   "metadata": {
    "cell_id": "00002-646c10bd-8649-4146-abfc-72c54d52ff20",
    "deepnote_to_be_reexecuted": false,
    "source_hash": "786d0f53",
    "execution_start": 1636144436686,
    "execution_millis": 18,
    "deepnote_cell_type": "code"
   },
   "source": "df.dtypes\ndf.info()",
   "execution_count": 3,
   "outputs": [
    {
     "name": "stdout",
     "text": "<class 'pandas.core.frame.DataFrame'>\nInt64Index: 198400 entries, 9 to 198399\nData columns (total 9 columns):\n #   Column                               Non-Null Count   Dtype  \n---  ------                               --------------   -----  \n 0   [run number]                         198400 non-null  int64  \n 1   [step]                               198400 non-null  int64  \n 2   p_normal_follows_normal              198400 non-null  float64\n 3   hateful-node-percents                198400 non-null  float64\n 4   plot-smoothed-mean-path-length true  198400 non-null  float64\n 5   plot-smoothed-num-posts true         198400 non-null  float64\n 6   swap-to-hate                         198400 non-null  bool   \n 7   p_normal_follows_hater               198400 non-null  float64\n 8   polarisation-factor                  198400 non-null  bool   \ndtypes: bool(2), float64(5), int64(2)\nmemory usage: 12.5 MB\n",
     "output_type": "stream"
    }
   ]
  },
  {
   "cell_type": "code",
   "metadata": {
    "cell_id": "00003-f901b166-14e7-481d-a3a6-8a4aa4088f69",
    "deepnote_to_be_reexecuted": false,
    "source_hash": "68902f3e",
    "execution_start": 1636144436710,
    "execution_millis": 78,
    "deepnote_cell_type": "code"
   },
   "source": "# pd.options.display.max_rows = 100\ndf",
   "execution_count": 4,
   "outputs": [
    {
     "output_type": "execute_result",
     "execution_count": 4,
     "data": {
      "application/vnd.deepnote.dataframe.v2+json": {
       "row_count": 198400,
       "column_count": 9,
       "columns": [
        {
         "name": "[run number]",
         "dtype": "int64"
        },
        {
         "name": "[step]",
         "dtype": "int64"
        },
        {
         "name": "p_normal_follows_normal",
         "dtype": "float64"
        },
        {
         "name": "hateful-node-percents",
         "dtype": "float64"
        },
        {
         "name": "plot-smoothed-mean-path-length true",
         "dtype": "float64"
        },
        {
         "name": "plot-smoothed-num-posts true",
         "dtype": "float64"
        },
        {
         "name": "swap-to-hate",
         "dtype": "bool"
        },
        {
         "name": "p_normal_follows_hater",
         "dtype": "float64"
        },
        {
         "name": "polarisation-factor",
         "dtype": "bool"
        },
        {
         "name": "_deepnote_index_column",
         "dtype": "int64"
        }
       ],
       "rows_top": [
        {
         "[run number]": 1,
         "[step]": 0,
         "p_normal_follows_normal": 0.8,
         "hateful-node-percents": 0,
         "plot-smoothed-mean-path-length true": 0,
         "plot-smoothed-num-posts true": 0,
         "swap-to-hate": "False",
         "p_normal_follows_hater": 0.19999999999999996,
         "polarisation-factor": "False",
         "_deepnote_index_column": 9
        },
        {
         "[run number]": 1,
         "[step]": 1,
         "p_normal_follows_normal": 0.8,
         "hateful-node-percents": 0,
         "plot-smoothed-mean-path-length true": 0,
         "plot-smoothed-num-posts true": 0,
         "swap-to-hate": "False",
         "p_normal_follows_hater": 0.19999999999999996,
         "polarisation-factor": "False",
         "_deepnote_index_column": 91
        },
        {
         "[run number]": 1,
         "[step]": 2,
         "p_normal_follows_normal": 0.8,
         "hateful-node-percents": 0,
         "plot-smoothed-mean-path-length true": 0,
         "plot-smoothed-num-posts true": 0,
         "swap-to-hate": "False",
         "p_normal_follows_hater": 0.19999999999999996,
         "polarisation-factor": "False",
         "_deepnote_index_column": 103
        },
        {
         "[run number]": 1,
         "[step]": 3,
         "p_normal_follows_normal": 0.8,
         "hateful-node-percents": 0,
         "plot-smoothed-mean-path-length true": 0,
         "plot-smoothed-num-posts true": 0,
         "swap-to-hate": "False",
         "p_normal_follows_hater": 0.19999999999999996,
         "polarisation-factor": "False",
         "_deepnote_index_column": 111
        },
        {
         "[run number]": 1,
         "[step]": 4,
         "p_normal_follows_normal": 0.8,
         "hateful-node-percents": 0,
         "plot-smoothed-mean-path-length true": 0,
         "plot-smoothed-num-posts true": 0,
         "swap-to-hate": "False",
         "p_normal_follows_hater": 0.19999999999999996,
         "polarisation-factor": "False",
         "_deepnote_index_column": 115
        },
        {
         "[run number]": 1,
         "[step]": 5,
         "p_normal_follows_normal": 0.8,
         "hateful-node-percents": 0,
         "plot-smoothed-mean-path-length true": 0,
         "plot-smoothed-num-posts true": 0,
         "swap-to-hate": "False",
         "p_normal_follows_hater": 0.19999999999999996,
         "polarisation-factor": "False",
         "_deepnote_index_column": 122
        },
        {
         "[run number]": 1,
         "[step]": 6,
         "p_normal_follows_normal": 0.8,
         "hateful-node-percents": 0,
         "plot-smoothed-mean-path-length true": 0,
         "plot-smoothed-num-posts true": 0,
         "swap-to-hate": "False",
         "p_normal_follows_hater": 0.19999999999999996,
         "polarisation-factor": "False",
         "_deepnote_index_column": 129
        },
        {
         "[run number]": 1,
         "[step]": 7,
         "p_normal_follows_normal": 0.8,
         "hateful-node-percents": 0,
         "plot-smoothed-mean-path-length true": 0,
         "plot-smoothed-num-posts true": 0,
         "swap-to-hate": "False",
         "p_normal_follows_hater": 0.19999999999999996,
         "polarisation-factor": "False",
         "_deepnote_index_column": 136
        },
        {
         "[run number]": 1,
         "[step]": 8,
         "p_normal_follows_normal": 0.8,
         "hateful-node-percents": 0,
         "plot-smoothed-mean-path-length true": 0,
         "plot-smoothed-num-posts true": 0,
         "swap-to-hate": "False",
         "p_normal_follows_hater": 0.19999999999999996,
         "polarisation-factor": "False",
         "_deepnote_index_column": 148
        },
        {
         "[run number]": 1,
         "[step]": 9,
         "p_normal_follows_normal": 0.8,
         "hateful-node-percents": 0,
         "plot-smoothed-mean-path-length true": 0,
         "plot-smoothed-num-posts true": 0,
         "swap-to-hate": "False",
         "p_normal_follows_hater": 0.19999999999999996,
         "polarisation-factor": "False",
         "_deepnote_index_column": 156
        },
        {
         "[run number]": 1,
         "[step]": 10,
         "p_normal_follows_normal": 0.8,
         "hateful-node-percents": 0,
         "plot-smoothed-mean-path-length true": 0,
         "plot-smoothed-num-posts true": 0,
         "swap-to-hate": "False",
         "p_normal_follows_hater": 0.19999999999999996,
         "polarisation-factor": "False",
         "_deepnote_index_column": 162
        },
        {
         "[run number]": 1,
         "[step]": 11,
         "p_normal_follows_normal": 0.8,
         "hateful-node-percents": 0,
         "plot-smoothed-mean-path-length true": 0,
         "plot-smoothed-num-posts true": 0,
         "swap-to-hate": "False",
         "p_normal_follows_hater": 0.19999999999999996,
         "polarisation-factor": "False",
         "_deepnote_index_column": 167
        },
        {
         "[run number]": 1,
         "[step]": 12,
         "p_normal_follows_normal": 0.8,
         "hateful-node-percents": 0,
         "plot-smoothed-mean-path-length true": 0,
         "plot-smoothed-num-posts true": 0,
         "swap-to-hate": "False",
         "p_normal_follows_hater": 0.19999999999999996,
         "polarisation-factor": "False",
         "_deepnote_index_column": 175
        },
        {
         "[run number]": 1,
         "[step]": 13,
         "p_normal_follows_normal": 0.8,
         "hateful-node-percents": 0,
         "plot-smoothed-mean-path-length true": 0,
         "plot-smoothed-num-posts true": 0,
         "swap-to-hate": "False",
         "p_normal_follows_hater": 0.19999999999999996,
         "polarisation-factor": "False",
         "_deepnote_index_column": 184
        },
        {
         "[run number]": 1,
         "[step]": 14,
         "p_normal_follows_normal": 0.8,
         "hateful-node-percents": 0,
         "plot-smoothed-mean-path-length true": 0,
         "plot-smoothed-num-posts true": 0,
         "swap-to-hate": "False",
         "p_normal_follows_hater": 0.19999999999999996,
         "polarisation-factor": "False",
         "_deepnote_index_column": 191
        },
        {
         "[run number]": 1,
         "[step]": 15,
         "p_normal_follows_normal": 0.8,
         "hateful-node-percents": 0,
         "plot-smoothed-mean-path-length true": 0,
         "plot-smoothed-num-posts true": 0,
         "swap-to-hate": "False",
         "p_normal_follows_hater": 0.19999999999999996,
         "polarisation-factor": "False",
         "_deepnote_index_column": 199
        },
        {
         "[run number]": 1,
         "[step]": 16,
         "p_normal_follows_normal": 0.8,
         "hateful-node-percents": 0,
         "plot-smoothed-mean-path-length true": 0,
         "plot-smoothed-num-posts true": 0,
         "swap-to-hate": "False",
         "p_normal_follows_hater": 0.19999999999999996,
         "polarisation-factor": "False",
         "_deepnote_index_column": 206
        },
        {
         "[run number]": 1,
         "[step]": 17,
         "p_normal_follows_normal": 0.8,
         "hateful-node-percents": 0,
         "plot-smoothed-mean-path-length true": 0,
         "plot-smoothed-num-posts true": 0,
         "swap-to-hate": "False",
         "p_normal_follows_hater": 0.19999999999999996,
         "polarisation-factor": "False",
         "_deepnote_index_column": 214
        },
        {
         "[run number]": 1,
         "[step]": 18,
         "p_normal_follows_normal": 0.8,
         "hateful-node-percents": 0,
         "plot-smoothed-mean-path-length true": 0,
         "plot-smoothed-num-posts true": 0,
         "swap-to-hate": "False",
         "p_normal_follows_hater": 0.19999999999999996,
         "polarisation-factor": "False",
         "_deepnote_index_column": 217
        },
        {
         "[run number]": 1,
         "[step]": 19,
         "p_normal_follows_normal": 0.8,
         "hateful-node-percents": 0,
         "plot-smoothed-mean-path-length true": 0,
         "plot-smoothed-num-posts true": 0,
         "swap-to-hate": "False",
         "p_normal_follows_hater": 0.19999999999999996,
         "polarisation-factor": "False",
         "_deepnote_index_column": 225
        },
        {
         "[run number]": 1,
         "[step]": 20,
         "p_normal_follows_normal": 0.8,
         "hateful-node-percents": 0,
         "plot-smoothed-mean-path-length true": 0,
         "plot-smoothed-num-posts true": 0,
         "swap-to-hate": "False",
         "p_normal_follows_hater": 0.19999999999999996,
         "polarisation-factor": "False",
         "_deepnote_index_column": 235
        },
        {
         "[run number]": 1,
         "[step]": 21,
         "p_normal_follows_normal": 0.8,
         "hateful-node-percents": 0,
         "plot-smoothed-mean-path-length true": 0,
         "plot-smoothed-num-posts true": 0,
         "swap-to-hate": "False",
         "p_normal_follows_hater": 0.19999999999999996,
         "polarisation-factor": "False",
         "_deepnote_index_column": 246
        },
        {
         "[run number]": 1,
         "[step]": 22,
         "p_normal_follows_normal": 0.8,
         "hateful-node-percents": 0,
         "plot-smoothed-mean-path-length true": 0,
         "plot-smoothed-num-posts true": 0,
         "swap-to-hate": "False",
         "p_normal_follows_hater": 0.19999999999999996,
         "polarisation-factor": "False",
         "_deepnote_index_column": 255
        },
        {
         "[run number]": 1,
         "[step]": 23,
         "p_normal_follows_normal": 0.8,
         "hateful-node-percents": 0,
         "plot-smoothed-mean-path-length true": 0,
         "plot-smoothed-num-posts true": 0,
         "swap-to-hate": "False",
         "p_normal_follows_hater": 0.19999999999999996,
         "polarisation-factor": "False",
         "_deepnote_index_column": 262
        },
        {
         "[run number]": 1,
         "[step]": 24,
         "p_normal_follows_normal": 0.8,
         "hateful-node-percents": 0,
         "plot-smoothed-mean-path-length true": 0,
         "plot-smoothed-num-posts true": 0,
         "swap-to-hate": "False",
         "p_normal_follows_hater": 0.19999999999999996,
         "polarisation-factor": "False",
         "_deepnote_index_column": 273
        },
        {
         "[run number]": 1,
         "[step]": 25,
         "p_normal_follows_normal": 0.8,
         "hateful-node-percents": 0,
         "plot-smoothed-mean-path-length true": 0,
         "plot-smoothed-num-posts true": 0,
         "swap-to-hate": "False",
         "p_normal_follows_hater": 0.19999999999999996,
         "polarisation-factor": "False",
         "_deepnote_index_column": 280
        },
        {
         "[run number]": 1,
         "[step]": 26,
         "p_normal_follows_normal": 0.8,
         "hateful-node-percents": 0,
         "plot-smoothed-mean-path-length true": 0,
         "plot-smoothed-num-posts true": 0,
         "swap-to-hate": "False",
         "p_normal_follows_hater": 0.19999999999999996,
         "polarisation-factor": "False",
         "_deepnote_index_column": 289
        },
        {
         "[run number]": 1,
         "[step]": 27,
         "p_normal_follows_normal": 0.8,
         "hateful-node-percents": 0,
         "plot-smoothed-mean-path-length true": 0,
         "plot-smoothed-num-posts true": 0,
         "swap-to-hate": "False",
         "p_normal_follows_hater": 0.19999999999999996,
         "polarisation-factor": "False",
         "_deepnote_index_column": 297
        },
        {
         "[run number]": 1,
         "[step]": 28,
         "p_normal_follows_normal": 0.8,
         "hateful-node-percents": 0,
         "plot-smoothed-mean-path-length true": 0,
         "plot-smoothed-num-posts true": 0,
         "swap-to-hate": "False",
         "p_normal_follows_hater": 0.19999999999999996,
         "polarisation-factor": "False",
         "_deepnote_index_column": 306
        },
        {
         "[run number]": 1,
         "[step]": 29,
         "p_normal_follows_normal": 0.8,
         "hateful-node-percents": 0,
         "plot-smoothed-mean-path-length true": 0,
         "plot-smoothed-num-posts true": 0,
         "swap-to-hate": "False",
         "p_normal_follows_hater": 0.19999999999999996,
         "polarisation-factor": "False",
         "_deepnote_index_column": 317
        },
        {
         "[run number]": 1,
         "[step]": 30,
         "p_normal_follows_normal": 0.8,
         "hateful-node-percents": 0,
         "plot-smoothed-mean-path-length true": 0,
         "plot-smoothed-num-posts true": 0,
         "swap-to-hate": "False",
         "p_normal_follows_hater": 0.19999999999999996,
         "polarisation-factor": "False",
         "_deepnote_index_column": 327
        },
        {
         "[run number]": 1,
         "[step]": 31,
         "p_normal_follows_normal": 0.8,
         "hateful-node-percents": 0,
         "plot-smoothed-mean-path-length true": 0,
         "plot-smoothed-num-posts true": 0,
         "swap-to-hate": "False",
         "p_normal_follows_hater": 0.19999999999999996,
         "polarisation-factor": "False",
         "_deepnote_index_column": 335
        },
        {
         "[run number]": 1,
         "[step]": 32,
         "p_normal_follows_normal": 0.8,
         "hateful-node-percents": 0,
         "plot-smoothed-mean-path-length true": 0,
         "plot-smoothed-num-posts true": 0,
         "swap-to-hate": "False",
         "p_normal_follows_hater": 0.19999999999999996,
         "polarisation-factor": "False",
         "_deepnote_index_column": 345
        },
        {
         "[run number]": 1,
         "[step]": 33,
         "p_normal_follows_normal": 0.8,
         "hateful-node-percents": 0,
         "plot-smoothed-mean-path-length true": 0,
         "plot-smoothed-num-posts true": 0,
         "swap-to-hate": "False",
         "p_normal_follows_hater": 0.19999999999999996,
         "polarisation-factor": "False",
         "_deepnote_index_column": 364
        },
        {
         "[run number]": 1,
         "[step]": 34,
         "p_normal_follows_normal": 0.8,
         "hateful-node-percents": 0,
         "plot-smoothed-mean-path-length true": 0,
         "plot-smoothed-num-posts true": 0,
         "swap-to-hate": "False",
         "p_normal_follows_hater": 0.19999999999999996,
         "polarisation-factor": "False",
         "_deepnote_index_column": 382
        },
        {
         "[run number]": 1,
         "[step]": 35,
         "p_normal_follows_normal": 0.8,
         "hateful-node-percents": 0,
         "plot-smoothed-mean-path-length true": 0,
         "plot-smoothed-num-posts true": 0,
         "swap-to-hate": "False",
         "p_normal_follows_hater": 0.19999999999999996,
         "polarisation-factor": "False",
         "_deepnote_index_column": 402
        },
        {
         "[run number]": 1,
         "[step]": 36,
         "p_normal_follows_normal": 0.8,
         "hateful-node-percents": 0,
         "plot-smoothed-mean-path-length true": 0,
         "plot-smoothed-num-posts true": 0,
         "swap-to-hate": "False",
         "p_normal_follows_hater": 0.19999999999999996,
         "polarisation-factor": "False",
         "_deepnote_index_column": 420
        },
        {
         "[run number]": 1,
         "[step]": 37,
         "p_normal_follows_normal": 0.8,
         "hateful-node-percents": 0,
         "plot-smoothed-mean-path-length true": 0,
         "plot-smoothed-num-posts true": 0,
         "swap-to-hate": "False",
         "p_normal_follows_hater": 0.19999999999999996,
         "polarisation-factor": "False",
         "_deepnote_index_column": 427
        },
        {
         "[run number]": 1,
         "[step]": 38,
         "p_normal_follows_normal": 0.8,
         "hateful-node-percents": 0,
         "plot-smoothed-mean-path-length true": 0,
         "plot-smoothed-num-posts true": 0,
         "swap-to-hate": "False",
         "p_normal_follows_hater": 0.19999999999999996,
         "polarisation-factor": "False",
         "_deepnote_index_column": 435
        },
        {
         "[run number]": 1,
         "[step]": 39,
         "p_normal_follows_normal": 0.8,
         "hateful-node-percents": 0,
         "plot-smoothed-mean-path-length true": 0,
         "plot-smoothed-num-posts true": 0,
         "swap-to-hate": "False",
         "p_normal_follows_hater": 0.19999999999999996,
         "polarisation-factor": "False",
         "_deepnote_index_column": 443
        },
        {
         "[run number]": 1,
         "[step]": 40,
         "p_normal_follows_normal": 0.8,
         "hateful-node-percents": 0,
         "plot-smoothed-mean-path-length true": 0,
         "plot-smoothed-num-posts true": 0,
         "swap-to-hate": "False",
         "p_normal_follows_hater": 0.19999999999999996,
         "polarisation-factor": "False",
         "_deepnote_index_column": 450
        },
        {
         "[run number]": 1,
         "[step]": 41,
         "p_normal_follows_normal": 0.8,
         "hateful-node-percents": 0,
         "plot-smoothed-mean-path-length true": 0,
         "plot-smoothed-num-posts true": 0,
         "swap-to-hate": "False",
         "p_normal_follows_hater": 0.19999999999999996,
         "polarisation-factor": "False",
         "_deepnote_index_column": 460
        },
        {
         "[run number]": 1,
         "[step]": 42,
         "p_normal_follows_normal": 0.8,
         "hateful-node-percents": 0,
         "plot-smoothed-mean-path-length true": 0,
         "plot-smoothed-num-posts true": 0,
         "swap-to-hate": "False",
         "p_normal_follows_hater": 0.19999999999999996,
         "polarisation-factor": "False",
         "_deepnote_index_column": 470
        },
        {
         "[run number]": 1,
         "[step]": 43,
         "p_normal_follows_normal": 0.8,
         "hateful-node-percents": 0,
         "plot-smoothed-mean-path-length true": 0,
         "plot-smoothed-num-posts true": 0,
         "swap-to-hate": "False",
         "p_normal_follows_hater": 0.19999999999999996,
         "polarisation-factor": "False",
         "_deepnote_index_column": 479
        },
        {
         "[run number]": 1,
         "[step]": 44,
         "p_normal_follows_normal": 0.8,
         "hateful-node-percents": 0,
         "plot-smoothed-mean-path-length true": 0,
         "plot-smoothed-num-posts true": 0,
         "swap-to-hate": "False",
         "p_normal_follows_hater": 0.19999999999999996,
         "polarisation-factor": "False",
         "_deepnote_index_column": 491
        },
        {
         "[run number]": 1,
         "[step]": 45,
         "p_normal_follows_normal": 0.8,
         "hateful-node-percents": 0,
         "plot-smoothed-mean-path-length true": 0,
         "plot-smoothed-num-posts true": 0,
         "swap-to-hate": "False",
         "p_normal_follows_hater": 0.19999999999999996,
         "polarisation-factor": "False",
         "_deepnote_index_column": 501
        },
        {
         "[run number]": 1,
         "[step]": 46,
         "p_normal_follows_normal": 0.8,
         "hateful-node-percents": 0,
         "plot-smoothed-mean-path-length true": 0,
         "plot-smoothed-num-posts true": 0,
         "swap-to-hate": "False",
         "p_normal_follows_hater": 0.19999999999999996,
         "polarisation-factor": "False",
         "_deepnote_index_column": 512
        },
        {
         "[run number]": 1,
         "[step]": 47,
         "p_normal_follows_normal": 0.8,
         "hateful-node-percents": 0,
         "plot-smoothed-mean-path-length true": 0,
         "plot-smoothed-num-posts true": 0,
         "swap-to-hate": "False",
         "p_normal_follows_hater": 0.19999999999999996,
         "polarisation-factor": "False",
         "_deepnote_index_column": 521
        },
        {
         "[run number]": 1,
         "[step]": 48,
         "p_normal_follows_normal": 0.8,
         "hateful-node-percents": 0,
         "plot-smoothed-mean-path-length true": 0,
         "plot-smoothed-num-posts true": 0,
         "swap-to-hate": "False",
         "p_normal_follows_hater": 0.19999999999999996,
         "polarisation-factor": "False",
         "_deepnote_index_column": 532
        },
        {
         "[run number]": 1,
         "[step]": 49,
         "p_normal_follows_normal": 0.8,
         "hateful-node-percents": 0,
         "plot-smoothed-mean-path-length true": 0,
         "plot-smoothed-num-posts true": 0,
         "swap-to-hate": "False",
         "p_normal_follows_hater": 0.19999999999999996,
         "polarisation-factor": "False",
         "_deepnote_index_column": 542
        },
        {
         "[run number]": 1,
         "[step]": 50,
         "p_normal_follows_normal": 0.8,
         "hateful-node-percents": 0,
         "plot-smoothed-mean-path-length true": 0,
         "plot-smoothed-num-posts true": 0,
         "swap-to-hate": "False",
         "p_normal_follows_hater": 0.19999999999999996,
         "polarisation-factor": "False",
         "_deepnote_index_column": 551
        },
        {
         "[run number]": 1,
         "[step]": 51,
         "p_normal_follows_normal": 0.8,
         "hateful-node-percents": 0,
         "plot-smoothed-mean-path-length true": 0,
         "plot-smoothed-num-posts true": 0,
         "swap-to-hate": "False",
         "p_normal_follows_hater": 0.19999999999999996,
         "polarisation-factor": "False",
         "_deepnote_index_column": 557
        },
        {
         "[run number]": 1,
         "[step]": 52,
         "p_normal_follows_normal": 0.8,
         "hateful-node-percents": 0,
         "plot-smoothed-mean-path-length true": 0,
         "plot-smoothed-num-posts true": 0,
         "swap-to-hate": "False",
         "p_normal_follows_hater": 0.19999999999999996,
         "polarisation-factor": "False",
         "_deepnote_index_column": 566
        },
        {
         "[run number]": 1,
         "[step]": 53,
         "p_normal_follows_normal": 0.8,
         "hateful-node-percents": 0,
         "plot-smoothed-mean-path-length true": 0,
         "plot-smoothed-num-posts true": 0,
         "swap-to-hate": "False",
         "p_normal_follows_hater": 0.19999999999999996,
         "polarisation-factor": "False",
         "_deepnote_index_column": 576
        },
        {
         "[run number]": 1,
         "[step]": 54,
         "p_normal_follows_normal": 0.8,
         "hateful-node-percents": 0,
         "plot-smoothed-mean-path-length true": 0,
         "plot-smoothed-num-posts true": 0,
         "swap-to-hate": "False",
         "p_normal_follows_hater": 0.19999999999999996,
         "polarisation-factor": "False",
         "_deepnote_index_column": 589
        }
       ],
       "rows_bottom": [
        {
         "[run number]": 200,
         "[step]": 946,
         "p_normal_follows_normal": 0.95,
         "hateful-node-percents": 9.282700421940929,
         "plot-smoothed-mean-path-length true": 1.179759627074665,
         "plot-smoothed-num-posts true": 195.57741008811612,
         "swap-to-hate": "False",
         "p_normal_follows_hater": 0.050000000000000044,
         "polarisation-factor": "False",
         "_deepnote_index_column": 198344
        },
        {
         "[run number]": 200,
         "[step]": 947,
         "p_normal_follows_normal": 0.95,
         "hateful-node-percents": 9.272918861959958,
         "plot-smoothed-mean-path-length true": 1.180399841749192,
         "plot-smoothed-num-posts true": 195.5852538367781,
         "swap-to-hate": "False",
         "p_normal_follows_hater": 0.050000000000000044,
         "polarisation-factor": "False",
         "_deepnote_index_column": 198345
        },
        {
         "[run number]": 200,
         "[step]": 948,
         "p_normal_follows_normal": 0.95,
         "hateful-node-percents": 9.263157894736842,
         "plot-smoothed-mean-path-length true": 1.1805389712937857,
         "plot-smoothed-num-posts true": 195.89861644044615,
         "swap-to-hate": "False",
         "p_normal_follows_hater": 0.050000000000000044,
         "polarisation-factor": "False",
         "_deepnote_index_column": 198346
        },
        {
         "[run number]": 200,
         "[step]": 949,
         "p_normal_follows_normal": 0.95,
         "hateful-node-percents": 9.2534174553102,
         "plot-smoothed-mean-path-length true": 1.1805996102889815,
         "plot-smoothed-num-posts true": 196.47367120721307,
         "swap-to-hate": "False",
         "p_normal_follows_hater": 0.050000000000000044,
         "polarisation-factor": "False",
         "_deepnote_index_column": 198347
        },
        {
         "[run number]": 200,
         "[step]": 950,
         "p_normal_follows_normal": 0.95,
         "hateful-node-percents": 9.243697478991596,
         "plot-smoothed-mean-path-length true": 1.1829529062214903,
         "plot-smoothed-num-posts true": 197.13725854170076,
         "swap-to-hate": "False",
         "p_normal_follows_hater": 0.050000000000000044,
         "polarisation-factor": "False",
         "_deepnote_index_column": 198348
        },
        {
         "[run number]": 200,
         "[step]": 951,
         "p_normal_follows_normal": 0.95,
         "hateful-node-percents": 9.233997901364113,
         "plot-smoothed-mean-path-length true": 1.186052287111882,
         "plot-smoothed-num-posts true": 198.12456571749613,
         "swap-to-hate": "False",
         "p_normal_follows_hater": 0.050000000000000044,
         "polarisation-factor": "False",
         "_deepnote_index_column": 198349
        },
        {
         "[run number]": 200,
         "[step]": 952,
         "p_normal_follows_normal": 0.95,
         "hateful-node-percents": 9.224318658280922,
         "plot-smoothed-mean-path-length true": 1.1848233431881314,
         "plot-smoothed-num-posts true": 198.4219092012096,
         "swap-to-hate": "False",
         "p_normal_follows_hater": 0.050000000000000044,
         "polarisation-factor": "False",
         "_deepnote_index_column": 198350
        },
        {
         "[run number]": 200,
         "[step]": 953,
         "p_normal_follows_normal": 0.95,
         "hateful-node-percents": 9.214659685863875,
         "plot-smoothed-mean-path-length true": 1.1853182059905598,
         "plot-smoothed-num-posts true": 198.58005237526427,
         "swap-to-hate": "False",
         "p_normal_follows_hater": 0.050000000000000044,
         "polarisation-factor": "False",
         "_deepnote_index_column": 198351
        },
        {
         "[run number]": 200,
         "[step]": 954,
         "p_normal_follows_normal": 0.95,
         "hateful-node-percents": 9.205020920502092,
         "plot-smoothed-mean-path-length true": 1.1916316905973208,
         "plot-smoothed-num-posts true": 200.18275958726997,
         "swap-to-hate": "False",
         "p_normal_follows_hater": 0.050000000000000044,
         "polarisation-factor": "False",
         "_deepnote_index_column": 198352
        },
        {
         "[run number]": 200,
         "[step]": 955,
         "p_normal_follows_normal": 0.95,
         "hateful-node-percents": 9.195402298850574,
         "plot-smoothed-mean-path-length true": 1.1981089479885365,
         "plot-smoothed-num-posts true": 201.8417177303208,
         "swap-to-hate": "False",
         "p_normal_follows_hater": 0.050000000000000044,
         "polarisation-factor": "False",
         "_deepnote_index_column": 198353
        },
        {
         "[run number]": 200,
         "[step]": 956,
         "p_normal_follows_normal": 0.95,
         "hateful-node-percents": 9.18580375782881,
         "plot-smoothed-mean-path-length true": 1.2007945251753176,
         "plot-smoothed-num-posts true": 203.1599422132924,
         "swap-to-hate": "False",
         "p_normal_follows_hater": 0.050000000000000044,
         "polarisation-factor": "False",
         "_deepnote_index_column": 198354
        },
        {
         "[run number]": 200,
         "[step]": 957,
         "p_normal_follows_normal": 0.95,
         "hateful-node-percents": 9.176225234619396,
         "plot-smoothed-mean-path-length true": 1.2006518648976576,
         "plot-smoothed-num-posts true": 202.81840793191924,
         "swap-to-hate": "False",
         "p_normal_follows_hater": 0.050000000000000044,
         "polarisation-factor": "False",
         "_deepnote_index_column": 198355
        },
        {
         "[run number]": 200,
         "[step]": 958,
         "p_normal_follows_normal": 0.95,
         "hateful-node-percents": 9.166666666666666,
         "plot-smoothed-mean-path-length true": 1.198645346248681,
         "plot-smoothed-num-posts true": 202.441523483954,
         "swap-to-hate": "False",
         "p_normal_follows_hater": 0.050000000000000044,
         "polarisation-factor": "False",
         "_deepnote_index_column": 198356
        },
        {
         "[run number]": 200,
         "[step]": 959,
         "p_normal_follows_normal": 0.95,
         "hateful-node-percents": 9.157127991675338,
         "plot-smoothed-mean-path-length true": 1.1989515757130236,
         "plot-smoothed-num-posts true": 202.21889377700745,
         "swap-to-hate": "False",
         "p_normal_follows_hater": 0.050000000000000044,
         "polarisation-factor": "False",
         "_deepnote_index_column": 198357
        },
        {
         "[run number]": 200,
         "[step]": 960,
         "p_normal_follows_normal": 0.95,
         "hateful-node-percents": 9.147609147609147,
         "plot-smoothed-mean-path-length true": 1.1981620599558935,
         "plot-smoothed-num-posts true": 202.2784804588072,
         "swap-to-hate": "False",
         "p_normal_follows_hater": 0.050000000000000044,
         "polarisation-factor": "False",
         "_deepnote_index_column": 198358
        },
        {
         "[run number]": 200,
         "[step]": 961,
         "p_normal_follows_normal": 0.95,
         "hateful-node-percents": 9.138110072689512,
         "plot-smoothed-mean-path-length true": 1.1995306931634413,
         "plot-smoothed-num-posts true": 202.1586992375932,
         "swap-to-hate": "False",
         "p_normal_follows_hater": 0.050000000000000044,
         "polarisation-factor": "False",
         "_deepnote_index_column": 198359
        },
        {
         "[run number]": 200,
         "[step]": 962,
         "p_normal_follows_normal": 0.95,
         "hateful-node-percents": 9.12863070539419,
         "plot-smoothed-mean-path-length true": 1.2010259522695426,
         "plot-smoothed-num-posts true": 202.10542590442205,
         "swap-to-hate": "False",
         "p_normal_follows_hater": 0.050000000000000044,
         "polarisation-factor": "False",
         "_deepnote_index_column": 198360
        },
        {
         "[run number]": 200,
         "[step]": 963,
         "p_normal_follows_normal": 0.95,
         "hateful-node-percents": 9.11917098445596,
         "plot-smoothed-mean-path-length true": 1.1993841137994787,
         "plot-smoothed-num-posts true": 202.27531160313845,
         "swap-to-hate": "False",
         "p_normal_follows_hater": 0.050000000000000044,
         "polarisation-factor": "False",
         "_deepnote_index_column": 198361
        },
        {
         "[run number]": 200,
         "[step]": 964,
         "p_normal_follows_normal": 0.95,
         "hateful-node-percents": 9.109730848861284,
         "plot-smoothed-mean-path-length true": 1.202390272661484,
         "plot-smoothed-num-posts true": 202.1716153474815,
         "swap-to-hate": "False",
         "p_normal_follows_hater": 0.050000000000000044,
         "polarisation-factor": "False",
         "_deepnote_index_column": 198362
        },
        {
         "[run number]": 200,
         "[step]": 965,
         "p_normal_follows_normal": 0.95,
         "hateful-node-percents": 9.100310237849015,
         "plot-smoothed-mean-path-length true": 1.2045535620530956,
         "plot-smoothed-num-posts true": 202.93935675804548,
         "swap-to-hate": "False",
         "p_normal_follows_hater": 0.050000000000000044,
         "polarisation-factor": "False",
         "_deepnote_index_column": 198363
        },
        {
         "[run number]": 200,
         "[step]": 966,
         "p_normal_follows_normal": 0.95,
         "hateful-node-percents": 9.090909090909092,
         "plot-smoothed-mean-path-length true": 1.2009417613723237,
         "plot-smoothed-num-posts true": 202.571746343745,
         "swap-to-hate": "False",
         "p_normal_follows_hater": 0.050000000000000044,
         "polarisation-factor": "False",
         "_deepnote_index_column": 198364
        },
        {
         "[run number]": 200,
         "[step]": 967,
         "p_normal_follows_normal": 0.95,
         "hateful-node-percents": 9.081527347781218,
         "plot-smoothed-mean-path-length true": 1.2020511556397886,
         "plot-smoothed-num-posts true": 201.4906736165335,
         "swap-to-hate": "False",
         "p_normal_follows_hater": 0.050000000000000044,
         "polarisation-factor": "False",
         "_deepnote_index_column": 198365
        },
        {
         "[run number]": 200,
         "[step]": 968,
         "p_normal_follows_normal": 0.95,
         "hateful-node-percents": 9.072164948453608,
         "plot-smoothed-mean-path-length true": 1.2005861996389464,
         "plot-smoothed-num-posts true": 201.4707431082544,
         "swap-to-hate": "False",
         "p_normal_follows_hater": 0.050000000000000044,
         "polarisation-factor": "False",
         "_deepnote_index_column": 198366
        },
        {
         "[run number]": 200,
         "[step]": 969,
         "p_normal_follows_normal": 0.95,
         "hateful-node-percents": 9.062821833161689,
         "plot-smoothed-mean-path-length true": 1.1989231947854142,
         "plot-smoothed-num-posts true": 201.10398198152413,
         "swap-to-hate": "False",
         "p_normal_follows_hater": 0.050000000000000044,
         "polarisation-factor": "False",
         "_deepnote_index_column": 198367
        },
        {
         "[run number]": 200,
         "[step]": 970,
         "p_normal_follows_normal": 0.95,
         "hateful-node-percents": 9.053497942386832,
         "plot-smoothed-mean-path-length true": 1.1951948324027777,
         "plot-smoothed-num-posts true": 199.935380936564,
         "swap-to-hate": "False",
         "p_normal_follows_hater": 0.050000000000000044,
         "polarisation-factor": "False",
         "_deepnote_index_column": 198368
        },
        {
         "[run number]": 200,
         "[step]": 971,
         "p_normal_follows_normal": 0.95,
         "hateful-node-percents": 9.044193216855088,
         "plot-smoothed-mean-path-length true": 1.1919095507454165,
         "plot-smoothed-num-posts true": 198.44117157549348,
         "swap-to-hate": "False",
         "p_normal_follows_hater": 0.050000000000000044,
         "polarisation-factor": "False",
         "_deepnote_index_column": 198369
        },
        {
         "[run number]": 200,
         "[step]": 972,
         "p_normal_follows_normal": 0.95,
         "hateful-node-percents": 9.034907597535934,
         "plot-smoothed-mean-path-length true": 1.1925580228055297,
         "plot-smoothed-num-posts true": 197.69345598514448,
         "swap-to-hate": "False",
         "p_normal_follows_hater": 0.050000000000000044,
         "polarisation-factor": "False",
         "_deepnote_index_column": 198370
        },
        {
         "[run number]": 200,
         "[step]": 973,
         "p_normal_follows_normal": 0.95,
         "hateful-node-percents": 9.025641025641026,
         "plot-smoothed-mean-path-length true": 1.1912113899458954,
         "plot-smoothed-num-posts true": 198.3312308024404,
         "swap-to-hate": "False",
         "p_normal_follows_hater": 0.050000000000000044,
         "polarisation-factor": "False",
         "_deepnote_index_column": 198371
        },
        {
         "[run number]": 200,
         "[step]": 974,
         "p_normal_follows_normal": 0.95,
         "hateful-node-percents": 9.01639344262295,
         "plot-smoothed-mean-path-length true": 1.1914492760464366,
         "plot-smoothed-num-posts true": 198.1029470672133,
         "swap-to-hate": "False",
         "p_normal_follows_hater": 0.050000000000000044,
         "polarisation-factor": "False",
         "_deepnote_index_column": 198372
        },
        {
         "[run number]": 200,
         "[step]": 975,
         "p_normal_follows_normal": 0.95,
         "hateful-node-percents": 9.109518935516888,
         "plot-smoothed-mean-path-length true": 1.189951449952639,
         "plot-smoothed-num-posts true": 198.09769852200637,
         "swap-to-hate": "False",
         "p_normal_follows_hater": 0.050000000000000044,
         "polarisation-factor": "False",
         "_deepnote_index_column": 198373
        },
        {
         "[run number]": 200,
         "[step]": 976,
         "p_normal_follows_normal": 0.95,
         "hateful-node-percents": 9.100204498977504,
         "plot-smoothed-mean-path-length true": 1.186099272731219,
         "plot-smoothed-num-posts true": 197.6274248704222,
         "swap-to-hate": "False",
         "p_normal_follows_hater": 0.050000000000000044,
         "polarisation-factor": "False",
         "_deepnote_index_column": 198374
        },
        {
         "[run number]": 200,
         "[step]": 977,
         "p_normal_follows_normal": 0.95,
         "hateful-node-percents": 9.19305413687436,
         "plot-smoothed-mean-path-length true": 1.1838149995806264,
         "plot-smoothed-num-posts true": 196.69939010710232,
         "swap-to-hate": "False",
         "p_normal_follows_hater": 0.050000000000000044,
         "polarisation-factor": "False",
         "_deepnote_index_column": 198375
        },
        {
         "[run number]": 200,
         "[step]": 978,
         "p_normal_follows_normal": 0.95,
         "hateful-node-percents": 9.183673469387756,
         "plot-smoothed-mean-path-length true": 1.1859939436019142,
         "plot-smoothed-num-posts true": 196.846003416316,
         "swap-to-hate": "False",
         "p_normal_follows_hater": 0.050000000000000044,
         "polarisation-factor": "False",
         "_deepnote_index_column": 198376
        },
        {
         "[run number]": 200,
         "[step]": 979,
         "p_normal_follows_normal": 0.95,
         "hateful-node-percents": 9.174311926605505,
         "plot-smoothed-mean-path-length true": 1.186834004165895,
         "plot-smoothed-num-posts true": 197.9700191261595,
         "swap-to-hate": "False",
         "p_normal_follows_hater": 0.050000000000000044,
         "polarisation-factor": "False",
         "_deepnote_index_column": 198377
        },
        {
         "[run number]": 200,
         "[step]": 980,
         "p_normal_follows_normal": 0.95,
         "hateful-node-percents": 9.164969450101832,
         "plot-smoothed-mean-path-length true": 1.1870632250998456,
         "plot-smoothed-num-posts true": 198.1000084722125,
         "swap-to-hate": "False",
         "p_normal_follows_hater": 0.050000000000000044,
         "polarisation-factor": "False",
         "_deepnote_index_column": 198378
        },
        {
         "[run number]": 200,
         "[step]": 981,
         "p_normal_follows_normal": 0.95,
         "hateful-node-percents": 9.155645981688709,
         "plot-smoothed-mean-path-length true": 1.1872334091753778,
         "plot-smoothed-num-posts true": 198.2818956693736,
         "swap-to-hate": "False",
         "p_normal_follows_hater": 0.050000000000000044,
         "polarisation-factor": "False",
         "_deepnote_index_column": 198379
        },
        {
         "[run number]": 200,
         "[step]": 982,
         "p_normal_follows_normal": 0.95,
         "hateful-node-percents": 9.146341463414634,
         "plot-smoothed-mean-path-length true": 1.1870621060114592,
         "plot-smoothed-num-posts true": 198.17197987523656,
         "swap-to-hate": "False",
         "p_normal_follows_hater": 0.050000000000000044,
         "polarisation-factor": "False",
         "_deepnote_index_column": 198380
        },
        {
         "[run number]": 200,
         "[step]": 983,
         "p_normal_follows_normal": 0.95,
         "hateful-node-percents": 9.238578680203046,
         "plot-smoothed-mean-path-length true": 1.1876327995053353,
         "plot-smoothed-num-posts true": 198.1975872219525,
         "swap-to-hate": "False",
         "p_normal_follows_hater": 0.050000000000000044,
         "polarisation-factor": "False",
         "_deepnote_index_column": 198381
        },
        {
         "[run number]": 200,
         "[step]": 984,
         "p_normal_follows_normal": 0.95,
         "hateful-node-percents": 9.22920892494929,
         "plot-smoothed-mean-path-length true": 1.187025507043277,
         "plot-smoothed-num-posts true": 198.62086134703452,
         "swap-to-hate": "False",
         "p_normal_follows_hater": 0.050000000000000044,
         "polarisation-factor": "False",
         "_deepnote_index_column": 198382
        },
        {
         "[run number]": 200,
         "[step]": 985,
         "p_normal_follows_normal": 0.95,
         "hateful-node-percents": 9.21985815602837,
         "plot-smoothed-mean-path-length true": 1.1863408189831537,
         "plot-smoothed-num-posts true": 198.52699294272455,
         "swap-to-hate": "False",
         "p_normal_follows_hater": 0.050000000000000044,
         "polarisation-factor": "False",
         "_deepnote_index_column": 198383
        },
        {
         "[run number]": 200,
         "[step]": 986,
         "p_normal_follows_normal": 0.95,
         "hateful-node-percents": 9.210526315789474,
         "plot-smoothed-mean-path-length true": 1.1831587294746406,
         "plot-smoothed-num-posts true": 198.22861135807932,
         "swap-to-hate": "False",
         "p_normal_follows_hater": 0.050000000000000044,
         "polarisation-factor": "False",
         "_deepnote_index_column": 198384
        },
        {
         "[run number]": 200,
         "[step]": 987,
         "p_normal_follows_normal": 0.95,
         "hateful-node-percents": 9.201213346814964,
         "plot-smoothed-mean-path-length true": 1.1817577641894637,
         "plot-smoothed-num-posts true": 197.85913931841168,
         "swap-to-hate": "False",
         "p_normal_follows_hater": 0.050000000000000044,
         "polarisation-factor": "False",
         "_deepnote_index_column": 198385
        },
        {
         "[run number]": 200,
         "[step]": 988,
         "p_normal_follows_normal": 0.95,
         "hateful-node-percents": 9.191919191919192,
         "plot-smoothed-mean-path-length true": 1.182403240734761,
         "plot-smoothed-num-posts true": 198.23813368130035,
         "swap-to-hate": "False",
         "p_normal_follows_hater": 0.050000000000000044,
         "polarisation-factor": "False",
         "_deepnote_index_column": 198386
        },
        {
         "[run number]": 200,
         "[step]": 989,
         "p_normal_follows_normal": 0.95,
         "hateful-node-percents": 9.182643794147326,
         "plot-smoothed-mean-path-length true": 1.182362992111197,
         "plot-smoothed-num-posts true": 198.24577021410371,
         "swap-to-hate": "False",
         "p_normal_follows_hater": 0.050000000000000044,
         "polarisation-factor": "False",
         "_deepnote_index_column": 198387
        },
        {
         "[run number]": 200,
         "[step]": 990,
         "p_normal_follows_normal": 0.95,
         "hateful-node-percents": 9.173387096774194,
         "plot-smoothed-mean-path-length true": 1.1801226955234183,
         "plot-smoothed-num-posts true": 197.79383401704484,
         "swap-to-hate": "False",
         "p_normal_follows_hater": 0.050000000000000044,
         "polarisation-factor": "False",
         "_deepnote_index_column": 198388
        },
        {
         "[run number]": 200,
         "[step]": 991,
         "p_normal_follows_normal": 0.95,
         "hateful-node-percents": 9.16414904330312,
         "plot-smoothed-mean-path-length true": 1.179212557677095,
         "plot-smoothed-num-posts true": 197.66553383937563,
         "swap-to-hate": "False",
         "p_normal_follows_hater": 0.050000000000000044,
         "polarisation-factor": "False",
         "_deepnote_index_column": 198389
        },
        {
         "[run number]": 200,
         "[step]": 992,
         "p_normal_follows_normal": 0.95,
         "hateful-node-percents": 9.154929577464788,
         "plot-smoothed-mean-path-length true": 1.1819907446003244,
         "plot-smoothed-num-posts true": 198.37632910062425,
         "swap-to-hate": "False",
         "p_normal_follows_hater": 0.050000000000000044,
         "polarisation-factor": "False",
         "_deepnote_index_column": 198390
        },
        {
         "[run number]": 200,
         "[step]": 993,
         "p_normal_follows_normal": 0.95,
         "hateful-node-percents": 9.14572864321608,
         "plot-smoothed-mean-path-length true": 1.1849076792595843,
         "plot-smoothed-num-posts true": 200.5569316525065,
         "swap-to-hate": "False",
         "p_normal_follows_hater": 0.050000000000000044,
         "polarisation-factor": "False",
         "_deepnote_index_column": 198391
        },
        {
         "[run number]": 200,
         "[step]": 994,
         "p_normal_follows_normal": 0.95,
         "hateful-node-percents": 9.236947791164658,
         "plot-smoothed-mean-path-length true": 1.188329920296446,
         "plot-smoothed-num-posts true": 202.4969738532405,
         "swap-to-hate": "False",
         "p_normal_follows_hater": 0.050000000000000044,
         "polarisation-factor": "False",
         "_deepnote_index_column": 198392
        },
        {
         "[run number]": 200,
         "[step]": 995,
         "p_normal_follows_normal": 0.95,
         "hateful-node-percents": 9.227683049147442,
         "plot-smoothed-mean-path-length true": 1.1930414486796883,
         "plot-smoothed-num-posts true": 204.4240145404972,
         "swap-to-hate": "False",
         "p_normal_follows_hater": 0.050000000000000044,
         "polarisation-factor": "False",
         "_deepnote_index_column": 198393
        },
        {
         "[run number]": 200,
         "[step]": 996,
         "p_normal_follows_normal": 0.95,
         "hateful-node-percents": 9.218436873747494,
         "plot-smoothed-mean-path-length true": 1.1951394702118487,
         "plot-smoothed-num-posts true": 205.30061839578357,
         "swap-to-hate": "False",
         "p_normal_follows_hater": 0.050000000000000044,
         "polarisation-factor": "False",
         "_deepnote_index_column": 198394
        },
        {
         "[run number]": 200,
         "[step]": 997,
         "p_normal_follows_normal": 0.95,
         "hateful-node-percents": 9.20920920920921,
         "plot-smoothed-mean-path-length true": 1.1943520966737513,
         "plot-smoothed-num-posts true": 205.3051967715223,
         "swap-to-hate": "False",
         "p_normal_follows_hater": 0.050000000000000044,
         "polarisation-factor": "False",
         "_deepnote_index_column": 198395
        },
        {
         "[run number]": 200,
         "[step]": 998,
         "p_normal_follows_normal": 0.95,
         "hateful-node-percents": 9.2,
         "plot-smoothed-mean-path-length true": 1.1920301973286354,
         "plot-smoothed-num-posts true": 204.6227069609893,
         "swap-to-hate": "False",
         "p_normal_follows_hater": 0.050000000000000044,
         "polarisation-factor": "False",
         "_deepnote_index_column": 198396
        },
        {
         "[run number]": 200,
         "[step]": 999,
         "p_normal_follows_normal": 0.95,
         "hateful-node-percents": 9.2,
         "plot-smoothed-mean-path-length true": 1.1924952164562663,
         "plot-smoothed-num-posts true": 204.1794940121255,
         "swap-to-hate": "False",
         "p_normal_follows_hater": 0.050000000000000044,
         "polarisation-factor": "False",
         "_deepnote_index_column": 198397
        },
        {
         "[run number]": 200,
         "[step]": 1000,
         "p_normal_follows_normal": 0.95,
         "hateful-node-percents": 9.2,
         "plot-smoothed-mean-path-length true": 1.190213121434561,
         "plot-smoothed-num-posts true": 204.50407709186663,
         "swap-to-hate": "False",
         "p_normal_follows_hater": 0.050000000000000044,
         "polarisation-factor": "False",
         "_deepnote_index_column": 198398
        },
        {
         "[run number]": 200,
         "[step]": 1001,
         "p_normal_follows_normal": 0.95,
         "hateful-node-percents": 9.2,
         "plot-smoothed-mean-path-length true": 1.187824503733729,
         "plot-smoothed-num-posts true": 204.0589825231796,
         "swap-to-hate": "False",
         "p_normal_follows_hater": 0.050000000000000044,
         "polarisation-factor": "False",
         "_deepnote_index_column": 198399
        }
       ]
      },
      "text/plain": "        [run number]  [step]  p_normal_follows_normal  hateful-node-percents  \\\n9                  1       0                     0.80               0.000000   \n91                 1       1                     0.80               0.000000   \n103                1       2                     0.80               0.000000   \n111                1       3                     0.80               0.000000   \n115                1       4                     0.80               0.000000   \n...              ...     ...                      ...                    ...   \n198395           200     997                     0.95               9.209209   \n198396           200     998                     0.95               9.200000   \n198397           200     999                     0.95               9.200000   \n198398           200    1000                     0.95               9.200000   \n198399           200    1001                     0.95               9.200000   \n\n        plot-smoothed-mean-path-length true  plot-smoothed-num-posts true  \\\n9                                  0.000000                      0.000000   \n91                                 0.000000                      0.000000   \n103                                0.000000                      0.000000   \n111                                0.000000                      0.000000   \n115                                0.000000                      0.000000   \n...                                     ...                           ...   \n198395                             1.194352                    205.305197   \n198396                             1.192030                    204.622707   \n198397                             1.192495                    204.179494   \n198398                             1.190213                    204.504077   \n198399                             1.187825                    204.058983   \n\n        swap-to-hate  p_normal_follows_hater  polarisation-factor  \n9              False                    0.20                False  \n91             False                    0.20                False  \n103            False                    0.20                False  \n111            False                    0.20                False  \n115            False                    0.20                False  \n...              ...                     ...                  ...  \n198395         False                    0.05                False  \n198396         False                    0.05                False  \n198397         False                    0.05                False  \n198398         False                    0.05                False  \n198399         False                    0.05                False  \n\n[198400 rows x 9 columns]",
      "text/html": "<div>\n<style scoped>\n    .dataframe tbody tr th:only-of-type {\n        vertical-align: middle;\n    }\n\n    .dataframe tbody tr th {\n        vertical-align: top;\n    }\n\n    .dataframe thead th {\n        text-align: right;\n    }\n</style>\n<table border=\"1\" class=\"dataframe\">\n  <thead>\n    <tr style=\"text-align: right;\">\n      <th></th>\n      <th>[run number]</th>\n      <th>[step]</th>\n      <th>p_normal_follows_normal</th>\n      <th>hateful-node-percents</th>\n      <th>plot-smoothed-mean-path-length true</th>\n      <th>plot-smoothed-num-posts true</th>\n      <th>swap-to-hate</th>\n      <th>p_normal_follows_hater</th>\n      <th>polarisation-factor</th>\n    </tr>\n  </thead>\n  <tbody>\n    <tr>\n      <th>9</th>\n      <td>1</td>\n      <td>0</td>\n      <td>0.80</td>\n      <td>0.000000</td>\n      <td>0.000000</td>\n      <td>0.000000</td>\n      <td>False</td>\n      <td>0.20</td>\n      <td>False</td>\n    </tr>\n    <tr>\n      <th>91</th>\n      <td>1</td>\n      <td>1</td>\n      <td>0.80</td>\n      <td>0.000000</td>\n      <td>0.000000</td>\n      <td>0.000000</td>\n      <td>False</td>\n      <td>0.20</td>\n      <td>False</td>\n    </tr>\n    <tr>\n      <th>103</th>\n      <td>1</td>\n      <td>2</td>\n      <td>0.80</td>\n      <td>0.000000</td>\n      <td>0.000000</td>\n      <td>0.000000</td>\n      <td>False</td>\n      <td>0.20</td>\n      <td>False</td>\n    </tr>\n    <tr>\n      <th>111</th>\n      <td>1</td>\n      <td>3</td>\n      <td>0.80</td>\n      <td>0.000000</td>\n      <td>0.000000</td>\n      <td>0.000000</td>\n      <td>False</td>\n      <td>0.20</td>\n      <td>False</td>\n    </tr>\n    <tr>\n      <th>115</th>\n      <td>1</td>\n      <td>4</td>\n      <td>0.80</td>\n      <td>0.000000</td>\n      <td>0.000000</td>\n      <td>0.000000</td>\n      <td>False</td>\n      <td>0.20</td>\n      <td>False</td>\n    </tr>\n    <tr>\n      <th>...</th>\n      <td>...</td>\n      <td>...</td>\n      <td>...</td>\n      <td>...</td>\n      <td>...</td>\n      <td>...</td>\n      <td>...</td>\n      <td>...</td>\n      <td>...</td>\n    </tr>\n    <tr>\n      <th>198395</th>\n      <td>200</td>\n      <td>997</td>\n      <td>0.95</td>\n      <td>9.209209</td>\n      <td>1.194352</td>\n      <td>205.305197</td>\n      <td>False</td>\n      <td>0.05</td>\n      <td>False</td>\n    </tr>\n    <tr>\n      <th>198396</th>\n      <td>200</td>\n      <td>998</td>\n      <td>0.95</td>\n      <td>9.200000</td>\n      <td>1.192030</td>\n      <td>204.622707</td>\n      <td>False</td>\n      <td>0.05</td>\n      <td>False</td>\n    </tr>\n    <tr>\n      <th>198397</th>\n      <td>200</td>\n      <td>999</td>\n      <td>0.95</td>\n      <td>9.200000</td>\n      <td>1.192495</td>\n      <td>204.179494</td>\n      <td>False</td>\n      <td>0.05</td>\n      <td>False</td>\n    </tr>\n    <tr>\n      <th>198398</th>\n      <td>200</td>\n      <td>1000</td>\n      <td>0.95</td>\n      <td>9.200000</td>\n      <td>1.190213</td>\n      <td>204.504077</td>\n      <td>False</td>\n      <td>0.05</td>\n      <td>False</td>\n    </tr>\n    <tr>\n      <th>198399</th>\n      <td>200</td>\n      <td>1001</td>\n      <td>0.95</td>\n      <td>9.200000</td>\n      <td>1.187825</td>\n      <td>204.058983</td>\n      <td>False</td>\n      <td>0.05</td>\n      <td>False</td>\n    </tr>\n  </tbody>\n</table>\n<p>198400 rows × 9 columns</p>\n</div>"
     },
     "metadata": {}
    }
   ]
  },
  {
   "cell_type": "code",
   "metadata": {
    "cell_id": "00004-458c362a-8183-4188-9472-a08696fb8f70",
    "deepnote_to_be_reexecuted": false,
    "source_hash": "a5326077",
    "execution_start": 1636144436790,
    "execution_millis": 44,
    "deepnote_cell_type": "code"
   },
   "source": "print('hateful-node-percents')\ndf_nodes = df[df['swap-to-hate'] == False].groupby(['p_normal_follows_hater'])['hateful-node-percents'].agg([\n    np.min,\n    np.mean,\n    np.max,\n    np.std\n])\ndf_nodes",
   "execution_count": 5,
   "outputs": [
    {
     "name": "stdout",
     "text": "hateful-node-percents\n",
     "output_type": "stream"
    },
    {
     "output_type": "execute_result",
     "execution_count": 5,
     "data": {
      "application/vnd.deepnote.dataframe.v2+json": {
       "row_count": 4,
       "column_count": 4,
       "columns": [
        {
         "name": "amin",
         "dtype": "float64",
         "stats": {
          "unique_count": 1,
          "nan_count": 0,
          "min": "0.0",
          "max": "0.0",
          "histogram": [
           {
            "bin_start": -0.5,
            "bin_end": -0.4,
            "count": 0
           },
           {
            "bin_start": -0.4,
            "bin_end": -0.3,
            "count": 0
           },
           {
            "bin_start": -0.3,
            "bin_end": -0.19999999999999996,
            "count": 0
           },
           {
            "bin_start": -0.19999999999999996,
            "bin_end": -0.09999999999999998,
            "count": 0
           },
           {
            "bin_start": -0.09999999999999998,
            "bin_end": 0,
            "count": 0
           },
           {
            "bin_start": 0,
            "bin_end": 0.10000000000000009,
            "count": 4
           },
           {
            "bin_start": 0.10000000000000009,
            "bin_end": 0.20000000000000007,
            "count": 0
           },
           {
            "bin_start": 0.20000000000000007,
            "bin_end": 0.30000000000000004,
            "count": 0
           },
           {
            "bin_start": 0.30000000000000004,
            "bin_end": 0.4,
            "count": 0
           },
           {
            "bin_start": 0.4,
            "bin_end": 0.5,
            "count": 0
           }
          ]
         }
        },
        {
         "name": "mean",
         "dtype": "float64",
         "stats": {
          "unique_count": 4,
          "nan_count": 0,
          "min": "4.557752164896479",
          "max": "5.876358121766006",
          "histogram": [
           {
            "bin_start": 4.557752164896479,
            "bin_end": 4.689612760583432,
            "count": 1
           },
           {
            "bin_start": 4.689612760583432,
            "bin_end": 4.821473356270385,
            "count": 0
           },
           {
            "bin_start": 4.821473356270385,
            "bin_end": 4.953333951957338,
            "count": 0
           },
           {
            "bin_start": 4.953333951957338,
            "bin_end": 5.08519454764429,
            "count": 0
           },
           {
            "bin_start": 5.08519454764429,
            "bin_end": 5.217055143331242,
            "count": 0
           },
           {
            "bin_start": 5.217055143331242,
            "bin_end": 5.348915739018196,
            "count": 0
           },
           {
            "bin_start": 5.348915739018196,
            "bin_end": 5.480776334705148,
            "count": 1
           },
           {
            "bin_start": 5.480776334705148,
            "bin_end": 5.6126369303921,
            "count": 1
           },
           {
            "bin_start": 5.6126369303921,
            "bin_end": 5.744497526079053,
            "count": 0
           },
           {
            "bin_start": 5.744497526079053,
            "bin_end": 5.876358121766006,
            "count": 1
           }
          ]
         }
        },
        {
         "name": "amax",
         "dtype": "float64",
         "stats": {
          "unique_count": 1,
          "nan_count": 0,
          "min": "25.0",
          "max": "25.0",
          "histogram": [
           {
            "bin_start": 24.5,
            "bin_end": 24.6,
            "count": 0
           },
           {
            "bin_start": 24.6,
            "bin_end": 24.7,
            "count": 0
           },
           {
            "bin_start": 24.7,
            "bin_end": 24.8,
            "count": 0
           },
           {
            "bin_start": 24.8,
            "bin_end": 24.9,
            "count": 0
           },
           {
            "bin_start": 24.9,
            "bin_end": 25,
            "count": 0
           },
           {
            "bin_start": 25,
            "bin_end": 25.1,
            "count": 4
           },
           {
            "bin_start": 25.1,
            "bin_end": 25.2,
            "count": 0
           },
           {
            "bin_start": 25.2,
            "bin_end": 25.3,
            "count": 0
           },
           {
            "bin_start": 25.3,
            "bin_end": 25.4,
            "count": 0
           },
           {
            "bin_start": 25.4,
            "bin_end": 25.5,
            "count": 0
           }
          ]
         }
        },
        {
         "name": "std",
         "dtype": "float64",
         "stats": {
          "unique_count": 4,
          "nan_count": 0,
          "min": "3.6804386127627464",
          "max": "3.98807842293196",
          "histogram": [
           {
            "bin_start": 3.6804386127627464,
            "bin_end": 3.7112025937796678,
            "count": 1
           },
           {
            "bin_start": 3.7112025937796678,
            "bin_end": 3.741966574796589,
            "count": 0
           },
           {
            "bin_start": 3.741966574796589,
            "bin_end": 3.7727305558135105,
            "count": 0
           },
           {
            "bin_start": 3.7727305558135105,
            "bin_end": 3.803494536830432,
            "count": 0
           },
           {
            "bin_start": 3.803494536830432,
            "bin_end": 3.834258517847353,
            "count": 1
           },
           {
            "bin_start": 3.834258517847353,
            "bin_end": 3.8650224988642745,
            "count": 0
           },
           {
            "bin_start": 3.8650224988642745,
            "bin_end": 3.895786479881196,
            "count": 0
           },
           {
            "bin_start": 3.895786479881196,
            "bin_end": 3.926550460898117,
            "count": 0
           },
           {
            "bin_start": 3.926550460898117,
            "bin_end": 3.9573144419150386,
            "count": 1
           },
           {
            "bin_start": 3.9573144419150386,
            "bin_end": 3.98807842293196,
            "count": 1
           }
          ]
         }
        },
        {
         "name": "_deepnote_index_column",
         "dtype": "float64"
        }
       ],
       "rows_top": [
        {
         "amin": 0,
         "mean": 4.557752164896479,
         "amax": 25,
         "std": 3.6804386127627464,
         "_deepnote_index_column": 0.050000000000000044
        },
        {
         "amin": 0,
         "mean": 5.388790043153611,
         "amax": 25,
         "std": 3.834005635292728,
         "_deepnote_index_column": 0.09999999999999998
        },
        {
         "amin": 0,
         "mean": 5.588749853514388,
         "amax": 25,
         "std": 3.951421701420405,
         "_deepnote_index_column": 0.15000000000000002
        },
        {
         "amin": 0,
         "mean": 5.876358121766006,
         "amax": 25,
         "std": 3.98807842293196,
         "_deepnote_index_column": 0.19999999999999996
        }
       ],
       "rows_bottom": null
      },
      "text/plain": "                        amin      mean  amax       std\np_normal_follows_hater                                \n0.05                     0.0  4.557752  25.0  3.680439\n0.10                     0.0  5.388790  25.0  3.834006\n0.15                     0.0  5.588750  25.0  3.951422\n0.20                     0.0  5.876358  25.0  3.988078",
      "text/html": "<div>\n<style scoped>\n    .dataframe tbody tr th:only-of-type {\n        vertical-align: middle;\n    }\n\n    .dataframe tbody tr th {\n        vertical-align: top;\n    }\n\n    .dataframe thead th {\n        text-align: right;\n    }\n</style>\n<table border=\"1\" class=\"dataframe\">\n  <thead>\n    <tr style=\"text-align: right;\">\n      <th></th>\n      <th>amin</th>\n      <th>mean</th>\n      <th>amax</th>\n      <th>std</th>\n    </tr>\n    <tr>\n      <th>p_normal_follows_hater</th>\n      <th></th>\n      <th></th>\n      <th></th>\n      <th></th>\n    </tr>\n  </thead>\n  <tbody>\n    <tr>\n      <th>0.05</th>\n      <td>0.0</td>\n      <td>4.557752</td>\n      <td>25.0</td>\n      <td>3.680439</td>\n    </tr>\n    <tr>\n      <th>0.10</th>\n      <td>0.0</td>\n      <td>5.388790</td>\n      <td>25.0</td>\n      <td>3.834006</td>\n    </tr>\n    <tr>\n      <th>0.15</th>\n      <td>0.0</td>\n      <td>5.588750</td>\n      <td>25.0</td>\n      <td>3.951422</td>\n    </tr>\n    <tr>\n      <th>0.20</th>\n      <td>0.0</td>\n      <td>5.876358</td>\n      <td>25.0</td>\n      <td>3.988078</td>\n    </tr>\n  </tbody>\n</table>\n</div>"
     },
     "metadata": {}
    }
   ]
  },
  {
   "cell_type": "code",
   "metadata": {
    "cell_id": "00005-93275cfb-8b2c-4cb5-b39e-232135baaf08",
    "deepnote_to_be_reexecuted": false,
    "source_hash": "b228006e",
    "execution_start": 1636144436838,
    "execution_millis": 343,
    "deepnote_cell_type": "code"
   },
   "source": "df_plot = df_nodes.reset_index()\nsns.lineplot(data=df_plot, x=\"p_normal_follows_hater\", y=\"mean\")",
   "execution_count": 6,
   "outputs": [
    {
     "output_type": "execute_result",
     "execution_count": 6,
     "data": {
      "text/plain": "<AxesSubplot:xlabel='p_normal_follows_hater', ylabel='mean'>"
     },
     "metadata": {}
    },
    {
     "data": {
      "text/plain": "<Figure size 432x288 with 1 Axes>",
      "image/png": "[encoded data removed]"
     },
     "metadata": {
      "needs_background": "light",
      "image/png": {
       "width": 386,
       "height": 263
      }
     },
     "output_type": "display_data"
    }
   ]
  },
  {
   "cell_type": "code",
   "metadata": {
    "cell_id": "00006-cb52634e-2844-4e11-89ba-c43fc5d34223",
    "deepnote_to_be_reexecuted": false,
    "source_hash": "d0183d1a",
    "execution_start": 1636144437185,
    "execution_millis": 52,
    "deepnote_cell_type": "code"
   },
   "source": "print('mean-path-length hateful')\ndf_path = df[df['swap-to-hate'] == False].groupby(['p_normal_follows_hater'])['plot-smoothed-mean-path-length true'].agg([\n    np.min,\n    np.mean,\n    np.max,\n    np.std\n])\ndf_path",
   "execution_count": 7,
   "outputs": [
    {
     "name": "stdout",
     "text": "mean-path-length hateful\n",
     "output_type": "stream"
    },
    {
     "output_type": "execute_result",
     "execution_count": 7,
     "data": {
      "application/vnd.deepnote.dataframe.v2+json": {
       "row_count": 4,
       "column_count": 4,
       "columns": [
        {
         "name": "amin",
         "dtype": "float64",
         "stats": {
          "unique_count": 1,
          "nan_count": 0,
          "min": "0.0",
          "max": "0.0",
          "histogram": [
           {
            "bin_start": -0.5,
            "bin_end": -0.4,
            "count": 0
           },
           {
            "bin_start": -0.4,
            "bin_end": -0.3,
            "count": 0
           },
           {
            "bin_start": -0.3,
            "bin_end": -0.19999999999999996,
            "count": 0
           },
           {
            "bin_start": -0.19999999999999996,
            "bin_end": -0.09999999999999998,
            "count": 0
           },
           {
            "bin_start": -0.09999999999999998,
            "bin_end": 0,
            "count": 0
           },
           {
            "bin_start": 0,
            "bin_end": 0.10000000000000009,
            "count": 4
           },
           {
            "bin_start": 0.10000000000000009,
            "bin_end": 0.20000000000000007,
            "count": 0
           },
           {
            "bin_start": 0.20000000000000007,
            "bin_end": 0.30000000000000004,
            "count": 0
           },
           {
            "bin_start": 0.30000000000000004,
            "bin_end": 0.4,
            "count": 0
           },
           {
            "bin_start": 0.4,
            "bin_end": 0.5,
            "count": 0
           }
          ]
         }
        },
        {
         "name": "mean",
         "dtype": "float64",
         "stats": {
          "unique_count": 4,
          "nan_count": 0,
          "min": "0.6563990677500072",
          "max": "0.9588680675849465",
          "histogram": [
           {
            "bin_start": 0.6563990677500072,
            "bin_end": 0.6866459677335012,
            "count": 1
           },
           {
            "bin_start": 0.6866459677335012,
            "bin_end": 0.7168928677169951,
            "count": 0
           },
           {
            "bin_start": 0.7168928677169951,
            "bin_end": 0.747139767700489,
            "count": 0
           },
           {
            "bin_start": 0.747139767700489,
            "bin_end": 0.7773866676839829,
            "count": 0
           },
           {
            "bin_start": 0.7773866676839829,
            "bin_end": 0.8076335676674768,
            "count": 1
           },
           {
            "bin_start": 0.8076335676674768,
            "bin_end": 0.8378804676509708,
            "count": 0
           },
           {
            "bin_start": 0.8378804676509708,
            "bin_end": 0.8681273676344647,
            "count": 1
           },
           {
            "bin_start": 0.8681273676344647,
            "bin_end": 0.8983742676179587,
            "count": 0
           },
           {
            "bin_start": 0.8983742676179587,
            "bin_end": 0.9286211676014526,
            "count": 0
           },
           {
            "bin_start": 0.9286211676014526,
            "bin_end": 0.9588680675849465,
            "count": 1
           }
          ]
         }
        },
        {
         "name": "amax",
         "dtype": "float64",
         "stats": {
          "unique_count": 4,
          "nan_count": 0,
          "min": "1.417705222923938",
          "max": "2.0412143144110195",
          "histogram": [
           {
            "bin_start": 1.417705222923938,
            "bin_end": 1.4800561320726462,
            "count": 1
           },
           {
            "bin_start": 1.4800561320726462,
            "bin_end": 1.5424070412213542,
            "count": 0
           },
           {
            "bin_start": 1.5424070412213542,
            "bin_end": 1.6047579503700624,
            "count": 0
           },
           {
            "bin_start": 1.6047579503700624,
            "bin_end": 1.6671088595187706,
            "count": 1
           },
           {
            "bin_start": 1.6671088595187706,
            "bin_end": 1.7294597686674789,
            "count": 0
           },
           {
            "bin_start": 1.7294597686674789,
            "bin_end": 1.7918106778161869,
            "count": 1
           },
           {
            "bin_start": 1.7918106778161869,
            "bin_end": 1.854161586964895,
            "count": 0
           },
           {
            "bin_start": 1.854161586964895,
            "bin_end": 1.916512496113603,
            "count": 0
           },
           {
            "bin_start": 1.916512496113603,
            "bin_end": 1.9788634052623113,
            "count": 0
           },
           {
            "bin_start": 1.9788634052623113,
            "bin_end": 2.0412143144110195,
            "count": 1
           }
          ]
         }
        },
        {
         "name": "std",
         "dtype": "float64",
         "stats": {
          "unique_count": 4,
          "nan_count": 0,
          "min": "0.4274525529045361",
          "max": "0.5812191389937154",
          "histogram": [
           {
            "bin_start": 0.4274525529045361,
            "bin_end": 0.442829211513454,
            "count": 1
           },
           {
            "bin_start": 0.442829211513454,
            "bin_end": 0.45820587012237196,
            "count": 0
           },
           {
            "bin_start": 0.45820587012237196,
            "bin_end": 0.47358252873128986,
            "count": 1
           },
           {
            "bin_start": 0.47358252873128986,
            "bin_end": 0.4889591873402078,
            "count": 0
           },
           {
            "bin_start": 0.4889591873402078,
            "bin_end": 0.5043358459491257,
            "count": 0
           },
           {
            "bin_start": 0.5043358459491257,
            "bin_end": 0.5197125045580436,
            "count": 0
           },
           {
            "bin_start": 0.5197125045580436,
            "bin_end": 0.5350891631669615,
            "count": 0
           },
           {
            "bin_start": 0.5350891631669615,
            "bin_end": 0.5504658217758795,
            "count": 1
           },
           {
            "bin_start": 0.5504658217758795,
            "bin_end": 0.5658424803847975,
            "count": 0
           },
           {
            "bin_start": 0.5658424803847975,
            "bin_end": 0.5812191389937154,
            "count": 1
           }
          ]
         }
        },
        {
         "name": "_deepnote_index_column",
         "dtype": "float64"
        }
       ],
       "rows_top": [
        {
         "amin": 0,
         "mean": 0.6563990677500072,
         "amax": 1.417705222923938,
         "std": 0.4274525529045361,
         "_deepnote_index_column": 0.050000000000000044
        },
        {
         "amin": 0,
         "mean": 0.7832357442598256,
         "amax": 1.616807111052203,
         "std": 0.46620589520460964,
         "_deepnote_index_column": 0.09999999999999998
        },
        {
         "amin": 0,
         "mean": 0.8453244714965359,
         "amax": 1.7834042696971844,
         "std": 0.5389912299161109,
         "_deepnote_index_column": 0.15000000000000002
        },
        {
         "amin": 0,
         "mean": 0.9588680675849465,
         "amax": 2.0412143144110195,
         "std": 0.5812191389937154,
         "_deepnote_index_column": 0.19999999999999996
        }
       ],
       "rows_bottom": null
      },
      "text/plain": "                        amin      mean      amax       std\np_normal_follows_hater                                    \n0.05                     0.0  0.656399  1.417705  0.427453\n0.10                     0.0  0.783236  1.616807  0.466206\n0.15                     0.0  0.845324  1.783404  0.538991\n0.20                     0.0  0.958868  2.041214  0.581219",
      "text/html": "<div>\n<style scoped>\n    .dataframe tbody tr th:only-of-type {\n        vertical-align: middle;\n    }\n\n    .dataframe tbody tr th {\n        vertical-align: top;\n    }\n\n    .dataframe thead th {\n        text-align: right;\n    }\n</style>\n<table border=\"1\" class=\"dataframe\">\n  <thead>\n    <tr style=\"text-align: right;\">\n      <th></th>\n      <th>amin</th>\n      <th>mean</th>\n      <th>amax</th>\n      <th>std</th>\n    </tr>\n    <tr>\n      <th>p_normal_follows_hater</th>\n      <th></th>\n      <th></th>\n      <th></th>\n      <th></th>\n    </tr>\n  </thead>\n  <tbody>\n    <tr>\n      <th>0.05</th>\n      <td>0.0</td>\n      <td>0.656399</td>\n      <td>1.417705</td>\n      <td>0.427453</td>\n    </tr>\n    <tr>\n      <th>0.10</th>\n      <td>0.0</td>\n      <td>0.783236</td>\n      <td>1.616807</td>\n      <td>0.466206</td>\n    </tr>\n    <tr>\n      <th>0.15</th>\n      <td>0.0</td>\n      <td>0.845324</td>\n      <td>1.783404</td>\n      <td>0.538991</td>\n    </tr>\n    <tr>\n      <th>0.20</th>\n      <td>0.0</td>\n      <td>0.958868</td>\n      <td>2.041214</td>\n      <td>0.581219</td>\n    </tr>\n  </tbody>\n</table>\n</div>"
     },
     "metadata": {}
    }
   ]
  },
  {
   "cell_type": "code",
   "metadata": {
    "cell_id": "00007-ee951e9c-bbc6-48dd-92c4-57524a64afda",
    "deepnote_to_be_reexecuted": false,
    "source_hash": "27d802c1",
    "execution_start": 1636144437242,
    "execution_millis": 285,
    "deepnote_cell_type": "code"
   },
   "source": "df_plot = df_path.reset_index()\nsns.lineplot(data=df_plot, x=\"p_normal_follows_hater\", y=\"mean\")",
   "execution_count": 8,
   "outputs": [
    {
     "output_type": "execute_result",
     "execution_count": 8,
     "data": {
      "text/plain": "<AxesSubplot:xlabel='p_normal_follows_hater', ylabel='mean'>"
     },
     "metadata": {}
    },
    {
     "data": {
      "text/plain": "<Figure size 432x288 with 1 Axes>",
      "image/png": "[encoded data removed]"
     },
     "metadata": {
      "needs_background": "light",
      "image/png": {
       "width": 392,
       "height": 263
      }
     },
     "output_type": "display_data"
    }
   ]
  },
  {
   "cell_type": "code",
   "metadata": {
    "cell_id": "00008-44c992f1-810b-4f9e-a203-4bdf5c7978cd",
    "deepnote_to_be_reexecuted": false,
    "source_hash": "64d20af5",
    "execution_start": 1636144437536,
    "execution_millis": 52,
    "deepnote_cell_type": "code"
   },
   "source": "print('num-posts hateful')\ndf_posts = df[df['swap-to-hate'] == False].groupby(['p_normal_follows_hater'])['plot-smoothed-num-posts true'].agg([\n    np.min,\n    np.mean,\n    np.max,\n    np.std\n])\ndf_posts",
   "execution_count": 9,
   "outputs": [
    {
     "name": "stdout",
     "text": "num-posts hateful\n",
     "output_type": "stream"
    },
    {
     "output_type": "execute_result",
     "execution_count": 9,
     "data": {
      "application/vnd.deepnote.dataframe.v2+json": {
       "row_count": 4,
       "column_count": 4,
       "columns": [
        {
         "name": "amin",
         "dtype": "float64",
         "stats": {
          "unique_count": 1,
          "nan_count": 0,
          "min": "0.0",
          "max": "0.0",
          "histogram": [
           {
            "bin_start": -0.5,
            "bin_end": -0.4,
            "count": 0
           },
           {
            "bin_start": -0.4,
            "bin_end": -0.3,
            "count": 0
           },
           {
            "bin_start": -0.3,
            "bin_end": -0.19999999999999996,
            "count": 0
           },
           {
            "bin_start": -0.19999999999999996,
            "bin_end": -0.09999999999999998,
            "count": 0
           },
           {
            "bin_start": -0.09999999999999998,
            "bin_end": 0,
            "count": 0
           },
           {
            "bin_start": 0,
            "bin_end": 0.10000000000000009,
            "count": 4
           },
           {
            "bin_start": 0.10000000000000009,
            "bin_end": 0.20000000000000007,
            "count": 0
           },
           {
            "bin_start": 0.20000000000000007,
            "bin_end": 0.30000000000000004,
            "count": 0
           },
           {
            "bin_start": 0.30000000000000004,
            "bin_end": 0.4,
            "count": 0
           },
           {
            "bin_start": 0.4,
            "bin_end": 0.5,
            "count": 0
           }
          ]
         }
        },
        {
         "name": "mean",
         "dtype": "float64",
         "stats": {
          "unique_count": 4,
          "nan_count": 0,
          "min": "58.92774511122534",
          "max": "118.05674729636095",
          "histogram": [
           {
            "bin_start": 58.92774511122534,
            "bin_end": 64.8406453297389,
            "count": 1
           },
           {
            "bin_start": 64.8406453297389,
            "bin_end": 70.75354554825246,
            "count": 0
           },
           {
            "bin_start": 70.75354554825246,
            "bin_end": 76.66644576676603,
            "count": 0
           },
           {
            "bin_start": 76.66644576676603,
            "bin_end": 82.57934598527959,
            "count": 1
           },
           {
            "bin_start": 82.57934598527959,
            "bin_end": 88.49224620379314,
            "count": 0
           },
           {
            "bin_start": 88.49224620379314,
            "bin_end": 94.4051464223067,
            "count": 1
           },
           {
            "bin_start": 94.4051464223067,
            "bin_end": 100.31804664082027,
            "count": 0
           },
           {
            "bin_start": 100.31804664082027,
            "bin_end": 106.23094685933384,
            "count": 0
           },
           {
            "bin_start": 106.23094685933384,
            "bin_end": 112.1438470778474,
            "count": 0
           },
           {
            "bin_start": 112.1438470778474,
            "bin_end": 118.05674729636095,
            "count": 1
           }
          ]
         }
        },
        {
         "name": "amax",
         "dtype": "float64",
         "stats": {
          "unique_count": 4,
          "nan_count": 0,
          "min": "291.15510768986087",
          "max": "497.1556132890192",
          "histogram": [
           {
            "bin_start": 291.15510768986087,
            "bin_end": 311.7551582497767,
            "count": 1
           },
           {
            "bin_start": 311.7551582497767,
            "bin_end": 332.35520880969256,
            "count": 0
           },
           {
            "bin_start": 332.35520880969256,
            "bin_end": 352.95525936960837,
            "count": 0
           },
           {
            "bin_start": 352.95525936960837,
            "bin_end": 373.5553099295242,
            "count": 0
           },
           {
            "bin_start": 373.5553099295242,
            "bin_end": 394.15536048944,
            "count": 0
           },
           {
            "bin_start": 394.15536048944,
            "bin_end": 414.75541104935587,
            "count": 1
           },
           {
            "bin_start": 414.75541104935587,
            "bin_end": 435.3554616092717,
            "count": 0
           },
           {
            "bin_start": 435.3554616092717,
            "bin_end": 455.9555121691875,
            "count": 1
           },
           {
            "bin_start": 455.9555121691875,
            "bin_end": 476.55556272910337,
            "count": 0
           },
           {
            "bin_start": 476.55556272910337,
            "bin_end": 497.1556132890192,
            "count": 1
           }
          ]
         }
        },
        {
         "name": "std",
         "dtype": "float64",
         "stats": {
          "unique_count": 4,
          "nan_count": 0,
          "min": "64.17946442404387",
          "max": "113.86204504389549",
          "histogram": [
           {
            "bin_start": 64.17946442404387,
            "bin_end": 69.14772248602904,
            "count": 1
           },
           {
            "bin_start": 69.14772248602904,
            "bin_end": 74.11598054801419,
            "count": 0
           },
           {
            "bin_start": 74.11598054801419,
            "bin_end": 79.08423860999936,
            "count": 0
           },
           {
            "bin_start": 79.08423860999936,
            "bin_end": 84.05249667198453,
            "count": 1
           },
           {
            "bin_start": 84.05249667198453,
            "bin_end": 89.02075473396968,
            "count": 0
           },
           {
            "bin_start": 89.02075473396968,
            "bin_end": 93.98901279595485,
            "count": 1
           },
           {
            "bin_start": 93.98901279595485,
            "bin_end": 98.95727085794002,
            "count": 0
           },
           {
            "bin_start": 98.95727085794002,
            "bin_end": 103.92552891992517,
            "count": 0
           },
           {
            "bin_start": 103.92552891992517,
            "bin_end": 108.89378698191032,
            "count": 0
           },
           {
            "bin_start": 108.89378698191032,
            "bin_end": 113.86204504389549,
            "count": 1
           }
          ]
         }
        },
        {
         "name": "_deepnote_index_column",
         "dtype": "float64"
        }
       ],
       "rows_top": [
        {
         "amin": 0,
         "mean": 58.92774511122534,
         "amax": 291.15510768986087,
         "std": 64.17946442404387,
         "_deepnote_index_column": 0.050000000000000044
        },
        {
         "amin": 0,
         "mean": 80.8479827421854,
         "amax": 436.5312968932229,
         "std": 83.6014869800012,
         "_deepnote_index_column": 0.09999999999999998
        },
        {
         "amin": 0,
         "mean": 93.59871506361364,
         "amax": 398.50198596786777,
         "std": 92.96272513127776,
         "_deepnote_index_column": 0.15000000000000002
        },
        {
         "amin": 0,
         "mean": 118.05674729636095,
         "amax": 497.1556132890192,
         "std": 113.86204504389549,
         "_deepnote_index_column": 0.19999999999999996
        }
       ],
       "rows_bottom": null
      },
      "text/plain": "                        amin        mean        amax         std\np_normal_follows_hater                                          \n0.05                     0.0   58.927745  291.155108   64.179464\n0.10                     0.0   80.847983  436.531297   83.601487\n0.15                     0.0   93.598715  398.501986   92.962725\n0.20                     0.0  118.056747  497.155613  113.862045",
      "text/html": "<div>\n<style scoped>\n    .dataframe tbody tr th:only-of-type {\n        vertical-align: middle;\n    }\n\n    .dataframe tbody tr th {\n        vertical-align: top;\n    }\n\n    .dataframe thead th {\n        text-align: right;\n    }\n</style>\n<table border=\"1\" class=\"dataframe\">\n  <thead>\n    <tr style=\"text-align: right;\">\n      <th></th>\n      <th>amin</th>\n      <th>mean</th>\n      <th>amax</th>\n      <th>std</th>\n    </tr>\n    <tr>\n      <th>p_normal_follows_hater</th>\n      <th></th>\n      <th></th>\n      <th></th>\n      <th></th>\n    </tr>\n  </thead>\n  <tbody>\n    <tr>\n      <th>0.05</th>\n      <td>0.0</td>\n      <td>58.927745</td>\n      <td>291.155108</td>\n      <td>64.179464</td>\n    </tr>\n    <tr>\n      <th>0.10</th>\n      <td>0.0</td>\n      <td>80.847983</td>\n      <td>436.531297</td>\n      <td>83.601487</td>\n    </tr>\n    <tr>\n      <th>0.15</th>\n      <td>0.0</td>\n      <td>93.598715</td>\n      <td>398.501986</td>\n      <td>92.962725</td>\n    </tr>\n    <tr>\n      <th>0.20</th>\n      <td>0.0</td>\n      <td>118.056747</td>\n      <td>497.155613</td>\n      <td>113.862045</td>\n    </tr>\n  </tbody>\n</table>\n</div>"
     },
     "metadata": {}
    }
   ]
  },
  {
   "cell_type": "code",
   "metadata": {
    "cell_id": "00009-0e95c5e5-cb51-456a-a8c4-63ecd9f4b6ce",
    "deepnote_to_be_reexecuted": false,
    "source_hash": "a5d33070",
    "execution_start": 1636144437647,
    "execution_millis": 235,
    "deepnote_cell_type": "code"
   },
   "source": "df_plot = df_posts.reset_index()\nsns.lineplot(data=df_plot, x=\"p_normal_follows_hater\", y=\"mean\")",
   "execution_count": 10,
   "outputs": [
    {
     "output_type": "execute_result",
     "execution_count": 10,
     "data": {
      "text/plain": "<AxesSubplot:xlabel='p_normal_follows_hater', ylabel='mean'>"
     },
     "metadata": {}
    },
    {
     "data": {
      "text/plain": "<Figure size 432x288 with 1 Axes>",
      "image/png": "[encoded data removed]"
     },
     "metadata": {
      "needs_background": "light",
      "image/png": {
       "width": 389,
       "height": 264
      }
     },
     "output_type": "display_data"
    }
   ]
  },
  {
   "cell_type": "code",
   "metadata": {
    "cell_id": "00010-e690b000-f700-46d6-98f1-b215d670e5d6",
    "deepnote_to_be_reexecuted": false,
    "source_hash": "b623e53d",
    "execution_start": 1636144437887,
    "execution_millis": 43,
    "deepnote_cell_type": "code"
   },
   "source": "",
   "execution_count": 10,
   "outputs": []
  },
  {
   "cell_type": "markdown",
   "source": "<a style='text-decoration:none;line-height:16px;display:flex;color:#5B5B62;padding:10px;justify-content:end;' href='https://deepnote.com?utm_source=created-in-deepnote-cell&projectId=76a22323-d43c-4823-9752-036f6744cf38' target=\"_blank\">\n<img alt='Created in deepnote.com' style='display:inline;max-height:16px;margin:0px;margin-right:7.5px;' src='data:image/svg+xml;base64,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' > </img>\nCreated in <span style='font-weight:600;margin-left:4px;'>Deepnote</span></a>",
   "metadata": {
    "tags": [],
    "created_in_deepnote_cell": true,
    "deepnote_cell_type": "markdown"
   }
  }
 ],
 "nbformat": 4,
 "nbformat_minor": 2,
 "metadata": {
  "kernelspec": {
   "display_name": "Python 3",
   "language": "python",
   "name": "python3"
  },
  "language_info": {
   "codemirror_mode": {
    "name": "ipython",
    "version": 3
   },
   "file_extension": ".py",
   "mimetype": "text/x-python",
   "name": "python",
   "nbconvert_exporter": "python",
   "pygments_lexer": "ipython3",
   "version": "3.8.3"
  },
  "deepnote_notebook_id": "07b3841e-5d63-43de-aeb1-5ea0112b490a",
  "deepnote": {},
  "deepnote_execution_queue": []
 }
}